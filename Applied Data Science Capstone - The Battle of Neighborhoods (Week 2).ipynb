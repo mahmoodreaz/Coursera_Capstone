{
 "cells": [
  {
   "cell_type": "markdown",
   "metadata": {
    "collapsed": true
   },
   "source": [
    "# Introduction"
   ]
  },
  {
   "cell_type": "markdown",
   "metadata": {},
   "source": [
    "New York City has an extraordinarily diverse population. It is the largest city in the United States with a long history of international immigration. It is one of the few cities in the country in which four different racial/ethnic groups each make up at least 10 percent of the population. According to the 2010 decennial census, 33 percent of New York City residents are white, 26 percent are Hispanic, 26 percent are black, and 13 percent are Asian. While the diversity of New York City’s population is not reflected in many of the city’s neighborhoods, over the past 20 years the racial and ethnic makeup of the city’s neighborhoods (census tracts) has increasingly come to look more like that of the city itself. Between 2000 and 2010 the city as a whole became more Hispanic and Asian. While the population at large has declined the past few years, the city’s Asian population has, meanwhile, become more concentrated. \n",
    "\n",
    "According to the 2000 US Census, there are approximately 57,000 Bangladeshis in the United States and the New York metropolitan area is home to the largest Bangladeshi population. From 1990 to 2000, New York City’s Bangladeshi population increased by 471% (from 4,955 to 28,269). About 85% of Bangladeshi New Yorkers were foreign-born, and 77% of these immigrants came to the US from 1990 to 2000. Some 30% of all Bangladeshi immigrants in the city in 2000 were naturalized US citizens – compared with 45% of all foreign-born city residents. "
   ]
  },
  {
   "cell_type": "markdown",
   "metadata": {},
   "source": [
    "## Business Problem"
   ]
  },
  {
   "cell_type": "markdown",
   "metadata": {},
   "source": [
    "The location of food service business will impact its success nearly as much as the menu. If the restaurant is in the wrong place, we cannot attract the number of customers we will need in order to stay in business. The same is true if our location is inundated with competitors, or has poor visibility, or is hard to find. There are many things that must be considered as we look for a location in which to open our business.\n",
    "\n",
    "The objective of the Capstone project is to analyze and select the best locations in the city of New York to open a new Bengali/Bangladeshi restaurant, using data science methodology and instruments such as data analysis and visualization."
   ]
  },
  {
   "cell_type": "markdown",
   "metadata": {},
   "source": [
    "## Data"
   ]
  },
  {
   "cell_type": "markdown",
   "metadata": {},
   "source": [
    "We will need the following data to solve the problem: \n",
    "- New York City data containing the neighborhoods and boroughs, \n",
    "- Latitude and longitude coordinates of those neighborhoods, \n",
    "- Venue data, particularly data related to restaurants.\n",
    "\n",
    "New York City data containing the neighborhoods and boroughs will be obtained from the open data source: https://cocl.us/new_york_dataset. Next, we will get the geographical coordinates of the neighborhoods (latitude and longitude) using the Python Geocoder package.\n",
    "\n",
    "We will use the Foursquare API to get the venue data for the neighborhoods defined at the previous step. Foursquare has one of the largest databases of 105+ million places, 900+ venue categories, 30+ attribute fields, and over 150,000 developers use this application. Among the many Foursquare API provided categories of the venue data, we are particularly interested in the restaurant data to solve the business problem defined above."
   ]
  },
  {
   "cell_type": "markdown",
   "metadata": {},
   "source": [
    "## Methodology"
   ]
  },
  {
   "cell_type": "markdown",
   "metadata": {},
   "source": [
    "- Collect data from https://cocl.us/new_york_dataset.\n",
    "- Clean and process data into a dataframe.\n",
    "- Use FourSquare to locate all venues.\n",
    "- Filter by Bengali restaurants.\n",
    "- Sort data based on rankings.\n",
    "- Visually assess data using graphing from Python libraries."
   ]
  },
  {
   "cell_type": "markdown",
   "metadata": {},
   "source": [
    "\n",
    "## Import all required libraries"
   ]
  },
  {
   "cell_type": "code",
   "execution_count": 1,
   "metadata": {
    "ExecuteTime": {
     "end_time": "2020-01-13T16:14:38.715424Z",
     "start_time": "2020-01-13T16:06:24.318836Z"
    }
   },
   "outputs": [
    {
     "name": "stdout",
     "output_type": "stream",
     "text": [
      "Collecting package metadata (current_repodata.json): ...working... done\n",
      "Solving environment: ...working... failed with initial frozen solve. Retrying with flexible solve.\n",
      "Collecting package metadata (repodata.json): ...working... done\n",
      "Solving environment: ...working... done\n",
      "\n",
      "## Package Plan ##\n",
      "\n",
      "  environment location: D:\\deeplearning\\Anaconda3\n",
      "\n",
      "  added / updated specs:\n",
      "    - folium=0.5.0\n",
      "\n",
      "\n",
      "The following packages will be downloaded:\n",
      "\n",
      "    package                    |            build\n",
      "    ---------------------------|-----------------\n",
      "    ca-certificates-2019.11.28 |       hecc5488_0         182 KB  conda-forge\n",
      "    certifi-2019.11.28         |           py36_0         148 KB  conda-forge\n",
      "    conda-4.8.0                |           py36_1         3.0 MB  conda-forge\n",
      "    folium-0.5.0               |             py_0          45 KB  conda-forge\n",
      "    openssl-1.1.1d             |       hfa6e2cd_0         4.7 MB  conda-forge\n",
      "    ------------------------------------------------------------\n",
      "                                           Total:         8.1 MB\n",
      "\n",
      "The following packages will be UPDATED:\n",
      "\n",
      "  ca-certificates    pkgs/main::ca-certificates-2019.5.15-1 --> conda-forge::ca-certificates-2019.11.28-hecc5488_0\n",
      "  certifi               pkgs/main::certifi-2019.6.16-py36_1 --> conda-forge::certifi-2019.11.28-py36_0\n",
      "  conda                      pkgs/main::conda-4.7.12-py36_0 --> conda-forge::conda-4.8.0-py36_1\n",
      "\n",
      "The following packages will be SUPERSEDED by a higher-priority channel:\n",
      "\n",
      "  openssl              pkgs/main::openssl-1.1.1d-he774522_0 --> conda-forge::openssl-1.1.1d-hfa6e2cd_0\n",
      "\n",
      "The following packages will be DOWNGRADED:\n",
      "\n",
      "  folium                                        0.10.0-py_0 --> 0.5.0-py_0\n",
      "\n",
      "\n",
      "\n",
      "Downloading and Extracting Packages\n",
      "\n",
      "certifi-2019.11.28   | 148 KB    |            |   0% \n",
      "certifi-2019.11.28   | 148 KB    | #          |  11% \n",
      "certifi-2019.11.28   | 148 KB    | ########6  |  86% \n",
      "certifi-2019.11.28   | 148 KB    | ########## | 100% \n",
      "\n",
      "ca-certificates-2019 | 182 KB    |            |   0% \n",
      "ca-certificates-2019 | 182 KB    | 8          |   9% \n",
      "ca-certificates-2019 | 182 KB    | #########6 |  96% \n",
      "ca-certificates-2019 | 182 KB    | ########## | 100% \n",
      "\n",
      "openssl-1.1.1d       | 4.7 MB    |            |   0% \n",
      "openssl-1.1.1d       | 4.7 MB    |            |   0% \n",
      "openssl-1.1.1d       | 4.7 MB    | 3          |   4% \n",
      "openssl-1.1.1d       | 4.7 MB    | #2         |  12% \n",
      "openssl-1.1.1d       | 4.7 MB    | #7         |  18% \n",
      "openssl-1.1.1d       | 4.7 MB    | ##         |  20% \n",
      "openssl-1.1.1d       | 4.7 MB    | ####1      |  42% \n",
      "openssl-1.1.1d       | 4.7 MB    | ####9      |  50% \n",
      "openssl-1.1.1d       | 4.7 MB    | ######     |  61% \n",
      "openssl-1.1.1d       | 4.7 MB    | ######7    |  67% \n",
      "openssl-1.1.1d       | 4.7 MB    | #######3   |  74% \n",
      "openssl-1.1.1d       | 4.7 MB    | ########   |  80% \n",
      "openssl-1.1.1d       | 4.7 MB    | ########5  |  86% \n",
      "openssl-1.1.1d       | 4.7 MB    | #########1 |  92% \n",
      "openssl-1.1.1d       | 4.7 MB    | #########7 |  98% \n",
      "openssl-1.1.1d       | 4.7 MB    | ########## | 100% \n",
      "\n",
      "conda-4.8.0          | 3.0 MB    |            |   0% \n",
      "conda-4.8.0          | 3.0 MB    |            |   1% \n",
      "conda-4.8.0          | 3.0 MB    | 9          |  10% \n",
      "conda-4.8.0          | 3.0 MB    | #8         |  19% \n",
      "conda-4.8.0          | 3.0 MB    | ##7        |  27% \n",
      "conda-4.8.0          | 3.0 MB    | ###5       |  36% \n",
      "conda-4.8.0          | 3.0 MB    | ####4      |  45% \n",
      "conda-4.8.0          | 3.0 MB    | #####3     |  54% \n",
      "conda-4.8.0          | 3.0 MB    | ######3    |  63% \n",
      "conda-4.8.0          | 3.0 MB    | #######1   |  72% \n",
      "conda-4.8.0          | 3.0 MB    | ########   |  81% \n",
      "conda-4.8.0          | 3.0 MB    | #########  |  90% \n",
      "conda-4.8.0          | 3.0 MB    | #########9 |  99% \n",
      "conda-4.8.0          | 3.0 MB    | ########## | 100% \n",
      "\n",
      "folium-0.5.0         | 45 KB     |            |   0% \n",
      "folium-0.5.0         | 45 KB     | ###5       |  35% \n",
      "folium-0.5.0         | 45 KB     | ########## | 100% \n",
      "Preparing transaction: ...working... done\n",
      "Verifying transaction: ...working... done\n",
      "Executing transaction: ...working... done\n"
     ]
    },
    {
     "name": "stderr",
     "output_type": "stream",
     "text": [
      "'mysql' is not recognized as an internal or external command,\n",
      "operable program or batch file.\n",
      "'mysql' is not recognized as an internal or external command,\n",
      "operable program or batch file.\n",
      "\n",
      "\n",
      "==> WARNING: A newer version of conda exists. <==\n",
      "  current version: 4.7.12\n",
      "  latest version: 4.8.1\n",
      "\n",
      "Please update conda by running\n",
      "\n",
      "    $ conda update -n base -c defaults conda\n",
      "\n",
      "\n",
      "'mysql' is not recognized as an internal or external command,\n",
      "operable program or batch file.\n",
      "'mysql' is not recognized as an internal or external command,\n",
      "operable program or batch file.\n"
     ]
    },
    {
     "name": "stdout",
     "output_type": "stream",
     "text": [
      "Collecting package metadata (current_repodata.json): ...working... done\n",
      "Solving environment: ...working... done\n",
      "\n",
      "# All requested packages already installed.\n",
      "\n"
     ]
    },
    {
     "name": "stderr",
     "output_type": "stream",
     "text": [
      "'mysql' is not recognized as an internal or external command,\n",
      "operable program or batch file.\n",
      "'mysql' is not recognized as an internal or external command,\n",
      "operable program or batch file.\n",
      "'mysql' is not recognized as an internal or external command,\n",
      "operable program or batch file.\n",
      "'mysql' is not recognized as an internal or external command,\n",
      "operable program or batch file.\n"
     ]
    },
    {
     "name": "stdout",
     "output_type": "stream",
     "text": [
      "Libraries imported.\n"
     ]
    }
   ],
   "source": [
    "import numpy as np # library to handle data in a vectorized manner\n",
    "\n",
    "import pandas as pd # library for data analsysis\n",
    "pd.set_option('display.max_columns', None)\n",
    "pd.set_option('display.max_rows', None)\n",
    "\n",
    "import requests # library to handle requests\n",
    "\n",
    "from bs4 import BeautifulSoup\n",
    "import os\n",
    "\n",
    "!conda install -c conda-forge folium=0.5.0 --yes\n",
    "import folium # map rendering library\n",
    "\n",
    "!conda install -c conda-forge geopy --yes\n",
    "from geopy.geocoders import Nominatim # convert an address into latitude and longitude values\n",
    "import requests # library to handle requests\n",
    "\n",
    "# Matplotlib and associated plotting modules\n",
    "import matplotlib.pyplot as plt\n",
    "import matplotlib.cm as cm\n",
    "import matplotlib.colors as colors\n",
    "%matplotlib inline\n",
    "\n",
    "import seaborn as sns\n",
    "\n",
    "print('Libraries imported.')  "
   ]
  },
  {
   "cell_type": "markdown",
   "metadata": {},
   "source": [
    "## Foursquare variables"
   ]
  },
  {
   "cell_type": "code",
   "execution_count": 2,
   "metadata": {
    "ExecuteTime": {
     "end_time": "2020-01-13T16:14:38.729407Z",
     "start_time": "2020-01-13T16:14:38.720410Z"
    }
   },
   "outputs": [],
   "source": [
    "# Define Foursquare Credentials and Version\n",
    "\n",
    "CLIENT_ID = 'NQD5LQA11PKF0MA2PNGHUW0JGJWWFBTLQEXXKYQFNI5YTBB3' # Foursquare ID\n",
    "CLIENT_SECRET = 'XUYOEXEJ4S33IGBZBNV2ZVH4ZQSQMV5TSWE1ZE5C4KV5T2VM' # Foursquare Secret\n",
    "VERSION = '20180605' # Foursquare API version"
   ]
  },
  {
   "cell_type": "markdown",
   "metadata": {},
   "source": [
    "## Functions for later use"
   ]
  },
  {
   "cell_type": "code",
   "execution_count": 3,
   "metadata": {
    "ExecuteTime": {
     "end_time": "2020-01-13T16:14:52.794356Z",
     "start_time": "2020-01-13T16:14:52.779365Z"
    }
   },
   "outputs": [],
   "source": [
    "def geo_location(address):\n",
    "    # get geo location of address\n",
    "    geolocator = Nominatim(user_agent=\"foursquare_agent\")\n",
    "    location = geolocator.geocode(address)\n",
    "    latitude = location.latitude\n",
    "    longitude = location.longitude\n",
    "    return latitude,longitude\n",
    "\n",
    "def get_venues(lat,lng):\n",
    "    #set variables\n",
    "    radius=400\n",
    "    LIMIT=100\n",
    "    #url to fetch data from foursquare api\n",
    "    url = 'https://api.foursquare.com/v2/venues/explore?&client_id={}&client_secret={}&v={}&ll={},{}&radius={}&limit={}'.format(\n",
    "            CLIENT_ID, \n",
    "            CLIENT_SECRET, \n",
    "            VERSION, \n",
    "            lat, \n",
    "            lng, \n",
    "            radius, \n",
    "            LIMIT)\n",
    "    # get all the data\n",
    "    results = requests.get(url).json()\n",
    "    venue_data=results['response']['groups'][0]['items']\n",
    "    venue_details=[]\n",
    "    for row in venue_data:\n",
    "        try:\n",
    "            venue_id=row['venue']['id']\n",
    "            venue_name=row['venue']['name']\n",
    "            venue_category=row['venue']['categories'][0]['name']\n",
    "            venue_details.append([venue_id,venue_name,venue_category])\n",
    "        except KeyError:\n",
    "            pass\n",
    "    column_names=['ID','Name','Category']\n",
    "    df = pd.DataFrame(venue_details,columns=column_names)\n",
    "    return df\n",
    "\n",
    "def get_venue_details(venue_id):\n",
    "    #url to fetch data from foursquare api\n",
    "    url = 'https://api.foursquare.com/v2/venues/{}?&client_id={}&client_secret={}&v={}'.format(\n",
    "            venue_id,\n",
    "            CLIENT_ID, \n",
    "            CLIENT_SECRET, \n",
    "            VERSION)\n",
    "    # get all the data\n",
    "    results = requests.get(url).json()\n",
    "    print(results)\n",
    "    venue_data=results['response']['venue']\n",
    "    venue_details=[]\n",
    "    try:\n",
    "        venue_id=venue_data['id']\n",
    "        venue_name=venue_data['name']\n",
    "        venue_likes=venue_data['likes']['count']\n",
    "        venue_rating=venue_data['rating']\n",
    "        venue_tips=venue_data['tips']['count']\n",
    "        venue_details.append([venue_id,venue_name,venue_likes,venue_rating,venue_tips])\n",
    "    except KeyError:\n",
    "        pass\n",
    "    column_names=['ID','Name','Likes','Rating','Tips']\n",
    "    df = pd.DataFrame(venue_details,columns=column_names)\n",
    "    return df\n",
    "\n",
    "def get_new_york_data():\n",
    "    url='https://cocl.us/new_york_dataset'\n",
    "    resp=requests.get(url).json()\n",
    "    # all data is present in features label\n",
    "    features=resp['features']\n",
    "    # define the dataframe columns\n",
    "    column_names = ['Borough', 'Neighborhood', 'Latitude', 'Longitude'] \n",
    "    # instantiate the dataframe\n",
    "    new_york_data = pd.DataFrame(columns=column_names)\n",
    "    for data in features:\n",
    "        borough = data['properties']['borough'] \n",
    "        neighborhood_name = data['properties']['name']\n",
    "        neighborhood_latlon = data['geometry']['coordinates']\n",
    "        neighborhood_lat = neighborhood_latlon[1]\n",
    "        neighborhood_lon = neighborhood_latlon[0]\n",
    "        new_york_data = new_york_data.append({'Borough': borough,\n",
    "                                          'Neighborhood': neighborhood_name,\n",
    "                                          'Latitude': neighborhood_lat,\n",
    "                                          'Longitude': neighborhood_lon}, ignore_index=True)\n",
    "    return new_york_data"
   ]
  },
  {
   "cell_type": "markdown",
   "metadata": {},
   "source": [
    "## Retrieve NYC data"
   ]
  },
  {
   "cell_type": "code",
   "execution_count": 4,
   "metadata": {
    "ExecuteTime": {
     "end_time": "2020-01-13T16:16:06.507932Z",
     "start_time": "2020-01-13T16:16:02.318531Z"
    }
   },
   "outputs": [
    {
     "data": {
      "text/html": [
       "<div>\n",
       "<style scoped>\n",
       "    .dataframe tbody tr th:only-of-type {\n",
       "        vertical-align: middle;\n",
       "    }\n",
       "\n",
       "    .dataframe tbody tr th {\n",
       "        vertical-align: top;\n",
       "    }\n",
       "\n",
       "    .dataframe thead th {\n",
       "        text-align: right;\n",
       "    }\n",
       "</style>\n",
       "<table border=\"1\" class=\"dataframe\">\n",
       "  <thead>\n",
       "    <tr style=\"text-align: right;\">\n",
       "      <th></th>\n",
       "      <th>Borough</th>\n",
       "      <th>Neighborhood</th>\n",
       "      <th>Latitude</th>\n",
       "      <th>Longitude</th>\n",
       "    </tr>\n",
       "  </thead>\n",
       "  <tbody>\n",
       "    <tr>\n",
       "      <td>0</td>\n",
       "      <td>Bronx</td>\n",
       "      <td>Wakefield</td>\n",
       "      <td>40.894705</td>\n",
       "      <td>-73.847201</td>\n",
       "    </tr>\n",
       "    <tr>\n",
       "      <td>1</td>\n",
       "      <td>Bronx</td>\n",
       "      <td>Co-op City</td>\n",
       "      <td>40.874294</td>\n",
       "      <td>-73.829939</td>\n",
       "    </tr>\n",
       "    <tr>\n",
       "      <td>2</td>\n",
       "      <td>Bronx</td>\n",
       "      <td>Eastchester</td>\n",
       "      <td>40.887556</td>\n",
       "      <td>-73.827806</td>\n",
       "    </tr>\n",
       "    <tr>\n",
       "      <td>3</td>\n",
       "      <td>Bronx</td>\n",
       "      <td>Fieldston</td>\n",
       "      <td>40.895437</td>\n",
       "      <td>-73.905643</td>\n",
       "    </tr>\n",
       "    <tr>\n",
       "      <td>4</td>\n",
       "      <td>Bronx</td>\n",
       "      <td>Riverdale</td>\n",
       "      <td>40.890834</td>\n",
       "      <td>-73.912585</td>\n",
       "    </tr>\n",
       "  </tbody>\n",
       "</table>\n",
       "</div>"
      ],
      "text/plain": [
       "  Borough Neighborhood   Latitude  Longitude\n",
       "0   Bronx    Wakefield  40.894705 -73.847201\n",
       "1   Bronx   Co-op City  40.874294 -73.829939\n",
       "2   Bronx  Eastchester  40.887556 -73.827806\n",
       "3   Bronx    Fieldston  40.895437 -73.905643\n",
       "4   Bronx    Riverdale  40.890834 -73.912585"
      ]
     },
     "execution_count": 4,
     "metadata": {},
     "output_type": "execute_result"
    }
   ],
   "source": [
    "ny_data = get_new_york_data()\n",
    "ny_data.head()"
   ]
  },
  {
   "cell_type": "code",
   "execution_count": 5,
   "metadata": {
    "ExecuteTime": {
     "end_time": "2020-01-13T16:16:14.595190Z",
     "start_time": "2020-01-13T16:16:14.591183Z"
    }
   },
   "outputs": [
    {
     "data": {
      "text/plain": [
       "(306, 4)"
      ]
     },
     "execution_count": 5,
     "metadata": {},
     "output_type": "execute_result"
    }
   ],
   "source": [
    "ny_data.shape"
   ]
  },
  {
   "cell_type": "markdown",
   "metadata": {},
   "source": [
    "There are total 306 different Neighborhoods in New York.  "
   ]
  },
  {
   "cell_type": "markdown",
   "metadata": {},
   "source": [
    "## Initial Data Analysis"
   ]
  },
  {
   "cell_type": "code",
   "execution_count": 11,
   "metadata": {
    "ExecuteTime": {
     "end_time": "2020-01-13T16:18:42.911544Z",
     "start_time": "2020-01-13T16:18:42.763730Z"
    }
   },
   "outputs": [
    {
     "data": {
      "image/png": "[encoded data removed]",
      "text/plain": [
       "<Figure size 1008x288 with 1 Axes>"
      ]
     },
     "metadata": {
      "needs_background": "light"
     },
     "output_type": "display_data"
    }
   ],
   "source": [
    "clr = \"yellow\"\n",
    "ny_data.groupby('Borough')['Neighborhood'].count().plot.bar(figsize=(14,4), color=clr)\n",
    "plt.title('Neighborhoods per NYC Borough', fontsize = 12)\n",
    "plt.xlabel('Borough', fontsize = 12)\n",
    "plt.ylabel('No. Neighborhoods',fontsize = 12)\n",
    "plt.xticks(rotation = 'horizontal')\n",
    "plt.legend()\n",
    "plt.show()"
   ]
  },
  {
   "cell_type": "markdown",
   "metadata": {},
   "source": [
    "## Analyze how many Bengali restaurants there are in each neighborhood and borough"
   ]
  },
  {
   "cell_type": "code",
   "execution_count": 13,
   "metadata": {
    "ExecuteTime": {
     "end_time": "2020-01-13T16:35:25.867741Z",
     "start_time": "2020-01-13T16:31:16.308518Z"
    }
   },
   "outputs": [
    {
     "name": "stdout",
     "output_type": "stream",
     "text": [
      "( 1 / 306 ) Bangladeshi Restaurants in Wakefield, Bronx:0\n",
      "['Bronx', 'Wakefield', 40.89470517661, -73.84720052054902]\n",
      "( 2 / 306 ) Bangladeshi Restaurants in Co-op City, Bronx:0\n",
      "['Bronx', 'Co-op City', 40.87429419303012, -73.82993910812398]\n",
      "( 3 / 306 ) Bangladeshi Restaurants in Eastchester, Bronx:0\n",
      "['Bronx', 'Eastchester', 40.887555677350775, -73.82780644716412]\n",
      "( 4 / 306 ) Bangladeshi Restaurants in Fieldston, Bronx:0\n",
      "['Bronx', 'Fieldston', 40.89543742690383, -73.90564259591682]\n",
      "( 5 / 306 ) Bangladeshi Restaurants in Riverdale, Bronx:0\n",
      "['Bronx', 'Riverdale', 40.890834493891305, -73.9125854610857]\n",
      "( 6 / 306 ) Bangladeshi Restaurants in Kingsbridge, Bronx:0\n",
      "['Bronx', 'Kingsbridge', 40.88168737120521, -73.90281798724604]\n",
      "( 7 / 306 ) Bangladeshi Restaurants in Marble Hill, Manhattan:0\n",
      "['Manhattan', 'Marble Hill', 40.87655077879964, -73.91065965862981]\n",
      "( 8 / 306 ) Bangladeshi Restaurants in Woodlawn, Bronx:0\n",
      "['Bronx', 'Woodlawn', 40.89827261213805, -73.86731496814176]\n",
      "( 9 / 306 ) Bangladeshi Restaurants in Norwood, Bronx:0\n",
      "['Bronx', 'Norwood', 40.87722415599446, -73.8793907395681]\n",
      "( 10 / 306 ) Bangladeshi Restaurants in Williamsbridge, Bronx:0\n",
      "['Bronx', 'Williamsbridge', 40.88103887819211, -73.85744642974207]\n",
      "( 11 / 306 ) Bangladeshi Restaurants in Baychester, Bronx:0\n",
      "['Bronx', 'Baychester', 40.866858107252696, -73.83579759808117]\n",
      "( 12 / 306 ) Bangladeshi Restaurants in Pelham Parkway, Bronx:0\n",
      "['Bronx', 'Pelham Parkway', 40.85741349808865, -73.85475564017999]\n",
      "( 13 / 306 ) Bangladeshi Restaurants in City Island, Bronx:0\n",
      "['Bronx', 'City Island', 40.84724670491813, -73.78648845267413]\n",
      "( 14 / 306 ) Bangladeshi Restaurants in Bedford Park, Bronx:0\n",
      "['Bronx', 'Bedford Park', 40.870185164975325, -73.8855121841913]\n",
      "( 15 / 306 ) Bangladeshi Restaurants in University Heights, Bronx:0\n",
      "['Bronx', 'University Heights', 40.85572707719664, -73.9104159619131]\n",
      "( 16 / 306 ) Bangladeshi Restaurants in Morris Heights, Bronx:0\n",
      "['Bronx', 'Morris Heights', 40.84789792606271, -73.91967159119565]\n",
      "( 17 / 306 ) Bangladeshi Restaurants in Fordham, Bronx:0\n",
      "['Bronx', 'Fordham', 40.86099679638654, -73.89642655981623]\n",
      "( 18 / 306 ) Bangladeshi Restaurants in East Tremont, Bronx:0\n",
      "['Bronx', 'East Tremont', 40.84269615786053, -73.88735617532338]\n",
      "( 19 / 306 ) Bangladeshi Restaurants in West Farms, Bronx:0\n",
      "['Bronx', 'West Farms', 40.83947505672653, -73.87774474910545]\n",
      "( 20 / 306 ) Bangladeshi Restaurants in High  Bridge, Bronx:0\n",
      "['Bronx', 'High  Bridge', 40.836623010706056, -73.9261020935813]\n",
      "( 21 / 306 ) Bangladeshi Restaurants in Melrose, Bronx:0\n",
      "['Bronx', 'Melrose', 40.819754370594936, -73.90942160757436]\n",
      "( 22 / 306 ) Bangladeshi Restaurants in Mott Haven, Bronx:0\n",
      "['Bronx', 'Mott Haven', 40.80623874935177, -73.91609987487575]\n",
      "( 23 / 306 ) Bangladeshi Restaurants in Port Morris, Bronx:0\n",
      "['Bronx', 'Port Morris', 40.801663627756206, -73.91322139386135]\n",
      "( 24 / 306 ) Bangladeshi Restaurants in Longwood, Bronx:0\n",
      "['Bronx', 'Longwood', 40.81509904545822, -73.8957882009446]\n",
      "( 25 / 306 ) Bangladeshi Restaurants in Hunts Point, Bronx:0\n",
      "['Bronx', 'Hunts Point', 40.80972987938709, -73.88331505955291]\n",
      "( 26 / 306 ) Bangladeshi Restaurants in Morrisania, Bronx:0\n",
      "['Bronx', 'Morrisania', 40.82359198585534, -73.90150648943059]\n",
      "( 27 / 306 ) Bangladeshi Restaurants in Soundview, Bronx:0\n",
      "['Bronx', 'Soundview', 40.821012197914015, -73.86574609554924]\n",
      "( 28 / 306 ) Bangladeshi Restaurants in Clason Point, Bronx:0\n",
      "['Bronx', 'Clason Point', 40.80655112003589, -73.85414416189266]\n",
      "( 29 / 306 ) Bangladeshi Restaurants in Throgs Neck, Bronx:0\n",
      "['Bronx', 'Throgs Neck', 40.81510925804005, -73.81635002158441]\n",
      "( 30 / 306 ) Bangladeshi Restaurants in Country Club, Bronx:0\n",
      "['Bronx', 'Country Club', 40.844245936947374, -73.8240992675385]\n",
      "( 31 / 306 ) Bangladeshi Restaurants in Parkchester, Bronx:0\n",
      "['Bronx', 'Parkchester', 40.837937822267286, -73.85600310535783]\n",
      "( 32 / 306 ) Bangladeshi Restaurants in Westchester Square, Bronx:0\n",
      "['Bronx', 'Westchester Square', 40.8406194964327, -73.84219407604444]\n",
      "( 33 / 306 ) Bangladeshi Restaurants in Van Nest, Bronx:0\n",
      "['Bronx', 'Van Nest', 40.84360847124718, -73.8662991807561]\n",
      "( 34 / 306 ) Bangladeshi Restaurants in Morris Park, Bronx:0\n",
      "['Bronx', 'Morris Park', 40.847549063536334, -73.85040178030421]\n",
      "( 35 / 306 ) Bangladeshi Restaurants in Belmont, Bronx:0\n",
      "['Bronx', 'Belmont', 40.85727710073895, -73.88845196134804]\n",
      "( 36 / 306 ) Bangladeshi Restaurants in Spuyten Duyvil, Bronx:0\n",
      "['Bronx', 'Spuyten Duyvil', 40.88139497727086, -73.91719048210393]\n",
      "( 37 / 306 ) Bangladeshi Restaurants in North Riverdale, Bronx:0\n",
      "['Bronx', 'North Riverdale', 40.90854282950666, -73.90453054908927]\n",
      "( 38 / 306 ) Bangladeshi Restaurants in Pelham Bay, Bronx:0\n",
      "['Bronx', 'Pelham Bay', 40.85064140940335, -73.8320737824047]\n",
      "( 39 / 306 ) Bangladeshi Restaurants in Schuylerville, Bronx:0\n",
      "['Bronx', 'Schuylerville', 40.82657951686922, -73.82620275994073]\n",
      "( 40 / 306 ) Bangladeshi Restaurants in Edgewater Park, Bronx:0\n",
      "['Bronx', 'Edgewater Park', 40.821986118163494, -73.81388514428619]\n",
      "( 41 / 306 ) Bangladeshi Restaurants in Castle Hill, Bronx:0\n",
      "['Bronx', 'Castle Hill', 40.819014376988314, -73.84802729582735]\n",
      "( 42 / 306 ) Bangladeshi Restaurants in Olinville, Bronx:0\n",
      "['Bronx', 'Olinville', 40.87137078192371, -73.86332361652777]\n",
      "( 43 / 306 ) Bangladeshi Restaurants in Pelham Gardens, Bronx:0\n",
      "['Bronx', 'Pelham Gardens', 40.86296562477998, -73.84161194831223]\n",
      "( 44 / 306 ) Bangladeshi Restaurants in Concourse, Bronx:0\n",
      "['Bronx', 'Concourse', 40.83428380733851, -73.91558941773444]\n",
      "( 45 / 306 ) Bangladeshi Restaurants in Unionport, Bronx:0\n",
      "['Bronx', 'Unionport', 40.82977429787161, -73.85053524451935]\n",
      "( 46 / 306 ) Bangladeshi Restaurants in Edenwald, Bronx:0\n",
      "['Bronx', 'Edenwald', 40.88456130303732, -73.84808271877168]\n",
      "( 47 / 306 ) Bangladeshi Restaurants in Bay Ridge, Brooklyn:0\n",
      "['Brooklyn', 'Bay Ridge', 40.625801065010656, -74.03062069353813]\n",
      "( 48 / 306 ) Bangladeshi Restaurants in Bensonhurst, Brooklyn:0\n",
      "['Brooklyn', 'Bensonhurst', 40.61100890202044, -73.99517998380729]\n",
      "( 49 / 306 ) Bangladeshi Restaurants in Sunset Park, Brooklyn:0\n",
      "['Brooklyn', 'Sunset Park', 40.64510294925429, -74.01031618527784]\n",
      "( 50 / 306 ) Bangladeshi Restaurants in Greenpoint, Brooklyn:0\n",
      "['Brooklyn', 'Greenpoint', 40.7302009848647, -73.95424093127393]\n",
      "( 51 / 306 ) Bangladeshi Restaurants in Gravesend, Brooklyn:0\n",
      "['Brooklyn', 'Gravesend', 40.59526001306593, -73.97347087708445]\n",
      "( 52 / 306 ) Bangladeshi Restaurants in Brighton Beach, Brooklyn:0\n",
      "['Brooklyn', 'Brighton Beach', 40.57682506566604, -73.96509448785336]\n",
      "( 53 / 306 ) Bangladeshi Restaurants in Sheepshead Bay, Brooklyn:0\n",
      "['Brooklyn', 'Sheepshead Bay', 40.58689012678384, -73.94318640482979]\n",
      "( 54 / 306 ) Bangladeshi Restaurants in Manhattan Terrace, Brooklyn:0\n",
      "['Brooklyn', 'Manhattan Terrace', 40.61443251335098, -73.95743840559939]\n",
      "( 55 / 306 ) Bangladeshi Restaurants in Flatbush, Brooklyn:0\n",
      "['Brooklyn', 'Flatbush', 40.63632589026677, -73.95840106533903]\n",
      "( 56 / 306 ) Bangladeshi Restaurants in Crown Heights, Brooklyn:0\n",
      "['Brooklyn', 'Crown Heights', 40.67082917695294, -73.94329119073582]\n",
      "( 57 / 306 ) Bangladeshi Restaurants in East Flatbush, Brooklyn:0\n",
      "['Brooklyn', 'East Flatbush', 40.64171776668961, -73.93610256185836]\n",
      "( 58 / 306 ) Bangladeshi Restaurants in Kensington, Brooklyn:0\n",
      "['Brooklyn', 'Kensington', 40.642381958003526, -73.98042110559474]\n",
      "( 59 / 306 ) Bangladeshi Restaurants in Windsor Terrace, Brooklyn:0\n",
      "['Brooklyn', 'Windsor Terrace', 40.65694583575104, -73.98007340430172]\n",
      "( 60 / 306 ) Bangladeshi Restaurants in Prospect Heights, Brooklyn:0\n",
      "['Brooklyn', 'Prospect Heights', 40.676822262254724, -73.9648592426269]\n",
      "( 61 / 306 ) Bangladeshi Restaurants in Brownsville, Brooklyn:0\n",
      "['Brooklyn', 'Brownsville', 40.66394994339755, -73.91023536176607]\n",
      "( 62 / 306 ) Bangladeshi Restaurants in Williamsburg, Brooklyn:0\n",
      "['Brooklyn', 'Williamsburg', 40.70714439344251, -73.95811529220927]\n",
      "( 63 / 306 ) Bangladeshi Restaurants in Bushwick, Brooklyn:0\n",
      "['Brooklyn', 'Bushwick', 40.69811611017901, -73.92525797487045]\n",
      "( 64 / 306 ) Bangladeshi Restaurants in Bedford Stuyvesant, Brooklyn:0\n",
      "['Brooklyn', 'Bedford Stuyvesant', 40.687231607720456, -73.94178488690297]\n",
      "( 65 / 306 ) Bangladeshi Restaurants in Brooklyn Heights, Brooklyn:0\n",
      "['Brooklyn', 'Brooklyn Heights', 40.695863722724084, -73.99378225496424]\n"
     ]
    },
    {
     "name": "stdout",
     "output_type": "stream",
     "text": [
      "( 66 / 306 ) Bangladeshi Restaurants in Cobble Hill, Brooklyn:0\n",
      "['Brooklyn', 'Cobble Hill', 40.687919722485574, -73.99856139218463]\n",
      "( 67 / 306 ) Bangladeshi Restaurants in Carroll Gardens, Brooklyn:0\n",
      "['Brooklyn', 'Carroll Gardens', 40.680540231076485, -73.99465372828006]\n",
      "( 68 / 306 ) Bangladeshi Restaurants in Red Hook, Brooklyn:0\n",
      "['Brooklyn', 'Red Hook', 40.676253230250886, -74.0127589747356]\n",
      "( 69 / 306 ) Bangladeshi Restaurants in Gowanus, Brooklyn:0\n",
      "['Brooklyn', 'Gowanus', 40.673931143187154, -73.99444087145339]\n",
      "( 70 / 306 ) Bangladeshi Restaurants in Fort Greene, Brooklyn:0\n",
      "['Brooklyn', 'Fort Greene', 40.68852726018977, -73.97290574369092]\n",
      "( 71 / 306 ) Bangladeshi Restaurants in Park Slope, Brooklyn:0\n",
      "['Brooklyn', 'Park Slope', 40.67232052268197, -73.97705030183924]\n",
      "( 72 / 306 ) Bangladeshi Restaurants in Cypress Hills, Brooklyn:0\n",
      "['Brooklyn', 'Cypress Hills', 40.68239101144211, -73.87661596457296]\n",
      "( 73 / 306 ) Bangladeshi Restaurants in East New York, Brooklyn:0\n",
      "['Brooklyn', 'East New York', 40.669925700847045, -73.88069863917366]\n",
      "( 74 / 306 ) Bangladeshi Restaurants in Starrett City, Brooklyn:0\n",
      "['Brooklyn', 'Starrett City', 40.64758905230874, -73.87936970045875]\n",
      "( 75 / 306 ) Bangladeshi Restaurants in Canarsie, Brooklyn:0\n",
      "['Brooklyn', 'Canarsie', 40.63556432797428, -73.90209269778966]\n",
      "( 76 / 306 ) Bangladeshi Restaurants in Flatlands, Brooklyn:0\n",
      "['Brooklyn', 'Flatlands', 40.630446043757466, -73.92911302644674]\n",
      "( 77 / 306 ) Bangladeshi Restaurants in Mill Island, Brooklyn:0\n",
      "['Brooklyn', 'Mill Island', 40.606336421685626, -73.90818571777423]\n",
      "( 78 / 306 ) Bangladeshi Restaurants in Manhattan Beach, Brooklyn:0\n",
      "['Brooklyn', 'Manhattan Beach', 40.57791350308657, -73.94353722891886]\n",
      "( 79 / 306 ) Bangladeshi Restaurants in Coney Island, Brooklyn:0\n",
      "['Brooklyn', 'Coney Island', 40.57429256471601, -73.98868295821637]\n",
      "( 80 / 306 ) Bangladeshi Restaurants in Bath Beach, Brooklyn:0\n",
      "['Brooklyn', 'Bath Beach', 40.59951870282238, -73.99875221443519]\n",
      "( 81 / 306 ) Bangladeshi Restaurants in Borough Park, Brooklyn:0\n",
      "['Brooklyn', 'Borough Park', 40.633130512758015, -73.99049823044811]\n",
      "( 82 / 306 ) Bangladeshi Restaurants in Dyker Heights, Brooklyn:0\n",
      "['Brooklyn', 'Dyker Heights', 40.619219457722636, -74.01931375636022]\n",
      "( 83 / 306 ) Bangladeshi Restaurants in Gerritsen Beach, Brooklyn:0\n",
      "['Brooklyn', 'Gerritsen Beach', 40.590848433902046, -73.93010170691196]\n",
      "( 84 / 306 ) Bangladeshi Restaurants in Marine Park, Brooklyn:0\n",
      "['Brooklyn', 'Marine Park', 40.609747779894604, -73.93134404108497]\n",
      "( 85 / 306 ) Bangladeshi Restaurants in Clinton Hill, Brooklyn:0\n",
      "['Brooklyn', 'Clinton Hill', 40.693229421881504, -73.96784306216367]\n",
      "( 86 / 306 ) Bangladeshi Restaurants in Sea Gate, Brooklyn:0\n",
      "['Brooklyn', 'Sea Gate', 40.57637537890224, -74.0078731120024]\n",
      "( 87 / 306 ) Bangladeshi Restaurants in Downtown, Brooklyn:0\n",
      "['Brooklyn', 'Downtown', 40.69084402109802, -73.98346337431099]\n",
      "( 88 / 306 ) Bangladeshi Restaurants in Boerum Hill, Brooklyn:0\n",
      "['Brooklyn', 'Boerum Hill', 40.685682912091444, -73.98374824115798]\n",
      "( 89 / 306 ) Bangladeshi Restaurants in Prospect Lefferts Gardens, Brooklyn:0\n",
      "['Brooklyn', 'Prospect Lefferts Gardens', 40.658420017469815, -73.95489867077713]\n",
      "( 90 / 306 ) Bangladeshi Restaurants in Ocean Hill, Brooklyn:0\n",
      "['Brooklyn', 'Ocean Hill', 40.678402554795355, -73.91306831787395]\n",
      "( 91 / 306 ) Bangladeshi Restaurants in City Line, Brooklyn:0\n",
      "['Brooklyn', 'City Line', 40.67856995727479, -73.86797598081334]\n",
      "( 92 / 306 ) Bangladeshi Restaurants in Bergen Beach, Brooklyn:0\n",
      "['Brooklyn', 'Bergen Beach', 40.61514955045308, -73.89855633630317]\n",
      "( 93 / 306 ) Bangladeshi Restaurants in Midwood, Brooklyn:0\n",
      "['Brooklyn', 'Midwood', 40.62559589869843, -73.95759523489838]\n",
      "( 94 / 306 ) Bangladeshi Restaurants in Prospect Park South, Brooklyn:0\n",
      "['Brooklyn', 'Prospect Park South', 40.647008603185185, -73.96261316716048]\n",
      "( 95 / 306 ) Bangladeshi Restaurants in Georgetown, Brooklyn:0\n",
      "['Brooklyn', 'Georgetown', 40.62384524478419, -73.91607483951324]\n",
      "( 96 / 306 ) Bangladeshi Restaurants in East Williamsburg, Brooklyn:0\n",
      "['Brooklyn', 'East Williamsburg', 40.70849241041548, -73.93885815269195]\n",
      "( 97 / 306 ) Bangladeshi Restaurants in North Side, Brooklyn:0\n",
      "['Brooklyn', 'North Side', 40.714822906532014, -73.95880857587582]\n",
      "( 98 / 306 ) Bangladeshi Restaurants in South Side, Brooklyn:0\n",
      "['Brooklyn', 'South Side', 40.71086147265064, -73.95800095153331]\n",
      "( 99 / 306 ) Bangladeshi Restaurants in Ocean Parkway, Brooklyn:0\n",
      "['Brooklyn', 'Ocean Parkway', 40.61305976667942, -73.96836678035541]\n",
      "( 100 / 306 ) Bangladeshi Restaurants in Fort Hamilton, Brooklyn:0\n",
      "['Brooklyn', 'Fort Hamilton', 40.61476812694226, -74.03197914537984]\n",
      "( 101 / 306 ) Bangladeshi Restaurants in Chinatown, Manhattan:0\n",
      "['Manhattan', 'Chinatown', 40.71561842231432, -73.99427936255978]\n",
      "( 102 / 306 ) Bangladeshi Restaurants in Washington Heights, Manhattan:0\n",
      "['Manhattan', 'Washington Heights', 40.85190252555305, -73.93690027985234]\n",
      "( 103 / 306 ) Bangladeshi Restaurants in Inwood, Manhattan:0\n",
      "['Manhattan', 'Inwood', 40.86768396449915, -73.92121042203897]\n",
      "( 104 / 306 ) Bangladeshi Restaurants in Hamilton Heights, Manhattan:0\n",
      "['Manhattan', 'Hamilton Heights', 40.823604284811935, -73.94968791883366]\n",
      "( 105 / 306 ) Bangladeshi Restaurants in Manhattanville, Manhattan:0\n",
      "['Manhattan', 'Manhattanville', 40.8169344294978, -73.9573853935188]\n",
      "( 106 / 306 ) Bangladeshi Restaurants in Central Harlem, Manhattan:0\n",
      "['Manhattan', 'Central Harlem', 40.81597606742414, -73.94321112603905]\n",
      "( 107 / 306 ) Bangladeshi Restaurants in East Harlem, Manhattan:0\n",
      "['Manhattan', 'East Harlem', 40.79224946663033, -73.94418223148524]\n",
      "( 108 / 306 ) Bangladeshi Restaurants in Upper East Side, Manhattan:0\n",
      "['Manhattan', 'Upper East Side', 40.775638573301805, -73.96050763135]\n",
      "( 109 / 306 ) Bangladeshi Restaurants in Yorkville, Manhattan:0\n",
      "['Manhattan', 'Yorkville', 40.775929849884875, -73.94711784471826]\n",
      "( 110 / 306 ) Bangladeshi Restaurants in Lenox Hill, Manhattan:0\n",
      "['Manhattan', 'Lenox Hill', 40.76811265828733, -73.9588596881376]\n",
      "( 111 / 306 ) Bangladeshi Restaurants in Roosevelt Island, Manhattan:0\n",
      "['Manhattan', 'Roosevelt Island', 40.76215960576283, -73.94916769227953]\n",
      "( 112 / 306 ) Bangladeshi Restaurants in Upper West Side, Manhattan:0\n",
      "['Manhattan', 'Upper West Side', 40.787657998534854, -73.97705923630603]\n",
      "( 113 / 306 ) Bangladeshi Restaurants in Lincoln Square, Manhattan:0\n",
      "['Manhattan', 'Lincoln Square', 40.77352888942166, -73.98533777001262]\n",
      "( 114 / 306 ) Bangladeshi Restaurants in Clinton, Manhattan:0\n",
      "['Manhattan', 'Clinton', 40.75910089146212, -73.99611936309479]\n",
      "( 115 / 306 ) Bangladeshi Restaurants in Midtown, Manhattan:0\n",
      "['Manhattan', 'Midtown', 40.75469110270623, -73.98166882730304]\n",
      "( 116 / 306 ) Bangladeshi Restaurants in Murray Hill, Manhattan:0\n",
      "['Manhattan', 'Murray Hill', 40.748303077252174, -73.97833207924127]\n",
      "( 117 / 306 ) Bangladeshi Restaurants in Chelsea, Manhattan:0\n",
      "['Manhattan', 'Chelsea', 40.744034706747975, -74.00311633472813]\n",
      "( 118 / 306 ) Bangladeshi Restaurants in Greenwich Village, Manhattan:0\n",
      "['Manhattan', 'Greenwich Village', 40.72693288536128, -73.99991402945902]\n",
      "( 119 / 306 ) Bangladeshi Restaurants in East Village, Manhattan:0\n",
      "['Manhattan', 'East Village', 40.727846777270244, -73.98222616506416]\n",
      "( 120 / 306 ) Bangladeshi Restaurants in Lower East Side, Manhattan:0\n",
      "['Manhattan', 'Lower East Side', 40.71780674892765, -73.98089031999291]\n",
      "( 121 / 306 ) Bangladeshi Restaurants in Tribeca, Manhattan:0\n",
      "['Manhattan', 'Tribeca', 40.721521967443216, -74.01068328559087]\n",
      "( 122 / 306 ) Bangladeshi Restaurants in Little Italy, Manhattan:0\n",
      "['Manhattan', 'Little Italy', 40.71932379395907, -73.99730467208073]\n",
      "( 123 / 306 ) Bangladeshi Restaurants in Soho, Manhattan:0\n",
      "['Manhattan', 'Soho', 40.72218384131794, -74.00065666959759]\n",
      "( 124 / 306 ) Bangladeshi Restaurants in West Village, Manhattan:0\n",
      "['Manhattan', 'West Village', 40.73443393572434, -74.00617998126812]\n",
      "( 125 / 306 ) Bangladeshi Restaurants in Manhattan Valley, Manhattan:0\n",
      "['Manhattan', 'Manhattan Valley', 40.797307041702865, -73.96428617740655]\n",
      "( 126 / 306 ) Bangladeshi Restaurants in Morningside Heights, Manhattan:0\n",
      "['Manhattan', 'Morningside Heights', 40.807999738165826, -73.96389627905332]\n"
     ]
    },
    {
     "name": "stdout",
     "output_type": "stream",
     "text": [
      "( 127 / 306 ) Bangladeshi Restaurants in Gramercy, Manhattan:0\n",
      "['Manhattan', 'Gramercy', 40.737209832715, -73.98137594833541]\n",
      "( 128 / 306 ) Bangladeshi Restaurants in Battery Park City, Manhattan:0\n",
      "['Manhattan', 'Battery Park City', 40.71193198394565, -74.01686930508617]\n",
      "( 129 / 306 ) Bangladeshi Restaurants in Financial District, Manhattan:0\n",
      "['Manhattan', 'Financial District', 40.70710710727048, -74.0106654452127]\n",
      "( 130 / 306 ) Bangladeshi Restaurants in Astoria, Queens:0\n",
      "['Queens', 'Astoria', 40.76850859335492, -73.91565374304234]\n",
      "( 131 / 306 ) Bangladeshi Restaurants in Woodside, Queens:0\n",
      "['Queens', 'Woodside', 40.74634908860222, -73.90184166838284]\n",
      "( 132 / 306 ) Bangladeshi Restaurants in Jackson Heights, Queens:0\n",
      "['Queens', 'Jackson Heights', 40.75198138007367, -73.88282109164365]\n",
      "( 133 / 306 ) Bangladeshi Restaurants in Elmhurst, Queens:0\n",
      "['Queens', 'Elmhurst', 40.744048505122024, -73.88165622288388]\n",
      "( 134 / 306 ) Bangladeshi Restaurants in Howard Beach, Queens:0\n",
      "['Queens', 'Howard Beach', 40.65422527738487, -73.8381376460028]\n",
      "( 135 / 306 ) Bangladeshi Restaurants in Corona, Queens:0\n",
      "['Queens', 'Corona', 40.74238175015667, -73.85682497345258]\n",
      "( 136 / 306 ) Bangladeshi Restaurants in Forest Hills, Queens:0\n",
      "['Queens', 'Forest Hills', 40.72526378216503, -73.84447500788983]\n",
      "( 137 / 306 ) Bangladeshi Restaurants in Kew Gardens, Queens:0\n",
      "['Queens', 'Kew Gardens', 40.7051790354148, -73.82981905825703]\n",
      "( 138 / 306 ) Bangladeshi Restaurants in Richmond Hill, Queens:0\n",
      "['Queens', 'Richmond Hill', 40.69794731471763, -73.83183321446887]\n",
      "( 139 / 306 ) Bangladeshi Restaurants in Flushing, Queens:0\n",
      "['Queens', 'Flushing', 40.76445419697846, -73.83177300329582]\n",
      "( 140 / 306 ) Bangladeshi Restaurants in Long Island City, Queens:0\n",
      "['Queens', 'Long Island City', 40.75021734610528, -73.93920223915505]\n",
      "( 141 / 306 ) Bangladeshi Restaurants in Sunnyside, Queens:0\n",
      "['Queens', 'Sunnyside', 40.74017628351924, -73.92691617561577]\n",
      "( 142 / 306 ) Bangladeshi Restaurants in East Elmhurst, Queens:0\n",
      "['Queens', 'East Elmhurst', 40.76407323883091, -73.86704147658772]\n",
      "( 143 / 306 ) Bangladeshi Restaurants in Maspeth, Queens:0\n",
      "['Queens', 'Maspeth', 40.725427374093606, -73.89621713626859]\n",
      "( 144 / 306 ) Bangladeshi Restaurants in Ridgewood, Queens:0\n",
      "['Queens', 'Ridgewood', 40.70832315613858, -73.90143517559589]\n",
      "( 145 / 306 ) Bangladeshi Restaurants in Glendale, Queens:0\n",
      "['Queens', 'Glendale', 40.70276242967838, -73.87074167435605]\n",
      "( 146 / 306 ) Bangladeshi Restaurants in Rego Park, Queens:0\n",
      "['Queens', 'Rego Park', 40.72897409480735, -73.8578268690537]\n",
      "( 147 / 306 ) Bangladeshi Restaurants in Woodhaven, Queens:0\n",
      "['Queens', 'Woodhaven', 40.68988687915789, -73.8581104655432]\n",
      "( 148 / 306 ) Bangladeshi Restaurants in Ozone Park, Queens:0\n",
      "['Queens', 'Ozone Park', 40.680708468265415, -73.84320266173447]\n",
      "( 149 / 306 ) Bangladeshi Restaurants in South Ozone Park, Queens:0\n",
      "['Queens', 'South Ozone Park', 40.66854957767195, -73.80986478649041]\n",
      "( 150 / 306 ) Bangladeshi Restaurants in College Point, Queens:0\n",
      "['Queens', 'College Point', 40.784902749260205, -73.84304528896125]\n",
      "( 151 / 306 ) Bangladeshi Restaurants in Whitestone, Queens:0\n",
      "['Queens', 'Whitestone', 40.78129076602694, -73.81420216610863]\n",
      "( 152 / 306 ) Bangladeshi Restaurants in Bayside, Queens:0\n",
      "['Queens', 'Bayside', 40.76604063281064, -73.7742736306867]\n",
      "( 153 / 306 ) Bangladeshi Restaurants in Auburndale, Queens:0\n",
      "['Queens', 'Auburndale', 40.76172954903262, -73.79176243728061]\n",
      "( 154 / 306 ) Bangladeshi Restaurants in Little Neck, Queens:0\n",
      "['Queens', 'Little Neck', 40.7708261928267, -73.7388977558074]\n",
      "( 155 / 306 ) Bangladeshi Restaurants in Douglaston, Queens:0\n",
      "['Queens', 'Douglaston', 40.76684609790763, -73.7424982072733]\n",
      "( 156 / 306 ) Bangladeshi Restaurants in Glen Oaks, Queens:0\n",
      "['Queens', 'Glen Oaks', 40.74944079974332, -73.71548118999145]\n",
      "( 157 / 306 ) Bangladeshi Restaurants in Bellerose, Queens:0\n",
      "['Queens', 'Bellerose', 40.72857318176675, -73.72012814826903]\n",
      "( 158 / 306 ) Bangladeshi Restaurants in Kew Gardens Hills, Queens:0\n",
      "['Queens', 'Kew Gardens Hills', 40.722578244228046, -73.82087764933566]\n",
      "( 159 / 306 ) Bangladeshi Restaurants in Fresh Meadows, Queens:0\n",
      "['Queens', 'Fresh Meadows', 40.7343944653313, -73.78271337003264]\n",
      "( 160 / 306 ) Bangladeshi Restaurants in Briarwood, Queens:0\n",
      "['Queens', 'Briarwood', 40.71093547252271, -73.81174822458634]\n",
      "( 161 / 306 ) Bangladeshi Restaurants in Jamaica Center, Queens:0\n",
      "['Queens', 'Jamaica Center', 40.70465736068717, -73.79690165888289]\n",
      "( 162 / 306 ) Bangladeshi Restaurants in Oakland Gardens, Queens:0\n",
      "['Queens', 'Oakland Gardens', 40.74561857141855, -73.75494976234332]\n",
      "( 163 / 306 ) Bangladeshi Restaurants in Queens Village, Queens:0\n",
      "['Queens', 'Queens Village', 40.718893092167356, -73.73871484578424]\n",
      "( 164 / 306 ) Bangladeshi Restaurants in Hollis, Queens:0\n",
      "['Queens', 'Hollis', 40.71124344191904, -73.75925009335594]\n",
      "( 165 / 306 ) Bangladeshi Restaurants in South Jamaica, Queens:0\n",
      "['Queens', 'South Jamaica', 40.696911253789885, -73.7904261313554]\n",
      "( 166 / 306 ) Bangladeshi Restaurants in St. Albans, Queens:0\n",
      "['Queens', 'St. Albans', 40.69444538522359, -73.75867603727717]\n",
      "( 167 / 306 ) Bangladeshi Restaurants in Rochdale, Queens:0\n",
      "['Queens', 'Rochdale', 40.67521139591733, -73.77258787620906]\n",
      "( 168 / 306 ) Bangladeshi Restaurants in Springfield Gardens, Queens:0\n",
      "['Queens', 'Springfield Gardens', 40.666230490368584, -73.76042092682287]\n",
      "( 169 / 306 ) Bangladeshi Restaurants in Cambria Heights, Queens:0\n",
      "['Queens', 'Cambria Heights', 40.692774639160845, -73.73526873708026]\n",
      "( 170 / 306 ) Bangladeshi Restaurants in Rosedale, Queens:0\n",
      "['Queens', 'Rosedale', 40.659816433428084, -73.73526079428278]\n",
      "( 171 / 306 ) Bangladeshi Restaurants in Far Rockaway, Queens:0\n",
      "['Queens', 'Far Rockaway', 40.603134432500894, -73.75497968043872]\n",
      "( 172 / 306 ) Bangladeshi Restaurants in Broad Channel, Queens:0\n",
      "['Queens', 'Broad Channel', 40.60302658351238, -73.8200548911032]\n",
      "( 173 / 306 ) Bangladeshi Restaurants in Breezy Point, Queens:0\n",
      "['Queens', 'Breezy Point', 40.55740128845452, -73.92551196994168]\n",
      "( 174 / 306 ) Bangladeshi Restaurants in Steinway, Queens:0\n",
      "['Queens', 'Steinway', 40.775923015642896, -73.90228960391673]\n",
      "( 175 / 306 ) Bangladeshi Restaurants in Beechhurst, Queens:0\n",
      "['Queens', 'Beechhurst', 40.79278140360048, -73.80436451720988]\n",
      "( 176 / 306 ) Bangladeshi Restaurants in Bay Terrace, Queens:0\n",
      "['Queens', 'Bay Terrace', 40.782842806245554, -73.7768022262158]\n",
      "( 177 / 306 ) Bangladeshi Restaurants in Edgemere, Queens:0\n",
      "['Queens', 'Edgemere', 40.595641807368494, -73.77613282391705]\n",
      "( 178 / 306 ) Bangladeshi Restaurants in Arverne, Queens:0\n",
      "['Queens', 'Arverne', 40.58914394372971, -73.79199233136943]\n",
      "( 179 / 306 ) Bangladeshi Restaurants in Rockaway Beach, Queens:0\n",
      "['Queens', 'Rockaway Beach', 40.582801696845586, -73.82236121088751]\n",
      "( 180 / 306 ) Bangladeshi Restaurants in Neponsit, Queens:0\n",
      "['Queens', 'Neponsit', 40.572036730217015, -73.85754672410827]\n",
      "( 181 / 306 ) Bangladeshi Restaurants in Murray Hill, Queens:0\n",
      "['Queens', 'Murray Hill', 40.764126122614066, -73.81276269135866]\n",
      "( 182 / 306 ) Bangladeshi Restaurants in Floral Park, Queens:0\n",
      "['Queens', 'Floral Park', 40.741378421945434, -73.70884705889246]\n",
      "( 183 / 306 ) Bangladeshi Restaurants in Holliswood, Queens:0\n",
      "['Queens', 'Holliswood', 40.7209572076444, -73.76714166714729]\n",
      "( 184 / 306 ) Bangladeshi Restaurants in Jamaica Estates, Queens:0\n",
      "['Queens', 'Jamaica Estates', 40.71680483014613, -73.7872269693666]\n",
      "( 185 / 306 ) Bangladeshi Restaurants in Queensboro Hill, Queens:0\n",
      "['Queens', 'Queensboro Hill', 40.7445723092867, -73.82580915110559]\n",
      "( 186 / 306 ) Bangladeshi Restaurants in Hillcrest, Queens:0\n",
      "['Queens', 'Hillcrest', 40.723824901829204, -73.79760300912672]\n",
      "( 187 / 306 ) Bangladeshi Restaurants in Ravenswood, Queens:0\n",
      "['Queens', 'Ravenswood', 40.761704526054146, -73.93157506072878]\n",
      "( 188 / 306 ) Bangladeshi Restaurants in Lindenwood, Queens:0\n",
      "['Queens', 'Lindenwood', 40.66391841925139, -73.84963782402441]\n",
      "( 189 / 306 ) Bangladeshi Restaurants in Laurelton, Queens:0\n",
      "['Queens', 'Laurelton', 40.66788389660247, -73.74025607989822]\n",
      "( 190 / 306 ) Bangladeshi Restaurants in Lefrak City, Queens:0\n",
      "['Queens', 'Lefrak City', 40.736074570830795, -73.8625247141374]\n"
     ]
    },
    {
     "name": "stdout",
     "output_type": "stream",
     "text": [
      "( 191 / 306 ) Bangladeshi Restaurants in Belle Harbor, Queens:0\n",
      "['Queens', 'Belle Harbor', 40.57615556543109, -73.8540175039252]\n",
      "( 192 / 306 ) Bangladeshi Restaurants in Rockaway Park, Queens:0\n",
      "['Queens', 'Rockaway Park', 40.58034295646131, -73.84153370226186]\n",
      "( 193 / 306 ) Bangladeshi Restaurants in Somerville, Queens:0\n",
      "['Queens', 'Somerville', 40.59771061565768, -73.79664750844047]\n",
      "( 194 / 306 ) Bangladeshi Restaurants in Brookville, Queens:0\n",
      "['Queens', 'Brookville', 40.66000322733613, -73.75175310731153]\n",
      "( 195 / 306 ) Bangladeshi Restaurants in Bellaire, Queens:0\n",
      "['Queens', 'Bellaire', 40.73301404027834, -73.73889198912481]\n",
      "( 196 / 306 ) Bangladeshi Restaurants in North Corona, Queens:0\n",
      "['Queens', 'North Corona', 40.7540709990489, -73.85751790676447]\n",
      "( 197 / 306 ) Bangladeshi Restaurants in Forest Hills Gardens, Queens:0\n",
      "['Queens', 'Forest Hills Gardens', 40.7146110815117, -73.8410221123401]\n",
      "( 198 / 306 ) Bangladeshi Restaurants in St. George, Staten Island:0\n",
      "['Staten Island', 'St. George', 40.6449815710044, -74.07935312512797]\n",
      "( 199 / 306 ) Bangladeshi Restaurants in New Brighton, Staten Island:0\n",
      "['Staten Island', 'New Brighton', 40.64061455913511, -74.08701650516625]\n",
      "( 200 / 306 ) Bangladeshi Restaurants in Stapleton, Staten Island:0\n",
      "['Staten Island', 'Stapleton', 40.62692762538176, -74.07790192660066]\n",
      "( 201 / 306 ) Bangladeshi Restaurants in Rosebank, Staten Island:0\n",
      "['Staten Island', 'Rosebank', 40.61530494652761, -74.06980526716141]\n",
      "( 202 / 306 ) Bangladeshi Restaurants in West Brighton, Staten Island:0\n",
      "['Staten Island', 'West Brighton', 40.63187892654607, -74.1071817826561]\n",
      "( 203 / 306 ) Bangladeshi Restaurants in Grymes Hill, Staten Island:0\n",
      "['Staten Island', 'Grymes Hill', 40.624184791313006, -74.08724819983729]\n",
      "( 204 / 306 ) Bangladeshi Restaurants in Todt Hill, Staten Island:0\n",
      "['Staten Island', 'Todt Hill', 40.59706851814673, -74.1113288180088]\n",
      "( 205 / 306 ) Bangladeshi Restaurants in South Beach, Staten Island:0\n",
      "['Staten Island', 'South Beach', 40.58024741350956, -74.0795529253982]\n",
      "( 206 / 306 ) Bangladeshi Restaurants in Port Richmond, Staten Island:0\n",
      "['Staten Island', 'Port Richmond', 40.63366930554365, -74.12943426797008]\n",
      "( 207 / 306 ) Bangladeshi Restaurants in Mariner's Harbor, Staten Island:0\n",
      "['Staten Island', \"Mariner's Harbor\", 40.632546390481124, -74.15008537046981]\n",
      "( 208 / 306 ) Bangladeshi Restaurants in Port Ivory, Staten Island:0\n",
      "['Staten Island', 'Port Ivory', 40.63968297845542, -74.17464532993542]\n",
      "( 209 / 306 ) Bangladeshi Restaurants in Castleton Corners, Staten Island:0\n",
      "['Staten Island', 'Castleton Corners', 40.61333593766742, -74.11918058534842]\n",
      "( 210 / 306 ) Bangladeshi Restaurants in New Springville, Staten Island:0\n",
      "['Staten Island', 'New Springville', 40.594252379161695, -74.16496031329827]\n",
      "( 211 / 306 ) Bangladeshi Restaurants in Travis, Staten Island:0\n",
      "['Staten Island', 'Travis', 40.58631375103281, -74.19073717538116]\n",
      "( 212 / 306 ) Bangladeshi Restaurants in New Dorp, Staten Island:0\n",
      "['Staten Island', 'New Dorp', 40.57257231820632, -74.1164794360638]\n",
      "( 213 / 306 ) Bangladeshi Restaurants in Oakwood, Staten Island:0\n",
      "['Staten Island', 'Oakwood', 40.5584622432888, -74.12156593771896]\n",
      "( 214 / 306 ) Bangladeshi Restaurants in Great Kills, Staten Island:0\n",
      "['Staten Island', 'Great Kills', 40.549480228713605, -74.14932381490992]\n",
      "( 215 / 306 ) Bangladeshi Restaurants in Eltingville, Staten Island:0\n",
      "['Staten Island', 'Eltingville', 40.542230747450745, -74.1643308041936]\n",
      "( 216 / 306 ) Bangladeshi Restaurants in Annadale, Staten Island:0\n",
      "['Staten Island', 'Annadale', 40.53811417474507, -74.17854866165878]\n",
      "( 217 / 306 ) Bangladeshi Restaurants in Woodrow, Staten Island:0\n",
      "['Staten Island', 'Woodrow', 40.541967622888755, -74.20524582480326]\n",
      "( 218 / 306 ) Bangladeshi Restaurants in Tottenville, Staten Island:0\n",
      "['Staten Island', 'Tottenville', 40.50533376115642, -74.24656934235283]\n",
      "( 219 / 306 ) Bangladeshi Restaurants in Tompkinsville, Staten Island:0\n",
      "['Staten Island', 'Tompkinsville', 40.637316067110326, -74.08055351790115]\n",
      "( 220 / 306 ) Bangladeshi Restaurants in Silver Lake, Staten Island:0\n",
      "['Staten Island', 'Silver Lake', 40.61919310792676, -74.09629029235458]\n",
      "( 221 / 306 ) Bangladeshi Restaurants in Sunnyside, Staten Island:0\n",
      "['Staten Island', 'Sunnyside', 40.61276015756489, -74.0971255217853]\n",
      "( 222 / 306 ) Bangladeshi Restaurants in Ditmas Park, Brooklyn:0\n",
      "['Brooklyn', 'Ditmas Park', 40.643675183340974, -73.96101312466779]\n",
      "( 223 / 306 ) Bangladeshi Restaurants in Wingate, Brooklyn:0\n",
      "['Brooklyn', 'Wingate', 40.66094656188111, -73.93718680559314]\n",
      "( 224 / 306 ) Bangladeshi Restaurants in Rugby, Brooklyn:0\n",
      "['Brooklyn', 'Rugby', 40.655572313280764, -73.92688212616955]\n",
      "( 225 / 306 ) Bangladeshi Restaurants in Park Hill, Staten Island:0\n",
      "['Staten Island', 'Park Hill', 40.60919044434558, -74.08015734936296]\n",
      "( 226 / 306 ) Bangladeshi Restaurants in Westerleigh, Staten Island:0\n",
      "['Staten Island', 'Westerleigh', 40.62109047275409, -74.13304143951704]\n",
      "( 227 / 306 ) Bangladeshi Restaurants in Graniteville, Staten Island:0\n",
      "['Staten Island', 'Graniteville', 40.620171512231884, -74.15315246387762]\n",
      "( 228 / 306 ) Bangladeshi Restaurants in Arlington, Staten Island:0\n",
      "['Staten Island', 'Arlington', 40.63532509911492, -74.16510420241124]\n",
      "( 229 / 306 ) Bangladeshi Restaurants in Arrochar, Staten Island:0\n",
      "['Staten Island', 'Arrochar', 40.596312571276734, -74.06712363225574]\n",
      "( 230 / 306 ) Bangladeshi Restaurants in Grasmere, Staten Island:0\n",
      "['Staten Island', 'Grasmere', 40.59826835959991, -74.0766743627905]\n",
      "( 231 / 306 ) Bangladeshi Restaurants in Old Town, Staten Island:0\n",
      "['Staten Island', 'Old Town', 40.59632891379513, -74.08751118005578]\n",
      "( 232 / 306 ) Bangladeshi Restaurants in Dongan Hills, Staten Island:0\n",
      "['Staten Island', 'Dongan Hills', 40.588672948199275, -74.09639905312521]\n",
      "( 233 / 306 ) Bangladeshi Restaurants in Midland Beach, Staten Island:0\n",
      "['Staten Island', 'Midland Beach', 40.57352690574283, -74.09348266303591]\n",
      "( 234 / 306 ) Bangladeshi Restaurants in Grant City, Staten Island:0\n",
      "['Staten Island', 'Grant City', 40.57621558711788, -74.10585598545434]\n",
      "( 235 / 306 ) Bangladeshi Restaurants in New Dorp Beach, Staten Island:0\n",
      "['Staten Island', 'New Dorp Beach', 40.56425549307335, -74.10432707469124]\n",
      "( 236 / 306 ) Bangladeshi Restaurants in Bay Terrace, Staten Island:0\n",
      "['Staten Island', 'Bay Terrace', 40.55398800858462, -74.13916622175768]\n",
      "( 237 / 306 ) Bangladeshi Restaurants in Huguenot, Staten Island:0\n",
      "['Staten Island', 'Huguenot', 40.531911920489605, -74.19174105747814]\n",
      "( 238 / 306 ) Bangladeshi Restaurants in Pleasant Plains, Staten Island:0\n",
      "['Staten Island', 'Pleasant Plains', 40.524699376118136, -74.21983106616777]\n",
      "( 239 / 306 ) Bangladeshi Restaurants in Butler Manor, Staten Island:0\n",
      "['Staten Island', 'Butler Manor', 40.50608165346305, -74.22950350260027]\n",
      "( 240 / 306 ) Bangladeshi Restaurants in Charleston, Staten Island:0\n",
      "['Staten Island', 'Charleston', 40.53053148283314, -74.23215775896526]\n",
      "( 241 / 306 ) Bangladeshi Restaurants in Rossville, Staten Island:0\n",
      "['Staten Island', 'Rossville', 40.54940400650072, -74.21572851113952]\n",
      "( 242 / 306 ) Bangladeshi Restaurants in Arden Heights, Staten Island:0\n",
      "['Staten Island', 'Arden Heights', 40.54928582278321, -74.18588674583893]\n",
      "( 243 / 306 ) Bangladeshi Restaurants in Greenridge, Staten Island:0\n",
      "['Staten Island', 'Greenridge', 40.555295236173194, -74.17079414786092]\n",
      "( 244 / 306 ) Bangladeshi Restaurants in Heartland Village, Staten Island:0\n",
      "['Staten Island', 'Heartland Village', 40.58913894875281, -74.15902208156601]\n",
      "( 245 / 306 ) Bangladeshi Restaurants in Chelsea, Staten Island:0\n",
      "['Staten Island', 'Chelsea', 40.59472602746295, -74.1895604551969]\n",
      "( 246 / 306 ) Bangladeshi Restaurants in Bloomfield, Staten Island:0\n",
      "['Staten Island', 'Bloomfield', 40.60577868452358, -74.18725638381567]\n",
      "( 247 / 306 ) Bangladeshi Restaurants in Bulls Head, Staten Island:0\n",
      "['Staten Island', 'Bulls Head', 40.6095918004203, -74.15940948657122]\n",
      "( 248 / 306 ) Bangladeshi Restaurants in Carnegie Hill, Manhattan:0\n",
      "['Manhattan', 'Carnegie Hill', 40.7826825671257, -73.95325646837112]\n",
      "( 249 / 306 ) Bangladeshi Restaurants in Noho, Manhattan:0\n",
      "['Manhattan', 'Noho', 40.72325901885768, -73.98843368023597]\n",
      "( 250 / 306 ) Bangladeshi Restaurants in Civic Center, Manhattan:0\n",
      "['Manhattan', 'Civic Center', 40.71522892046282, -74.00541529873355]\n"
     ]
    },
    {
     "name": "stdout",
     "output_type": "stream",
     "text": [
      "( 251 / 306 ) Bangladeshi Restaurants in Midtown South, Manhattan:0\n",
      "['Manhattan', 'Midtown South', 40.7485096643122, -73.98871313285247]\n",
      "( 252 / 306 ) Bangladeshi Restaurants in Richmond Town, Staten Island:0\n",
      "['Staten Island', 'Richmond Town', 40.56960594275505, -74.1340572986257]\n",
      "( 253 / 306 ) Bangladeshi Restaurants in Shore Acres, Staten Island:0\n",
      "['Staten Island', 'Shore Acres', 40.60971934079284, -74.06667766061771]\n",
      "( 254 / 306 ) Bangladeshi Restaurants in Clifton, Staten Island:0\n",
      "['Staten Island', 'Clifton', 40.61917845202843, -74.072642445484]\n",
      "( 255 / 306 ) Bangladeshi Restaurants in Concord, Staten Island:0\n",
      "['Staten Island', 'Concord', 40.6044731896879, -74.08402364740358]\n",
      "( 256 / 306 ) Bangladeshi Restaurants in Emerson Hill, Staten Island:0\n",
      "['Staten Island', 'Emerson Hill', 40.606794394801, -74.09776206972522]\n",
      "( 257 / 306 ) Bangladeshi Restaurants in Randall Manor, Staten Island:0\n",
      "['Staten Island', 'Randall Manor', 40.63563000681151, -74.09805062373887]\n",
      "( 258 / 306 ) Bangladeshi Restaurants in Howland Hook, Staten Island:0\n",
      "['Staten Island', 'Howland Hook', 40.63843283794795, -74.18622331749823]\n",
      "( 259 / 306 ) Bangladeshi Restaurants in Elm Park, Staten Island:0\n",
      "['Staten Island', 'Elm Park', 40.630146741193826, -74.1418167896889]\n",
      "( 260 / 306 ) Bangladeshi Restaurants in Remsen Village, Brooklyn:0\n",
      "['Brooklyn', 'Remsen Village', 40.652117451793494, -73.91665331978048]\n",
      "( 261 / 306 ) Bangladeshi Restaurants in New Lots, Brooklyn:0\n",
      "['Brooklyn', 'New Lots', 40.6627442796966, -73.88511776379292]\n",
      "( 262 / 306 ) Bangladeshi Restaurants in Paerdegat Basin, Brooklyn:0\n",
      "['Brooklyn', 'Paerdegat Basin', 40.63131755039667, -73.90233474295836]\n",
      "( 263 / 306 ) Bangladeshi Restaurants in Mill Basin, Brooklyn:0\n",
      "['Brooklyn', 'Mill Basin', 40.61597423962336, -73.91515391550404]\n",
      "( 264 / 306 ) Bangladeshi Restaurants in Jamaica Hills, Queens:0\n",
      "['Queens', 'Jamaica Hills', 40.71145964370482, -73.79646462081593]\n",
      "( 265 / 306 ) Bangladeshi Restaurants in Utopia, Queens:0\n",
      "['Queens', 'Utopia', 40.73350025429757, -73.79671678028349]\n",
      "( 266 / 306 ) Bangladeshi Restaurants in Pomonok, Queens:0\n",
      "['Queens', 'Pomonok', 40.73493618075478, -73.80486120040537]\n",
      "( 267 / 306 ) Bangladeshi Restaurants in Astoria Heights, Queens:0\n",
      "['Queens', 'Astoria Heights', 40.7703173929982, -73.89467996270574]\n",
      "( 268 / 306 ) Bangladeshi Restaurants in Claremont Village, Bronx:0\n",
      "['Bronx', 'Claremont Village', 40.83142834161548, -73.90119903387667]\n",
      "( 269 / 306 ) Bangladeshi Restaurants in Concourse Village, Bronx:0\n",
      "['Bronx', 'Concourse Village', 40.824780490842905, -73.91584652759009]\n",
      "( 270 / 306 ) Bangladeshi Restaurants in Mount Eden, Bronx:0\n",
      "['Bronx', 'Mount Eden', 40.84382617671654, -73.91655551964419]\n",
      "( 271 / 306 ) Bangladeshi Restaurants in Mount Hope, Bronx:0\n",
      "['Bronx', 'Mount Hope', 40.84884160724665, -73.90829930881988]\n",
      "( 272 / 306 ) Bangladeshi Restaurants in Sutton Place, Manhattan:0\n",
      "['Manhattan', 'Sutton Place', 40.76028033131374, -73.96355614094303]\n",
      "( 273 / 306 ) Bangladeshi Restaurants in Hunters Point, Queens:0\n",
      "['Queens', 'Hunters Point', 40.743414090073536, -73.95386782130745]\n",
      "( 274 / 306 ) Bangladeshi Restaurants in Turtle Bay, Manhattan:0\n",
      "['Manhattan', 'Turtle Bay', 40.75204236950722, -73.96770824581834]\n",
      "( 275 / 306 ) Bangladeshi Restaurants in Tudor City, Manhattan:0\n",
      "['Manhattan', 'Tudor City', 40.746917410740195, -73.97121928722265]\n",
      "( 276 / 306 ) Bangladeshi Restaurants in Stuyvesant Town, Manhattan:0\n",
      "['Manhattan', 'Stuyvesant Town', 40.73099955477061, -73.97405170469203]\n",
      "( 277 / 306 ) Bangladeshi Restaurants in Flatiron, Manhattan:0\n",
      "['Manhattan', 'Flatiron', 40.739673047638426, -73.9909471052826]\n",
      "( 278 / 306 ) Bangladeshi Restaurants in Sunnyside Gardens, Queens:0\n",
      "['Queens', 'Sunnyside Gardens', 40.74565180608076, -73.91819286431682]\n",
      "( 279 / 306 ) Bangladeshi Restaurants in Blissville, Queens:0\n",
      "['Queens', 'Blissville', 40.73725071694497, -73.93244235260178]\n",
      "( 280 / 306 ) Bangladeshi Restaurants in Fulton Ferry, Brooklyn:0\n",
      "['Brooklyn', 'Fulton Ferry', 40.70328109093014, -73.99550751888415]\n",
      "( 281 / 306 ) Bangladeshi Restaurants in Vinegar Hill, Brooklyn:0\n",
      "['Brooklyn', 'Vinegar Hill', 40.70332149882874, -73.98111603592393]\n",
      "( 282 / 306 ) Bangladeshi Restaurants in Weeksville, Brooklyn:0\n",
      "['Brooklyn', 'Weeksville', 40.67503986503237, -73.93053108817338]\n",
      "( 283 / 306 ) Bangladeshi Restaurants in Broadway Junction, Brooklyn:0\n",
      "['Brooklyn', 'Broadway Junction', 40.67786104769531, -73.90331684852599]\n",
      "( 284 / 306 ) Bangladeshi Restaurants in Dumbo, Brooklyn:0\n",
      "['Brooklyn', 'Dumbo', 40.70317632822692, -73.9887528074504]\n",
      "( 285 / 306 ) Bangladeshi Restaurants in Manor Heights, Staten Island:0\n",
      "['Staten Island', 'Manor Heights', 40.60180957631444, -74.12059399718001]\n",
      "( 286 / 306 ) Bangladeshi Restaurants in Willowbrook, Staten Island:0\n",
      "['Staten Island', 'Willowbrook', 40.60370692627371, -74.13208447484298]\n",
      "( 287 / 306 ) Bangladeshi Restaurants in Sandy Ground, Staten Island:0\n",
      "['Staten Island', 'Sandy Ground', 40.541139922091766, -74.21776636068567]\n",
      "( 288 / 306 ) Bangladeshi Restaurants in Egbertville, Staten Island:0\n",
      "['Staten Island', 'Egbertville', 40.579118742961214, -74.12727240604946]\n",
      "( 289 / 306 ) Bangladeshi Restaurants in Roxbury, Queens:0\n",
      "['Queens', 'Roxbury', 40.56737588957032, -73.89213760232822]\n",
      "( 290 / 306 ) Bangladeshi Restaurants in Homecrest, Brooklyn:0\n",
      "['Brooklyn', 'Homecrest', 40.598525095137255, -73.95918459428702]\n",
      "( 291 / 306 ) Bangladeshi Restaurants in Middle Village, Queens:0\n",
      "['Queens', 'Middle Village', 40.716414511158185, -73.88114319200604]\n",
      "( 292 / 306 ) Bangladeshi Restaurants in Prince's Bay, Staten Island:0\n",
      "['Staten Island', \"Prince's Bay\", 40.52626406734812, -74.20152556457658]\n",
      "( 293 / 306 ) Bangladeshi Restaurants in Lighthouse Hill, Staten Island:0\n",
      "['Staten Island', 'Lighthouse Hill', 40.57650629379489, -74.13792663771568]\n",
      "( 294 / 306 ) Bangladeshi Restaurants in Richmond Valley, Staten Island:0\n",
      "['Staten Island', 'Richmond Valley', 40.51954145748909, -74.22957080626941]\n",
      "( 295 / 306 ) Bangladeshi Restaurants in Malba, Queens:0\n",
      "['Queens', 'Malba', 40.79060155670148, -73.82667757138641]\n",
      "( 296 / 306 ) Bangladeshi Restaurants in Highland Park, Brooklyn:0\n",
      "['Brooklyn', 'Highland Park', 40.6819989345173, -73.890345709872]\n",
      "( 297 / 306 ) Bangladeshi Restaurants in Madison, Brooklyn:0\n",
      "['Brooklyn', 'Madison', 40.60937770113766, -73.94841515328893]\n",
      "( 298 / 306 ) Bangladeshi Restaurants in Bronxdale, Bronx:0\n",
      "['Bronx', 'Bronxdale', 40.85272297633017, -73.86172577555115]\n",
      "( 299 / 306 ) Bangladeshi Restaurants in Allerton, Bronx:0\n",
      "['Bronx', 'Allerton', 40.86578787802982, -73.85931863221647]\n",
      "( 300 / 306 ) Bangladeshi Restaurants in Kingsbridge Heights, Bronx:0\n",
      "['Bronx', 'Kingsbridge Heights', 40.8703923914147, -73.90152264513144]\n",
      "( 301 / 306 ) Bangladeshi Restaurants in Erasmus, Brooklyn:0\n",
      "['Brooklyn', 'Erasmus', 40.64692606658579, -73.94817709920184]\n",
      "( 302 / 306 ) Bangladeshi Restaurants in Hudson Yards, Manhattan:0\n",
      "['Manhattan', 'Hudson Yards', 40.75665808227519, -74.00011136202637]\n",
      "( 303 / 306 ) Bangladeshi Restaurants in Hammels, Queens:0\n",
      "['Queens', 'Hammels', 40.58733774018741, -73.80553002968718]\n",
      "( 304 / 306 ) Bangladeshi Restaurants in Bayswater, Queens:0\n",
      "['Queens', 'Bayswater', 40.611321691283834, -73.76596781445627]\n",
      "( 305 / 306 ) Bangladeshi Restaurants in Queensbridge, Queens:0\n",
      "['Queens', 'Queensbridge', 40.756091297094706, -73.94563070334091]\n",
      "( 306 / 306 ) Bangladeshi Restaurants in Fox Hills, Staten Island:0\n",
      "['Staten Island', 'Fox Hills', 40.61731079252983, -74.08173992211962]\n"
     ]
    }
   ],
   "source": [
    "# prepare neighborhood list that contains bangladeshi restaurants\n",
    "column_names=['Borough', 'Neighborhood', 'ID','Name']\n",
    "bangladeshi_rest_ny=pd.DataFrame(columns=column_names)\n",
    "count=1\n",
    "for row in ny_data.values.tolist():\n",
    "    Borough, Neighborhood, Latitude, Longitude=row\n",
    "    venues = get_venues(Latitude,Longitude)\n",
    "    bangladeshi_restaurants=venues[venues['Category']=='Bangladeshi Restaurant']   \n",
    "    print('(',count,'/',len(ny_data),')','Bangladeshi Restaurants in '+Neighborhood+', '+Borough+':'+str(len(bangladeshi_restaurants)))\n",
    "    print(row)\n",
    "    for resturant_detail in bangladeshi_restaurants.values.tolist():\n",
    "        id, name , category=resturant_detail\n",
    "        bangladeshi_rest_ny = bangladeshi_rest_ny.append({'Borough': Borough,\n",
    "                                                'Neighborhood': Neighborhood, \n",
    "                                                'ID': id,\n",
    "                                                'Name' : name\n",
    "                                               }, ignore_index=True)\n",
    "    count+=1"
   ]
  },
  {
   "cell_type": "code",
   "execution_count": 14,
   "metadata": {
    "ExecuteTime": {
     "end_time": "2020-01-13T16:35:34.956917Z",
     "start_time": "2020-01-13T16:35:34.901238Z"
    }
   },
   "outputs": [],
   "source": [
    "#bangladeshi_rest_ny.to_csv('bangladeshi_rest_ny_tocsv1.csv') # Save the information so far to a .csv file due to limited calls on FourSquare\n",
    "bangladeshi_rest_ny.to_csv('bangladeshi_rest_ny_tocsv1.csv') "
   ]
  },
  {
   "cell_type": "code",
   "execution_count": 15,
   "metadata": {
    "ExecuteTime": {
     "end_time": "2020-01-13T16:35:38.323878Z",
     "start_time": "2020-01-13T16:35:38.299892Z"
    }
   },
   "outputs": [
    {
     "data": {
      "text/html": [
       "<div>\n",
       "<style scoped>\n",
       "    .dataframe tbody tr th:only-of-type {\n",
       "        vertical-align: middle;\n",
       "    }\n",
       "\n",
       "    .dataframe tbody tr th {\n",
       "        vertical-align: top;\n",
       "    }\n",
       "\n",
       "    .dataframe thead th {\n",
       "        text-align: right;\n",
       "    }\n",
       "</style>\n",
       "<table border=\"1\" class=\"dataframe\">\n",
       "  <thead>\n",
       "    <tr style=\"text-align: right;\">\n",
       "      <th></th>\n",
       "      <th>Borough</th>\n",
       "      <th>Neighborhood</th>\n",
       "      <th>ID</th>\n",
       "      <th>Name</th>\n",
       "    </tr>\n",
       "  </thead>\n",
       "  <tbody>\n",
       "  </tbody>\n",
       "</table>\n",
       "</div>"
      ],
      "text/plain": [
       "Empty DataFrame\n",
       "Columns: [Borough, Neighborhood, ID, Name]\n",
       "Index: []"
      ]
     },
     "execution_count": 15,
     "metadata": {},
     "output_type": "execute_result"
    }
   ],
   "source": [
    "bangladeshi_ny = pd.read_csv('bangladeshi_rest_ny_tocsv1.csv')\n",
    "bangladeshi_rest_ny.tail()"
   ]
  },
  {
   "cell_type": "code",
   "execution_count": 16,
   "metadata": {
    "ExecuteTime": {
     "end_time": "2020-01-13T16:36:52.807204Z",
     "start_time": "2020-01-13T16:36:52.803205Z"
    }
   },
   "outputs": [
    {
     "data": {
      "text/plain": [
       "(0, 4)"
      ]
     },
     "execution_count": 16,
     "metadata": {},
     "output_type": "execute_result"
    }
   ],
   "source": [
    "bangladeshi_rest_ny.shape"
   ]
  },
  {
   "cell_type": "markdown",
   "metadata": {},
   "source": [
    "**In Foursquare database, we got 0 Bangladeshi Restaurants across the New York City. This should be quite good for business as no pure Bangladeshi restaurant is available to cater to the increasing Bangladeshi population. For further analysis, we will check for Indian restaurants which are similar to the Bangladeshi cuisine.**"
   ]
  },
  {
   "cell_type": "code",
   "execution_count": 17,
   "metadata": {
    "ExecuteTime": {
     "end_time": "2020-01-13T16:44:43.091514Z",
     "start_time": "2020-01-13T16:40:31.320607Z"
    }
   },
   "outputs": [
    {
     "name": "stdout",
     "output_type": "stream",
     "text": [
      "( 1 / 306 ) Indian Restaurants in Wakefield, Bronx:0\n",
      "['Bronx', 'Wakefield', 40.89470517661, -73.84720052054902]\n",
      "( 2 / 306 ) Indian Restaurants in Co-op City, Bronx:0\n",
      "['Bronx', 'Co-op City', 40.87429419303012, -73.82993910812398]\n",
      "( 3 / 306 ) Indian Restaurants in Eastchester, Bronx:0\n",
      "['Bronx', 'Eastchester', 40.887555677350775, -73.82780644716412]\n",
      "( 4 / 306 ) Indian Restaurants in Fieldston, Bronx:0\n",
      "['Bronx', 'Fieldston', 40.89543742690383, -73.90564259591682]\n",
      "( 5 / 306 ) Indian Restaurants in Riverdale, Bronx:0\n",
      "['Bronx', 'Riverdale', 40.890834493891305, -73.9125854610857]\n",
      "( 6 / 306 ) Indian Restaurants in Kingsbridge, Bronx:0\n",
      "['Bronx', 'Kingsbridge', 40.88168737120521, -73.90281798724604]\n",
      "( 7 / 306 ) Indian Restaurants in Marble Hill, Manhattan:0\n",
      "['Manhattan', 'Marble Hill', 40.87655077879964, -73.91065965862981]\n",
      "( 8 / 306 ) Indian Restaurants in Woodlawn, Bronx:1\n",
      "['Bronx', 'Woodlawn', 40.89827261213805, -73.86731496814176]\n",
      "( 9 / 306 ) Indian Restaurants in Norwood, Bronx:0\n",
      "['Bronx', 'Norwood', 40.87722415599446, -73.8793907395681]\n",
      "( 10 / 306 ) Indian Restaurants in Williamsbridge, Bronx:0\n",
      "['Bronx', 'Williamsbridge', 40.88103887819211, -73.85744642974207]\n",
      "( 11 / 306 ) Indian Restaurants in Baychester, Bronx:0\n",
      "['Bronx', 'Baychester', 40.866858107252696, -73.83579759808117]\n",
      "( 12 / 306 ) Indian Restaurants in Pelham Parkway, Bronx:0\n",
      "['Bronx', 'Pelham Parkway', 40.85741349808865, -73.85475564017999]\n",
      "( 13 / 306 ) Indian Restaurants in City Island, Bronx:0\n",
      "['Bronx', 'City Island', 40.84724670491813, -73.78648845267413]\n",
      "( 14 / 306 ) Indian Restaurants in Bedford Park, Bronx:0\n",
      "['Bronx', 'Bedford Park', 40.870185164975325, -73.8855121841913]\n",
      "( 15 / 306 ) Indian Restaurants in University Heights, Bronx:0\n",
      "['Bronx', 'University Heights', 40.85572707719664, -73.9104159619131]\n",
      "( 16 / 306 ) Indian Restaurants in Morris Heights, Bronx:0\n",
      "['Bronx', 'Morris Heights', 40.84789792606271, -73.91967159119565]\n",
      "( 17 / 306 ) Indian Restaurants in Fordham, Bronx:0\n",
      "['Bronx', 'Fordham', 40.86099679638654, -73.89642655981623]\n",
      "( 18 / 306 ) Indian Restaurants in East Tremont, Bronx:0\n",
      "['Bronx', 'East Tremont', 40.84269615786053, -73.88735617532338]\n",
      "( 19 / 306 ) Indian Restaurants in West Farms, Bronx:0\n",
      "['Bronx', 'West Farms', 40.83947505672653, -73.87774474910545]\n",
      "( 20 / 306 ) Indian Restaurants in High  Bridge, Bronx:0\n",
      "['Bronx', 'High  Bridge', 40.836623010706056, -73.9261020935813]\n",
      "( 21 / 306 ) Indian Restaurants in Melrose, Bronx:0\n",
      "['Bronx', 'Melrose', 40.819754370594936, -73.90942160757436]\n",
      "( 22 / 306 ) Indian Restaurants in Mott Haven, Bronx:0\n",
      "['Bronx', 'Mott Haven', 40.80623874935177, -73.91609987487575]\n",
      "( 23 / 306 ) Indian Restaurants in Port Morris, Bronx:0\n",
      "['Bronx', 'Port Morris', 40.801663627756206, -73.91322139386135]\n",
      "( 24 / 306 ) Indian Restaurants in Longwood, Bronx:0\n",
      "['Bronx', 'Longwood', 40.81509904545822, -73.8957882009446]\n",
      "( 25 / 306 ) Indian Restaurants in Hunts Point, Bronx:0\n",
      "['Bronx', 'Hunts Point', 40.80972987938709, -73.88331505955291]\n",
      "( 26 / 306 ) Indian Restaurants in Morrisania, Bronx:0\n",
      "['Bronx', 'Morrisania', 40.82359198585534, -73.90150648943059]\n",
      "( 27 / 306 ) Indian Restaurants in Soundview, Bronx:0\n",
      "['Bronx', 'Soundview', 40.821012197914015, -73.86574609554924]\n",
      "( 28 / 306 ) Indian Restaurants in Clason Point, Bronx:0\n",
      "['Bronx', 'Clason Point', 40.80655112003589, -73.85414416189266]\n",
      "( 29 / 306 ) Indian Restaurants in Throgs Neck, Bronx:0\n",
      "['Bronx', 'Throgs Neck', 40.81510925804005, -73.81635002158441]\n",
      "( 30 / 306 ) Indian Restaurants in Country Club, Bronx:0\n",
      "['Bronx', 'Country Club', 40.844245936947374, -73.8240992675385]\n",
      "( 31 / 306 ) Indian Restaurants in Parkchester, Bronx:0\n",
      "['Bronx', 'Parkchester', 40.837937822267286, -73.85600310535783]\n",
      "( 32 / 306 ) Indian Restaurants in Westchester Square, Bronx:0\n",
      "['Bronx', 'Westchester Square', 40.8406194964327, -73.84219407604444]\n",
      "( 33 / 306 ) Indian Restaurants in Van Nest, Bronx:0\n",
      "['Bronx', 'Van Nest', 40.84360847124718, -73.8662991807561]\n",
      "( 34 / 306 ) Indian Restaurants in Morris Park, Bronx:0\n",
      "['Bronx', 'Morris Park', 40.847549063536334, -73.85040178030421]\n",
      "( 35 / 306 ) Indian Restaurants in Belmont, Bronx:0\n",
      "['Bronx', 'Belmont', 40.85727710073895, -73.88845196134804]\n",
      "( 36 / 306 ) Indian Restaurants in Spuyten Duyvil, Bronx:0\n",
      "['Bronx', 'Spuyten Duyvil', 40.88139497727086, -73.91719048210393]\n",
      "( 37 / 306 ) Indian Restaurants in North Riverdale, Bronx:0\n",
      "['Bronx', 'North Riverdale', 40.90854282950666, -73.90453054908927]\n",
      "( 38 / 306 ) Indian Restaurants in Pelham Bay, Bronx:0\n",
      "['Bronx', 'Pelham Bay', 40.85064140940335, -73.8320737824047]\n",
      "( 39 / 306 ) Indian Restaurants in Schuylerville, Bronx:0\n",
      "['Bronx', 'Schuylerville', 40.82657951686922, -73.82620275994073]\n",
      "( 40 / 306 ) Indian Restaurants in Edgewater Park, Bronx:0\n",
      "['Bronx', 'Edgewater Park', 40.821986118163494, -73.81388514428619]\n",
      "( 41 / 306 ) Indian Restaurants in Castle Hill, Bronx:0\n",
      "['Bronx', 'Castle Hill', 40.819014376988314, -73.84802729582735]\n",
      "( 42 / 306 ) Indian Restaurants in Olinville, Bronx:0\n",
      "['Bronx', 'Olinville', 40.87137078192371, -73.86332361652777]\n",
      "( 43 / 306 ) Indian Restaurants in Pelham Gardens, Bronx:0\n",
      "['Bronx', 'Pelham Gardens', 40.86296562477998, -73.84161194831223]\n",
      "( 44 / 306 ) Indian Restaurants in Concourse, Bronx:0\n",
      "['Bronx', 'Concourse', 40.83428380733851, -73.91558941773444]\n",
      "( 45 / 306 ) Indian Restaurants in Unionport, Bronx:1\n",
      "['Bronx', 'Unionport', 40.82977429787161, -73.85053524451935]\n",
      "( 46 / 306 ) Indian Restaurants in Edenwald, Bronx:0\n",
      "['Bronx', 'Edenwald', 40.88456130303732, -73.84808271877168]\n",
      "( 47 / 306 ) Indian Restaurants in Bay Ridge, Brooklyn:1\n",
      "['Brooklyn', 'Bay Ridge', 40.625801065010656, -74.03062069353813]\n",
      "( 48 / 306 ) Indian Restaurants in Bensonhurst, Brooklyn:0\n",
      "['Brooklyn', 'Bensonhurst', 40.61100890202044, -73.99517998380729]\n",
      "( 49 / 306 ) Indian Restaurants in Sunset Park, Brooklyn:0\n",
      "['Brooklyn', 'Sunset Park', 40.64510294925429, -74.01031618527784]\n",
      "( 50 / 306 ) Indian Restaurants in Greenpoint, Brooklyn:1\n",
      "['Brooklyn', 'Greenpoint', 40.7302009848647, -73.95424093127393]\n",
      "( 51 / 306 ) Indian Restaurants in Gravesend, Brooklyn:0\n",
      "['Brooklyn', 'Gravesend', 40.59526001306593, -73.97347087708445]\n",
      "( 52 / 306 ) Indian Restaurants in Brighton Beach, Brooklyn:0\n",
      "['Brooklyn', 'Brighton Beach', 40.57682506566604, -73.96509448785336]\n",
      "( 53 / 306 ) Indian Restaurants in Sheepshead Bay, Brooklyn:0\n",
      "['Brooklyn', 'Sheepshead Bay', 40.58689012678384, -73.94318640482979]\n",
      "( 54 / 306 ) Indian Restaurants in Manhattan Terrace, Brooklyn:0\n",
      "['Brooklyn', 'Manhattan Terrace', 40.61443251335098, -73.95743840559939]\n",
      "( 55 / 306 ) Indian Restaurants in Flatbush, Brooklyn:0\n",
      "['Brooklyn', 'Flatbush', 40.63632589026677, -73.95840106533903]\n",
      "( 56 / 306 ) Indian Restaurants in Crown Heights, Brooklyn:0\n",
      "['Brooklyn', 'Crown Heights', 40.67082917695294, -73.94329119073582]\n",
      "( 57 / 306 ) Indian Restaurants in East Flatbush, Brooklyn:0\n",
      "['Brooklyn', 'East Flatbush', 40.64171776668961, -73.93610256185836]\n",
      "( 58 / 306 ) Indian Restaurants in Kensington, Brooklyn:0\n",
      "['Brooklyn', 'Kensington', 40.642381958003526, -73.98042110559474]\n",
      "( 59 / 306 ) Indian Restaurants in Windsor Terrace, Brooklyn:0\n",
      "['Brooklyn', 'Windsor Terrace', 40.65694583575104, -73.98007340430172]\n",
      "( 60 / 306 ) Indian Restaurants in Prospect Heights, Brooklyn:0\n",
      "['Brooklyn', 'Prospect Heights', 40.676822262254724, -73.9648592426269]\n",
      "( 61 / 306 ) Indian Restaurants in Brownsville, Brooklyn:0\n",
      "['Brooklyn', 'Brownsville', 40.66394994339755, -73.91023536176607]\n",
      "( 62 / 306 ) Indian Restaurants in Williamsburg, Brooklyn:0\n",
      "['Brooklyn', 'Williamsburg', 40.70714439344251, -73.95811529220927]\n",
      "( 63 / 306 ) Indian Restaurants in Bushwick, Brooklyn:1\n",
      "['Brooklyn', 'Bushwick', 40.69811611017901, -73.92525797487045]\n",
      "( 64 / 306 ) Indian Restaurants in Bedford Stuyvesant, Brooklyn:0\n",
      "['Brooklyn', 'Bedford Stuyvesant', 40.687231607720456, -73.94178488690297]\n",
      "( 65 / 306 ) Indian Restaurants in Brooklyn Heights, Brooklyn:1\n",
      "['Brooklyn', 'Brooklyn Heights', 40.695863722724084, -73.99378225496424]\n",
      "( 66 / 306 ) Indian Restaurants in Cobble Hill, Brooklyn:0\n",
      "['Brooklyn', 'Cobble Hill', 40.687919722485574, -73.99856139218463]\n",
      "( 67 / 306 ) Indian Restaurants in Carroll Gardens, Brooklyn:0\n",
      "['Brooklyn', 'Carroll Gardens', 40.680540231076485, -73.99465372828006]\n"
     ]
    },
    {
     "name": "stdout",
     "output_type": "stream",
     "text": [
      "( 68 / 306 ) Indian Restaurants in Red Hook, Brooklyn:0\n",
      "['Brooklyn', 'Red Hook', 40.676253230250886, -74.0127589747356]\n",
      "( 69 / 306 ) Indian Restaurants in Gowanus, Brooklyn:1\n",
      "['Brooklyn', 'Gowanus', 40.673931143187154, -73.99444087145339]\n",
      "( 70 / 306 ) Indian Restaurants in Fort Greene, Brooklyn:1\n",
      "['Brooklyn', 'Fort Greene', 40.68852726018977, -73.97290574369092]\n",
      "( 71 / 306 ) Indian Restaurants in Park Slope, Brooklyn:0\n",
      "['Brooklyn', 'Park Slope', 40.67232052268197, -73.97705030183924]\n",
      "( 72 / 306 ) Indian Restaurants in Cypress Hills, Brooklyn:0\n",
      "['Brooklyn', 'Cypress Hills', 40.68239101144211, -73.87661596457296]\n",
      "( 73 / 306 ) Indian Restaurants in East New York, Brooklyn:0\n",
      "['Brooklyn', 'East New York', 40.669925700847045, -73.88069863917366]\n",
      "( 74 / 306 ) Indian Restaurants in Starrett City, Brooklyn:0\n",
      "['Brooklyn', 'Starrett City', 40.64758905230874, -73.87936970045875]\n",
      "( 75 / 306 ) Indian Restaurants in Canarsie, Brooklyn:0\n",
      "['Brooklyn', 'Canarsie', 40.63556432797428, -73.90209269778966]\n",
      "( 76 / 306 ) Indian Restaurants in Flatlands, Brooklyn:0\n",
      "['Brooklyn', 'Flatlands', 40.630446043757466, -73.92911302644674]\n",
      "( 77 / 306 ) Indian Restaurants in Mill Island, Brooklyn:0\n",
      "['Brooklyn', 'Mill Island', 40.606336421685626, -73.90818571777423]\n",
      "( 78 / 306 ) Indian Restaurants in Manhattan Beach, Brooklyn:0\n",
      "['Brooklyn', 'Manhattan Beach', 40.57791350308657, -73.94353722891886]\n",
      "( 79 / 306 ) Indian Restaurants in Coney Island, Brooklyn:0\n",
      "['Brooklyn', 'Coney Island', 40.57429256471601, -73.98868295821637]\n",
      "( 80 / 306 ) Indian Restaurants in Bath Beach, Brooklyn:0\n",
      "['Brooklyn', 'Bath Beach', 40.59951870282238, -73.99875221443519]\n",
      "( 81 / 306 ) Indian Restaurants in Borough Park, Brooklyn:0\n",
      "['Brooklyn', 'Borough Park', 40.633130512758015, -73.99049823044811]\n",
      "( 82 / 306 ) Indian Restaurants in Dyker Heights, Brooklyn:0\n",
      "['Brooklyn', 'Dyker Heights', 40.619219457722636, -74.01931375636022]\n",
      "( 83 / 306 ) Indian Restaurants in Gerritsen Beach, Brooklyn:0\n",
      "['Brooklyn', 'Gerritsen Beach', 40.590848433902046, -73.93010170691196]\n",
      "( 84 / 306 ) Indian Restaurants in Marine Park, Brooklyn:0\n",
      "['Brooklyn', 'Marine Park', 40.609747779894604, -73.93134404108497]\n",
      "( 85 / 306 ) Indian Restaurants in Clinton Hill, Brooklyn:2\n",
      "['Brooklyn', 'Clinton Hill', 40.693229421881504, -73.96784306216367]\n",
      "( 86 / 306 ) Indian Restaurants in Sea Gate, Brooklyn:0\n",
      "['Brooklyn', 'Sea Gate', 40.57637537890224, -74.0078731120024]\n",
      "( 87 / 306 ) Indian Restaurants in Downtown, Brooklyn:0\n",
      "['Brooklyn', 'Downtown', 40.69084402109802, -73.98346337431099]\n",
      "( 88 / 306 ) Indian Restaurants in Boerum Hill, Brooklyn:1\n",
      "['Brooklyn', 'Boerum Hill', 40.685682912091444, -73.98374824115798]\n",
      "( 89 / 306 ) Indian Restaurants in Prospect Lefferts Gardens, Brooklyn:1\n",
      "['Brooklyn', 'Prospect Lefferts Gardens', 40.658420017469815, -73.95489867077713]\n",
      "( 90 / 306 ) Indian Restaurants in Ocean Hill, Brooklyn:0\n",
      "['Brooklyn', 'Ocean Hill', 40.678402554795355, -73.91306831787395]\n",
      "( 91 / 306 ) Indian Restaurants in City Line, Brooklyn:0\n",
      "['Brooklyn', 'City Line', 40.67856995727479, -73.86797598081334]\n",
      "( 92 / 306 ) Indian Restaurants in Bergen Beach, Brooklyn:0\n",
      "['Brooklyn', 'Bergen Beach', 40.61514955045308, -73.89855633630317]\n",
      "( 93 / 306 ) Indian Restaurants in Midwood, Brooklyn:0\n",
      "['Brooklyn', 'Midwood', 40.62559589869843, -73.95759523489838]\n",
      "( 94 / 306 ) Indian Restaurants in Prospect Park South, Brooklyn:0\n",
      "['Brooklyn', 'Prospect Park South', 40.647008603185185, -73.96261316716048]\n",
      "( 95 / 306 ) Indian Restaurants in Georgetown, Brooklyn:0\n",
      "['Brooklyn', 'Georgetown', 40.62384524478419, -73.91607483951324]\n",
      "( 96 / 306 ) Indian Restaurants in East Williamsburg, Brooklyn:0\n",
      "['Brooklyn', 'East Williamsburg', 40.70849241041548, -73.93885815269195]\n",
      "( 97 / 306 ) Indian Restaurants in North Side, Brooklyn:1\n",
      "['Brooklyn', 'North Side', 40.714822906532014, -73.95880857587582]\n",
      "( 98 / 306 ) Indian Restaurants in South Side, Brooklyn:1\n",
      "['Brooklyn', 'South Side', 40.71086147265064, -73.95800095153331]\n",
      "( 99 / 306 ) Indian Restaurants in Ocean Parkway, Brooklyn:0\n",
      "['Brooklyn', 'Ocean Parkway', 40.61305976667942, -73.96836678035541]\n",
      "( 100 / 306 ) Indian Restaurants in Fort Hamilton, Brooklyn:0\n",
      "['Brooklyn', 'Fort Hamilton', 40.61476812694226, -74.03197914537984]\n",
      "( 101 / 306 ) Indian Restaurants in Chinatown, Manhattan:0\n",
      "['Manhattan', 'Chinatown', 40.71561842231432, -73.99427936255978]\n",
      "( 102 / 306 ) Indian Restaurants in Washington Heights, Manhattan:1\n",
      "['Manhattan', 'Washington Heights', 40.85190252555305, -73.93690027985234]\n",
      "( 103 / 306 ) Indian Restaurants in Inwood, Manhattan:0\n",
      "['Manhattan', 'Inwood', 40.86768396449915, -73.92121042203897]\n",
      "( 104 / 306 ) Indian Restaurants in Hamilton Heights, Manhattan:1\n",
      "['Manhattan', 'Hamilton Heights', 40.823604284811935, -73.94968791883366]\n",
      "( 105 / 306 ) Indian Restaurants in Manhattanville, Manhattan:1\n",
      "['Manhattan', 'Manhattanville', 40.8169344294978, -73.9573853935188]\n",
      "( 106 / 306 ) Indian Restaurants in Central Harlem, Manhattan:0\n",
      "['Manhattan', 'Central Harlem', 40.81597606742414, -73.94321112603905]\n",
      "( 107 / 306 ) Indian Restaurants in East Harlem, Manhattan:0\n",
      "['Manhattan', 'East Harlem', 40.79224946663033, -73.94418223148524]\n",
      "( 108 / 306 ) Indian Restaurants in Upper East Side, Manhattan:0\n",
      "['Manhattan', 'Upper East Side', 40.775638573301805, -73.96050763135]\n",
      "( 109 / 306 ) Indian Restaurants in Yorkville, Manhattan:0\n",
      "['Manhattan', 'Yorkville', 40.775929849884875, -73.94711784471826]\n",
      "( 110 / 306 ) Indian Restaurants in Lenox Hill, Manhattan:0\n",
      "['Manhattan', 'Lenox Hill', 40.76811265828733, -73.9588596881376]\n",
      "( 111 / 306 ) Indian Restaurants in Roosevelt Island, Manhattan:0\n",
      "['Manhattan', 'Roosevelt Island', 40.76215960576283, -73.94916769227953]\n",
      "( 112 / 306 ) Indian Restaurants in Upper West Side, Manhattan:1\n",
      "['Manhattan', 'Upper West Side', 40.787657998534854, -73.97705923630603]\n",
      "( 113 / 306 ) Indian Restaurants in Lincoln Square, Manhattan:0\n",
      "['Manhattan', 'Lincoln Square', 40.77352888942166, -73.98533777001262]\n",
      "( 114 / 306 ) Indian Restaurants in Clinton, Manhattan:0\n",
      "['Manhattan', 'Clinton', 40.75910089146212, -73.99611936309479]\n",
      "( 115 / 306 ) Indian Restaurants in Midtown, Manhattan:0\n",
      "['Manhattan', 'Midtown', 40.75469110270623, -73.98166882730304]\n",
      "( 116 / 306 ) Indian Restaurants in Murray Hill, Manhattan:1\n",
      "['Manhattan', 'Murray Hill', 40.748303077252174, -73.97833207924127]\n",
      "( 117 / 306 ) Indian Restaurants in Chelsea, Manhattan:1\n",
      "['Manhattan', 'Chelsea', 40.744034706747975, -74.00311633472813]\n",
      "( 118 / 306 ) Indian Restaurants in Greenwich Village, Manhattan:1\n",
      "['Manhattan', 'Greenwich Village', 40.72693288536128, -73.99991402945902]\n",
      "( 119 / 306 ) Indian Restaurants in East Village, Manhattan:0\n",
      "['Manhattan', 'East Village', 40.727846777270244, -73.98222616506416]\n",
      "( 120 / 306 ) Indian Restaurants in Lower East Side, Manhattan:0\n",
      "['Manhattan', 'Lower East Side', 40.71780674892765, -73.98089031999291]\n",
      "( 121 / 306 ) Indian Restaurants in Tribeca, Manhattan:1\n",
      "['Manhattan', 'Tribeca', 40.721521967443216, -74.01068328559087]\n",
      "( 122 / 306 ) Indian Restaurants in Little Italy, Manhattan:0\n",
      "['Manhattan', 'Little Italy', 40.71932379395907, -73.99730467208073]\n",
      "( 123 / 306 ) Indian Restaurants in Soho, Manhattan:0\n",
      "['Manhattan', 'Soho', 40.72218384131794, -74.00065666959759]\n",
      "( 124 / 306 ) Indian Restaurants in West Village, Manhattan:0\n",
      "['Manhattan', 'West Village', 40.73443393572434, -74.00617998126812]\n",
      "( 125 / 306 ) Indian Restaurants in Manhattan Valley, Manhattan:1\n",
      "['Manhattan', 'Manhattan Valley', 40.797307041702865, -73.96428617740655]\n",
      "( 126 / 306 ) Indian Restaurants in Morningside Heights, Manhattan:0\n",
      "['Manhattan', 'Morningside Heights', 40.807999738165826, -73.96389627905332]\n",
      "( 127 / 306 ) Indian Restaurants in Gramercy, Manhattan:0\n",
      "['Manhattan', 'Gramercy', 40.737209832715, -73.98137594833541]\n",
      "( 128 / 306 ) Indian Restaurants in Battery Park City, Manhattan:0\n",
      "['Manhattan', 'Battery Park City', 40.71193198394565, -74.01686930508617]\n",
      "( 129 / 306 ) Indian Restaurants in Financial District, Manhattan:1\n",
      "['Manhattan', 'Financial District', 40.70710710727048, -74.0106654452127]\n",
      "( 130 / 306 ) Indian Restaurants in Astoria, Queens:0\n",
      "['Queens', 'Astoria', 40.76850859335492, -73.91565374304234]\n",
      "( 131 / 306 ) Indian Restaurants in Woodside, Queens:0\n",
      "['Queens', 'Woodside', 40.74634908860222, -73.90184166838284]\n"
     ]
    },
    {
     "name": "stdout",
     "output_type": "stream",
     "text": [
      "( 132 / 306 ) Indian Restaurants in Jackson Heights, Queens:0\n",
      "['Queens', 'Jackson Heights', 40.75198138007367, -73.88282109164365]\n",
      "( 133 / 306 ) Indian Restaurants in Elmhurst, Queens:0\n",
      "['Queens', 'Elmhurst', 40.744048505122024, -73.88165622288388]\n",
      "( 134 / 306 ) Indian Restaurants in Howard Beach, Queens:0\n",
      "['Queens', 'Howard Beach', 40.65422527738487, -73.8381376460028]\n",
      "( 135 / 306 ) Indian Restaurants in Corona, Queens:0\n",
      "['Queens', 'Corona', 40.74238175015667, -73.85682497345258]\n",
      "( 136 / 306 ) Indian Restaurants in Forest Hills, Queens:0\n",
      "['Queens', 'Forest Hills', 40.72526378216503, -73.84447500788983]\n",
      "( 137 / 306 ) Indian Restaurants in Kew Gardens, Queens:1\n",
      "['Queens', 'Kew Gardens', 40.7051790354148, -73.82981905825703]\n",
      "( 138 / 306 ) Indian Restaurants in Richmond Hill, Queens:0\n",
      "['Queens', 'Richmond Hill', 40.69794731471763, -73.83183321446887]\n",
      "( 139 / 306 ) Indian Restaurants in Flushing, Queens:0\n",
      "['Queens', 'Flushing', 40.76445419697846, -73.83177300329582]\n",
      "( 140 / 306 ) Indian Restaurants in Long Island City, Queens:1\n",
      "['Queens', 'Long Island City', 40.75021734610528, -73.93920223915505]\n",
      "( 141 / 306 ) Indian Restaurants in Sunnyside, Queens:0\n",
      "['Queens', 'Sunnyside', 40.74017628351924, -73.92691617561577]\n",
      "( 142 / 306 ) Indian Restaurants in East Elmhurst, Queens:0\n",
      "['Queens', 'East Elmhurst', 40.76407323883091, -73.86704147658772]\n",
      "( 143 / 306 ) Indian Restaurants in Maspeth, Queens:0\n",
      "['Queens', 'Maspeth', 40.725427374093606, -73.89621713626859]\n",
      "( 144 / 306 ) Indian Restaurants in Ridgewood, Queens:0\n",
      "['Queens', 'Ridgewood', 40.70832315613858, -73.90143517559589]\n",
      "( 145 / 306 ) Indian Restaurants in Glendale, Queens:0\n",
      "['Queens', 'Glendale', 40.70276242967838, -73.87074167435605]\n",
      "( 146 / 306 ) Indian Restaurants in Rego Park, Queens:1\n",
      "['Queens', 'Rego Park', 40.72897409480735, -73.8578268690537]\n",
      "( 147 / 306 ) Indian Restaurants in Woodhaven, Queens:0\n",
      "['Queens', 'Woodhaven', 40.68988687915789, -73.8581104655432]\n",
      "( 148 / 306 ) Indian Restaurants in Ozone Park, Queens:0\n",
      "['Queens', 'Ozone Park', 40.680708468265415, -73.84320266173447]\n",
      "( 149 / 306 ) Indian Restaurants in South Ozone Park, Queens:0\n",
      "['Queens', 'South Ozone Park', 40.66854957767195, -73.80986478649041]\n",
      "( 150 / 306 ) Indian Restaurants in College Point, Queens:0\n",
      "['Queens', 'College Point', 40.784902749260205, -73.84304528896125]\n",
      "( 151 / 306 ) Indian Restaurants in Whitestone, Queens:0\n",
      "['Queens', 'Whitestone', 40.78129076602694, -73.81420216610863]\n",
      "( 152 / 306 ) Indian Restaurants in Bayside, Queens:1\n",
      "['Queens', 'Bayside', 40.76604063281064, -73.7742736306867]\n",
      "( 153 / 306 ) Indian Restaurants in Auburndale, Queens:0\n",
      "['Queens', 'Auburndale', 40.76172954903262, -73.79176243728061]\n",
      "( 154 / 306 ) Indian Restaurants in Little Neck, Queens:0\n",
      "['Queens', 'Little Neck', 40.7708261928267, -73.7388977558074]\n",
      "( 155 / 306 ) Indian Restaurants in Douglaston, Queens:0\n",
      "['Queens', 'Douglaston', 40.76684609790763, -73.7424982072733]\n",
      "( 156 / 306 ) Indian Restaurants in Glen Oaks, Queens:0\n",
      "['Queens', 'Glen Oaks', 40.74944079974332, -73.71548118999145]\n",
      "( 157 / 306 ) Indian Restaurants in Bellerose, Queens:0\n",
      "['Queens', 'Bellerose', 40.72857318176675, -73.72012814826903]\n",
      "( 158 / 306 ) Indian Restaurants in Kew Gardens Hills, Queens:0\n",
      "['Queens', 'Kew Gardens Hills', 40.722578244228046, -73.82087764933566]\n",
      "( 159 / 306 ) Indian Restaurants in Fresh Meadows, Queens:0\n",
      "['Queens', 'Fresh Meadows', 40.7343944653313, -73.78271337003264]\n",
      "( 160 / 306 ) Indian Restaurants in Briarwood, Queens:0\n",
      "['Queens', 'Briarwood', 40.71093547252271, -73.81174822458634]\n",
      "( 161 / 306 ) Indian Restaurants in Jamaica Center, Queens:0\n",
      "['Queens', 'Jamaica Center', 40.70465736068717, -73.79690165888289]\n",
      "( 162 / 306 ) Indian Restaurants in Oakland Gardens, Queens:0\n",
      "['Queens', 'Oakland Gardens', 40.74561857141855, -73.75494976234332]\n",
      "( 163 / 306 ) Indian Restaurants in Queens Village, Queens:0\n",
      "['Queens', 'Queens Village', 40.718893092167356, -73.73871484578424]\n",
      "( 164 / 306 ) Indian Restaurants in Hollis, Queens:0\n",
      "['Queens', 'Hollis', 40.71124344191904, -73.75925009335594]\n",
      "( 165 / 306 ) Indian Restaurants in South Jamaica, Queens:0\n",
      "['Queens', 'South Jamaica', 40.696911253789885, -73.7904261313554]\n",
      "( 166 / 306 ) Indian Restaurants in St. Albans, Queens:0\n",
      "['Queens', 'St. Albans', 40.69444538522359, -73.75867603727717]\n",
      "( 167 / 306 ) Indian Restaurants in Rochdale, Queens:0\n",
      "['Queens', 'Rochdale', 40.67521139591733, -73.77258787620906]\n",
      "( 168 / 306 ) Indian Restaurants in Springfield Gardens, Queens:0\n",
      "['Queens', 'Springfield Gardens', 40.666230490368584, -73.76042092682287]\n",
      "( 169 / 306 ) Indian Restaurants in Cambria Heights, Queens:0\n",
      "['Queens', 'Cambria Heights', 40.692774639160845, -73.73526873708026]\n",
      "( 170 / 306 ) Indian Restaurants in Rosedale, Queens:0\n",
      "['Queens', 'Rosedale', 40.659816433428084, -73.73526079428278]\n",
      "( 171 / 306 ) Indian Restaurants in Far Rockaway, Queens:0\n",
      "['Queens', 'Far Rockaway', 40.603134432500894, -73.75497968043872]\n",
      "( 172 / 306 ) Indian Restaurants in Broad Channel, Queens:0\n",
      "['Queens', 'Broad Channel', 40.60302658351238, -73.8200548911032]\n",
      "( 173 / 306 ) Indian Restaurants in Breezy Point, Queens:0\n",
      "['Queens', 'Breezy Point', 40.55740128845452, -73.92551196994168]\n",
      "( 174 / 306 ) Indian Restaurants in Steinway, Queens:0\n",
      "['Queens', 'Steinway', 40.775923015642896, -73.90228960391673]\n",
      "( 175 / 306 ) Indian Restaurants in Beechhurst, Queens:0\n",
      "['Queens', 'Beechhurst', 40.79278140360048, -73.80436451720988]\n",
      "( 176 / 306 ) Indian Restaurants in Bay Terrace, Queens:0\n",
      "['Queens', 'Bay Terrace', 40.782842806245554, -73.7768022262158]\n",
      "( 177 / 306 ) Indian Restaurants in Edgemere, Queens:0\n",
      "['Queens', 'Edgemere', 40.595641807368494, -73.77613282391705]\n",
      "( 178 / 306 ) Indian Restaurants in Arverne, Queens:0\n",
      "['Queens', 'Arverne', 40.58914394372971, -73.79199233136943]\n",
      "( 179 / 306 ) Indian Restaurants in Rockaway Beach, Queens:0\n",
      "['Queens', 'Rockaway Beach', 40.582801696845586, -73.82236121088751]\n",
      "( 180 / 306 ) Indian Restaurants in Neponsit, Queens:0\n",
      "['Queens', 'Neponsit', 40.572036730217015, -73.85754672410827]\n",
      "( 181 / 306 ) Indian Restaurants in Murray Hill, Queens:0\n",
      "['Queens', 'Murray Hill', 40.764126122614066, -73.81276269135866]\n",
      "( 182 / 306 ) Indian Restaurants in Floral Park, Queens:0\n",
      "['Queens', 'Floral Park', 40.741378421945434, -73.70884705889246]\n",
      "( 183 / 306 ) Indian Restaurants in Holliswood, Queens:0\n",
      "['Queens', 'Holliswood', 40.7209572076444, -73.76714166714729]\n",
      "( 184 / 306 ) Indian Restaurants in Jamaica Estates, Queens:0\n",
      "['Queens', 'Jamaica Estates', 40.71680483014613, -73.7872269693666]\n",
      "( 185 / 306 ) Indian Restaurants in Queensboro Hill, Queens:0\n",
      "['Queens', 'Queensboro Hill', 40.7445723092867, -73.82580915110559]\n",
      "( 186 / 306 ) Indian Restaurants in Hillcrest, Queens:0\n",
      "['Queens', 'Hillcrest', 40.723824901829204, -73.79760300912672]\n",
      "( 187 / 306 ) Indian Restaurants in Ravenswood, Queens:0\n",
      "['Queens', 'Ravenswood', 40.761704526054146, -73.93157506072878]\n",
      "( 188 / 306 ) Indian Restaurants in Lindenwood, Queens:0\n",
      "['Queens', 'Lindenwood', 40.66391841925139, -73.84963782402441]\n",
      "( 189 / 306 ) Indian Restaurants in Laurelton, Queens:0\n",
      "['Queens', 'Laurelton', 40.66788389660247, -73.74025607989822]\n",
      "( 190 / 306 ) Indian Restaurants in Lefrak City, Queens:0\n",
      "['Queens', 'Lefrak City', 40.736074570830795, -73.8625247141374]\n",
      "( 191 / 306 ) Indian Restaurants in Belle Harbor, Queens:0\n",
      "['Queens', 'Belle Harbor', 40.57615556543109, -73.8540175039252]\n",
      "( 192 / 306 ) Indian Restaurants in Rockaway Park, Queens:0\n",
      "['Queens', 'Rockaway Park', 40.58034295646131, -73.84153370226186]\n",
      "( 193 / 306 ) Indian Restaurants in Somerville, Queens:0\n",
      "['Queens', 'Somerville', 40.59771061565768, -73.79664750844047]\n",
      "( 194 / 306 ) Indian Restaurants in Brookville, Queens:0\n",
      "['Queens', 'Brookville', 40.66000322733613, -73.75175310731153]\n",
      "( 195 / 306 ) Indian Restaurants in Bellaire, Queens:0\n",
      "['Queens', 'Bellaire', 40.73301404027834, -73.73889198912481]\n",
      "( 196 / 306 ) Indian Restaurants in North Corona, Queens:0\n",
      "['Queens', 'North Corona', 40.7540709990489, -73.85751790676447]\n",
      "( 197 / 306 ) Indian Restaurants in Forest Hills Gardens, Queens:0\n",
      "['Queens', 'Forest Hills Gardens', 40.7146110815117, -73.8410221123401]\n",
      "( 198 / 306 ) Indian Restaurants in St. George, Staten Island:0\n",
      "['Staten Island', 'St. George', 40.6449815710044, -74.07935312512797]\n"
     ]
    },
    {
     "name": "stdout",
     "output_type": "stream",
     "text": [
      "( 199 / 306 ) Indian Restaurants in New Brighton, Staten Island:0\n",
      "['Staten Island', 'New Brighton', 40.64061455913511, -74.08701650516625]\n",
      "( 200 / 306 ) Indian Restaurants in Stapleton, Staten Island:0\n",
      "['Staten Island', 'Stapleton', 40.62692762538176, -74.07790192660066]\n",
      "( 201 / 306 ) Indian Restaurants in Rosebank, Staten Island:0\n",
      "['Staten Island', 'Rosebank', 40.61530494652761, -74.06980526716141]\n",
      "( 202 / 306 ) Indian Restaurants in West Brighton, Staten Island:0\n",
      "['Staten Island', 'West Brighton', 40.63187892654607, -74.1071817826561]\n",
      "( 203 / 306 ) Indian Restaurants in Grymes Hill, Staten Island:0\n",
      "['Staten Island', 'Grymes Hill', 40.624184791313006, -74.08724819983729]\n",
      "( 204 / 306 ) Indian Restaurants in Todt Hill, Staten Island:0\n",
      "['Staten Island', 'Todt Hill', 40.59706851814673, -74.1113288180088]\n",
      "( 205 / 306 ) Indian Restaurants in South Beach, Staten Island:0\n",
      "['Staten Island', 'South Beach', 40.58024741350956, -74.0795529253982]\n",
      "( 206 / 306 ) Indian Restaurants in Port Richmond, Staten Island:0\n",
      "['Staten Island', 'Port Richmond', 40.63366930554365, -74.12943426797008]\n",
      "( 207 / 306 ) Indian Restaurants in Mariner's Harbor, Staten Island:0\n",
      "['Staten Island', \"Mariner's Harbor\", 40.632546390481124, -74.15008537046981]\n",
      "( 208 / 306 ) Indian Restaurants in Port Ivory, Staten Island:0\n",
      "['Staten Island', 'Port Ivory', 40.63968297845542, -74.17464532993542]\n",
      "( 209 / 306 ) Indian Restaurants in Castleton Corners, Staten Island:1\n",
      "['Staten Island', 'Castleton Corners', 40.61333593766742, -74.11918058534842]\n",
      "( 210 / 306 ) Indian Restaurants in New Springville, Staten Island:0\n",
      "['Staten Island', 'New Springville', 40.594252379161695, -74.16496031329827]\n",
      "( 211 / 306 ) Indian Restaurants in Travis, Staten Island:0\n",
      "['Staten Island', 'Travis', 40.58631375103281, -74.19073717538116]\n",
      "( 212 / 306 ) Indian Restaurants in New Dorp, Staten Island:1\n",
      "['Staten Island', 'New Dorp', 40.57257231820632, -74.1164794360638]\n",
      "( 213 / 306 ) Indian Restaurants in Oakwood, Staten Island:0\n",
      "['Staten Island', 'Oakwood', 40.5584622432888, -74.12156593771896]\n",
      "( 214 / 306 ) Indian Restaurants in Great Kills, Staten Island:0\n",
      "['Staten Island', 'Great Kills', 40.549480228713605, -74.14932381490992]\n",
      "( 215 / 306 ) Indian Restaurants in Eltingville, Staten Island:0\n",
      "['Staten Island', 'Eltingville', 40.542230747450745, -74.1643308041936]\n",
      "( 216 / 306 ) Indian Restaurants in Annadale, Staten Island:0\n",
      "['Staten Island', 'Annadale', 40.53811417474507, -74.17854866165878]\n",
      "( 217 / 306 ) Indian Restaurants in Woodrow, Staten Island:0\n",
      "['Staten Island', 'Woodrow', 40.541967622888755, -74.20524582480326]\n",
      "( 218 / 306 ) Indian Restaurants in Tottenville, Staten Island:0\n",
      "['Staten Island', 'Tottenville', 40.50533376115642, -74.24656934235283]\n",
      "( 219 / 306 ) Indian Restaurants in Tompkinsville, Staten Island:0\n",
      "['Staten Island', 'Tompkinsville', 40.637316067110326, -74.08055351790115]\n",
      "( 220 / 306 ) Indian Restaurants in Silver Lake, Staten Island:0\n",
      "['Staten Island', 'Silver Lake', 40.61919310792676, -74.09629029235458]\n",
      "( 221 / 306 ) Indian Restaurants in Sunnyside, Staten Island:0\n",
      "['Staten Island', 'Sunnyside', 40.61276015756489, -74.0971255217853]\n",
      "( 222 / 306 ) Indian Restaurants in Ditmas Park, Brooklyn:0\n",
      "['Brooklyn', 'Ditmas Park', 40.643675183340974, -73.96101312466779]\n",
      "( 223 / 306 ) Indian Restaurants in Wingate, Brooklyn:0\n",
      "['Brooklyn', 'Wingate', 40.66094656188111, -73.93718680559314]\n",
      "( 224 / 306 ) Indian Restaurants in Rugby, Brooklyn:0\n",
      "['Brooklyn', 'Rugby', 40.655572313280764, -73.92688212616955]\n",
      "( 225 / 306 ) Indian Restaurants in Park Hill, Staten Island:0\n",
      "['Staten Island', 'Park Hill', 40.60919044434558, -74.08015734936296]\n",
      "( 226 / 306 ) Indian Restaurants in Westerleigh, Staten Island:0\n",
      "['Staten Island', 'Westerleigh', 40.62109047275409, -74.13304143951704]\n",
      "( 227 / 306 ) Indian Restaurants in Graniteville, Staten Island:0\n",
      "['Staten Island', 'Graniteville', 40.620171512231884, -74.15315246387762]\n",
      "( 228 / 306 ) Indian Restaurants in Arlington, Staten Island:0\n",
      "['Staten Island', 'Arlington', 40.63532509911492, -74.16510420241124]\n",
      "( 229 / 306 ) Indian Restaurants in Arrochar, Staten Island:0\n",
      "['Staten Island', 'Arrochar', 40.596312571276734, -74.06712363225574]\n",
      "( 230 / 306 ) Indian Restaurants in Grasmere, Staten Island:0\n",
      "['Staten Island', 'Grasmere', 40.59826835959991, -74.0766743627905]\n",
      "( 231 / 306 ) Indian Restaurants in Old Town, Staten Island:0\n",
      "['Staten Island', 'Old Town', 40.59632891379513, -74.08751118005578]\n",
      "( 232 / 306 ) Indian Restaurants in Dongan Hills, Staten Island:0\n",
      "['Staten Island', 'Dongan Hills', 40.588672948199275, -74.09639905312521]\n",
      "( 233 / 306 ) Indian Restaurants in Midland Beach, Staten Island:0\n",
      "['Staten Island', 'Midland Beach', 40.57352690574283, -74.09348266303591]\n",
      "( 234 / 306 ) Indian Restaurants in Grant City, Staten Island:0\n",
      "['Staten Island', 'Grant City', 40.57621558711788, -74.10585598545434]\n",
      "( 235 / 306 ) Indian Restaurants in New Dorp Beach, Staten Island:0\n",
      "['Staten Island', 'New Dorp Beach', 40.56425549307335, -74.10432707469124]\n",
      "( 236 / 306 ) Indian Restaurants in Bay Terrace, Staten Island:0\n",
      "['Staten Island', 'Bay Terrace', 40.55398800858462, -74.13916622175768]\n",
      "( 237 / 306 ) Indian Restaurants in Huguenot, Staten Island:0\n",
      "['Staten Island', 'Huguenot', 40.531911920489605, -74.19174105747814]\n",
      "( 238 / 306 ) Indian Restaurants in Pleasant Plains, Staten Island:0\n",
      "['Staten Island', 'Pleasant Plains', 40.524699376118136, -74.21983106616777]\n",
      "( 239 / 306 ) Indian Restaurants in Butler Manor, Staten Island:0\n",
      "['Staten Island', 'Butler Manor', 40.50608165346305, -74.22950350260027]\n",
      "( 240 / 306 ) Indian Restaurants in Charleston, Staten Island:0\n",
      "['Staten Island', 'Charleston', 40.53053148283314, -74.23215775896526]\n",
      "( 241 / 306 ) Indian Restaurants in Rossville, Staten Island:0\n",
      "['Staten Island', 'Rossville', 40.54940400650072, -74.21572851113952]\n",
      "( 242 / 306 ) Indian Restaurants in Arden Heights, Staten Island:0\n",
      "['Staten Island', 'Arden Heights', 40.54928582278321, -74.18588674583893]\n",
      "( 243 / 306 ) Indian Restaurants in Greenridge, Staten Island:0\n",
      "['Staten Island', 'Greenridge', 40.555295236173194, -74.17079414786092]\n",
      "( 244 / 306 ) Indian Restaurants in Heartland Village, Staten Island:0\n",
      "['Staten Island', 'Heartland Village', 40.58913894875281, -74.15902208156601]\n",
      "( 245 / 306 ) Indian Restaurants in Chelsea, Staten Island:0\n",
      "['Staten Island', 'Chelsea', 40.59472602746295, -74.1895604551969]\n",
      "( 246 / 306 ) Indian Restaurants in Bloomfield, Staten Island:0\n",
      "['Staten Island', 'Bloomfield', 40.60577868452358, -74.18725638381567]\n",
      "( 247 / 306 ) Indian Restaurants in Bulls Head, Staten Island:0\n",
      "['Staten Island', 'Bulls Head', 40.6095918004203, -74.15940948657122]\n",
      "( 248 / 306 ) Indian Restaurants in Carnegie Hill, Manhattan:1\n",
      "['Manhattan', 'Carnegie Hill', 40.7826825671257, -73.95325646837112]\n",
      "( 249 / 306 ) Indian Restaurants in Noho, Manhattan:1\n",
      "['Manhattan', 'Noho', 40.72325901885768, -73.98843368023597]\n",
      "( 250 / 306 ) Indian Restaurants in Civic Center, Manhattan:1\n",
      "['Manhattan', 'Civic Center', 40.71522892046282, -74.00541529873355]\n",
      "( 251 / 306 ) Indian Restaurants in Midtown South, Manhattan:0\n",
      "['Manhattan', 'Midtown South', 40.7485096643122, -73.98871313285247]\n",
      "( 252 / 306 ) Indian Restaurants in Richmond Town, Staten Island:0\n",
      "['Staten Island', 'Richmond Town', 40.56960594275505, -74.1340572986257]\n",
      "( 253 / 306 ) Indian Restaurants in Shore Acres, Staten Island:0\n",
      "['Staten Island', 'Shore Acres', 40.60971934079284, -74.06667766061771]\n",
      "( 254 / 306 ) Indian Restaurants in Clifton, Staten Island:0\n",
      "['Staten Island', 'Clifton', 40.61917845202843, -74.072642445484]\n",
      "( 255 / 306 ) Indian Restaurants in Concord, Staten Island:0\n",
      "['Staten Island', 'Concord', 40.6044731896879, -74.08402364740358]\n",
      "( 256 / 306 ) Indian Restaurants in Emerson Hill, Staten Island:0\n",
      "['Staten Island', 'Emerson Hill', 40.606794394801, -74.09776206972522]\n",
      "( 257 / 306 ) Indian Restaurants in Randall Manor, Staten Island:0\n",
      "['Staten Island', 'Randall Manor', 40.63563000681151, -74.09805062373887]\n",
      "( 258 / 306 ) Indian Restaurants in Howland Hook, Staten Island:0\n",
      "['Staten Island', 'Howland Hook', 40.63843283794795, -74.18622331749823]\n",
      "( 259 / 306 ) Indian Restaurants in Elm Park, Staten Island:0\n",
      "['Staten Island', 'Elm Park', 40.630146741193826, -74.1418167896889]\n"
     ]
    },
    {
     "name": "stdout",
     "output_type": "stream",
     "text": [
      "( 260 / 306 ) Indian Restaurants in Remsen Village, Brooklyn:0\n",
      "['Brooklyn', 'Remsen Village', 40.652117451793494, -73.91665331978048]\n",
      "( 261 / 306 ) Indian Restaurants in New Lots, Brooklyn:0\n",
      "['Brooklyn', 'New Lots', 40.6627442796966, -73.88511776379292]\n",
      "( 262 / 306 ) Indian Restaurants in Paerdegat Basin, Brooklyn:0\n",
      "['Brooklyn', 'Paerdegat Basin', 40.63131755039667, -73.90233474295836]\n",
      "( 263 / 306 ) Indian Restaurants in Mill Basin, Brooklyn:0\n",
      "['Brooklyn', 'Mill Basin', 40.61597423962336, -73.91515391550404]\n",
      "( 264 / 306 ) Indian Restaurants in Jamaica Hills, Queens:2\n",
      "['Queens', 'Jamaica Hills', 40.71145964370482, -73.79646462081593]\n",
      "( 265 / 306 ) Indian Restaurants in Utopia, Queens:0\n",
      "['Queens', 'Utopia', 40.73350025429757, -73.79671678028349]\n",
      "( 266 / 306 ) Indian Restaurants in Pomonok, Queens:0\n",
      "['Queens', 'Pomonok', 40.73493618075478, -73.80486120040537]\n",
      "( 267 / 306 ) Indian Restaurants in Astoria Heights, Queens:0\n",
      "['Queens', 'Astoria Heights', 40.7703173929982, -73.89467996270574]\n",
      "( 268 / 306 ) Indian Restaurants in Claremont Village, Bronx:0\n",
      "['Bronx', 'Claremont Village', 40.83142834161548, -73.90119903387667]\n",
      "( 269 / 306 ) Indian Restaurants in Concourse Village, Bronx:0\n",
      "['Bronx', 'Concourse Village', 40.824780490842905, -73.91584652759009]\n",
      "( 270 / 306 ) Indian Restaurants in Mount Eden, Bronx:0\n",
      "['Bronx', 'Mount Eden', 40.84382617671654, -73.91655551964419]\n",
      "( 271 / 306 ) Indian Restaurants in Mount Hope, Bronx:0\n",
      "['Bronx', 'Mount Hope', 40.84884160724665, -73.90829930881988]\n",
      "( 272 / 306 ) Indian Restaurants in Sutton Place, Manhattan:3\n",
      "['Manhattan', 'Sutton Place', 40.76028033131374, -73.96355614094303]\n",
      "( 273 / 306 ) Indian Restaurants in Hunters Point, Queens:0\n",
      "['Queens', 'Hunters Point', 40.743414090073536, -73.95386782130745]\n",
      "( 274 / 306 ) Indian Restaurants in Turtle Bay, Manhattan:0\n",
      "['Manhattan', 'Turtle Bay', 40.75204236950722, -73.96770824581834]\n",
      "( 275 / 306 ) Indian Restaurants in Tudor City, Manhattan:0\n",
      "['Manhattan', 'Tudor City', 40.746917410740195, -73.97121928722265]\n",
      "( 276 / 306 ) Indian Restaurants in Stuyvesant Town, Manhattan:0\n",
      "['Manhattan', 'Stuyvesant Town', 40.73099955477061, -73.97405170469203]\n",
      "( 277 / 306 ) Indian Restaurants in Flatiron, Manhattan:0\n",
      "['Manhattan', 'Flatiron', 40.739673047638426, -73.9909471052826]\n",
      "( 278 / 306 ) Indian Restaurants in Sunnyside Gardens, Queens:1\n",
      "['Queens', 'Sunnyside Gardens', 40.74565180608076, -73.91819286431682]\n",
      "( 279 / 306 ) Indian Restaurants in Blissville, Queens:0\n",
      "['Queens', 'Blissville', 40.73725071694497, -73.93244235260178]\n",
      "( 280 / 306 ) Indian Restaurants in Fulton Ferry, Brooklyn:0\n",
      "['Brooklyn', 'Fulton Ferry', 40.70328109093014, -73.99550751888415]\n",
      "( 281 / 306 ) Indian Restaurants in Vinegar Hill, Brooklyn:0\n",
      "['Brooklyn', 'Vinegar Hill', 40.70332149882874, -73.98111603592393]\n",
      "( 282 / 306 ) Indian Restaurants in Weeksville, Brooklyn:0\n",
      "['Brooklyn', 'Weeksville', 40.67503986503237, -73.93053108817338]\n",
      "( 283 / 306 ) Indian Restaurants in Broadway Junction, Brooklyn:0\n",
      "['Brooklyn', 'Broadway Junction', 40.67786104769531, -73.90331684852599]\n",
      "( 284 / 306 ) Indian Restaurants in Dumbo, Brooklyn:0\n",
      "['Brooklyn', 'Dumbo', 40.70317632822692, -73.9887528074504]\n",
      "( 285 / 306 ) Indian Restaurants in Manor Heights, Staten Island:0\n",
      "['Staten Island', 'Manor Heights', 40.60180957631444, -74.12059399718001]\n",
      "( 286 / 306 ) Indian Restaurants in Willowbrook, Staten Island:0\n",
      "['Staten Island', 'Willowbrook', 40.60370692627371, -74.13208447484298]\n",
      "( 287 / 306 ) Indian Restaurants in Sandy Ground, Staten Island:0\n",
      "['Staten Island', 'Sandy Ground', 40.541139922091766, -74.21776636068567]\n",
      "( 288 / 306 ) Indian Restaurants in Egbertville, Staten Island:0\n",
      "['Staten Island', 'Egbertville', 40.579118742961214, -74.12727240604946]\n",
      "( 289 / 306 ) Indian Restaurants in Roxbury, Queens:0\n",
      "['Queens', 'Roxbury', 40.56737588957032, -73.89213760232822]\n",
      "( 290 / 306 ) Indian Restaurants in Homecrest, Brooklyn:0\n",
      "['Brooklyn', 'Homecrest', 40.598525095137255, -73.95918459428702]\n",
      "( 291 / 306 ) Indian Restaurants in Middle Village, Queens:0\n",
      "['Queens', 'Middle Village', 40.716414511158185, -73.88114319200604]\n",
      "( 292 / 306 ) Indian Restaurants in Prince's Bay, Staten Island:0\n",
      "['Staten Island', \"Prince's Bay\", 40.52626406734812, -74.20152556457658]\n",
      "( 293 / 306 ) Indian Restaurants in Lighthouse Hill, Staten Island:0\n",
      "['Staten Island', 'Lighthouse Hill', 40.57650629379489, -74.13792663771568]\n",
      "( 294 / 306 ) Indian Restaurants in Richmond Valley, Staten Island:0\n",
      "['Staten Island', 'Richmond Valley', 40.51954145748909, -74.22957080626941]\n",
      "( 295 / 306 ) Indian Restaurants in Malba, Queens:0\n",
      "['Queens', 'Malba', 40.79060155670148, -73.82667757138641]\n",
      "( 296 / 306 ) Indian Restaurants in Highland Park, Brooklyn:0\n",
      "['Brooklyn', 'Highland Park', 40.6819989345173, -73.890345709872]\n",
      "( 297 / 306 ) Indian Restaurants in Madison, Brooklyn:0\n",
      "['Brooklyn', 'Madison', 40.60937770113766, -73.94841515328893]\n",
      "( 298 / 306 ) Indian Restaurants in Bronxdale, Bronx:0\n",
      "['Bronx', 'Bronxdale', 40.85272297633017, -73.86172577555115]\n",
      "( 299 / 306 ) Indian Restaurants in Allerton, Bronx:0\n",
      "['Bronx', 'Allerton', 40.86578787802982, -73.85931863221647]\n",
      "( 300 / 306 ) Indian Restaurants in Kingsbridge Heights, Bronx:0\n",
      "['Bronx', 'Kingsbridge Heights', 40.8703923914147, -73.90152264513144]\n",
      "( 301 / 306 ) Indian Restaurants in Erasmus, Brooklyn:0\n",
      "['Brooklyn', 'Erasmus', 40.64692606658579, -73.94817709920184]\n",
      "( 302 / 306 ) Indian Restaurants in Hudson Yards, Manhattan:0\n",
      "['Manhattan', 'Hudson Yards', 40.75665808227519, -74.00011136202637]\n",
      "( 303 / 306 ) Indian Restaurants in Hammels, Queens:0\n",
      "['Queens', 'Hammels', 40.58733774018741, -73.80553002968718]\n",
      "( 304 / 306 ) Indian Restaurants in Bayswater, Queens:0\n",
      "['Queens', 'Bayswater', 40.611321691283834, -73.76596781445627]\n",
      "( 305 / 306 ) Indian Restaurants in Queensbridge, Queens:0\n",
      "['Queens', 'Queensbridge', 40.756091297094706, -73.94563070334091]\n",
      "( 306 / 306 ) Indian Restaurants in Fox Hills, Staten Island:0\n",
      "['Staten Island', 'Fox Hills', 40.61731079252983, -74.08173992211962]\n"
     ]
    }
   ],
   "source": [
    "# prepare neighborhood list that contains indian restaurants\n",
    "column_names=['Borough', 'Neighborhood', 'ID','Name']\n",
    "indian_rest_ny=pd.DataFrame(columns=column_names)\n",
    "count=1\n",
    "for row in ny_data.values.tolist():\n",
    "    Borough, Neighborhood, Latitude, Longitude=row\n",
    "    venues = get_venues(Latitude,Longitude)\n",
    "    indian_restaurants=venues[venues['Category']=='Indian Restaurant']   \n",
    "    print('(',count,'/',len(ny_data),')','Indian Restaurants in '+Neighborhood+', '+Borough+':'+str(len(indian_restaurants)))\n",
    "    print(row)\n",
    "    for resturant_detail in indian_restaurants.values.tolist():\n",
    "        id, name , category=resturant_detail\n",
    "        indian_rest_ny = indian_rest_ny.append({'Borough': Borough,\n",
    "                                                'Neighborhood': Neighborhood, \n",
    "                                                'ID': id,\n",
    "                                                'Name' : name\n",
    "                                               }, ignore_index=True)\n",
    "    count+=1"
   ]
  },
  {
   "cell_type": "code",
   "execution_count": 18,
   "metadata": {
    "ExecuteTime": {
     "end_time": "2020-01-13T16:46:12.425505Z",
     "start_time": "2020-01-13T16:46:12.388527Z"
    }
   },
   "outputs": [],
   "source": [
    "#indian_rest_ny.to_csv('indian_rest_ny_tocsv1.csv') # Save the information so far to a .csv file due to limited calls on FourSquare\n",
    "indian_rest_ny.to_csv('indian_rest_ny_tocsv1.csv') "
   ]
  },
  {
   "cell_type": "code",
   "execution_count": 19,
   "metadata": {
    "ExecuteTime": {
     "end_time": "2020-01-13T16:46:14.718776Z",
     "start_time": "2020-01-13T16:46:14.706783Z"
    }
   },
   "outputs": [
    {
     "data": {
      "text/html": [
       "<div>\n",
       "<style scoped>\n",
       "    .dataframe tbody tr th:only-of-type {\n",
       "        vertical-align: middle;\n",
       "    }\n",
       "\n",
       "    .dataframe tbody tr th {\n",
       "        vertical-align: top;\n",
       "    }\n",
       "\n",
       "    .dataframe thead th {\n",
       "        text-align: right;\n",
       "    }\n",
       "</style>\n",
       "<table border=\"1\" class=\"dataframe\">\n",
       "  <thead>\n",
       "    <tr style=\"text-align: right;\">\n",
       "      <th></th>\n",
       "      <th>Borough</th>\n",
       "      <th>Neighborhood</th>\n",
       "      <th>ID</th>\n",
       "      <th>Name</th>\n",
       "    </tr>\n",
       "  </thead>\n",
       "  <tbody>\n",
       "    <tr>\n",
       "      <td>34</td>\n",
       "      <td>Queens</td>\n",
       "      <td>Jamaica Hills</td>\n",
       "      <td>4c69c4b58e7c0f47d48de00f</td>\n",
       "      <td>Ghoroa Sweets &amp; Restaurant</td>\n",
       "    </tr>\n",
       "    <tr>\n",
       "      <td>35</td>\n",
       "      <td>Manhattan</td>\n",
       "      <td>Sutton Place</td>\n",
       "      <td>4a63bfb4f964a520b3c51fe3</td>\n",
       "      <td>Chola Eclectic Indian Cuisine</td>\n",
       "    </tr>\n",
       "    <tr>\n",
       "      <td>36</td>\n",
       "      <td>Manhattan</td>\n",
       "      <td>Sutton Place</td>\n",
       "      <td>4fe4fb50c2eee335e4fea69d</td>\n",
       "      <td>Moti Mahal Delux</td>\n",
       "    </tr>\n",
       "    <tr>\n",
       "      <td>37</td>\n",
       "      <td>Manhattan</td>\n",
       "      <td>Sutton Place</td>\n",
       "      <td>3fd66200f964a52099e91ee3</td>\n",
       "      <td>Dawat</td>\n",
       "    </tr>\n",
       "    <tr>\n",
       "      <td>38</td>\n",
       "      <td>Queens</td>\n",
       "      <td>Sunnyside Gardens</td>\n",
       "      <td>4c48da9f3013a59356c5f0e1</td>\n",
       "      <td>Saffron Garden</td>\n",
       "    </tr>\n",
       "  </tbody>\n",
       "</table>\n",
       "</div>"
      ],
      "text/plain": [
       "      Borough       Neighborhood                        ID  \\\n",
       "34     Queens      Jamaica Hills  4c69c4b58e7c0f47d48de00f   \n",
       "35  Manhattan       Sutton Place  4a63bfb4f964a520b3c51fe3   \n",
       "36  Manhattan       Sutton Place  4fe4fb50c2eee335e4fea69d   \n",
       "37  Manhattan       Sutton Place  3fd66200f964a52099e91ee3   \n",
       "38     Queens  Sunnyside Gardens  4c48da9f3013a59356c5f0e1   \n",
       "\n",
       "                             Name  \n",
       "34     Ghoroa Sweets & Restaurant  \n",
       "35  Chola Eclectic Indian Cuisine  \n",
       "36               Moti Mahal Delux  \n",
       "37                          Dawat  \n",
       "38                 Saffron Garden  "
      ]
     },
     "execution_count": 19,
     "metadata": {},
     "output_type": "execute_result"
    }
   ],
   "source": [
    "indian_ny = pd.read_csv('indian_rest_ny_tocsv1.csv')\n",
    "indian_rest_ny.tail()"
   ]
  },
  {
   "cell_type": "code",
   "execution_count": 20,
   "metadata": {
    "ExecuteTime": {
     "end_time": "2020-01-13T16:46:18.051557Z",
     "start_time": "2020-01-13T16:46:18.046569Z"
    }
   },
   "outputs": [
    {
     "data": {
      "text/plain": [
       "(39, 4)"
      ]
     },
     "execution_count": 20,
     "metadata": {},
     "output_type": "execute_result"
    }
   ],
   "source": [
    "indian_rest_ny.shape"
   ]
  },
  {
   "cell_type": "markdown",
   "metadata": {},
   "source": [
    "In Foursquare database, we got 39 Indian Restaurants across the New York City. "
   ]
  },
  {
   "cell_type": "code",
   "execution_count": 22,
   "metadata": {
    "ExecuteTime": {
     "end_time": "2020-01-13T16:51:43.579331Z",
     "start_time": "2020-01-13T16:51:43.431426Z"
    }
   },
   "outputs": [
    {
     "data": {
      "image/png": "[encoded data removed]",
      "text/plain": [
       "<Figure size 1008x288 with 1 Axes>"
      ]
     },
     "metadata": {
      "needs_background": "light"
     },
     "output_type": "display_data"
    }
   ],
   "source": [
    "clr = \"blue\"\n",
    "indian_rest_ny.groupby('Borough')['ID'].count().plot.bar(figsize=(14,4), color=clr)\n",
    "plt.title('Indian Restaurants per NYC Borough', fontsize = 12)\n",
    "plt.xlabel('Borough', fontsize = 12)\n",
    "plt.ylabel('No. of Indian Restaurants', fontsize=12)\n",
    "plt.xticks(rotation = 'horizontal')\n",
    "plt.legend()\n",
    "plt.show()"
   ]
  },
  {
   "cell_type": "markdown",
   "metadata": {},
   "source": [
    "We see that although Manhattan had the least number of neighborhoods, it does have the highest number of Indian restaurants."
   ]
  },
  {
   "cell_type": "code",
   "execution_count": 23,
   "metadata": {
    "ExecuteTime": {
     "end_time": "2020-01-13T16:53:54.586196Z",
     "start_time": "2020-01-13T16:53:54.397290Z"
    }
   },
   "outputs": [
    {
     "data": {
      "image/png": "[encoded data removed]",
      "text/plain": [
       "<Figure size 1008x288 with 1 Axes>"
      ]
     },
     "metadata": {
      "needs_background": "light"
     },
     "output_type": "display_data"
    }
   ],
   "source": [
    "NOofNeigh = 6 # top number for graphing all the same past 6\n",
    "clr = \"red\"\n",
    "indian_rest_ny.groupby('Neighborhood')['ID'].count().nlargest(NOofNeigh).plot.bar(figsize=(14,4), color=clr)\n",
    "plt.title('Indian Restaurants per NYC Neighborhood', fontsize = 12)\n",
    "plt.xlabel('Neighborhood', fontsize = 12)\n",
    "plt.ylabel('No. of Indian Restaurants', fontsize=12)\n",
    "plt.xticks(rotation = 'horizontal')\n",
    "plt.legend()\n",
    "plt.show()"
   ]
  },
  {
   "cell_type": "markdown",
   "metadata": {},
   "source": [
    "Additionally, we see how many restaurants the top 6 neighborhoods have. The neighborhood of Sutton Place has the highest number of Indian restaurants and is actually located in the boroughs of Manhattan."
   ]
  },
  {
   "cell_type": "code",
   "execution_count": 25,
   "metadata": {
    "ExecuteTime": {
     "end_time": "2020-01-13T16:58:09.818591Z",
     "start_time": "2020-01-13T16:58:09.808597Z"
    }
   },
   "outputs": [
    {
     "data": {
      "text/html": [
       "<div>\n",
       "<style scoped>\n",
       "    .dataframe tbody tr th:only-of-type {\n",
       "        vertical-align: middle;\n",
       "    }\n",
       "\n",
       "    .dataframe tbody tr th {\n",
       "        vertical-align: top;\n",
       "    }\n",
       "\n",
       "    .dataframe thead th {\n",
       "        text-align: right;\n",
       "    }\n",
       "</style>\n",
       "<table border=\"1\" class=\"dataframe\">\n",
       "  <thead>\n",
       "    <tr style=\"text-align: right;\">\n",
       "      <th></th>\n",
       "      <th>Borough</th>\n",
       "      <th>Neighborhood</th>\n",
       "      <th>ID</th>\n",
       "      <th>Name</th>\n",
       "    </tr>\n",
       "  </thead>\n",
       "  <tbody>\n",
       "    <tr>\n",
       "      <td>35</td>\n",
       "      <td>Manhattan</td>\n",
       "      <td>Sutton Place</td>\n",
       "      <td>4a63bfb4f964a520b3c51fe3</td>\n",
       "      <td>Chola Eclectic Indian Cuisine</td>\n",
       "    </tr>\n",
       "    <tr>\n",
       "      <td>36</td>\n",
       "      <td>Manhattan</td>\n",
       "      <td>Sutton Place</td>\n",
       "      <td>4fe4fb50c2eee335e4fea69d</td>\n",
       "      <td>Moti Mahal Delux</td>\n",
       "    </tr>\n",
       "    <tr>\n",
       "      <td>37</td>\n",
       "      <td>Manhattan</td>\n",
       "      <td>Sutton Place</td>\n",
       "      <td>3fd66200f964a52099e91ee3</td>\n",
       "      <td>Dawat</td>\n",
       "    </tr>\n",
       "  </tbody>\n",
       "</table>\n",
       "</div>"
      ],
      "text/plain": [
       "      Borough  Neighborhood                        ID  \\\n",
       "35  Manhattan  Sutton Place  4a63bfb4f964a520b3c51fe3   \n",
       "36  Manhattan  Sutton Place  4fe4fb50c2eee335e4fea69d   \n",
       "37  Manhattan  Sutton Place  3fd66200f964a52099e91ee3   \n",
       "\n",
       "                             Name  \n",
       "35  Chola Eclectic Indian Cuisine  \n",
       "36               Moti Mahal Delux  \n",
       "37                          Dawat  "
      ]
     },
     "execution_count": 25,
     "metadata": {},
     "output_type": "execute_result"
    }
   ],
   "source": [
    "indian_rest_ny[indian_rest_ny['Neighborhood']=='Sutton Place']"
   ]
  },
  {
   "cell_type": "markdown",
   "metadata": {},
   "source": [
    "Now, get the ranking of each restaurant."
   ]
  },
  {
   "cell_type": "code",
   "execution_count": 26,
   "metadata": {
    "ExecuteTime": {
     "end_time": "2020-01-13T17:01:56.969032Z",
     "start_time": "2020-01-13T17:01:28.376084Z"
    }
   },
   "outputs": [
    {
     "name": "stdout",
     "output_type": "stream",
     "text": [
      "{'meta': {'code': 200, 'requestId': '5e1ca1d440a7ea001c4e15f5'}, 'response': {'venue': {'id': '4c0448d9310fc9b6bf1dc761', 'name': 'Curry Spot', 'contact': {'phone': '7187085900', 'formattedPhone': '(718) 708-5900'}, 'location': {'address': '4268 Katonah Ave', 'crossStreet': 'E 235 Street', 'lat': 40.897624941880906, 'lng': -73.86714729157393, 'labeledLatLngs': [{'label': 'display', 'lat': 40.897624941880906, 'lng': -73.86714729157393}], 'postalCode': '10470', 'cc': 'US', 'city': 'Bronx', 'state': 'NY', 'country': 'United States', 'formattedAddress': ['4268 Katonah Ave (E 235 Street)', 'Bronx, NY 10470', 'United States']}, 'canonicalUrl': 'https://foursquare.com/v/curry-spot/4c0448d9310fc9b6bf1dc761', 'categories': [{'id': '4bf58dd8d48988d10f941735', 'name': 'Indian Restaurant', 'pluralName': 'Indian Restaurants', 'shortName': 'Indian', 'icon': {'prefix': 'https://ss3.4sqi.net/img/categories_v2/food/indian_', 'suffix': '.png'}, 'primary': True}], 'verified': False, 'stats': {'tipCount': 10}, 'url': 'https://thecurryspotbronx.com', 'price': {'tier': 2, 'message': 'Moderate', 'currency': '$'}, 'hasMenu': True, 'likes': {'count': 5, 'groups': [{'type': 'others', 'count': 5, 'items': [{'id': '10110535', 'firstName': 'Dario', 'lastName': 'D', 'photo': {'prefix': 'https://fastly.4sqi.net/img/user/', 'suffix': '/ZGUOOGAHGRDBRYJF.jpg'}}, {'id': '102792', 'firstName': 'Mike', 'lastName': 'W', 'photo': {'prefix': 'https://fastly.4sqi.net/img/user/', 'suffix': '/102792_1258663222573.jpg'}}, {'id': '19285500', 'firstName': 'Jackie', 'lastName': 'B', 'photo': {'prefix': 'https://fastly.4sqi.net/img/user/', 'suffix': '/19285500_a5dQzVHp_jRTQ-h--mlNfoVI3XoR4Oas5ZLOQaQ9-nIDuViZLJEICPZI7jtAQtdko-C0Ib6wU.jpg'}}]}], 'summary': '5 Likes'}, 'dislike': False, 'ok': False, 'rating': 7.6, 'ratingColor': 'C5DE35', 'ratingSignals': 12, 'delivery': {'id': '73072', 'url': 'https://www.seamless.com/menu/the-curry-spot-4268-katonah-ave-bronx/73072?affiliate=1131&utm_source=foursquare-affiliate-network&utm_medium=affiliate&utm_campaign=1131&utm_content=73072', 'provider': {'name': 'seamless', 'icon': {'prefix': 'https://fastly.4sqi.net/img/general/cap/', 'sizes': [40, 50], 'name': '/delivery_provider_seamless_20180129.png'}}}, 'menu': {'type': 'Menu', 'label': 'Menu', 'anchor': 'View Menu', 'url': 'https://foursquare.com/v/curry-spot/4c0448d9310fc9b6bf1dc761/menu', 'mobileUrl': 'https://foursquare.com/v/4c0448d9310fc9b6bf1dc761/device_menu'}, 'allowMenuUrlEdit': True, 'beenHere': {'count': 0, 'unconfirmedCount': 0, 'marked': False, 'lastCheckinExpiredAt': 0}, 'specials': {'count': 0, 'items': []}, 'photos': {'count': 26, 'groups': [{'type': 'venue', 'name': 'Venue photos', 'count': 26, 'items': [{'id': '513e67bae4b023017d40a8aa', 'createdAt': 1363044282, 'source': {'name': 'Foursquare for Android', 'url': 'https://foursquare.com/download/#/android'}, 'prefix': 'https://fastly.4sqi.net/img/general/', 'suffix': '/19358265_vapqFxzfhBIx5HFvQhN8OXKkP3B7squgDy2ODsl28IA.jpg', 'width': 540, 'height': 720, 'user': {'id': '19358265', 'firstName': 'Vish', 'lastName': 'S', 'photo': {'prefix': 'https://fastly.4sqi.net/img/user/', 'suffix': '/UHUOWEXX2MBZDULD.jpg'}}, 'visibility': 'public'}]}]}, 'reasons': {'count': 0, 'items': []}, 'hereNow': {'count': 0, 'summary': 'Nobody here', 'groups': []}, 'createdAt': 1275349209, 'tips': {'count': 10, 'groups': [{'type': 'others', 'name': 'All tips', 'count': 10, 'items': [{'id': '5243a3bb498e70058db6e94f', 'createdAt': 1380164539, 'text': 'BYOB, fantastic food and service!! I will definitely go again. The naan, mango chutney, chicken bhuna, and vegetable korma were great', 'type': 'user', 'canonicalUrl': 'https://foursquare.com/item/5243a3bb498e70058db6e94f', 'lang': 'en', 'likes': {'count': 2, 'groups': [{'type': 'others', 'count': 2, 'items': [{'id': '41626362', 'firstName': 'James', 'lastName': 'G', 'photo': {'prefix': 'https://fastly.4sqi.net/img/user/', 'suffix': '/41626362-PPJ2US5FLXV5NVZT.jpg'}}, {'id': '12458651', 'firstName': 'Macklin', 'lastName': 'U', 'photo': {'prefix': 'https://fastly.4sqi.net/img/user/', 'suffix': '/12458651-ESHBV5FTFYUUXS53.jpg'}}]}], 'summary': '2 likes'}, 'logView': True, 'agreeCount': 3, 'disagreeCount': 0, 'todo': {'count': 0}, 'user': {'id': '41626362', 'firstName': 'James', 'lastName': 'G', 'photo': {'prefix': 'https://fastly.4sqi.net/img/user/', 'suffix': '/41626362-PPJ2US5FLXV5NVZT.jpg'}}, 'authorInteractionType': 'liked'}]}]}, 'shortUrl': 'http://4sq.com/9BnB0f', 'timeZone': 'America/New_York', 'listed': {'count': 2, 'groups': [{'type': 'others', 'name': 'Lists from other people', 'count': 2, 'items': [{'id': '516764c4e4b02e0a068f0e1c', 'name': 'foods i eat often', 'description': '', 'type': 'others', 'user': {'id': '19358265', 'firstName': 'Vish', 'lastName': 'S', 'photo': {'prefix': 'https://fastly.4sqi.net/img/user/', 'suffix': '/UHUOWEXX2MBZDULD.jpg'}}, 'editable': False, 'public': True, 'collaborative': False, 'url': '/user/19358265/list/foods-i-eat-often', 'canonicalUrl': 'https://foursquare.com/user/19358265/list/foods-i-eat-often', 'createdAt': 1365730500, 'updatedAt': 1388704521, 'followers': {'count': 0}, 'listItems': {'count': 10, 'items': [{'id': 'v4c0448d9310fc9b6bf1dc761', 'createdAt': 1365731211}]}}, {'id': '4e4d1ed318503f02b89b76b6', 'name': 'Favorite Food', 'description': '', 'type': 'others', 'user': {'id': '8564626', 'firstName': 'Jess', 'lastName': 'U', 'photo': {'prefix': 'https://fastly.4sqi.net/img/user/', 'suffix': '/K0SIEWB4FWA3FPNO.jpg'}}, 'editable': False, 'public': True, 'collaborative': False, 'url': '/ungerjess/list/favorite-food', 'canonicalUrl': 'https://foursquare.com/ungerjess/list/favorite-food', 'createdAt': 1313677011, 'updatedAt': 1381618340, 'followers': {'count': 0}, 'listItems': {'count': 10, 'items': [{'id': 'v4c0448d9310fc9b6bf1dc761', 'createdAt': 1313677011}]}}]}]}, 'hours': {'status': 'Open until 3:00 PM, reopens later', 'richStatus': {'entities': [], 'text': 'Open until 3:00 PM, reopens later'}, 'isOpen': True, 'isLocalHoliday': False, 'dayData': [], 'timeframes': [{'days': 'Mon–Sun', 'includesToday': True, 'open': [{'renderedTime': 'Noon–3:00 PM'}, {'renderedTime': '4:00 PM–10:00 PM'}], 'segments': []}]}, 'pageUpdates': {'count': 0, 'items': []}, 'inbox': {'count': 0, 'items': []}, 'attributes': {'groups': [{'type': 'price', 'name': 'Price', 'summary': '$$', 'count': 1, 'items': [{'displayName': 'Price', 'displayValue': '$$', 'priceTier': 2}]}, {'type': 'payments', 'name': 'Credit Cards', 'summary': 'Credit Cards', 'count': 7, 'items': [{'displayName': 'Credit Cards', 'displayValue': 'Yes'}]}, {'type': 'outdoorSeating', 'name': 'Outdoor Seating', 'count': 1, 'items': [{'displayName': 'Outdoor Seating', 'displayValue': 'No'}]}, {'type': 'serves', 'name': 'Menus', 'summary': 'Dessert', 'count': 8, 'items': [{'displayName': 'Dessert', 'displayValue': 'Dessert'}]}, {'type': 'diningOptions', 'name': 'Dining Options', 'summary': 'Delivery', 'count': 5, 'items': [{'displayName': 'Delivery', 'displayValue': 'Delivery'}]}]}, 'bestPhoto': {'id': '513e67bae4b023017d40a8aa', 'createdAt': 1363044282, 'source': {'name': 'Foursquare for Android', 'url': 'https://foursquare.com/download/#/android'}, 'prefix': 'https://fastly.4sqi.net/img/general/', 'suffix': '/19358265_vapqFxzfhBIx5HFvQhN8OXKkP3B7squgDy2ODsl28IA.jpg', 'width': 540, 'height': 720, 'visibility': 'public'}, 'colors': {'highlightColor': {'photoId': '513e67bae4b023017d40a8aa', 'value': -6776704}, 'highlightTextColor': {'photoId': '513e67bae4b023017d40a8aa', 'value': -16777216}, 'algoVersion': 3}}}}\n",
      "                         ID        Name  Likes  Rating  Tips\n",
      "0  4c0448d9310fc9b6bf1dc761  Curry Spot      5     7.6    10\n",
      "( 1 / 39 ) processed\n",
      "{'meta': {'code': 200, 'requestId': '5e1ca20ab4b684001bf27dc8'}, 'response': {'venue': {'id': '4c194631838020a13e78e561', 'name': 'Melanies Roti Bar And Grill', 'contact': {'phone': '7184091088', 'formattedPhone': '(718) 409-1088'}, 'location': {'address': '1248 Castle Hill Ave', 'crossStreet': 'Newbold Ave', 'lat': 40.833293, 'lng': -73.85104, 'labeledLatLngs': [{'label': 'display', 'lat': 40.833293, 'lng': -73.85104}], 'postalCode': '10462', 'cc': 'US', 'city': 'Bronx', 'state': 'NY', 'country': 'United States', 'formattedAddress': ['1248 Castle Hill Ave (Newbold Ave)', 'Bronx, NY 10462', 'United States']}, 'canonicalUrl': 'https://foursquare.com/v/melanies-roti-bar-and-grill/4c194631838020a13e78e561', 'categories': [{'id': '4bf58dd8d48988d10f941735', 'name': 'Indian Restaurant', 'pluralName': 'Indian Restaurants', 'shortName': 'Indian', 'icon': {'prefix': 'https://ss3.4sqi.net/img/categories_v2/food/indian_', 'suffix': '.png'}, 'primary': True}], 'verified': False, 'stats': {'tipCount': 2}, 'price': {'tier': 2, 'message': 'Moderate', 'currency': '$'}, 'hasMenu': True, 'likes': {'count': 3, 'groups': [{'type': 'others', 'count': 3, 'items': [{'id': '85063300', 'firstName': 'Herbie', 'lastName': 'D', 'photo': {'prefix': 'https://fastly.4sqi.net/img/user/', 'suffix': '/85063300-Z0EBLTSF2HA332NN.jpg'}}, {'id': '27574660', 'firstName': 'Ronny', 'lastName': 'O', 'photo': {'prefix': 'https://fastly.4sqi.net/img/user/', 'suffix': '/27574660_qYfiOHLf_oBSOCTf25k5xBfNxi46hyVIAru4KIR76_dMR8yoIkJXSlJjtCFwcte3v5ACuyKWL.jpg'}}, {'id': '126099277', 'firstName': 'Michelle', 'lastName': 'T', 'photo': {'prefix': 'https://fastly.4sqi.net/img/user/', 'suffix': '/126099277-1RYNZ5EKS1WDY5HW.jpg'}}]}], 'summary': '3 Likes'}, 'dislike': False, 'ok': False, 'rating': 5.8, 'ratingColor': 'FF9600', 'ratingSignals': 8, 'delivery': {'id': '72260', 'url': 'https://www.seamless.com/menu/melanies-roti--grill-restaurant-1248-castle-hill-ave-bronx/72260?affiliate=1131&utm_source=foursquare-affiliate-network&utm_medium=affiliate&utm_campaign=1131&utm_content=72260', 'provider': {'name': 'seamless', 'icon': {'prefix': 'https://fastly.4sqi.net/img/general/cap/', 'sizes': [40, 50], 'name': '/delivery_provider_seamless_20180129.png'}}}, 'menu': {'type': 'Menu', 'label': 'Menu', 'anchor': 'View Menu', 'url': 'https://foursquare.com/v/melanies-roti-bar-and-grill/4c194631838020a13e78e561/menu', 'mobileUrl': 'https://foursquare.com/v/4c194631838020a13e78e561/device_menu'}, 'allowMenuUrlEdit': True, 'beenHere': {'count': 0, 'unconfirmedCount': 0, 'marked': False, 'lastCheckinExpiredAt': 0}, 'specials': {'count': 0, 'items': []}, 'photos': {'count': 1, 'groups': [{'type': 'venue', 'name': 'Venue photos', 'count': 1, 'items': [{'id': '4f9ee2d1e4b0e868c4812372', 'createdAt': 1335812817, 'source': {'name': 'Foursquare for iOS', 'url': 'https://foursquare.com/download/#/iphone'}, 'prefix': 'https://fastly.4sqi.net/img/general/', 'suffix': '/erNpDYL_cghKUK2JjgQFs2bl0MVCEyA9Tzi-UX5cMRo.jpg', 'width': 540, 'height': 720, 'user': {'id': '19512833', 'firstName': 'Tanisha', 'lastName': 'F', 'photo': {'prefix': 'https://fastly.4sqi.net/img/user/', 'suffix': '/KH1ES1XV1UWC1O4S.jpg'}}, 'visibility': 'public'}]}]}, 'reasons': {'count': 0, 'items': []}, 'hereNow': {'count': 0, 'summary': 'Nobody here', 'groups': []}, 'createdAt': 1276724785, 'tips': {'count': 2, 'groups': [{'type': 'others', 'name': 'All tips', 'count': 2, 'items': [{'id': '5424b5d1498e2280e91127f3', 'createdAt': 1411691985, 'text': 'Cashier messed up the order I ordered pork lowmein and chicken fried rice. Instead received pork fried rice and chicken fried rice', 'type': 'user', 'canonicalUrl': 'https://foursquare.com/item/5424b5d1498e2280e91127f3', 'lang': 'en', 'likes': {'count': 0, 'groups': []}, 'logView': True, 'agreeCount': 0, 'disagreeCount': 0, 'todo': {'count': 0}, 'user': {'id': '27574660', 'firstName': 'Ronny', 'lastName': 'O', 'photo': {'prefix': 'https://fastly.4sqi.net/img/user/', 'suffix': '/27574660_qYfiOHLf_oBSOCTf25k5xBfNxi46hyVIAru4KIR76_dMR8yoIkJXSlJjtCFwcte3v5ACuyKWL.jpg'}}, 'authorInteractionType': 'liked'}]}]}, 'shortUrl': 'http://4sq.com/aZ9F2x', 'timeZone': 'America/New_York', 'listed': {'count': 2, 'groups': [{'type': 'others', 'name': 'Lists from other people', 'count': 2, 'items': [{'id': '50379b8de4b0b4924bccca94', 'name': 'Bronx-To-Do List', 'description': '', 'type': 'others', 'user': {'id': '4174003', 'firstName': 'D', 'photo': {'prefix': 'https://fastly.4sqi.net/img/user/', 'suffix': '/4174003-TZI2AX1JI53DMMDL.jpg'}}, 'editable': False, 'public': True, 'collaborative': False, 'url': '/user/4174003/list/bronxtodo-list', 'canonicalUrl': 'https://foursquare.com/user/4174003/list/bronxtodo-list', 'createdAt': 1345821581, 'updatedAt': 1406668591, 'photo': {'id': '4e7bb0fc45dd3b0e49bb387b', 'createdAt': 1316729084, 'prefix': 'https://fastly.4sqi.net/img/general/', 'suffix': '/05YJ2ENHLKZ4AEBQB5P4V44WK2ZEOHJ4SPJ3URJBU1GIWFJS.jpg', 'width': 720, 'height': 540, 'user': {'id': '4174003', 'firstName': 'D', 'photo': {'prefix': 'https://fastly.4sqi.net/img/user/', 'suffix': '/4174003-TZI2AX1JI53DMMDL.jpg'}}, 'visibility': 'public'}, 'followers': {'count': 25}, 'listItems': {'count': 150, 'items': [{'id': 'v4c194631838020a13e78e561', 'createdAt': 1354246108, 'photo': {'id': '4f9ee2d1e4b0e868c4812372', 'createdAt': 1335812817, 'prefix': 'https://fastly.4sqi.net/img/general/', 'suffix': '/erNpDYL_cghKUK2JjgQFs2bl0MVCEyA9Tzi-UX5cMRo.jpg', 'width': 540, 'height': 720, 'user': {'id': '19512833', 'firstName': 'Tanisha', 'lastName': 'F', 'photo': {'prefix': 'https://fastly.4sqi.net/img/user/', 'suffix': '/KH1ES1XV1UWC1O4S.jpg'}}, 'visibility': 'public'}}]}}, {'id': '515a3475e4b052c40f52845c', 'name': 'Bronx', 'description': '', 'type': 'others', 'user': {'id': '1058319', 'firstName': 'Jacky', 'lastName': 'C', 'photo': {'prefix': 'https://fastly.4sqi.net/img/user/', 'suffix': '/02XZQX1PDXU3A2WI.png'}}, 'editable': False, 'public': True, 'collaborative': False, 'url': '/iamjackikay/list/bronx', 'canonicalUrl': 'https://foursquare.com/iamjackikay/list/bronx', 'createdAt': 1364866165, 'updatedAt': 1372532437, 'followers': {'count': 0}, 'listItems': {'count': 30, 'items': [{'id': 'v4c194631838020a13e78e561', 'createdAt': 1364866166}]}}]}]}, 'pageUpdates': {'count': 0, 'items': []}, 'inbox': {'count': 0, 'items': []}, 'attributes': {'groups': [{'type': 'price', 'name': 'Price', 'summary': '$$', 'count': 1, 'items': [{'displayName': 'Price', 'displayValue': '$$', 'priceTier': 2}]}, {'type': 'payments', 'name': 'Credit Cards', 'summary': 'Credit Cards', 'count': 7, 'items': [{'displayName': 'Credit Cards', 'displayValue': 'Yes (incl. Discover & Visa)'}]}, {'type': 'diningOptions', 'name': 'Dining Options', 'summary': 'Delivery', 'count': 5, 'items': [{'displayName': 'Delivery', 'displayValue': 'Delivery'}]}, {'type': 'touchTunes', 'name': 'TouchTunes Jukebox', 'summary': 'Yes', 'count': 1, 'items': [{'displayName': 'No', 'displayValue': 'Yes'}]}]}, 'bestPhoto': {'id': '4f9ee2d1e4b0e868c4812372', 'createdAt': 1335812817, 'source': {'name': 'Foursquare for iOS', 'url': 'https://foursquare.com/download/#/iphone'}, 'prefix': 'https://fastly.4sqi.net/img/general/', 'suffix': '/erNpDYL_cghKUK2JjgQFs2bl0MVCEyA9Tzi-UX5cMRo.jpg', 'width': 540, 'height': 720, 'visibility': 'public'}, 'colors': {'highlightColor': {'photoId': '4f9ee2d1e4b0e868c4812372', 'value': -9934728}, 'highlightTextColor': {'photoId': '4f9ee2d1e4b0e868c4812372', 'value': -1}, 'algoVersion': 3}}}}\n",
      "                         ID                         Name  Likes  Rating  Tips\n",
      "0  4c194631838020a13e78e561  Melanies Roti Bar And Grill      3     5.8     2\n",
      "( 2 / 39 ) processed\n"
     ]
    },
    {
     "name": "stdout",
     "output_type": "stream",
     "text": [
      "{'meta': {'code': 200, 'requestId': '5e1ca24aad1ab4001cc25c38'}, 'response': {'venue': {'id': '545835a1498e820edc6f636f', 'name': 'Bombay Grill', 'contact': {'phone': '7184912500', 'formattedPhone': '(718) 491-2500'}, 'location': {'address': '8716 3rd Ave', 'lat': 40.622371, 'lng': -74.03179899999999, 'labeledLatLngs': [{'label': 'display', 'lat': 40.622371, 'lng': -74.03179899999999}], 'postalCode': '11209', 'cc': 'US', 'city': 'Brooklyn', 'state': 'NY', 'country': 'United States', 'formattedAddress': ['8716 3rd Ave', 'Brooklyn, NY 11209', 'United States']}, 'canonicalUrl': 'https://foursquare.com/v/bombay-grill/545835a1498e820edc6f636f', 'categories': [{'id': '4bf58dd8d48988d10f941735', 'name': 'Indian Restaurant', 'pluralName': 'Indian Restaurants', 'shortName': 'Indian', 'icon': {'prefix': 'https://ss3.4sqi.net/img/categories_v2/food/indian_', 'suffix': '.png'}, 'primary': True}], 'verified': False, 'stats': {'tipCount': 4}, 'price': {'tier': 2, 'message': 'Moderate', 'currency': '$'}, 'likes': {'count': 14, 'groups': [{'type': 'others', 'count': 14, 'items': []}], 'summary': '14 Likes'}, 'dislike': False, 'ok': False, 'rating': 7.0, 'ratingColor': 'C5DE35', 'ratingSignals': 22, 'delivery': {'id': '300559', 'url': 'https://www.seamless.com/menu/bombay-grill-8716-3rd-ave-brooklyn/300559?affiliate=1131&utm_source=foursquare-affiliate-network&utm_medium=affiliate&utm_campaign=1131&utm_content=300559', 'provider': {'name': 'seamless', 'icon': {'prefix': 'https://fastly.4sqi.net/img/general/cap/', 'sizes': [40, 50], 'name': '/delivery_provider_seamless_20180129.png'}}}, 'allowMenuUrlEdit': True, 'beenHere': {'count': 0, 'unconfirmedCount': 0, 'marked': False, 'lastCheckinExpiredAt': 0}, 'specials': {'count': 0, 'items': []}, 'photos': {'count': 5, 'groups': [{'type': 'venue', 'name': 'Venue photos', 'count': 5, 'items': [{'id': '56fca2e0498e7608f86fa7e1', 'createdAt': 1459397344, 'source': {'name': 'Foursquare for iOS', 'url': 'https://foursquare.com/download/#/iphone'}, 'prefix': 'https://fastly.4sqi.net/img/general/', 'suffix': '/2694817_9Jk8K_KVqA399qTQbAUWfW4kzJxXcVHjXaKeYX9liL8.jpg', 'width': 1440, 'height': 1920, 'user': {'id': '2694817', 'firstName': 'Alexandra', 'photo': {'prefix': 'https://fastly.4sqi.net/img/user/', 'suffix': '/2694817-1F50YMB4Y3CVQIBD.jpg'}}, 'visibility': 'public'}]}]}, 'reasons': {'count': 0, 'items': []}, 'hereNow': {'count': 0, 'summary': 'Nobody here', 'groups': []}, 'createdAt': 1415067041, 'tips': {'count': 4, 'groups': [{'type': 'others', 'name': 'All tips', 'count': 4, 'items': [{'id': '586d8d4f9836313406bf6bb2', 'createdAt': 1483574607, 'text': 'Delicious Aloo Tikki', 'type': 'user', 'canonicalUrl': 'https://foursquare.com/item/586d8d4f9836313406bf6bb2', 'lang': 'en', 'likes': {'count': 0, 'groups': []}, 'logView': True, 'agreeCount': 0, 'disagreeCount': 0, 'todo': {'count': 0}, 'user': {'id': '2694817', 'firstName': 'Alexandra', 'photo': {'prefix': 'https://fastly.4sqi.net/img/user/', 'suffix': '/2694817-1F50YMB4Y3CVQIBD.jpg'}}, 'authorInteractionType': 'meh'}]}]}, 'shortUrl': 'http://4sq.com/1od9qr7', 'timeZone': 'America/New_York', 'listed': {'count': 1, 'groups': [{'type': 'others', 'name': 'Lists from other people', 'count': 1, 'items': [{'id': '57ed532e498edd862aa1b0ae', 'name': 'USA NYC BK South', 'description': 'Industry City, Brooklyn Chinatown, Sunset Park, Bay Ridge, Bensonhurst, Coney Island, Brighton Beach, Sheepshead Bay, Rockaways, & Staten Island.', 'type': 'others', 'user': {'id': '12113441', 'firstName': 'Kino', 'photo': {'prefix': 'https://fastly.4sqi.net/img/user/', 'suffix': '/12113441-K5HTHFLU2MUCM0CM.jpg'}}, 'editable': False, 'public': True, 'collaborative': False, 'url': '/kinosfault/list/usa-nyc-bk-south', 'canonicalUrl': 'https://foursquare.com/kinosfault/list/usa-nyc-bk-south', 'createdAt': 1475171118, 'updatedAt': 1559320175, 'photo': {'id': '57c0e190498ec88465777894', 'createdAt': 1472258448, 'prefix': 'https://fastly.4sqi.net/img/general/', 'suffix': '/12113441_KvXZyzPWPA3zD4L5TfNMl8ba8xiaGdnKgH1ivCM8XfQ.jpg', 'width': 4032, 'height': 3024, 'user': {'id': '12113441', 'firstName': 'Kino', 'photo': {'prefix': 'https://fastly.4sqi.net/img/user/', 'suffix': '/12113441-K5HTHFLU2MUCM0CM.jpg'}}, 'visibility': 'public'}, 'followers': {'count': 1}, 'listItems': {'count': 137, 'items': [{'id': 'v545835a1498e820edc6f636f', 'createdAt': 1475171506}]}}]}]}, 'pageUpdates': {'count': 0, 'items': []}, 'inbox': {'count': 0, 'items': []}, 'attributes': {'groups': [{'type': 'price', 'name': 'Price', 'summary': '$$', 'count': 1, 'items': [{'displayName': 'Price', 'displayValue': '$$', 'priceTier': 2}]}, {'type': 'outdoorSeating', 'name': 'Outdoor Seating', 'count': 1, 'items': [{'displayName': 'Outdoor Seating', 'displayValue': 'No'}]}, {'type': 'diningOptions', 'name': 'Dining Options', 'summary': 'Delivery', 'count': 5, 'items': [{'displayName': 'Delivery', 'displayValue': 'Delivery'}]}]}, 'bestPhoto': {'id': '56fca2e0498e7608f86fa7e1', 'createdAt': 1459397344, 'source': {'name': 'Foursquare for iOS', 'url': 'https://foursquare.com/download/#/iphone'}, 'prefix': 'https://fastly.4sqi.net/img/general/', 'suffix': '/2694817_9Jk8K_KVqA399qTQbAUWfW4kzJxXcVHjXaKeYX9liL8.jpg', 'width': 1440, 'height': 1920, 'visibility': 'public'}, 'colors': {'highlightColor': {'photoId': '56fca2e0498e7608f86fa7e1', 'value': -13096952}, 'highlightTextColor': {'photoId': '56fca2e0498e7608f86fa7e1', 'value': -1}, 'algoVersion': 3}}}}\n",
      "                         ID          Name  Likes  Rating  Tips\n",
      "0  545835a1498e820edc6f636f  Bombay Grill     14     7.0     4\n",
      "( 3 / 39 ) processed\n",
      "{'meta': {'code': 200, 'requestId': '5e1ca25283525f001bda0e0e'}, 'response': {'venue': {'id': '51a5445c498ee0f182370cb2', 'name': 'Agra Taj Mahal', 'contact': {'phone': '7183892200', 'formattedPhone': '(718) 389-2200'}, 'location': {'address': '1005 Manhattan Ave', 'lat': 40.733321, 'lng': -73.954928, 'labeledLatLngs': [{'label': 'display', 'lat': 40.733321, 'lng': -73.954928}], 'postalCode': '11222', 'cc': 'US', 'city': 'Brooklyn', 'state': 'NY', 'country': 'United States', 'formattedAddress': ['1005 Manhattan Ave', 'Brooklyn, NY 11222', 'United States']}, 'canonicalUrl': 'https://foursquare.com/v/agra-taj-mahal/51a5445c498ee0f182370cb2', 'categories': [{'id': '4bf58dd8d48988d10f941735', 'name': 'Indian Restaurant', 'pluralName': 'Indian Restaurants', 'shortName': 'Indian', 'icon': {'prefix': 'https://ss3.4sqi.net/img/categories_v2/food/indian_', 'suffix': '.png'}, 'primary': True}], 'verified': True, 'stats': {'tipCount': 16}, 'url': 'http://agratajmahalbrooklyn.com', 'price': {'tier': 2, 'message': 'Moderate', 'currency': '$'}, 'likes': {'count': 34, 'groups': [{'type': 'others', 'count': 34, 'items': []}], 'summary': '34 Likes'}, 'dislike': False, 'ok': False, 'rating': 7.0, 'ratingColor': 'C5DE35', 'ratingSignals': 57, 'delivery': {'id': '276731', 'url': 'https://www.seamless.com/menu/agra-taj-mahal-1005-manhattan-ave-brooklyn/276731?affiliate=1131&utm_source=foursquare-affiliate-network&utm_medium=affiliate&utm_campaign=1131&utm_content=276731', 'provider': {'name': 'seamless', 'icon': {'prefix': 'https://fastly.4sqi.net/img/general/cap/', 'sizes': [40, 50], 'name': '/delivery_provider_seamless_20180129.png'}}}, 'allowMenuUrlEdit': True, 'beenHere': {'count': 0, 'unconfirmedCount': 0, 'marked': False, 'lastCheckinExpiredAt': 0}, 'specials': {'count': 0, 'items': []}, 'photos': {'count': 11, 'groups': [{'type': 'venue', 'name': 'Venue photos', 'count': 11, 'items': [{'id': '5923326175eee4148315a21d', 'createdAt': 1495478881, 'source': {'name': 'Foursquare Web', 'url': 'https://foursquare.com'}, 'prefix': 'https://fastly.4sqi.net/img/general/', 'suffix': '/3343327_vYkwtAtTemTmMoUsUp6Z-ihnUJ6zFdVO94HDknJVQAo.jpg', 'width': 1200, 'height': 900, 'user': {'id': '3343327', 'firstName': 'Eater', 'photo': {'prefix': 'https://fastly.4sqi.net/img/user/', 'suffix': '/3343327-YQ1D52V3KK2RQLBU.png'}, 'type': 'page'}, 'visibility': 'public'}]}]}, 'venuePage': {'id': '79428851'}, 'reasons': {'count': 1, 'items': [{'summary': 'Lots of people like this place', 'type': 'general', 'reasonName': 'rawLikesReason'}]}, 'page': {'user': {'id': '79428851', 'firstName': 'Agra Taj Mahal', 'photo': {'prefix': 'https://fastly.4sqi.net/img/user/', 'suffix': '/79428851-TB4T4N52AUII5ORP.png'}, 'type': 'venuePage', 'venue': {'id': '51a5445c498ee0f182370cb2'}, 'tips': {'count': 0}, 'lists': {'groups': [{'type': 'created', 'count': 2, 'items': []}]}, 'bio': ''}}, 'hereNow': {'count': 0, 'summary': 'Nobody here', 'groups': []}, 'createdAt': 1369785436, 'tips': {'count': 16, 'groups': [{'type': 'others', 'name': 'All tips', 'count': 16, 'items': [{'id': '51ae874b498e9e619b832aec', 'createdAt': 1370392395, 'text': 'Awesome. Just awesome. I am a fan of the Lamb Vindaloo.', 'type': 'user', 'canonicalUrl': 'https://foursquare.com/item/51ae874b498e9e619b832aec', 'lang': 'en', 'likes': {'count': 3, 'groups': [{'type': 'others', 'count': 3, 'items': [{'id': '32232', 'firstName': 'Katie', 'lastName': 'D', 'photo': {'prefix': 'https://fastly.4sqi.net/img/user/', 'suffix': '/TV1IPPFWKRQABPU1.jpg'}}, {'id': '1911255', 'firstName': 'Henry W.', 'lastName': 'N', 'photo': {'prefix': 'https://fastly.4sqi.net/img/user/', 'suffix': '/1911255-PCI51TOFSZ3GACPH.jpg'}}, {'id': '43647859', 'firstName': 'Michelle', 'lastName': 'L', 'photo': {'prefix': 'https://fastly.4sqi.net/img/user/', 'suffix': '/ZXQR5P3HXOCRRLVK.jpg'}}]}], 'summary': '3 likes'}, 'logView': True, 'agreeCount': 3, 'disagreeCount': 0, 'todo': {'count': 0}, 'user': {'id': '43304430', 'firstName': 'Ryan', 'lastName': 'O', 'photo': {'prefix': 'https://fastly.4sqi.net/img/user/', 'suffix': '/FWG2MEWFWDTTQ2CQ.jpg'}}}]}]}, 'shortUrl': 'http://4sq.com/ZcOMbU', 'timeZone': 'America/New_York', 'listed': {'count': 51, 'groups': [{'type': 'others', 'name': 'Lists from other people', 'count': 51, 'items': [{'id': '50f6b7c4e4b052e4227b088e', 'name': \"Greenpoint je t'aime\", 'description': '', 'type': 'others', 'user': {'id': '26996241', 'firstName': 'Ru', 'lastName': 'R', 'photo': {'prefix': 'https://fastly.4sqi.net/img/user/', 'suffix': '/PERBL1JNAT5IF312.jpg'}}, 'editable': False, 'public': True, 'collaborative': False, 'url': '/user/26996241/list/greenpoint-je-taime', 'canonicalUrl': 'https://foursquare.com/user/26996241/list/greenpoint-je-taime', 'createdAt': 1358346180, 'updatedAt': 1555283921, 'photo': {'id': '4f661508e4b08b4770dea4e3', 'createdAt': 1332090120, 'prefix': 'https://fastly.4sqi.net/img/general/', 'suffix': '/HC6AiMJE36jXpVvk69Kxub04mSAVF6Omp3R1id61XH4.jpg', 'width': 720, 'height': 540, 'user': {'id': '11878', 'firstName': 'Johanna', 'photo': {'prefix': 'https://fastly.4sqi.net/img/user/', 'suffix': '/11878-HYX0LGUHXOY2DPMJ.jpg'}}, 'visibility': 'public'}, 'followers': {'count': 7}, 'listItems': {'count': 81, 'items': [{'id': 'v51a5445c498ee0f182370cb2', 'createdAt': 1381634051}]}}, {'id': '59232860c9f9071039e162ae', 'name': 'Master of None’s Season Two Restaurants and Bars', 'description': 'The second season of Aziz Ansari’s Netflix show Master of None drops today, and like the first season, it’s full of food scenes filmed at very real New York restaurants. Check them out, below.', 'type': 'others', 'user': {'id': '3343327', 'firstName': 'Eater', 'photo': {'prefix': 'https://fastly.4sqi.net/img/user/', 'suffix': '/3343327-YQ1D52V3KK2RQLBU.png'}, 'type': 'page'}, 'editable': False, 'public': True, 'collaborative': False, 'url': '/p/eater/3343327/list/master-of-nones-season-two-restaurants-and-bars', 'canonicalUrl': 'https://foursquare.com/p/eater/3343327/list/master-of-nones-season-two-restaurants-and-bars', 'createdAt': 1495476320, 'updatedAt': 1495481207, 'photo': {'id': '5923390d243ce26110beb2af', 'createdAt': 1495480589, 'prefix': 'https://fastly.4sqi.net/img/general/', 'suffix': '/3343327_a8n3zYFVmqFi1BZcF-xzpqSXu4V510XimU2D4F8B7rk.png', 'width': 481, 'height': 360, 'user': {'id': '3343327', 'firstName': 'Eater', 'photo': {'prefix': 'https://fastly.4sqi.net/img/user/', 'suffix': '/3343327-YQ1D52V3KK2RQLBU.png'}, 'type': 'page'}, 'visibility': 'public'}, 'logView': True, 'followers': {'count': 95}, 'listItems': {'count': 25, 'items': [{'id': 't592332606a5950627d707d99', 'createdAt': 1495481032, 'photo': {'id': '5923326175eee4148315a21d', 'createdAt': 1495478881, 'prefix': 'https://fastly.4sqi.net/img/general/', 'suffix': '/3343327_vYkwtAtTemTmMoUsUp6Z-ihnUJ6zFdVO94HDknJVQAo.jpg', 'width': 1200, 'height': 900, 'user': {'id': '3343327', 'firstName': 'Eater', 'photo': {'prefix': 'https://fastly.4sqi.net/img/user/', 'suffix': '/3343327-YQ1D52V3KK2RQLBU.png'}, 'type': 'page'}, 'visibility': 'public'}}]}}, {'id': '5918e2816a59506ea29aed47', 'name': 'Master of None Seasons 1 & 2', 'description': 'Everywhere they go and talk about in Master of None (missing a place or two in Italy)', 'type': 'others', 'user': {'id': '1735122', 'firstName': 'Heather', 'lastName': 'B', 'photo': {'prefix': 'https://fastly.4sqi.net/img/user/', 'suffix': '/1735122_UhB95yQL_R6DVXfBQz805BNriIl_2vURQP0A_TnMVVEj8dbU3gG6FtV7qW7F1xPiVVMn-gkIu.jpg'}}, 'editable': False, 'public': True, 'collaborative': False, 'url': '/heather__beck/list/master-of-none-seasons-1--2', 'canonicalUrl': 'https://foursquare.com/heather__beck/list/master-of-none-seasons-1--2', 'createdAt': 1494803073, 'updatedAt': 1494806020, 'photo': {'id': '5806e8edd67c942a1b1769d4', 'createdAt': 1476847853, 'prefix': 'https://fastly.4sqi.net/img/general/', 'suffix': '/3914294_qWeXqir5QTOI_o15bpqfrhxuxixGqpNmqnn6ym7inJg.jpg', 'width': 1440, 'height': 1440, 'user': {'id': '3914294', 'firstName': 'Christina', 'lastName': 'R', 'photo': {'prefix': 'https://fastly.4sqi.net/img/user/', 'suffix': '/3914294-EPRON0W1BXZ1CRGQ'}}, 'visibility': 'public'}, 'followers': {'count': 3}, 'listItems': {'count': 50, 'items': [{'id': 'v51a5445c498ee0f182370cb2', 'createdAt': 1494804233}]}}, {'id': '59b92ffba92d986598e51c98', 'name': 'NYC Food', 'description': '', 'type': 'others', 'user': {'id': '341331', 'firstName': 'Maksims', 'lastName': 'F', 'photo': {'prefix': 'https://fastly.4sqi.net/img/user/', 'suffix': '/341331-CJYNBIDVUG3CTU1G.jpg'}}, 'editable': False, 'public': True, 'collaborative': False, 'url': '/user/341331/list/nyc-food', 'canonicalUrl': 'https://foursquare.com/user/341331/list/nyc-food', 'createdAt': 1505308667, 'updatedAt': 1506518021, 'followers': {'count': 2}, 'listItems': {'count': 62, 'items': [{'id': 'v51a5445c498ee0f182370cb2', 'createdAt': 1505313427}]}}]}]}, 'hours': {'status': 'Open until 11:30 PM', 'richStatus': {'entities': [], 'text': 'Open until 11:30 PM'}, 'isOpen': True, 'isLocalHoliday': False, 'dayData': [], 'timeframes': [{'days': 'Mon–Sun', 'includesToday': True, 'open': [{'renderedTime': 'Noon–11:30 PM'}], 'segments': []}]}, 'popular': {'status': 'Likely open', 'richStatus': {'entities': [], 'text': 'Likely open'}, 'isOpen': True, 'isLocalHoliday': False, 'timeframes': [{'days': 'Today', 'includesToday': True, 'open': [{'renderedTime': 'Noon–3:00 PM'}, {'renderedTime': '6:00 PM–11:00 PM'}], 'segments': []}, {'days': 'Tue', 'open': [{'renderedTime': 'Noon–4:00 PM'}, {'renderedTime': '7:00 PM–11:00 PM'}], 'segments': []}, {'days': 'Wed', 'open': [{'renderedTime': 'Noon–2:00 PM'}, {'renderedTime': '7:00 PM–11:00 PM'}], 'segments': []}, {'days': 'Thu', 'open': [{'renderedTime': 'Noon–3:00 PM'}, {'renderedTime': '7:00 PM–10:00 PM'}], 'segments': []}, {'days': 'Fri', 'open': [{'renderedTime': 'Noon–2:00 PM'}, {'renderedTime': '6:00 PM–10:00 PM'}], 'segments': []}, {'days': 'Sat', 'open': [{'renderedTime': 'Noon–3:00 PM'}, {'renderedTime': '5:00 PM–Midnight'}], 'segments': []}, {'days': 'Sun', 'open': [{'renderedTime': 'Noon–10:00 PM'}], 'segments': []}]}, 'pageUpdates': {'count': 0, 'items': []}, 'inbox': {'count': 0, 'items': []}, 'attributes': {'groups': [{'type': 'price', 'name': 'Price', 'summary': '$$', 'count': 1, 'items': [{'displayName': 'Price', 'displayValue': '$$', 'priceTier': 2}]}, {'type': 'reservations', 'name': 'Reservations', 'count': 3, 'items': [{'displayName': 'Reservations', 'displayValue': 'No'}]}, {'type': 'payments', 'name': 'Credit Cards', 'summary': 'Credit Cards', 'count': 7, 'items': [{'displayName': 'Credit Cards', 'displayValue': 'Yes'}]}, {'type': 'outdoorSeating', 'name': 'Outdoor Seating', 'count': 1, 'items': [{'displayName': 'Outdoor Seating', 'displayValue': 'No'}]}, {'type': 'serves', 'name': 'Menus', 'summary': 'Brunch & Dinner', 'count': 8, 'items': [{'displayName': 'Brunch', 'displayValue': 'Brunch'}, {'displayName': 'Dinner', 'displayValue': 'Dinner'}]}, {'type': 'diningOptions', 'name': 'Dining Options', 'summary': 'Delivery', 'count': 5, 'items': [{'displayName': 'Delivery', 'displayValue': 'Delivery'}]}]}, 'bestPhoto': {'id': '5923326175eee4148315a21d', 'createdAt': 1495478881, 'source': {'name': 'Foursquare Web', 'url': 'https://foursquare.com'}, 'prefix': 'https://fastly.4sqi.net/img/general/', 'suffix': '/3343327_vYkwtAtTemTmMoUsUp6Z-ihnUJ6zFdVO94HDknJVQAo.jpg', 'width': 1200, 'height': 900, 'visibility': 'public'}, 'colors': {'highlightColor': {'photoId': '5923326175eee4148315a21d', 'value': -15202288}, 'highlightTextColor': {'photoId': '5923326175eee4148315a21d', 'value': -1}, 'algoVersion': 3}}}}\n",
      "                         ID            Name  Likes  Rating  Tips\n",
      "0  51a5445c498ee0f182370cb2  Agra Taj Mahal     34     7.0    16\n",
      "( 4 / 39 ) processed\n"
     ]
    },
    {
     "name": "stdout",
     "output_type": "stream",
     "text": [
      "{'meta': {'code': 200, 'requestId': '5e1ca24978a484001b23128b'}, 'response': {'venue': {'id': '5169f5c4e4b0c7fcb77a0f3c', 'name': 'Agra Heights', 'contact': {'phone': '7184435700', 'formattedPhone': '(718) 443-5700'}, 'location': {'address': '226 Wilson Ave', 'crossStreet': 'btwn Harman & Himrod St', 'lat': 40.698094445626104, 'lng': -73.92135507234042, 'labeledLatLngs': [{'label': 'display', 'lat': 40.698094445626104, 'lng': -73.92135507234042}], 'postalCode': '11237', 'cc': 'US', 'city': 'Brooklyn', 'state': 'NY', 'country': 'United States', 'formattedAddress': ['226 Wilson Ave (btwn Harman & Himrod St)', 'Brooklyn, NY 11237', 'United States']}, 'canonicalUrl': 'https://foursquare.com/v/agra-heights/5169f5c4e4b0c7fcb77a0f3c', 'categories': [{'id': '4bf58dd8d48988d10f941735', 'name': 'Indian Restaurant', 'pluralName': 'Indian Restaurants', 'shortName': 'Indian', 'icon': {'prefix': 'https://ss3.4sqi.net/img/categories_v2/food/indian_', 'suffix': '.png'}, 'primary': True}], 'verified': True, 'stats': {'tipCount': 5}, 'url': 'http://www.agraheights.com', 'price': {'tier': 2, 'message': 'Moderate', 'currency': '$'}, 'likes': {'count': 12, 'groups': [{'type': 'others', 'count': 12, 'items': []}], 'summary': '12 Likes'}, 'dislike': False, 'ok': False, 'rating': 5.7, 'ratingColor': 'FF9600', 'ratingSignals': 26, 'delivery': {'id': '277813', 'url': 'https://www.seamless.com/menu/agra-heights-226-wilson-ave-brooklyn/277813?affiliate=1131&utm_source=foursquare-affiliate-network&utm_medium=affiliate&utm_campaign=1131&utm_content=277813', 'provider': {'name': 'seamless', 'icon': {'prefix': 'https://fastly.4sqi.net/img/general/cap/', 'sizes': [40, 50], 'name': '/delivery_provider_seamless_20180129.png'}}}, 'menu': {'type': 'Menu', 'label': 'Menu', 'anchor': 'View Menu', 'url': 'http://agraheightsbrooklynnyc.com/18108', 'mobileUrl': 'http://agraheightsbrooklynnyc.com/18108', 'externalUrl': 'http://agraheightsbrooklynnyc.com/18108'}, 'allowMenuUrlEdit': True, 'beenHere': {'count': 0, 'unconfirmedCount': 0, 'marked': False, 'lastCheckinExpiredAt': 0}, 'specials': {'count': 0, 'items': []}, 'photos': {'count': 6, 'groups': [{'type': 'venue', 'name': 'Venue photos', 'count': 6, 'items': [{'id': '535d97f7498ee955f378b4fb', 'createdAt': 1398642679, 'source': {'name': 'Foursquare for iOS', 'url': 'https://foursquare.com/download/#/iphone'}, 'prefix': 'https://fastly.4sqi.net/img/general/', 'suffix': '/16504293_DajtqWZXMGS81u1I_Uq9Jl_aqbNLjS_za8liDlmzC2s.jpg', 'width': 720, 'height': 960, 'user': {'id': '16504293', 'firstName': 'Kimberly', 'lastName': 'B', 'photo': {'prefix': 'https://fastly.4sqi.net/img/user/', 'suffix': '/0SYBIRCYAHLLCHJU.jpg'}}, 'visibility': 'public'}]}]}, 'venuePage': {'id': '80027123'}, 'reasons': {'count': 0, 'items': []}, 'page': {'user': {'id': '80027123', 'firstName': 'Agra Heights', 'photo': {'prefix': 'https://fastly.4sqi.net/img/user/', 'suffix': '/80027123-PJMOAINQBIFOSQGL.png'}, 'type': 'venuePage', 'venue': {'id': '5169f5c4e4b0c7fcb77a0f3c'}, 'tips': {'count': 0}, 'lists': {'groups': [{'type': 'created', 'count': 2, 'items': []}]}, 'bio': ''}}, 'hereNow': {'count': 0, 'summary': 'Nobody here', 'groups': []}, 'createdAt': 1365898692, 'tips': {'count': 5, 'groups': [{'type': 'others', 'name': 'All tips', 'count': 5, 'items': [{'id': '51f077a0498eae8253831ebb', 'createdAt': 1374713760, 'text': 'The salmon curry is so yummy!', 'type': 'user', 'canonicalUrl': 'https://foursquare.com/item/51f077a0498eae8253831ebb', 'lang': 'en', 'likes': {'count': 1, 'groups': [{'type': 'others', 'count': 1, 'items': [{'id': '21980470', 'firstName': 'Rebekah', 'lastName': 'N', 'photo': {'prefix': 'https://fastly.4sqi.net/img/user/', 'suffix': '/5HSBSA1JY4RVNO5T.jpg'}}]}], 'summary': '1 like'}, 'logView': True, 'agreeCount': 1, 'disagreeCount': 0, 'todo': {'count': 0}, 'user': {'id': '9828894', 'firstName': 'Krystal', 'lastName': 'S', 'photo': {'prefix': 'https://fastly.4sqi.net/img/user/', 'suffix': '/U0OQ0YWYOJ23H1NJ.jpg'}}}]}]}, 'shortUrl': 'http://4sq.com/176vANc', 'timeZone': 'America/New_York', 'listed': {'count': 7, 'groups': [{'type': 'others', 'name': 'Lists from other people', 'count': 7, 'items': [{'id': '50703609e4b04b4e0c8a25d7', 'name': 'Bushwick 2012', 'description': '', 'type': 'others', 'user': {'id': '41002', 'firstName': 'Jaclyn', 'lastName': 'U', 'photo': {'prefix': 'https://fastly.4sqi.net/img/user/', 'suffix': '/41002-H2TN0YFW0BXLG3MJ.jpg'}}, 'editable': False, 'public': True, 'collaborative': False, 'url': '/j_urban/list/bushwick-2012', 'canonicalUrl': 'https://foursquare.com/j_urban/list/bushwick-2012', 'createdAt': 1349531145, 'updatedAt': 1403138134, 'followers': {'count': 16}, 'listItems': {'count': 58, 'items': [{'id': 'v5169f5c4e4b0c7fcb77a0f3c', 'createdAt': 1393774706}]}}, {'id': '50a70ebce4b0b9c730fa285e', 'name': 'Bushwick', 'description': '', 'type': 'others', 'user': {'id': '1902400', 'firstName': 'Krista', 'lastName': 'K', 'photo': {'prefix': 'https://fastly.4sqi.net/img/user/', 'suffix': '/1902400-R041KROE0HDOVNQB.jpg'}}, 'editable': False, 'public': True, 'collaborative': False, 'url': '/kristaknapp/list/bushwick', 'canonicalUrl': 'https://foursquare.com/kristaknapp/list/bushwick', 'createdAt': 1353125564, 'updatedAt': 1386532274, 'photo': {'id': '4e3828f4091ae705a0fa24f9', 'createdAt': 1312303348, 'prefix': 'https://fastly.4sqi.net/img/general/', 'suffix': '/C5JTKOGVH0UWR4KZXD4XU0AHM2L2PKMZUNPDV1LUCVBCZASK.jpg', 'width': 492, 'height': 330, 'user': {'id': '742542', 'firstName': 'Time Out New York', 'photo': {'prefix': 'https://fastly.4sqi.net/img/user/', 'suffix': '/XXHKCBSQHBORZNSR.jpg'}, 'type': 'page'}, 'visibility': 'public'}, 'followers': {'count': 13}, 'listItems': {'count': 75, 'items': [{'id': 'v5169f5c4e4b0c7fcb77a0f3c', 'createdAt': 1371000219}]}}, {'id': '5456ace2498e1b1c74f9079c', 'name': 'Bushwick', 'description': '', 'type': 'others', 'user': {'id': '7745624', 'firstName': 'Stephanie', 'lastName': 'F', 'photo': {'prefix': 'https://fastly.4sqi.net/img/user/', 'suffix': '/7745624-2YMMTHLUNGWVGX3X.jpg'}}, 'editable': False, 'public': True, 'collaborative': False, 'url': '/snfuller/list/bushwick', 'canonicalUrl': 'https://foursquare.com/snfuller/list/bushwick', 'createdAt': 1414966498, 'updatedAt': 1414967407, 'photo': {'id': '538b6073498e8f1a5c94e944', 'createdAt': 1401643123, 'prefix': 'https://fastly.4sqi.net/img/general/', 'suffix': '/1048784_cMYlTGNMlwDPG2umyAUf1bq0uXKy99aGgCb4BL7HYDM.jpg', 'width': 960, 'height': 720, 'user': {'id': '1048784', 'firstName': 'Marie-Eve', 'lastName': 'M', 'photo': {'prefix': 'https://fastly.4sqi.net/img/user/', 'suffix': '/GI1T1DHY42IXAVYT.jpg'}}, 'visibility': 'public'}, 'followers': {'count': 0}, 'listItems': {'count': 29, 'items': [{'id': 'v5169f5c4e4b0c7fcb77a0f3c', 'createdAt': 1414966517}]}}, {'id': '5027f78be4b0c75a161fdaee', 'name': 'Bushwick', 'description': '', 'type': 'others', 'user': {'id': '625398', 'firstName': 'Michael', 'lastName': 'T', 'photo': {'prefix': 'https://fastly.4sqi.net/img/user/', 'suffix': '/WG2F34AA1S1KDNFZ.jpg'}}, 'editable': False, 'public': True, 'collaborative': False, 'url': '/michaeltapp/list/bushwick', 'canonicalUrl': 'https://foursquare.com/michaeltapp/list/bushwick', 'createdAt': 1344796555, 'updatedAt': 1431790925, 'photo': {'id': '505c6b8de4b0e43317804cab', 'createdAt': 1348234125, 'prefix': 'https://fastly.4sqi.net/img/general/', 'suffix': '/47321_nJYzUxj_9FW6EYpHC8DHIZ45_tESRKuyKWwM40NNJl8.jpg', 'width': 720, 'height': 540, 'user': {'id': '47321', 'firstName': 'Nate', 'lastName': 'F', 'photo': {'prefix': 'https://fastly.4sqi.net/img/user/', 'suffix': '/47321_7-SPk1Ml_yiKec52usgfszPx8O30OFhIe9epxw83ZYW8qbNkwYSlM0EHJnyMqZRWE1ejuhsXj'}}, 'visibility': 'public'}, 'followers': {'count': 4}, 'listItems': {'count': 50, 'items': [{'id': 'v5169f5c4e4b0c7fcb77a0f3c', 'createdAt': 1375911110}]}}]}]}, 'hours': {'status': 'Open until Midnight', 'richStatus': {'entities': [], 'text': 'Open until Midnight'}, 'isOpen': True, 'isLocalHoliday': False, 'dayData': [], 'timeframes': [{'days': 'Mon–Sun', 'includesToday': True, 'open': [{'renderedTime': 'Noon–Midnight'}], 'segments': []}]}, 'pageUpdates': {'count': 0, 'items': []}, 'inbox': {'count': 0, 'items': []}, 'attributes': {'groups': [{'type': 'price', 'name': 'Price', 'summary': '$$', 'count': 1, 'items': [{'displayName': 'Price', 'displayValue': '$$', 'priceTier': 2}]}, {'type': 'reservations', 'name': 'Reservations', 'count': 3, 'items': [{'displayName': 'Reservations', 'displayValue': 'No'}]}, {'type': 'outdoorSeating', 'name': 'Outdoor Seating', 'count': 1, 'items': [{'displayName': 'Outdoor Seating', 'displayValue': 'No'}]}, {'type': 'diningOptions', 'name': 'Dining Options', 'summary': 'Delivery', 'count': 5, 'items': [{'displayName': 'Delivery', 'displayValue': 'Delivery'}]}, {'type': 'parking', 'name': 'Parking', 'summary': 'Street Parking', 'count': 5, 'items': [{'displayName': 'Street Parking', 'displayValue': 'Street'}]}, {'type': 'restroom', 'name': 'Restroom', 'summary': 'Restroom', 'count': 1, 'items': [{'displayName': 'Restroom', 'displayValue': 'Yes'}]}, {'type': 'tvs', 'name': 'TVs', 'summary': 'TVs', 'count': 1, 'items': [{'displayName': 'TVs', 'displayValue': 'Yes'}]}]}, 'bestPhoto': {'id': '535d97f7498ee955f378b4fb', 'createdAt': 1398642679, 'source': {'name': 'Foursquare for iOS', 'url': 'https://foursquare.com/download/#/iphone'}, 'prefix': 'https://fastly.4sqi.net/img/general/', 'suffix': '/16504293_DajtqWZXMGS81u1I_Uq9Jl_aqbNLjS_za8liDlmzC2s.jpg', 'width': 720, 'height': 960, 'visibility': 'public'}, 'colors': {'highlightColor': {'photoId': '535d97f7498ee955f378b4fb', 'value': -14145504}, 'highlightTextColor': {'photoId': '535d97f7498ee955f378b4fb', 'value': -1}, 'algoVersion': 3}}}}\n",
      "                         ID          Name  Likes  Rating  Tips\n",
      "0  5169f5c4e4b0c7fcb77a0f3c  Agra Heights     12     5.7     5\n",
      "( 5 / 39 ) processed\n"
     ]
    },
    {
     "name": "stdout",
     "output_type": "stream",
     "text": [
      "{'meta': {'code': 200, 'requestId': '5e1ca24a78a484001b231640'}, 'response': {'venue': {'id': '4b8ffc16f964a520246e33e3', 'name': 'Curry Heights', 'contact': {'phone': '7182609000', 'formattedPhone': '(718) 260-9000', 'twitter': 'curryheights'}, 'location': {'address': '151 Remsen St', 'crossStreet': 'btwn Court St & Clinton St', 'lat': 40.69357223828141, 'lng': -73.99226545349896, 'labeledLatLngs': [{'label': 'display', 'lat': 40.69357223828141, 'lng': -73.99226545349896}], 'postalCode': '11201', 'cc': 'US', 'city': 'Brooklyn', 'state': 'NY', 'country': 'United States', 'formattedAddress': ['151 Remsen St (btwn Court St & Clinton St)', 'Brooklyn, NY 11201', 'United States']}, 'canonicalUrl': 'https://foursquare.com/v/curry-heights/4b8ffc16f964a520246e33e3', 'categories': [{'id': '4bf58dd8d48988d10f941735', 'name': 'Indian Restaurant', 'pluralName': 'Indian Restaurants', 'shortName': 'Indian', 'icon': {'prefix': 'https://ss3.4sqi.net/img/categories_v2/food/indian_', 'suffix': '.png'}, 'primary': True}], 'verified': True, 'stats': {'tipCount': 17}, 'url': 'http://www.curryheights.com', 'price': {'tier': 2, 'message': 'Moderate', 'currency': '$'}, 'likes': {'count': 31, 'groups': [{'type': 'others', 'count': 31, 'items': []}], 'summary': '31 Likes'}, 'dislike': False, 'ok': False, 'rating': 7.2, 'ratingColor': 'C5DE35', 'ratingSignals': 55, 'delivery': {'id': '1206286', 'url': 'https://www.seamless.com/menu/curry-heights-151-remsen-st-brooklyn/1206286?affiliate=1131&utm_source=foursquare-affiliate-network&utm_medium=affiliate&utm_campaign=1131&utm_content=1206286', 'provider': {'name': 'seamless', 'icon': {'prefix': 'https://fastly.4sqi.net/img/general/cap/', 'sizes': [40, 50], 'name': '/delivery_provider_seamless_20180129.png'}}}, 'allowMenuUrlEdit': True, 'beenHere': {'count': 0, 'unconfirmedCount': 0, 'marked': False, 'lastCheckinExpiredAt': 0}, 'specials': {'count': 0, 'items': []}, 'photos': {'count': 23, 'groups': [{'type': 'venue', 'name': 'Venue photos', 'count': 23, 'items': [{'id': '4fe2027ce4b05fd6aee9cd7c', 'createdAt': 1340211836, 'source': {'name': 'Foursquare for iOS', 'url': 'https://foursquare.com/download/#/iphone'}, 'prefix': 'https://fastly.4sqi.net/img/general/', 'suffix': '/Z-7MKy2IojDiu52C2o202JJE3aGSqtew6T-PM3mofs0.jpg', 'width': 720, 'height': 537, 'user': {'id': '30334357', 'firstName': 'Alonso', 'lastName': 'B', 'photo': {'prefix': 'https://fastly.4sqi.net/img/user/', 'suffix': '/30334357-UB1LGC5CHOEPYOCD'}}, 'visibility': 'public'}]}]}, 'venuePage': {'id': '46950489'}, 'reasons': {'count': 1, 'items': [{'summary': 'Lots of people like this place', 'type': 'general', 'reasonName': 'rawLikesReason'}]}, 'description': 'Curry Heights serves authentic Indian cuisine 7 days a week for lunch and dinner.', 'storeId': '', 'page': {'user': {'id': '46950489', 'firstName': 'Curry Heights', 'photo': {'prefix': 'https://fastly.4sqi.net/img/user/', 'suffix': '/46950489-K2WAZDLLIH22NI11.png'}, 'type': 'venuePage', 'venue': {'id': '4b8ffc16f964a520246e33e3'}, 'tips': {'count': 0}, 'lists': {'groups': [{'type': 'created', 'count': 2, 'items': []}]}, 'bio': ''}}, 'hereNow': {'count': 0, 'summary': 'Nobody here', 'groups': []}, 'createdAt': 1267727382, 'tips': {'count': 17, 'groups': [{'type': 'others', 'name': 'All tips', 'count': 17, 'items': [{'id': '5b494afed8096e002cfaea55', 'createdAt': 1531529982, 'text': 'The service and food is great! Great vegetarian options.', 'type': 'user', 'canonicalUrl': 'https://foursquare.com/item/5b494afed8096e002cfaea55', 'lang': 'en', 'likes': {'count': 0, 'groups': []}, 'logView': True, 'agreeCount': 0, 'disagreeCount': 0, 'todo': {'count': 0}, 'user': {'id': '68191221', 'firstName': 'Jeeleighanne', 'lastName': 'D', 'photo': {'prefix': 'https://fastly.4sqi.net/img/user/', 'suffix': '/68191221_kdLK738t_FondRcFagAphGoHZgj2uCV-zEpO2d6T0mObjX2umOh0XGvy7VXWMeTe3VVUAh1EI.jpg'}}, 'authorInteractionType': 'liked'}]}]}, 'shortUrl': 'http://4sq.com/akdpYV', 'timeZone': 'America/New_York', 'listed': {'count': 12, 'groups': [{'type': 'others', 'name': 'Lists from other people', 'count': 12, 'items': [{'id': '5dcffed3411e2a0006373942', 'name': 'Wyatt’s place', 'description': '', 'type': 'others', 'user': {'id': '410193106', 'firstName': 'Meenal', 'lastName': 'P', 'photo': {'prefix': 'https://fastly.4sqi.net/img/user/', 'suffix': '/410193106_Q-PLe3oM_xgfNVRXHLwoo2xs6uLcBQXSx7-OICyDSeSNW0-4fJXAbG2-zWQrhrTc8Y-eLhfe_.jpg'}}, 'editable': False, 'public': True, 'collaborative': False, 'url': '/user/410193106/list/wyatts-place', 'canonicalUrl': 'https://foursquare.com/user/410193106/list/wyatts-place', 'createdAt': 1573912275, 'updatedAt': 1573913107, 'photo': {'id': '51bdf754498e60d2d629d2a9', 'createdAt': 1371404116, 'prefix': 'https://fastly.4sqi.net/img/general/', 'suffix': '/9968771_LM5oJeTmMtl5919p5ymSg47E1sGIzRF5utzGTBMfrgc.jpg', 'width': 816, 'height': 612, 'user': {'id': '9968771', 'firstName': 'Joshua', 'lastName': 'N', 'photo': {'prefix': 'https://fastly.4sqi.net/img/user/', 'suffix': '/9968771_c0PcfBzF_OQdrKi4R__TpKX4c2HBJw5SlpkHnFY7SKUpZ26_h6fm7ehvG9O_jpZRYOV8KEz_-.jpg'}}, 'visibility': 'public'}, 'followers': {'count': 0}, 'listItems': {'count': 102, 'items': [{'id': 'v4b8ffc16f964a520246e33e3', 'createdAt': 1573912644}]}}, {'id': '50e60071e4b07895ef0712f5', 'name': 'NYC 2', 'description': '', 'type': 'others', 'user': {'id': '38767', 'firstName': 'Patrick', 'lastName': 'M', 'photo': {'prefix': 'https://fastly.4sqi.net/img/user/', 'suffix': '/38767-S5VZOIJCPENG3VCN.jpg'}}, 'editable': False, 'public': True, 'collaborative': False, 'url': '/user/38767/list/nyc-2', 'canonicalUrl': 'https://foursquare.com/user/38767/list/nyc-2', 'createdAt': 1357250673, 'updatedAt': 1548548424, 'photo': {'id': '5011dd23f31c464689f19cb5', 'createdAt': 1343348003, 'prefix': 'https://fastly.4sqi.net/img/general/', 'suffix': '/TBajFP8M-Hhi9GI9an0a-8i40BFAnI2vUSaq1m-OQaY.jpg', 'width': 640, 'height': 478, 'user': {'id': '24933846', 'firstName': 'Untapped Cities', 'photo': {'prefix': 'https://fastly.4sqi.net/img/user/', 'suffix': '/WSOFF3VJOVOYKLOK.jpg'}, 'type': 'page'}, 'visibility': 'public'}, 'followers': {'count': 1}, 'listItems': {'count': 119, 'items': [{'id': 'v4b8ffc16f964a520246e33e3', 'createdAt': 1514325937}]}}, {'id': '54dfef1a498e1ffe9af87ce1', 'name': 'want to go to', 'description': '', 'type': 'others', 'user': {'id': '155746', 'firstName': 'Sergey', 'lastName': 'S', 'photo': {'prefix': 'https://fastly.4sqi.net/img/user/', 'suffix': '/155746-0FPT2MUADVL5MI5A.jpg'}}, 'editable': False, 'public': True, 'collaborative': False, 'url': '/sergeydgr8/list/want-to-go-to', 'canonicalUrl': 'https://foursquare.com/sergeydgr8/list/want-to-go-to', 'createdAt': 1423961882, 'updatedAt': 1506626936, 'photo': {'id': '4e32b8bc45ddcff0a75755db', 'createdAt': 1311946940, 'prefix': 'https://fastly.4sqi.net/img/general/', 'suffix': '/GMES3AJVZFTQAV5PIK5OH0ZF314T1QEXE0QD10HISI4KR1RJ.jpg', 'width': 537, 'height': 720, 'user': {'id': '10474', 'firstName': 'Chris', 'lastName': 'P', 'photo': {'prefix': 'https://fastly.4sqi.net/img/user/', 'suffix': '/I10BGKBX25AVKL44.jpg'}}, 'visibility': 'public'}, 'followers': {'count': 0}, 'listItems': {'count': 15, 'items': [{'id': 'v4b8ffc16f964a520246e33e3', 'createdAt': 1423962135}]}}, {'id': '5134588ae4b0c82703e8514e', 'name': 'BK', 'description': '', 'type': 'others', 'user': {'id': '4165838', 'firstName': 'gigi', 'lastName': 'g', 'photo': {'prefix': 'https://fastly.4sqi.net/img/user/', 'suffix': '/5EJTVE4APA214YS0.jpg'}}, 'editable': False, 'public': True, 'collaborative': False, 'url': '/user/4165838/list/bk', 'canonicalUrl': 'https://foursquare.com/user/4165838/list/bk', 'createdAt': 1362385034, 'updatedAt': 1433116313, 'photo': {'id': '4e6248a3aeb7360314d764b6', 'createdAt': 1315063971, 'prefix': 'https://fastly.4sqi.net/img/general/', 'suffix': '/U4TYFJ3BILPXPJXXI4J5LHNJYP41C35ISMQIZ5HW23MEBIU3.jpg', 'width': 720, 'height': 540, 'user': {'id': '17020', 'firstName': 'Ted', 'lastName': 'P', 'photo': {'prefix': 'https://fastly.4sqi.net/img/user/', 'suffix': '/LMCELA0LDJLLEORX.png'}}, 'visibility': 'public'}, 'followers': {'count': 1}, 'listItems': {'count': 113, 'items': [{'id': 'v4b8ffc16f964a520246e33e3', 'createdAt': 1425839385}]}}]}]}, 'hours': {'status': 'Open until 10:30 PM', 'richStatus': {'entities': [], 'text': 'Open until 10:30 PM'}, 'isOpen': True, 'isLocalHoliday': False, 'dayData': [], 'timeframes': [{'days': 'Mon–Thu, Sun', 'includesToday': True, 'open': [{'renderedTime': '11:00 AM–10:30 PM'}], 'segments': []}, {'days': 'Fri–Sat', 'open': [{'renderedTime': '11:00 AM–11:30 PM'}], 'segments': []}]}, 'popular': {'status': 'Likely open', 'richStatus': {'entities': [], 'text': 'Likely open'}, 'isOpen': True, 'isLocalHoliday': False, 'timeframes': [{'days': 'Today', 'includesToday': True, 'open': [{'renderedTime': 'Noon–9:00 PM'}], 'segments': []}, {'days': 'Tue', 'open': [{'renderedTime': 'Noon–10:00 PM'}], 'segments': []}, {'days': 'Wed', 'open': [{'renderedTime': 'Noon–3:00 PM'}, {'renderedTime': '5:00 PM–10:00 PM'}], 'segments': []}, {'days': 'Thu', 'open': [{'renderedTime': 'Noon–10:00 PM'}], 'segments': []}, {'days': 'Fri', 'open': [{'renderedTime': 'Noon–3:00 PM'}, {'renderedTime': '7:00 PM–10:00 PM'}], 'segments': []}, {'days': 'Sat', 'open': [{'renderedTime': '5:00 PM–10:00 PM'}], 'segments': []}, {'days': 'Sun', 'open': [{'renderedTime': '1:00 PM–4:00 PM'}, {'renderedTime': '6:00 PM–9:00 PM'}], 'segments': []}]}, 'pageUpdates': {'count': 0, 'items': []}, 'inbox': {'count': 0, 'items': []}, 'attributes': {'groups': [{'type': 'price', 'name': 'Price', 'summary': '$$', 'count': 1, 'items': [{'displayName': 'Price', 'displayValue': '$$', 'priceTier': 2}]}, {'type': 'reservations', 'name': 'Reservations', 'summary': 'Reservations', 'count': 3, 'items': [{'displayName': 'Reservations', 'displayValue': 'Yes'}]}, {'type': 'payments', 'name': 'Credit Cards', 'summary': 'Credit Cards', 'count': 7, 'items': [{'displayName': 'Credit Cards', 'displayValue': 'Yes (incl. Discover & Visa)'}]}, {'type': 'outdoorSeating', 'name': 'Outdoor Seating', 'count': 1, 'items': [{'displayName': 'Outdoor Seating', 'displayValue': 'No'}]}, {'type': 'serves', 'name': 'Menus', 'summary': 'Dinner, Lunch & more', 'count': 8, 'items': [{'displayName': 'Brunch', 'displayValue': 'Brunch'}, {'displayName': 'Lunch', 'displayValue': 'Lunch'}, {'displayName': 'Dinner', 'displayValue': 'Dinner'}]}, {'type': 'diningOptions', 'name': 'Dining Options', 'summary': 'Delivery', 'count': 5, 'items': [{'displayName': 'Delivery', 'displayValue': 'Delivery'}]}, {'type': 'parking', 'name': 'Parking', 'summary': 'Street Parking', 'count': 5, 'items': [{'displayName': 'Street Parking', 'displayValue': 'Street'}]}, {'type': 'restroom', 'name': 'Restroom', 'summary': 'Restroom', 'count': 1, 'items': [{'displayName': 'Restroom', 'displayValue': 'Yes'}]}, {'type': 'tvs', 'name': 'TVs', 'summary': 'TVs', 'count': 1, 'items': [{'displayName': 'TVs', 'displayValue': 'Yes'}]}]}, 'bestPhoto': {'id': '4fe2027ce4b05fd6aee9cd7c', 'createdAt': 1340211836, 'source': {'name': 'Foursquare for iOS', 'url': 'https://foursquare.com/download/#/iphone'}, 'prefix': 'https://fastly.4sqi.net/img/general/', 'suffix': '/Z-7MKy2IojDiu52C2o202JJE3aGSqtew6T-PM3mofs0.jpg', 'width': 720, 'height': 537, 'visibility': 'public'}, 'colors': {'highlightColor': {'photoId': '4fe2027ce4b05fd6aee9cd7c', 'value': -4679608}, 'highlightTextColor': {'photoId': '4fe2027ce4b05fd6aee9cd7c', 'value': -16777216}, 'algoVersion': 3}}}}\n",
      "                         ID           Name  Likes  Rating  Tips\n",
      "0  4b8ffc16f964a520246e33e3  Curry Heights     31     7.2    17\n",
      "( 6 / 39 ) processed\n"
     ]
    },
    {
     "name": "stdout",
     "output_type": "stream",
     "text": [
      "{'meta': {'code': 200, 'requestId': '5e1ca2283907e7002268dc98'}, 'response': {'venue': {'id': '52f18573498ec2c34e830ffd', 'name': \"Kanan's Indian Restaurant\", 'contact': {'phone': '7183693777', 'formattedPhone': '(718) 369-3777'}, 'location': {'address': '452 3rd Ave', 'crossStreet': '9th Street', 'lat': 40.671890999999995, 'lng': -73.99094000000001, 'labeledLatLngs': [{'label': 'display', 'lat': 40.671890999999995, 'lng': -73.99094000000001}], 'postalCode': '11215', 'cc': 'US', 'city': 'Brooklyn', 'state': 'NY', 'country': 'United States', 'formattedAddress': ['452 3rd Ave (9th Street)', 'Brooklyn, NY 11215', 'United States']}, 'canonicalUrl': 'https://foursquare.com/v/kanans-indian-restaurant/52f18573498ec2c34e830ffd', 'categories': [{'id': '4bf58dd8d48988d10f941735', 'name': 'Indian Restaurant', 'pluralName': 'Indian Restaurants', 'shortName': 'Indian', 'icon': {'prefix': 'https://ss3.4sqi.net/img/categories_v2/food/indian_', 'suffix': '.png'}, 'primary': True}], 'verified': False, 'stats': {'tipCount': 8}, 'url': 'https://www.kananindian.com', 'price': {'tier': 2, 'message': 'Moderate', 'currency': '$'}, 'likes': {'count': 23, 'groups': [{'type': 'others', 'count': 23, 'items': []}], 'summary': '23 Likes'}, 'dislike': False, 'ok': False, 'rating': 7.8, 'ratingColor': 'C5DE35', 'ratingSignals': 35, 'delivery': {'id': '288581', 'url': 'https://www.seamless.com/menu/kanan-indian-restaurant-452-3rd-ave-brooklyn/288581?affiliate=1131&utm_source=foursquare-affiliate-network&utm_medium=affiliate&utm_campaign=1131&utm_content=288581', 'provider': {'name': 'seamless', 'icon': {'prefix': 'https://fastly.4sqi.net/img/general/cap/', 'sizes': [40, 50], 'name': '/delivery_provider_seamless_20180129.png'}}}, 'allowMenuUrlEdit': True, 'beenHere': {'count': 0, 'unconfirmedCount': 0, 'marked': False, 'lastCheckinExpiredAt': 0}, 'specials': {'count': 0, 'items': []}, 'photos': {'count': 1, 'groups': [{'type': 'venue', 'name': 'Venue photos', 'count': 1, 'items': [{'id': '58e2eab5243ce244ceb70f2b', 'createdAt': 1491266229, 'source': {'name': 'Foursquare Web', 'url': 'https://foursquare.com'}, 'prefix': 'https://fastly.4sqi.net/img/general/', 'suffix': '/414927771_lVC7jooPbi4DzIrwuLYBpNuGGgq8yIuevGg0G0st_bw.jpg', 'width': 700, 'height': 465, 'user': {'id': '414927771', 'firstName': 'Multi', 'photo': {'prefix': 'https://fastly.4sqi.net/img/user/', 'suffix': '/414927771_5RIAcpfw_hlkj4Ta9VxdGTomHLDd3wW_4uUk9TM5ebyP6EXFqyHuO9h8G2296cdoBRKZx5642.png'}}, 'visibility': 'public'}]}]}, 'reasons': {'count': 0, 'items': []}, 'hereNow': {'count': 0, 'summary': 'Nobody here', 'groups': []}, 'createdAt': 1391560051, 'tips': {'count': 8, 'groups': [{'type': 'others', 'name': 'All tips', 'count': 8, 'items': [{'id': '53b74d2a498e89046a4ae3dd', 'createdAt': 1404521770, 'text': 'Lamb dostana with dates, cashews, and coconut milk totally rocked my world!', 'type': 'user', 'canonicalUrl': 'https://foursquare.com/item/53b74d2a498e89046a4ae3dd', 'lang': 'en', 'likes': {'count': 1, 'groups': [{'type': 'others', 'count': 1, 'items': [{'id': '58475154', 'firstName': 'Hannah', 'lastName': 'Z', 'photo': {'prefix': 'https://fastly.4sqi.net/img/user/', 'suffix': '/blank_boy.png', 'default': True}}]}], 'summary': '1 like'}, 'logView': True, 'agreeCount': 2, 'disagreeCount': 0, 'todo': {'count': 0}, 'user': {'id': '6553169', 'firstName': 'Leah', 'lastName': 'L', 'photo': {'prefix': 'https://fastly.4sqi.net/img/user/', 'suffix': '/6553169-BEAK5FAPT11YPZOG.jpg'}}}]}]}, 'shortUrl': 'http://4sq.com/1gKFSNC', 'timeZone': 'America/New_York', 'listed': {'count': 7, 'groups': [{'type': 'others', 'name': 'Lists from other people', 'count': 7, 'items': [{'id': '5b12bb3d86f4cc002c65cba7', 'name': 'Parkwanus', 'description': '', 'type': 'others', 'user': {'id': '13039245', 'firstName': 'Chad', 'lastName': 'L', 'photo': {'prefix': 'https://fastly.4sqi.net/img/user/', 'suffix': '/13039245-PC4VVQCE455I2YOC.jpg'}}, 'editable': False, 'public': True, 'collaborative': True, 'url': '/charredlarvae/list/parkwanus', 'canonicalUrl': 'https://foursquare.com/charredlarvae/list/parkwanus', 'createdAt': 1527954237, 'updatedAt': 1576346868, 'photo': {'id': '516358dae4b08b27254d2aef', 'createdAt': 1365465306, 'prefix': 'https://fastly.4sqi.net/img/general/', 'suffix': '/1960090_X7qgE2pUPLeIqrUpnJljCIMPIaWmaLW3KVfIq6iBEuU.jpg', 'width': 612, 'height': 612, 'user': {'id': '1960090', 'firstName': 'Dan', 'lastName': 'S', 'photo': {'prefix': 'https://fastly.4sqi.net/img/user/', 'suffix': '/YHV5YVA1E4C5UGKS.jpg'}}, 'visibility': 'public'}, 'followers': {'count': 1}, 'listItems': {'count': 50, 'items': [{'id': 'v52f18573498ec2c34e830ffd', 'createdAt': 1528424440}]}}, {'id': '4f902b43e4b0c550e1c14a27', 'name': 'Interesting Gowanus/PS Restaurants', 'description': '', 'type': 'others', 'user': {'id': '1003', 'firstName': 'Jeff', 'lastName': 'B', 'photo': {'prefix': 'https://fastly.4sqi.net/img/user/', 'suffix': '/1003_1236957310.jpg'}}, 'editable': False, 'public': True, 'collaborative': False, 'url': '/jeffbaum/list/interesting-gowanusps-restaurants', 'canonicalUrl': 'https://foursquare.com/jeffbaum/list/interesting-gowanusps-restaurants', 'createdAt': 1334848323, 'updatedAt': 1399740925, 'followers': {'count': 7}, 'listItems': {'count': 28, 'items': [{'id': 'v52f18573498ec2c34e830ffd', 'createdAt': 1396531715}]}}, {'id': '5a29db481987ec749a03f5f1', 'name': 'Gowanus', 'description': '', 'type': 'others', 'user': {'id': '79150294', 'firstName': 'kc', 'photo': {'prefix': 'https://fastly.4sqi.net/img/user/', 'suffix': '/blank_girl.png', 'default': True}}, 'editable': False, 'public': True, 'collaborative': False, 'url': '/user/79150294/list/gowanus', 'canonicalUrl': 'https://foursquare.com/user/79150294/list/gowanus', 'createdAt': 1512692552, 'updatedAt': 1571494193, 'photo': {'id': '53110a8a498e6039250b2916', 'createdAt': 1393625738, 'prefix': 'https://fastly.4sqi.net/img/general/', 'suffix': '/29733_mMxAV-8Y5rfP0Ui3rWGDii_TSYdqw7jPrcpP37BWD30.jpg', 'width': 720, 'height': 720, 'user': {'id': '29733', 'firstName': 'Shawn', 'lastName': 'C', 'photo': {'prefix': 'https://fastly.4sqi.net/img/user/', 'suffix': '/4P5KU31XA43DFF4E.jpg'}}, 'visibility': 'public'}, 'followers': {'count': 0}, 'listItems': {'count': 37, 'items': [{'id': 'v52f18573498ec2c34e830ffd', 'createdAt': 1544522360}]}}, {'id': '58e2e71b00841a1094c396c2', 'name': 'Tasty Vegan Restaurants That Deliver in Brooklyn', 'description': \"Here's a list of restaurants with great vegan options in Brooklyn that also deliver - Updated weekly!\\n\\nhttp://bit.ly/usemultivegantips\\n\\nwww.multi.nyc 👉 Search & order delivery across all apps! 🙏\", 'entities': [{'indices': [103, 134], 'type': 'url', 'object': {'url': 'http://bit.ly/usemultivegantips'}}, {'indices': [136, 149], 'type': 'url', 'object': {'url': 'http://www.multi.nyc'}}], 'type': 'others', 'user': {'id': '414927771', 'firstName': 'Multi', 'photo': {'prefix': 'https://fastly.4sqi.net/img/user/', 'suffix': '/414927771_5RIAcpfw_hlkj4Ta9VxdGTomHLDd3wW_4uUk9TM5ebyP6EXFqyHuO9h8G2296cdoBRKZx5642.png'}}, 'editable': False, 'public': True, 'collaborative': False, 'url': '/usemulti/list/tasty-vegan-restaurants-that-deliver-in-brooklyn', 'canonicalUrl': 'https://foursquare.com/usemulti/list/tasty-vegan-restaurants-that-deliver-in-brooklyn', 'createdAt': 1491265307, 'updatedAt': 1491269674, 'photo': {'id': '514cbd4ee4b0ef15054140ef', 'createdAt': 1363983694, 'prefix': 'https://fastly.4sqi.net/img/general/', 'suffix': '/23830819_-nBWsPfdLSOsJ3XY8nzlHjKhE7gp28FquiSka0E_udc.jpg', 'width': 717, 'height': 959, 'user': {'id': '23830819', 'firstName': 'Sarah', 'lastName': 'S', 'photo': {'prefix': 'https://fastly.4sqi.net/img/user/', 'suffix': '/32MP3DIKULBUJ4UX.jpg'}}, 'visibility': 'public'}, 'followers': {'count': 2}, 'listItems': {'count': 13, 'items': [{'id': 'v52f18573498ec2c34e830ffd', 'createdAt': 1491265649, 'photo': {'id': '58e2eab5243ce244ceb70f2b', 'createdAt': 1491266229, 'prefix': 'https://fastly.4sqi.net/img/general/', 'suffix': '/414927771_lVC7jooPbi4DzIrwuLYBpNuGGgq8yIuevGg0G0st_bw.jpg', 'width': 700, 'height': 465, 'user': {'id': '414927771', 'firstName': 'Multi', 'photo': {'prefix': 'https://fastly.4sqi.net/img/user/', 'suffix': '/414927771_5RIAcpfw_hlkj4Ta9VxdGTomHLDd3wW_4uUk9TM5ebyP6EXFqyHuO9h8G2296cdoBRKZx5642.png'}}, 'visibility': 'public'}}]}}]}]}, 'pageUpdates': {'count': 0, 'items': []}, 'inbox': {'count': 0, 'items': []}, 'attributes': {'groups': [{'type': 'price', 'name': 'Price', 'summary': '$$', 'count': 1, 'items': [{'displayName': 'Price', 'displayValue': '$$', 'priceTier': 2}]}, {'type': 'reservations', 'name': 'Reservations', 'summary': 'Reservations', 'count': 3, 'items': [{'displayName': 'Reservations', 'displayValue': 'Yes'}]}, {'type': 'payments', 'name': 'Credit Cards', 'summary': 'Credit Cards', 'count': 7, 'items': [{'displayName': 'Credit Cards', 'displayValue': 'Yes'}]}, {'type': 'outdoorSeating', 'name': 'Outdoor Seating', 'count': 1, 'items': [{'displayName': 'Outdoor Seating', 'displayValue': 'No'}]}, {'type': 'diningOptions', 'name': 'Dining Options', 'summary': 'Delivery', 'count': 5, 'items': [{'displayName': 'Delivery', 'displayValue': 'Delivery'}]}]}, 'bestPhoto': {'id': '58e2eab5243ce244ceb70f2b', 'createdAt': 1491266229, 'source': {'name': 'Foursquare Web', 'url': 'https://foursquare.com'}, 'prefix': 'https://fastly.4sqi.net/img/general/', 'suffix': '/414927771_lVC7jooPbi4DzIrwuLYBpNuGGgq8yIuevGg0G0st_bw.jpg', 'width': 700, 'height': 465, 'visibility': 'public'}, 'colors': {'highlightColor': {'photoId': '58e2eab5243ce244ceb70f2b', 'value': -1515336}, 'highlightTextColor': {'photoId': '58e2eab5243ce244ceb70f2b', 'value': -16777216}, 'algoVersion': 3}}}}\n",
      "                         ID                       Name  Likes  Rating  Tips\n",
      "0  52f18573498ec2c34e830ffd  Kanan's Indian Restaurant     23     7.8     8\n",
      "( 7 / 39 ) processed\n"
     ]
    },
    {
     "name": "stdout",
     "output_type": "stream",
     "text": [
      "{'meta': {'code': 200, 'requestId': '5e1ca2660de0d9001b3b9022'}, 'response': {'venue': {'id': '57596dad498e732300496b23', 'name': 'Dosa Royale', 'contact': {'phone': '7185763800', 'formattedPhone': '(718) 576-3800'}, 'location': {'address': '258 Dekalb Ave', 'lat': 40.689466368706604, 'lng': -73.96870434089776, 'labeledLatLngs': [{'label': 'display', 'lat': 40.689466368706604, 'lng': -73.96870434089776}], 'postalCode': '11205', 'cc': 'US', 'city': 'New York', 'state': 'NY', 'country': 'United States', 'formattedAddress': ['258 Dekalb Ave', 'New York, NY 11205', 'United States']}, 'canonicalUrl': 'https://foursquare.com/v/dosa-royale/57596dad498e732300496b23', 'categories': [{'id': '4bf58dd8d48988d10f941735', 'name': 'Indian Restaurant', 'pluralName': 'Indian Restaurants', 'shortName': 'Indian', 'icon': {'prefix': 'https://ss3.4sqi.net/img/categories_v2/food/indian_', 'suffix': '.png'}, 'primary': True}], 'verified': False, 'stats': {'tipCount': 22}, 'url': 'http://www.dosaroyale.com', 'price': {'tier': 2, 'message': 'Moderate', 'currency': '$'}, 'likes': {'count': 75, 'groups': [{'type': 'others', 'count': 75, 'items': []}], 'summary': '75 Likes'}, 'dislike': False, 'ok': False, 'rating': 8.6, 'ratingColor': '73CF42', 'ratingSignals': 101, 'delivery': {'id': '289966', 'url': 'https://www.seamless.com/menu/dosa-royale--258-dekalb-ave-brooklyn-/289966?affiliate=1131&utm_source=foursquare-affiliate-network&utm_medium=affiliate&utm_campaign=1131&utm_content=289966', 'provider': {'name': 'seamless', 'icon': {'prefix': 'https://fastly.4sqi.net/img/general/cap/', 'sizes': [40, 50], 'name': '/delivery_provider_seamless_20180129.png'}}}, 'allowMenuUrlEdit': True, 'beenHere': {'count': 0, 'unconfirmedCount': 0, 'marked': False, 'lastCheckinExpiredAt': 0}, 'specials': {'count': 0, 'items': []}, 'photos': {'count': 18, 'groups': [{'type': 'venue', 'name': 'Venue photos', 'count': 18, 'items': [{'id': '576b693b498eda44b268b4c9', 'createdAt': 1466657083, 'source': {'name': 'Instagram', 'url': 'http://instagram.com'}, 'prefix': 'https://fastly.4sqi.net/img/general/', 'suffix': '/40221568_Yo4kb4ldU_RfcAe2vHu6GA5lJErtWknT2MVGccQYVCQ.jpg', 'width': 1080, 'height': 1080, 'user': {'id': '40221568', 'firstName': 'Nnandan', 'lastName': 'S', 'photo': {'prefix': 'https://fastly.4sqi.net/img/user/', 'suffix': '/40221568_uCfOR2UQ_1IucpGXmcBlZcU6rzzget5IJq8sHepBPcs_tjVl0yhLOaWoefVYO_MOVmyj_476q.jpg'}}, 'visibility': 'public'}]}]}, 'reasons': {'count': 1, 'items': [{'summary': 'Lots of people like this place', 'type': 'general', 'reasonName': 'rawLikesReason'}]}, 'hereNow': {'count': 0, 'summary': 'Nobody here', 'groups': []}, 'createdAt': 1465478573, 'tips': {'count': 22, 'groups': [{'type': 'others', 'name': 'All tips', 'count': 22, 'items': [{'id': '5c6796bfd3cce80039cfbc05', 'createdAt': 1550292671, 'text': 'cozy little restaurant hidden on a quiet block in clinton hill; super kind owners, delicious food with big portions.', 'type': 'user', 'canonicalUrl': 'https://foursquare.com/item/5c6796bfd3cce80039cfbc05', 'lang': 'en', 'likes': {'count': 0, 'groups': []}, 'logView': True, 'agreeCount': 0, 'disagreeCount': 0, 'todo': {'count': 0}, 'user': {'id': '80438711', 'firstName': 'Mia', 'lastName': 'A', 'photo': {'prefix': 'https://fastly.4sqi.net/img/user/', 'suffix': '/80438711_ybt3uIgz_EKDh9PK4mCgZ57UG1NmAx-O-Ep9g4AHl0hgD7aqssD0jPeotRRYaXR-192RDg4Ad.jpg'}}, 'authorInteractionType': 'liked'}]}]}, 'shortUrl': 'http://4sq.com/25OrFVF', 'timeZone': 'America/New_York', 'listed': {'count': 106, 'groups': [{'type': 'others', 'name': 'Lists from other people', 'count': 106, 'items': [{'id': '53482e77498e54b6b71f2c3d', 'name': 'Veggie/vegan friendly', 'description': '', 'type': 'others', 'user': {'id': '77565384', 'firstName': 'Jessica', 'lastName': 'F', 'photo': {'prefix': 'https://fastly.4sqi.net/img/user/', 'suffix': '/77565384-OHRVIVBKKMSVMJEV.jpg'}}, 'editable': False, 'public': True, 'collaborative': False, 'url': '/user/77565384/list/veggievegan-friendly', 'canonicalUrl': 'https://foursquare.com/user/77565384/list/veggievegan-friendly', 'createdAt': 1397239415, 'updatedAt': 1578665901, 'photo': {'id': '51ae4bf58bbdcecade0aedd6', 'createdAt': 1370377205, 'prefix': 'https://fastly.4sqi.net/img/general/', 'suffix': '/742542_iXq1TrJoQmVvqQs2cQ1AyENqMFISgWQZdxwgFSf93Vc.jpg', 'width': 555, 'height': 370, 'user': {'id': '742542', 'firstName': 'Time Out New York', 'photo': {'prefix': 'https://fastly.4sqi.net/img/user/', 'suffix': '/XXHKCBSQHBORZNSR.jpg'}, 'type': 'page'}, 'visibility': 'public'}, 'followers': {'count': 2}, 'listItems': {'count': 245, 'items': [{'id': 'v57596dad498e732300496b23', 'createdAt': 1561085780}]}}, {'id': '4e90d1290cd6d5e025d99e8a', 'name': 'NEED2FEED', 'description': 'FEED2NEED', 'type': 'others', 'user': {'id': '14570289', 'firstName': 'Mike', 'lastName': 'S', 'photo': {'prefix': 'https://fastly.4sqi.net/img/user/', 'suffix': '/3CQJ1UWXL221OV5P.png'}}, 'editable': False, 'public': True, 'collaborative': False, 'url': '/user/14570289/list/need2feed', 'canonicalUrl': 'https://foursquare.com/user/14570289/list/need2feed', 'createdAt': 1318113577, 'updatedAt': 1570216438, 'followers': {'count': 4}, 'listItems': {'count': 92, 'items': [{'id': 'v57596dad498e732300496b23', 'createdAt': 1540063217}]}}, {'id': '4e9784c2e5faa91ced177a4a', 'name': 'Brooklyn', 'description': '', 'type': 'others', 'user': {'id': '3859026', 'firstName': 'Vicky with a Y', 'photo': {'prefix': 'https://fastly.4sqi.net/img/user/', 'suffix': '/3859026_GMUEu4Co_GluMs5_q4e2-GA9WP4bnF0Ey5O3fUCErYEkBawxggIlDNs6IThYDLkhtOuX5kQFw.jpg'}}, 'editable': False, 'public': True, 'collaborative': False, 'url': '/vsayshi/list/brooklyn', 'canonicalUrl': 'https://foursquare.com/vsayshi/list/brooklyn', 'createdAt': 1318552770, 'updatedAt': 1477865209, 'photo': {'id': '4ef0ffd6a17c11403f29dfbd', 'createdAt': 1324416982, 'prefix': 'https://fastly.4sqi.net/img/general/', 'suffix': '/WM5Q5H2DII2SM5S5IX4F0M2GUVQSQDOEWEJQHEIIUETQJ1WJ.jpg', 'width': 427, 'height': 640, 'user': {'id': '8237390', 'firstName': 'Mike Bloomberg', 'photo': {'prefix': 'https://fastly.4sqi.net/img/user/', 'suffix': '/-J4PG0OVZQWRMMJ04.jpg'}}, 'visibility': 'public'}, 'followers': {'count': 6}, 'listItems': {'count': 23, 'items': [{'id': 'v57596dad498e732300496b23', 'createdAt': 1477865209}]}}, {'id': '4efb55818b81ef98d4273d14', 'name': 'BK restaurants', 'description': 'personal list of restaurants to visit', 'type': 'others', 'user': {'id': '23355', 'firstName': 'Dan', 'lastName': 'K', 'photo': {'prefix': 'https://fastly.4sqi.net/img/user/', 'suffix': '/23355-ULKIVMCI21C0M32V.jpg'}}, 'editable': False, 'public': True, 'collaborative': False, 'url': '/user/23355/list/bk-restaurants', 'canonicalUrl': 'https://foursquare.com/user/23355/list/bk-restaurants', 'createdAt': 1325094273, 'updatedAt': 1578691019, 'photo': {'id': '4e3817b6091ae705a0fa1d30', 'createdAt': 1312298934, 'prefix': 'https://fastly.4sqi.net/img/general/', 'suffix': '/2X2HNUOJKS1UT0ZPFG1VNKTI4AVP4IPZQCQL4PNQ4MXOXLGR.jpg', 'width': 492, 'height': 330, 'user': {'id': '742542', 'firstName': 'Time Out New York', 'photo': {'prefix': 'https://fastly.4sqi.net/img/user/', 'suffix': '/XXHKCBSQHBORZNSR.jpg'}, 'type': 'page'}, 'visibility': 'public'}, 'followers': {'count': 43}, 'listItems': {'count': 170, 'items': [{'id': 'v57596dad498e732300496b23', 'createdAt': 1510943284}]}}]}]}, 'hours': {'status': 'Open until 11:00 PM', 'richStatus': {'entities': [], 'text': 'Open until 11:00 PM'}, 'isOpen': True, 'isLocalHoliday': False, 'dayData': [], 'timeframes': [{'days': 'Mon–Sat', 'includesToday': True, 'open': [{'renderedTime': '11:00 AM–11:00 PM'}], 'segments': []}, {'days': 'Sun', 'open': [{'renderedTime': '11:00 AM–10:00 PM'}], 'segments': []}]}, 'popular': {'isOpen': False, 'isLocalHoliday': False, 'timeframes': [{'days': 'Today', 'includesToday': True, 'open': [{'renderedTime': '1:00 PM–2:00 PM'}, {'renderedTime': '5:00 PM–10:00 PM'}], 'segments': []}, {'days': 'Tue–Wed', 'open': [{'renderedTime': 'Noon–1:00 PM'}, {'renderedTime': '6:00 PM–10:00 PM'}], 'segments': []}, {'days': 'Thu', 'open': [{'renderedTime': '1:00 PM–2:00 PM'}, {'renderedTime': '6:00 PM–10:00 PM'}], 'segments': []}, {'days': 'Fri', 'open': [{'renderedTime': 'Noon–3:00 PM'}, {'renderedTime': '5:00 PM–10:00 PM'}], 'segments': []}, {'days': 'Sat', 'open': [{'renderedTime': 'Noon–11:00 PM'}], 'segments': []}, {'days': 'Sun', 'open': [{'renderedTime': 'Noon–9:00 PM'}], 'segments': []}]}, 'pageUpdates': {'count': 0, 'items': []}, 'inbox': {'count': 0, 'items': []}, 'attributes': {'groups': [{'type': 'price', 'name': 'Price', 'summary': '$$', 'count': 1, 'items': [{'displayName': 'Price', 'displayValue': '$$', 'priceTier': 2}]}, {'type': 'payments', 'name': 'Credit Cards', 'summary': 'No Credit Cards', 'count': 7, 'items': [{'displayName': 'Credit Cards', 'displayValue': 'No'}]}, {'type': 'outdoorSeating', 'name': 'Outdoor Seating', 'summary': 'Outdoor Seating', 'count': 1, 'items': [{'displayName': 'Outdoor Seating', 'displayValue': 'Yes'}]}, {'type': 'serves', 'name': 'Menus', 'summary': 'Dinner, Lunch & more', 'count': 8, 'items': [{'displayName': 'Brunch', 'displayValue': 'Brunch'}, {'displayName': 'Lunch', 'displayValue': 'Lunch'}, {'displayName': 'Dinner', 'displayValue': 'Dinner'}]}, {'type': 'diningOptions', 'name': 'Dining Options', 'summary': 'Table Service & Delivery', 'count': 5, 'items': [{'displayName': 'Table Service', 'displayValue': 'Table Service'}, {'displayName': 'Delivery', 'displayValue': 'Delivery'}]}]}, 'bestPhoto': {'id': '576b693b498eda44b268b4c9', 'createdAt': 1466657083, 'source': {'name': 'Instagram', 'url': 'http://instagram.com'}, 'prefix': 'https://fastly.4sqi.net/img/general/', 'suffix': '/40221568_Yo4kb4ldU_RfcAe2vHu6GA5lJErtWknT2MVGccQYVCQ.jpg', 'width': 1080, 'height': 1080, 'visibility': 'public'}, 'colors': {'highlightColor': {'photoId': '576b693b498eda44b268b4c9', 'value': -1511208}, 'highlightTextColor': {'photoId': '576b693b498eda44b268b4c9', 'value': -16777216}, 'algoVersion': 3}}}}\n",
      "                         ID         Name  Likes  Rating  Tips\n",
      "0  57596dad498e732300496b23  Dosa Royale     75     8.6    22\n",
      "( 8 / 39 ) processed\n"
     ]
    },
    {
     "name": "stdout",
     "output_type": "stream",
     "text": [
      "{'meta': {'code': 200, 'requestId': '5e1ca25dedbcad001b25029b'}, 'response': {'venue': {'id': '568d3902498e619efcbc3f58', 'name': 'Spice & Grill', 'contact': {}, 'location': {'address': '441 Myrtle Ave', 'crossStreet': 'Waverly', 'lat': 40.693389, 'lng': -73.968028, 'labeledLatLngs': [{'label': 'display', 'lat': 40.693389, 'lng': -73.968028}], 'postalCode': '11205', 'cc': 'US', 'city': 'Brooklyn', 'state': 'NY', 'country': 'United States', 'formattedAddress': ['441 Myrtle Ave (Waverly)', 'Brooklyn, NY 11205', 'United States']}, 'canonicalUrl': 'https://foursquare.com/v/spice--grill/568d3902498e619efcbc3f58', 'categories': [{'id': '4bf58dd8d48988d10f941735', 'name': 'Indian Restaurant', 'pluralName': 'Indian Restaurants', 'shortName': 'Indian', 'icon': {'prefix': 'https://ss3.4sqi.net/img/categories_v2/food/indian_', 'suffix': '.png'}, 'primary': True}], 'verified': False, 'stats': {'tipCount': 6}, 'price': {'tier': 2, 'message': 'Moderate', 'currency': '$'}, 'likes': {'count': 19, 'groups': [{'type': 'others', 'count': 19, 'items': []}], 'summary': '19 Likes'}, 'dislike': False, 'ok': False, 'rating': 7.7, 'ratingColor': 'C5DE35', 'ratingSignals': 30, 'allowMenuUrlEdit': True, 'beenHere': {'count': 0, 'unconfirmedCount': 0, 'marked': False, 'lastCheckinExpiredAt': 0}, 'specials': {'count': 0, 'items': []}, 'photos': {'count': 6, 'groups': [{'type': 'venue', 'name': 'Venue photos', 'count': 6, 'items': [{'id': '5b554170c4404e001cbc06c2', 'createdAt': 1532313968, 'source': {'name': 'Swarm for iOS', 'url': 'https://www.swarmapp.com'}, 'prefix': 'https://fastly.4sqi.net/img/general/', 'suffix': '/13005516_pCRNP52QocRlMNbLyUe9FCf2Fox43s8WcoccEvXIwg8.jpg', 'width': 1440, 'height': 1920, 'user': {'id': '13005516', 'firstName': 'Rye', 'lastName': 'R', 'photo': {'prefix': 'https://fastly.4sqi.net/img/user/', 'suffix': '/PDG5TDINMHJTKHQU.jpg'}}, 'visibility': 'public'}]}]}, 'reasons': {'count': 0, 'items': []}, 'hereNow': {'count': 0, 'summary': 'Nobody here', 'groups': []}, 'createdAt': 1452095746, 'tips': {'count': 6, 'groups': [{'type': 'others', 'name': 'All tips', 'count': 6, 'items': [{'id': '5d2ea54bf19f440032011c18', 'createdAt': 1563338059, 'text': 'Byob! The chicken vindaloo was awesome and 🌶 🌶 🌶', 'type': 'user', 'canonicalUrl': 'https://foursquare.com/item/5d2ea54bf19f440032011c18', 'lang': 'en', 'likes': {'count': 0, 'groups': []}, 'logView': True, 'agreeCount': 0, 'disagreeCount': 0, 'todo': {'count': 0}, 'user': {'id': '136111159', 'firstName': 'KE', 'photo': {'prefix': 'https://fastly.4sqi.net/img/user/', 'suffix': '/136111159_D2t89nhw_RkYxw6W8QDu0zT6FvI53p7v3jtrWAurubq0NftfyJGmOLfeVg_b5UkVzMucdCpiE.jpg'}}, 'authorInteractionType': 'meh'}]}]}, 'shortUrl': 'http://4sq.com/1Ju8MjD', 'timeZone': 'America/New_York', 'listed': {'count': 20, 'groups': [{'type': 'others', 'name': 'Lists from other people', 'count': 20, 'items': [{'id': '55d781a7498ed46685d50fe1', 'name': 'Brooklyn, NY - Vol. 2', 'description': 'More favorites & still-need-to-visits in BK', 'type': 'others', 'user': {'id': '83751437', 'firstName': 'Nathan', 'lastName': 'H', 'photo': {'prefix': 'https://fastly.4sqi.net/img/user/', 'suffix': '/83751437-NTIC53RQWPS2QF3X.jpg'}}, 'editable': False, 'public': True, 'collaborative': False, 'url': '/nathos/list/brooklyn-ny--vol-2', 'canonicalUrl': 'https://foursquare.com/nathos/list/brooklyn-ny--vol-2', 'createdAt': 1440186791, 'updatedAt': 1515552786, 'photo': {'id': '513a1c61e4b0c75bcb668869', 'createdAt': 1362762849, 'prefix': 'https://fastly.4sqi.net/img/general/', 'suffix': '/48878036_dt5tx1IZSx1jO_o8Uo3zbpZMTeYcmK6ca3lllAsonW8.jpg', 'width': 612, 'height': 612, 'user': {'id': '48878036', 'firstName': 'Luca', 'lastName': 'A', 'photo': {'prefix': 'https://fastly.4sqi.net/img/user/', 'suffix': '/NXBGZDAVUTLOY2ZL.jpg'}}, 'visibility': 'public'}, 'followers': {'count': 1}, 'listItems': {'count': 211, 'items': [{'id': 'v568d3902498e619efcbc3f58', 'createdAt': 1506546613}]}}, {'id': '570d284c498e4227d3e8279a', 'name': 'NYC', 'description': 'Cafés, museos, galerías, librerías', 'type': 'others', 'user': {'id': '40555956', 'firstName': 'Gabriela', 'lastName': 'L', 'photo': {'prefix': 'https://fastly.4sqi.net/img/user/', 'suffix': '/40555956_TXVyM7V-_D04oq0jaa37VwD70ZybKOUeiZsimW2PLjTYec7Y2ts2jHnvSS2XEucGVQU2cb4cu.jpg'}}, 'editable': False, 'public': True, 'collaborative': False, 'url': '/user/40555956/list/nyc', 'canonicalUrl': 'https://foursquare.com/user/40555956/list/nyc', 'createdAt': 1460480076, 'updatedAt': 1572656199, 'followers': {'count': 3}, 'listItems': {'count': 190, 'items': [{'id': 'v568d3902498e619efcbc3f58', 'createdAt': 1506015487}]}}, {'id': '5985cbf8b3d8e21f5ea9ef57', 'name': 'Byob', 'description': '', 'type': 'others', 'user': {'id': '380244277', 'firstName': '', 'photo': {'prefix': 'https://fastly.4sqi.net/img/user/', 'suffix': '/blank_boy.png', 'default': True}}, 'editable': False, 'public': True, 'collaborative': False, 'url': '/user/380244277/list/byob', 'canonicalUrl': 'https://foursquare.com/user/380244277/list/byob', 'createdAt': 1501940728, 'updatedAt': 1501940776, 'photo': {'id': '52fec202498e75fb03fc209f', 'createdAt': 1392427522, 'prefix': 'https://fastly.4sqi.net/img/general/', 'suffix': '/432174_GnLnHYJR29xiaGMqx7XsQvxC1_opKVlub_MMuVpDIM4.jpg', 'width': 720, 'height': 960, 'user': {'id': '432174', 'firstName': 'Jill', 'lastName': 'K', 'photo': {'prefix': 'https://fastly.4sqi.net/img/user/', 'suffix': '/DUZWT5Q30P0SJJC5.jpg'}}, 'visibility': 'public'}, 'followers': {'count': 0}, 'listItems': {'count': 2, 'items': [{'id': 'v568d3902498e619efcbc3f58', 'createdAt': 1501940776}]}}, {'id': '551637c9498eacfceb26f6c6', 'name': 'Fort Hill Heights Stuy', 'description': '', 'type': 'others', 'user': {'id': '12999', 'firstName': 'Rebecca', 'lastName': 'S', 'photo': {'prefix': 'https://fastly.4sqi.net/img/user/', 'suffix': '/12999_ixtmXZyT_sGfZya2nN3WBf-B37qf-JfUXpG67WnJ4NbfyfGVgQ8Wd0T-d-HFRNGtRdGHza3wF.jpg'}}, 'editable': False, 'public': True, 'collaborative': False, 'url': '/rebeccaaaa/list/fort-hill-heights-stuy', 'canonicalUrl': 'https://foursquare.com/rebeccaaaa/list/fort-hill-heights-stuy', 'createdAt': 1427519433, 'updatedAt': 1570660023, 'photo': {'id': '5003410de4b0eed3b7cb242e', 'createdAt': 1342390541, 'prefix': 'https://fastly.4sqi.net/img/general/', 'suffix': '/LHdoTb9yidEZtSnFHfCtILJQRe0qLEv7XleigzWQfIc.jpg', 'width': 720, 'height': 537, 'user': {'id': '62', 'firstName': 'Khoi', 'lastName': 'V', 'photo': {'prefix': 'https://fastly.4sqi.net/img/user/', 'suffix': '/62_1237396985.jpg'}}, 'visibility': 'public'}, 'followers': {'count': 1}, 'listItems': {'count': 119, 'items': [{'id': 'v568d3902498e619efcbc3f58', 'createdAt': 1452095750}]}}]}]}, 'pageUpdates': {'count': 0, 'items': []}, 'inbox': {'count': 0, 'items': []}, 'attributes': {'groups': [{'type': 'price', 'name': 'Price', 'summary': '$$', 'count': 1, 'items': [{'displayName': 'Price', 'displayValue': '$$', 'priceTier': 2}]}, {'type': 'serves', 'name': 'Menus', 'summary': 'Dinner', 'count': 8, 'items': [{'displayName': 'Dinner', 'displayValue': 'Dinner'}]}, {'type': 'diningOptions', 'name': 'Dining Options', 'summary': 'Delivery', 'count': 5, 'items': [{'displayName': 'Delivery', 'displayValue': 'Delivery'}]}]}, 'bestPhoto': {'id': '5b554170c4404e001cbc06c2', 'createdAt': 1532313968, 'source': {'name': 'Swarm for iOS', 'url': 'https://www.swarmapp.com'}, 'prefix': 'https://fastly.4sqi.net/img/general/', 'suffix': '/13005516_pCRNP52QocRlMNbLyUe9FCf2Fox43s8WcoccEvXIwg8.jpg', 'width': 1440, 'height': 1920, 'visibility': 'public'}, 'colors': {'highlightColor': {'photoId': '5b554170c4404e001cbc06c2', 'value': -4149112}, 'highlightTextColor': {'photoId': '5b554170c4404e001cbc06c2', 'value': -16777216}, 'algoVersion': 3}}}}\n",
      "                         ID           Name  Likes  Rating  Tips\n",
      "0  568d3902498e619efcbc3f58  Spice & Grill     19     7.7     6\n",
      "( 9 / 39 ) processed\n",
      "{'meta': {'code': 200, 'requestId': '5e1ca24347e0d60025be8d45'}, 'response': {'venue': {'id': '4ace7c86f964a520d3d020e3', 'name': \"Kinara's\", 'contact': {'phone': '7182374008', 'formattedPhone': '(718) 237-4008'}, 'location': {'address': '368 Myrtle Ave', 'crossStreet': 'Adelphi Street', 'lat': 40.69322031901606, 'lng': -73.97142314141769, 'labeledLatLngs': [{'label': 'display', 'lat': 40.69322031901606, 'lng': -73.97142314141769}], 'postalCode': '11205', 'cc': 'US', 'city': 'Brooklyn', 'state': 'NY', 'country': 'United States', 'formattedAddress': ['368 Myrtle Ave (Adelphi Street)', 'Brooklyn, NY 11205', 'United States']}, 'canonicalUrl': 'https://foursquare.com/v/kinaras/4ace7c86f964a520d3d020e3', 'categories': [{'id': '4bf58dd8d48988d10f941735', 'name': 'Indian Restaurant', 'pluralName': 'Indian Restaurants', 'shortName': 'Indian', 'icon': {'prefix': 'https://ss3.4sqi.net/img/categories_v2/food/indian_', 'suffix': '.png'}, 'primary': True}], 'verified': False, 'stats': {'tipCount': 20}, 'url': 'http://kinarabrooklyn.com', 'price': {'tier': 2, 'message': 'Moderate', 'currency': '$'}, 'hasMenu': True, 'likes': {'count': 9, 'groups': [{'type': 'others', 'count': 9, 'items': [{'id': '47434977', 'firstName': 'Mousa', 'lastName': 'A', 'photo': {'prefix': 'https://fastly.4sqi.net/img/user/', 'suffix': '/KPPAXHZFUJS04DC1.jpg'}}, {'id': '43825313', 'firstName': 'Marlynn', 'lastName': 'W', 'photo': {'prefix': 'https://fastly.4sqi.net/img/user/', 'suffix': '/43825313-ID0IPEKIA5B4013Y.jpg'}}, {'id': '45082', 'firstName': 'Claire', 'lastName': 'S', 'photo': {'prefix': 'https://fastly.4sqi.net/img/user/', 'suffix': '/45082_lJo5lVfq_jPsxWdN4Qm-NtoxwETuvEpLNxTaVXcJ26ELiLT0CSxctYqMJunah2WGeptEfX06E.jpg'}}]}], 'summary': '9 Likes'}, 'dislike': False, 'ok': False, 'rating': 5.7, 'ratingColor': 'FF9600', 'ratingSignals': 23, 'delivery': {'id': '245952', 'url': 'https://www.seamless.com/menu/kinaras-indian-food-368-myrtle-ave-brooklyn/245952?affiliate=1131&utm_source=foursquare-affiliate-network&utm_medium=affiliate&utm_campaign=1131&utm_content=245952', 'provider': {'name': 'seamless', 'icon': {'prefix': 'https://fastly.4sqi.net/img/general/cap/', 'sizes': [40, 50], 'name': '/delivery_provider_seamless_20180129.png'}}}, 'menu': {'type': 'Menu', 'label': 'Menu', 'anchor': 'View Menu', 'url': 'https://foursquare.com/v/kinaras/4ace7c86f964a520d3d020e3/menu', 'mobileUrl': 'https://foursquare.com/v/4ace7c86f964a520d3d020e3/device_menu'}, 'allowMenuUrlEdit': True, 'beenHere': {'count': 0, 'unconfirmedCount': 0, 'marked': False, 'lastCheckinExpiredAt': 0}, 'specials': {'count': 0, 'items': []}, 'photos': {'count': 5, 'groups': [{'type': 'venue', 'name': 'Venue photos', 'count': 5, 'items': [{'id': '5cb0d30d4acb19002b105858', 'createdAt': 1555092237, 'source': {'name': 'Foursquare for iOS', 'url': 'https://foursquare.com/download/#/iphone'}, 'prefix': 'https://fastly.4sqi.net/img/general/', 'suffix': '/24767630_SLEHym3qdMchRMZoRIKl4yznHTO_ug4i2o2Lj3UtVUw.jpg', 'width': 1920, 'height': 1440, 'user': {'id': '24767630', 'firstName': 'Nastya', 'lastName': 'M', 'photo': {'prefix': 'https://fastly.4sqi.net/img/user/', 'suffix': '/24767630_3xE-7UI2_2Kjg6wVcCMn0AayQPi75tSBMxhS6P3AE15PqlQI_BSB1FAVCrymhNeJSmK5Ni_tx.jpg'}}, 'visibility': 'public'}]}]}, 'reasons': {'count': 0, 'items': []}, 'hereNow': {'count': 0, 'summary': 'Nobody here', 'groups': []}, 'createdAt': 1255046278, 'tips': {'count': 20, 'groups': [{'type': 'others', 'name': 'All tips', 'count': 20, 'items': [{'id': '4b6c3e0970c603bb989091b4', 'createdAt': 1265384969, 'text': 'Nearly the best Indian in NYC', 'type': 'user', 'canonicalUrl': 'https://foursquare.com/item/4b6c3e0970c603bb989091b4', 'lang': 'en', 'likes': {'count': 4, 'groups': [{'type': 'others', 'count': 4, 'items': [{'id': '16689081', 'firstName': 'Michelle Wendy', 'photo': {'prefix': 'https://fastly.4sqi.net/img/user/', 'suffix': '/16689081-OPYC5KTBR5VU0JU4.jpg'}}]}], 'summary': '4 likes'}, 'logView': True, 'agreeCount': 1, 'disagreeCount': 0, 'todo': {'count': 1}, 'user': {'id': '358113', 'firstName': 'Christian', 'lastName': 'L', 'photo': {'prefix': 'https://fastly.4sqi.net/img/user/', 'suffix': '/V40JZZBHQIN4IQOT.jpg'}}}]}]}, 'shortUrl': 'http://4sq.com/cZuPxk', 'timeZone': 'America/New_York', 'listed': {'count': 7, 'groups': [{'type': 'others', 'name': 'Lists from other people', 'count': 7, 'items': [{'id': '4ff080f9e4b08abf24a8ca9e', 'name': 'brooklyn', 'description': '', 'type': 'others', 'user': {'id': '9635303', 'firstName': 'Jane', 'lastName': 'W', 'photo': {'prefix': 'https://fastly.4sqi.net/img/user/', 'suffix': '/COFYPU2RJAQ2Z33L.jpg'}}, 'editable': False, 'public': True, 'collaborative': False, 'url': '/janeylwang/list/brooklyn', 'canonicalUrl': 'https://foursquare.com/janeylwang/list/brooklyn', 'createdAt': 1341161721, 'updatedAt': 1365394526, 'followers': {'count': 0}, 'listItems': {'count': 3, 'items': [{'id': 'v4ace7c86f964a520d3d020e3', 'createdAt': 1365394526}]}}, {'id': '533dd143498e2f577cc54859', 'name': 'Myrtle Ave', 'description': 'myrtleavenue.org', 'type': 'others', 'user': {'id': '60029643', 'firstName': 'Myrtle Avenue Brooklyn', 'lastName': 'P', 'photo': {'prefix': 'https://fastly.4sqi.net/img/user/', 'suffix': '/-W1TFAYGMOZMGSRY2.jpg'}}, 'editable': False, 'public': True, 'collaborative': False, 'url': '/user/60029643/list/myrtle-ave', 'canonicalUrl': 'https://foursquare.com/user/60029643/list/myrtle-ave', 'createdAt': 1396560195, 'updatedAt': 1396563724, 'photo': {'id': '53179f9d11d2f9db3e7c1955', 'createdAt': 1394057117, 'prefix': 'https://fastly.4sqi.net/img/general/', 'suffix': '/410592_-RXFSJlVfx04mmUDQV-yrYzKRJQNPF15IrEbkcseI3s.jpg', 'width': 720, 'height': 960, 'user': {'id': '410592', 'firstName': 'Kim', 'lastName': 'S', 'photo': {'prefix': 'https://fastly.4sqi.net/img/user/', 'suffix': '/410592_3j9J0du6_XEhjlJI-dMeAHVHkzoQFvbneYiCdPhIwJExhIq-9MHPKlD4tdU0zoWsj2sdHI86K.jpg'}}, 'visibility': 'public'}, 'followers': {'count': 0}, 'listItems': {'count': 45, 'items': [{'id': 'v4ace7c86f964a520d3d020e3', 'createdAt': 1396562614}]}}, {'id': '52d45acc498e5ec57d60abaa', 'name': 'BKLYN', 'description': '', 'type': 'others', 'user': {'id': '28770870', 'firstName': 'Zii', 'lastName': 'H', 'photo': {'prefix': 'https://fastly.4sqi.net/img/user/', 'suffix': '/-SO3PDVJB0PNB5BJH.jpg'}}, 'editable': False, 'public': True, 'collaborative': False, 'url': '/zyadmhammad/list/bklyn', 'canonicalUrl': 'https://foursquare.com/zyadmhammad/list/bklyn', 'createdAt': 1389648588, 'updatedAt': 1546954834, 'followers': {'count': 0}, 'listItems': {'count': 171, 'items': [{'id': 'v4ace7c86f964a520d3d020e3', 'createdAt': 1402521558}]}}, {'id': '4f2ab667e4b02f0a0010a697', 'name': 'NYC Essential Eats', 'description': 'Looking for solid recommendations for exceptional eats in NYC? I provide my personal stamp of approval on all the restaurants listed here...', 'type': 'others', 'user': {'id': '870082', 'firstName': 'Ray', 'lastName': 'R', 'photo': {'prefix': 'https://fastly.4sqi.net/img/user/', 'suffix': '/WQ12NNZDJJQJKIJG.jpg'}}, 'editable': False, 'public': True, 'collaborative': False, 'url': '/ray_rahmati/list/nyc-essential-eats', 'canonicalUrl': 'https://foursquare.com/ray_rahmati/list/nyc-essential-eats', 'createdAt': 1328199271, 'updatedAt': 1467221631, 'photo': {'id': '4f1e1cd2e4b07f86b4b80672', 'createdAt': 1327373522, 'prefix': 'https://fastly.4sqi.net/img/general/', 'suffix': '/IL3F4HHWB3KTDP5M3KD4X3VQIEHXNH1B51YH3LDYFDBCA0Y2.jpg', 'width': 540, 'height': 540, 'user': {'id': '57943', 'firstName': 'Laissez', 'lastName': 'F', 'photo': {'prefix': 'https://fastly.4sqi.net/img/user/', 'suffix': '/GGUYFUJQFI2WMYWK.jpg'}}, 'visibility': 'public'}, 'followers': {'count': 37}, 'listItems': {'count': 74, 'items': [{'id': 'v4ace7c86f964a520d3d020e3', 'createdAt': 1328200266, 'photo': {'id': '4ed7bf06d3e37b38b8d1e238', 'createdAt': 1322761990, 'prefix': 'https://fastly.4sqi.net/img/general/', 'suffix': '/ATT4FN3ESNBLKLYXWU1IRYXUXTOVLNI2KGLYQFEU1OMRGVF0.jpg', 'width': 640, 'height': 480, 'user': {'id': '6509993', 'firstName': 'Peter', 'lastName': 'R', 'photo': {'prefix': 'https://fastly.4sqi.net/img/user/', 'suffix': '/6509993-PJF3FBYVIVHII5XZ.jpg'}}, 'visibility': 'public'}}]}}]}]}, 'hours': {'status': 'Open until 11:15 PM', 'richStatus': {'entities': [], 'text': 'Open until 11:15 PM'}, 'isOpen': True, 'isLocalHoliday': False, 'dayData': [], 'timeframes': [{'days': 'Mon–Sun', 'includesToday': True, 'open': [{'renderedTime': '11:30 AM–11:15 PM'}], 'segments': []}]}, 'popular': {'isOpen': False, 'isLocalHoliday': False, 'timeframes': [{'days': 'Today', 'includesToday': True, 'open': [{'renderedTime': '2:00 PM–3:00 PM'}, {'renderedTime': '6:00 PM–10:00 PM'}], 'segments': []}, {'days': 'Tue', 'open': [{'renderedTime': 'Noon–3:00 PM'}, {'renderedTime': '5:00 PM–11:00 PM'}], 'segments': []}, {'days': 'Wed', 'open': [{'renderedTime': '1:00 PM–2:00 PM'}, {'renderedTime': '6:00 PM–10:00 PM'}], 'segments': []}, {'days': 'Thu', 'open': [{'renderedTime': 'Noon–4:00 PM'}, {'renderedTime': '6:00 PM–11:00 PM'}], 'segments': []}, {'days': 'Fri', 'open': [{'renderedTime': '1:00 PM–4:00 PM'}, {'renderedTime': '7:00 PM–10:00 PM'}], 'segments': []}, {'days': 'Sat', 'open': [{'renderedTime': 'Noon–10:00 PM'}], 'segments': []}, {'days': 'Sun', 'open': [{'renderedTime': 'Noon–4:00 PM'}, {'renderedTime': '6:00 PM–10:00 PM'}], 'segments': []}]}, 'pageUpdates': {'count': 0, 'items': []}, 'inbox': {'count': 0, 'items': []}, 'attributes': {'groups': [{'type': 'price', 'name': 'Price', 'summary': '$$', 'count': 1, 'items': [{'displayName': 'Price', 'displayValue': '$$', 'priceTier': 2}]}, {'type': 'outdoorSeating', 'name': 'Outdoor Seating', 'count': 1, 'items': [{'displayName': 'Outdoor Seating', 'displayValue': 'No'}]}, {'type': 'diningOptions', 'name': 'Dining Options', 'summary': 'Take-out & Delivery', 'count': 5, 'items': [{'displayName': 'Take-out', 'displayValue': 'Take-out'}, {'displayName': 'Delivery', 'displayValue': 'Delivery'}]}]}, 'bestPhoto': {'id': '5cb0d30d4acb19002b105858', 'createdAt': 1555092237, 'source': {'name': 'Foursquare for iOS', 'url': 'https://foursquare.com/download/#/iphone'}, 'prefix': 'https://fastly.4sqi.net/img/general/', 'suffix': '/24767630_SLEHym3qdMchRMZoRIKl4yznHTO_ug4i2o2Lj3UtVUw.jpg', 'width': 1920, 'height': 1440, 'visibility': 'public'}, 'colors': {'highlightColor': {'photoId': '5cb0d30d4acb19002b105858', 'value': -2565928}, 'highlightTextColor': {'photoId': '5cb0d30d4acb19002b105858', 'value': -16777216}, 'algoVersion': 3}}}}\n",
      "                         ID      Name  Likes  Rating  Tips\n",
      "0  4ace7c86f964a520d3d020e3  Kinara's      9     5.7    20\n",
      "( 10 / 39 ) processed\n"
     ]
    },
    {
     "name": "stdout",
     "output_type": "stream",
     "text": [
      "{'meta': {'code': 200, 'requestId': '5e1ca24e78a484001b232865'}, 'response': {'venue': {'id': '543870ec498ec64de510608d', 'name': 'Masala Grill', 'contact': {}, 'location': {'address': 'Atlantic Avenue', 'crossStreet': '3rd Avenue', 'lat': 40.68554017378092, 'lng': -73.98120188318653, 'labeledLatLngs': [{'label': 'display', 'lat': 40.68554017378092, 'lng': -73.98120188318653}], 'postalCode': '11217', 'cc': 'US', 'city': 'Brooklyn', 'state': 'NY', 'country': 'United States', 'formattedAddress': ['Atlantic Avenue (3rd Avenue)', 'Brooklyn, NY 11217', 'United States']}, 'canonicalUrl': 'https://foursquare.com/v/masala-grill/543870ec498ec64de510608d', 'categories': [{'id': '4bf58dd8d48988d10f941735', 'name': 'Indian Restaurant', 'pluralName': 'Indian Restaurants', 'shortName': 'Indian', 'icon': {'prefix': 'https://ss3.4sqi.net/img/categories_v2/food/indian_', 'suffix': '.png'}, 'primary': True}], 'verified': False, 'stats': {'tipCount': 14}, 'url': 'http://masalagrillbk.com', 'price': {'tier': 2, 'message': 'Moderate', 'currency': '$'}, 'hasMenu': True, 'likes': {'count': 39, 'groups': [{'type': 'others', 'count': 39, 'items': []}], 'summary': '39 Likes'}, 'dislike': False, 'ok': False, 'rating': 8.1, 'ratingColor': '73CF42', 'ratingSignals': 57, 'delivery': {'id': '297181', 'url': 'https://www.seamless.com/menu/masala-grill-501b-atlantic-ave-brooklyn/297181?affiliate=1131&utm_source=foursquare-affiliate-network&utm_medium=affiliate&utm_campaign=1131&utm_content=297181', 'provider': {'name': 'seamless', 'icon': {'prefix': 'https://fastly.4sqi.net/img/general/cap/', 'sizes': [40, 50], 'name': '/delivery_provider_seamless_20180129.png'}}}, 'menu': {'type': 'Menu', 'label': 'Menu', 'anchor': 'View Menu', 'url': 'https://foursquare.com/v/masala-grill/543870ec498ec64de510608d/menu', 'mobileUrl': 'https://foursquare.com/v/543870ec498ec64de510608d/device_menu'}, 'allowMenuUrlEdit': True, 'beenHere': {'count': 0, 'unconfirmedCount': 0, 'marked': False, 'lastCheckinExpiredAt': 0}, 'specials': {'count': 0, 'items': []}, 'photos': {'count': 20, 'groups': [{'type': 'venue', 'name': 'Venue photos', 'count': 20, 'items': [{'id': '5bcd326b9ba3e500394f4d75', 'createdAt': 1540174443, 'source': {'name': 'Swarm for iOS', 'url': 'https://www.swarmapp.com'}, 'prefix': 'https://fastly.4sqi.net/img/general/', 'suffix': '/207900_s2WoH1terh7CffVp5z5TcPZP-3djg4eZQ7XhiemHufg.jpg', 'width': 1920, 'height': 1440, 'user': {'id': '207900', 'firstName': 'Abhay', 'lastName': 'S', 'photo': {'prefix': 'https://fastly.4sqi.net/img/user/', 'suffix': '/207900_DD4ejeYj_BVE00c6szrbdQE1zlHq5tM4jcDVNICNridGOfQGHhDyI4w0p3Dy2Vcdja9nzDipf.jpg'}}, 'visibility': 'public'}]}]}, 'reasons': {'count': 1, 'items': [{'summary': 'Lots of people like this place', 'type': 'general', 'reasonName': 'rawLikesReason'}]}, 'hereNow': {'count': 0, 'summary': 'Nobody here', 'groups': []}, 'createdAt': 1412985068, 'tips': {'count': 14, 'groups': [{'type': 'others', 'name': 'All tips', 'count': 14, 'items': [{'id': '57c1a432498ea5a18a65344d', 'createdAt': 1472308274, 'text': 'Great aloo gobi, even better Chana saag.', 'type': 'user', 'canonicalUrl': 'https://foursquare.com/item/57c1a432498ea5a18a65344d', 'lang': 'en', 'likes': {'count': 1, 'groups': [{'type': 'others', 'count': 1, 'items': [{'id': '59028153', 'firstName': 'David', 'lastName': 'S', 'photo': {'prefix': 'https://fastly.4sqi.net/img/user/', 'suffix': '/VVCNRB5VC4JI0FX2.jpg'}}]}], 'summary': '1 like'}, 'logView': True, 'agreeCount': 3, 'disagreeCount': 0, 'todo': {'count': 0}, 'user': {'id': '47103095', 'firstName': 'Ashley', 'lastName': 'A', 'photo': {'prefix': 'https://fastly.4sqi.net/img/user/', 'suffix': '/47103095_8-8p1P3f_qEtuetq9ZBlX4ZTtJEXFES1A-US5meSoL84AptFScdpx4z2Lmie4A3ru1-i_OZcu.jpg'}}, 'authorInteractionType': 'liked'}]}]}, 'shortUrl': 'http://4sq.com/1D1UJKJ', 'timeZone': 'America/New_York', 'listed': {'count': 22, 'groups': [{'type': 'others', 'name': 'Lists from other people', 'count': 22, 'items': [{'id': '56ca147f498eff4f9d11ff02', 'name': 'Oh YEAHS?', 'description': '', 'type': 'others', 'user': {'id': '142294250', 'firstName': 'Leonard', 'lastName': 'G', 'photo': {'prefix': 'https://fastly.4sqi.net/img/user/', 'suffix': '/142294250-NMIM3ECVRTEKHQOJ.png'}}, 'editable': False, 'public': True, 'collaborative': False, 'url': '/user/142294250/list/oh-yeahs', 'canonicalUrl': 'https://foursquare.com/user/142294250/list/oh-yeahs', 'createdAt': 1456084095, 'updatedAt': 1547532847, 'photo': {'id': '54051cff11d27904e6a07cff', 'createdAt': 1409621247, 'prefix': 'https://fastly.4sqi.net/img/general/', 'suffix': '/54531_dYx9Rdd-Y92NdOxZ9Qy8_ZtXPbQRQUNWSHbwBPQQidw.jpg', 'width': 720, 'height': 960, 'user': {'id': '54531', 'firstName': 'David', 'lastName': 'G', 'photo': {'prefix': 'https://fastly.4sqi.net/img/user/', 'suffix': '/23XMOTJPDP1MUIBY.jpg'}}, 'visibility': 'public'}, 'followers': {'count': 0}, 'listItems': {'count': 53, 'items': [{'id': 'v543870ec498ec64de510608d', 'createdAt': 1462100396}]}}, {'id': '58617dd092789f6680773e05', 'name': 'NYC Eats', 'description': '', 'type': 'others', 'user': {'id': '76112490', 'firstName': 'Loneke', 'lastName': 'B', 'photo': {'prefix': 'https://fastly.4sqi.net/img/user/', 'suffix': '/blank_boy.png', 'default': True}}, 'editable': False, 'public': True, 'collaborative': False, 'url': '/user/76112490/list/nyc-eats', 'canonicalUrl': 'https://foursquare.com/user/76112490/list/nyc-eats', 'createdAt': 1482784208, 'updatedAt': 1504909513, 'followers': {'count': 0}, 'listItems': {'count': 9, 'items': [{'id': 'v543870ec498ec64de510608d', 'createdAt': 1482787041}]}}, {'id': '55d781a7498ed46685d50fe1', 'name': 'Brooklyn, NY - Vol. 2', 'description': 'More favorites & still-need-to-visits in BK', 'type': 'others', 'user': {'id': '83751437', 'firstName': 'Nathan', 'lastName': 'H', 'photo': {'prefix': 'https://fastly.4sqi.net/img/user/', 'suffix': '/83751437-NTIC53RQWPS2QF3X.jpg'}}, 'editable': False, 'public': True, 'collaborative': False, 'url': '/nathos/list/brooklyn-ny--vol-2', 'canonicalUrl': 'https://foursquare.com/nathos/list/brooklyn-ny--vol-2', 'createdAt': 1440186791, 'updatedAt': 1515552786, 'photo': {'id': '513a1c61e4b0c75bcb668869', 'createdAt': 1362762849, 'prefix': 'https://fastly.4sqi.net/img/general/', 'suffix': '/48878036_dt5tx1IZSx1jO_o8Uo3zbpZMTeYcmK6ca3lllAsonW8.jpg', 'width': 612, 'height': 612, 'user': {'id': '48878036', 'firstName': 'Luca', 'lastName': 'A', 'photo': {'prefix': 'https://fastly.4sqi.net/img/user/', 'suffix': '/NXBGZDAVUTLOY2ZL.jpg'}}, 'visibility': 'public'}, 'followers': {'count': 1}, 'listItems': {'count': 211, 'items': [{'id': 'v543870ec498ec64de510608d', 'createdAt': 1463270000}]}}, {'id': '5693bb9e498e82dce5ea5188', 'name': 'Restaurants to try', 'description': '', 'type': 'others', 'user': {'id': '63780374', 'firstName': 'Anna', 'lastName': 'E', 'photo': {'prefix': 'https://fastly.4sqi.net/img/user/', 'suffix': '/63780374-G1N3LIPL0V0O2LDM.jpg'}}, 'editable': False, 'public': True, 'collaborative': False, 'url': '/anuhemy/list/restaurants-to-try', 'canonicalUrl': 'https://foursquare.com/anuhemy/list/restaurants-to-try', 'createdAt': 1452522398, 'updatedAt': 1508019098, 'followers': {'count': 0}, 'listItems': {'count': 49, 'items': [{'id': 'v543870ec498ec64de510608d', 'createdAt': 1470603838}]}}]}]}, 'hours': {'status': 'Open until 10:30 PM', 'richStatus': {'entities': [], 'text': 'Open until 10:30 PM'}, 'isOpen': True, 'isLocalHoliday': False, 'dayData': [], 'timeframes': [{'days': 'Mon–Thu, Sun', 'includesToday': True, 'open': [{'renderedTime': 'Noon–10:30 PM'}], 'segments': []}, {'days': 'Fri–Sat', 'open': [{'renderedTime': 'Noon–11:00 PM'}], 'segments': []}]}, 'popular': {'isOpen': False, 'isLocalHoliday': False, 'timeframes': [{'days': 'Today', 'includesToday': True, 'open': [{'renderedTime': '5:00 PM–11:00 PM'}], 'segments': []}, {'days': 'Tue', 'open': [{'renderedTime': 'Noon–1:00 PM'}, {'renderedTime': '6:00 PM–10:00 PM'}], 'segments': []}, {'days': 'Wed', 'open': [{'renderedTime': '2:00 PM–10:00 PM'}], 'segments': []}, {'days': 'Thu', 'open': [{'renderedTime': '1:00 PM–2:00 PM'}, {'renderedTime': '6:00 PM–10:00 PM'}], 'segments': []}, {'days': 'Fri', 'open': [{'renderedTime': '6:00 PM–10:00 PM'}], 'segments': []}, {'days': 'Sat', 'open': [{'renderedTime': '3:00 PM–10:00 PM'}], 'segments': []}, {'days': 'Sun', 'open': [{'renderedTime': '2:00 PM–11:00 PM'}], 'segments': []}]}, 'pageUpdates': {'count': 0, 'items': []}, 'inbox': {'count': 0, 'items': []}, 'attributes': {'groups': [{'type': 'price', 'name': 'Price', 'summary': '$$', 'count': 1, 'items': [{'displayName': 'Price', 'displayValue': '$$', 'priceTier': 2}]}, {'type': 'payments', 'name': 'Credit Cards', 'summary': 'Credit Cards', 'count': 7, 'items': [{'displayName': 'Credit Cards', 'displayValue': 'Yes'}]}, {'type': 'outdoorSeating', 'name': 'Outdoor Seating', 'count': 1, 'items': [{'displayName': 'Outdoor Seating', 'displayValue': 'No'}]}, {'type': 'wifi', 'name': 'Wi-Fi', 'summary': 'Wi-Fi', 'count': 1, 'items': [{'displayName': 'Wi-Fi', 'displayValue': 'Yes'}]}, {'type': 'serves', 'name': 'Menus', 'summary': 'Dinner', 'count': 8, 'items': [{'displayName': 'Dinner', 'displayValue': 'Dinner'}]}, {'type': 'diningOptions', 'name': 'Dining Options', 'summary': 'Delivery', 'count': 5, 'items': [{'displayName': 'Delivery', 'displayValue': 'Delivery'}]}]}, 'bestPhoto': {'id': '5bcd326b9ba3e500394f4d75', 'createdAt': 1540174443, 'source': {'name': 'Swarm for iOS', 'url': 'https://www.swarmapp.com'}, 'prefix': 'https://fastly.4sqi.net/img/general/', 'suffix': '/207900_s2WoH1terh7CffVp5z5TcPZP-3djg4eZQ7XhiemHufg.jpg', 'width': 1920, 'height': 1440, 'visibility': 'public'}, 'colors': {'highlightColor': {'photoId': '5bcd326b9ba3e500394f4d75', 'value': -12576744}, 'highlightTextColor': {'photoId': '5bcd326b9ba3e500394f4d75', 'value': -1}, 'algoVersion': 3}}}}\n",
      "                         ID          Name  Likes  Rating  Tips\n",
      "0  543870ec498ec64de510608d  Masala Grill     39     8.1    14\n",
      "( 11 / 39 ) processed\n"
     ]
    },
    {
     "name": "stdout",
     "output_type": "stream",
     "text": [
      "{'meta': {'code': 200, 'requestId': '5e1ca22f923935001ba939ce'}, 'response': {'venue': {'id': '4bb93b70cf2fc9b6fe64a002', 'name': 'Gandhi Fine Indian Cuisine', 'contact': {'phone': '7182827012', 'formattedPhone': '(718) 282-7012'}, 'location': {'address': '2032 Bedford Ave', 'crossStreet': 'btwn Clarkson Ave & Parkside Ave', 'lat': 40.65516762218564, 'lng': -73.95632450081226, 'labeledLatLngs': [{'label': 'display', 'lat': 40.65516762218564, 'lng': -73.95632450081226}], 'postalCode': '11226', 'cc': 'US', 'city': 'Brooklyn', 'state': 'NY', 'country': 'United States', 'formattedAddress': ['2032 Bedford Ave (btwn Clarkson Ave & Parkside Ave)', 'Brooklyn, NY 11226', 'United States']}, 'canonicalUrl': 'https://foursquare.com/v/gandhi-fine-indian-cuisine/4bb93b70cf2fc9b6fe64a002', 'categories': [{'id': '4bf58dd8d48988d10f941735', 'name': 'Indian Restaurant', 'pluralName': 'Indian Restaurants', 'shortName': 'Indian', 'icon': {'prefix': 'https://ss3.4sqi.net/img/categories_v2/food/indian_', 'suffix': '.png'}, 'primary': True}], 'verified': True, 'stats': {'tipCount': 47}, 'url': 'http://gandhiindianbrooklyn.com', 'price': {'tier': 2, 'message': 'Moderate', 'currency': '$'}, 'hasMenu': True, 'likes': {'count': 81, 'groups': [{'type': 'others', 'count': 81, 'items': []}], 'summary': '81 Likes'}, 'dislike': False, 'ok': False, 'rating': 8.5, 'ratingColor': '73CF42', 'ratingSignals': 127, 'delivery': {'id': '275754', 'url': 'https://www.seamless.com/menu/gandhi-2032-bedford-ave-brooklyn/275754?affiliate=1131&utm_source=foursquare-affiliate-network&utm_medium=affiliate&utm_campaign=1131&utm_content=275754', 'provider': {'name': 'seamless', 'icon': {'prefix': 'https://fastly.4sqi.net/img/general/cap/', 'sizes': [40, 50], 'name': '/delivery_provider_seamless_20180129.png'}}}, 'menu': {'type': 'Menu', 'label': 'Menu', 'anchor': 'View Menu', 'url': 'http://gandhiindian.com/menu.html', 'mobileUrl': 'http://gandhiindian.com/menu.html', 'externalUrl': 'http://gandhiindian.com/menu.html'}, 'allowMenuUrlEdit': True, 'beenHere': {'count': 0, 'unconfirmedCount': 0, 'marked': False, 'lastCheckinExpiredAt': 0}, 'specials': {'count': 0, 'items': []}, 'photos': {'count': 33, 'groups': [{'type': 'venue', 'name': 'Venue photos', 'count': 33, 'items': [{'id': '4e3eecb81838cb1b830505b6', 'createdAt': 1312746680, 'source': {'name': 'Foursquare for Android', 'url': 'https://foursquare.com/download/#/android'}, 'prefix': 'https://fastly.4sqi.net/img/general/', 'suffix': '/VHQCID02YHWOIQNXLKELPYW3ZPUES4LA4G1UOF4BW0EOPJXE.jpg', 'width': 431, 'height': 720, 'user': {'id': '2315898', 'firstName': 'Jennifer', 'lastName': 'G', 'photo': {'prefix': 'https://fastly.4sqi.net/img/user/', 'suffix': '/NXHSHLUPI0B1TM2H.jpg'}}, 'visibility': 'public'}]}]}, 'venuePage': {'id': '105464962'}, 'reasons': {'count': 1, 'items': [{'summary': 'Lots of people like this place', 'type': 'general', 'reasonName': 'rawLikesReason'}]}, 'page': {'user': {'id': '105464962', 'firstName': 'Gandhi Fine Indian Cuisine', 'photo': {'prefix': 'https://fastly.4sqi.net/img/user/', 'suffix': '/105464962-XOJHNOK4LCNTATPL.png'}, 'type': 'venuePage', 'venue': {'id': '4bb93b70cf2fc9b6fe64a002'}, 'tips': {'count': 0}, 'lists': {'groups': [{'type': 'created', 'count': 2, 'items': []}]}, 'bio': ''}}, 'hereNow': {'count': 0, 'summary': 'Nobody here', 'groups': []}, 'createdAt': 1270430576, 'tips': {'count': 47, 'groups': [{'type': 'others', 'name': 'All tips', 'count': 47, 'items': [{'id': '5042daa5e4b0b6cb2f855c4d', 'createdAt': 1346558629, 'text': 'LOVE this place. love the service, love the food, love the price. nothing to complain about here. its hard to find service like this in NYC. food is also top quality.', 'type': 'user', 'canonicalUrl': 'https://foursquare.com/item/5042daa5e4b0b6cb2f855c4d', 'lang': 'en', 'likes': {'count': 6, 'groups': [{'type': 'others', 'count': 6, 'items': [{'id': '159256', 'firstName': 'Rachel Slurs', 'photo': {'prefix': 'https://fastly.4sqi.net/img/user/', 'suffix': '/-F1JMJIDLOQJ2D1SR.jpg'}}, {'id': '1525198', 'firstName': 'Amanda', 'lastName': 'B', 'photo': {'prefix': 'https://fastly.4sqi.net/img/user/', 'suffix': '/QDPNLWVB5AXPTHI2.jpg'}}, {'id': '678965', 'firstName': '👑', 'lastName': 'H', 'photo': {'prefix': 'https://fastly.4sqi.net/img/user/', 'suffix': '/EGAZTEYAHWBAGOGM.jpg'}}, {'id': '280175', 'firstName': ')|( aXxel', 'photo': {'prefix': 'https://fastly.4sqi.net/img/user/', 'suffix': '/KJLMBJLDBTIPVD0I.jpg'}}]}], 'summary': '6 likes'}, 'logView': True, 'agreeCount': 6, 'disagreeCount': 0, 'todo': {'count': 1}, 'user': {'id': '3825368', 'firstName': 'Chrissy', 'lastName': 'B', 'photo': {'prefix': 'https://fastly.4sqi.net/img/user/', 'suffix': '/WJW10GM4PKPY4UDN.jpg'}}, 'authorInteractionType': 'liked'}]}]}, 'shortUrl': 'http://4sq.com/ci6V17', 'timeZone': 'America/New_York', 'listed': {'count': 88, 'groups': [{'type': 'others', 'name': 'Lists from other people', 'count': 88, 'items': [{'id': '4ef4d849c5123a724e84c9c9', 'name': 'GEMS', 'description': '', 'type': 'others', 'user': {'id': '6181440', 'firstName': 'Nao', 'lastName': 'M', 'photo': {'prefix': 'https://fastly.4sqi.net/img/user/', 'suffix': '/BSWOZRAQILQYWQFB.jpg'}}, 'editable': False, 'public': True, 'collaborative': False, 'url': '/user/6181440/list/gems', 'canonicalUrl': 'https://foursquare.com/user/6181440/list/gems', 'createdAt': 1324669001, 'updatedAt': 1577049967, 'photo': {'id': '4e4fb4f8fa7626401eacd951', 'createdAt': 1313846520, 'prefix': 'https://fastly.4sqi.net/img/general/', 'suffix': '/3YM5NXPL5QFZHLQ4WBWAAHS1WAPEBS5N22VMBFMG1WZJQHOA.jpg', 'width': 720, 'height': 540, 'user': {'id': '11217425', 'firstName': 'Vishal', 'lastName': 'P', 'photo': {'prefix': 'https://fastly.4sqi.net/img/user/', 'suffix': '/CSSF0N3QPDZ4NVU1.jpg'}}, 'visibility': 'public'}, 'followers': {'count': 37}, 'listItems': {'count': 191, 'items': [{'id': 'v4bb93b70cf2fc9b6fe64a002', 'createdAt': 1539623177}]}}, {'id': '500dd1eae4b0e57c772f79cb', 'name': 'Future sites', 'description': '', 'type': 'others', 'user': {'id': '280175', 'firstName': ')|( aXxel', 'photo': {'prefix': 'https://fastly.4sqi.net/img/user/', 'suffix': '/KJLMBJLDBTIPVD0I.jpg'}}, 'editable': False, 'public': True, 'collaborative': False, 'url': '/xxaxxelxx/list/future-sites', 'canonicalUrl': 'https://foursquare.com/xxaxxelxx/list/future-sites', 'createdAt': 1343082986, 'updatedAt': 1502425474, 'photo': {'id': '4f4bb6a8e4b082dc59c4f6c8', 'createdAt': 1330362024, 'prefix': 'https://fastly.4sqi.net/img/general/', 'suffix': '/CP3uzRaalLOXJbImD32Msb_c2KRgiHzG7nlIFLkLXsk.jpg', 'width': 540, 'height': 720, 'user': {'id': '6503515', 'firstName': 'Mourad', 'lastName': 'B', 'photo': {'prefix': 'https://fastly.4sqi.net/img/user/', 'suffix': '/6503515-LGFXTQKNWQDQOW3D.jpg'}}, 'visibility': 'public'}, 'followers': {'count': 12}, 'listItems': {'count': 238, 'items': [{'id': 't5042daa5e4b0b6cb2f855c4d', 'createdAt': 1347736614}]}}]}]}, 'hours': {'status': 'Open until 9:30 PM', 'richStatus': {'entities': [], 'text': 'Open until 9:30 PM'}, 'isOpen': True, 'isLocalHoliday': False, 'dayData': [], 'timeframes': [{'days': 'Mon–Thu, Sun', 'includesToday': True, 'open': [{'renderedTime': '11:30 AM–9:30 PM'}], 'segments': []}, {'days': 'Fri–Sat', 'open': [{'renderedTime': '11:30 AM–10:00 PM'}], 'segments': []}]}, 'popular': {'isOpen': False, 'isLocalHoliday': False, 'timeframes': [{'days': 'Today', 'includesToday': True, 'open': [{'renderedTime': '5:00 PM–10:00 PM'}], 'segments': []}, {'days': 'Tue', 'open': [{'renderedTime': '1:00 PM–3:00 PM'}, {'renderedTime': '6:00 PM–10:00 PM'}], 'segments': []}, {'days': 'Wed', 'open': [{'renderedTime': '6:00 PM–10:00 PM'}], 'segments': []}, {'days': 'Thu', 'open': [{'renderedTime': '1:00 PM–4:00 PM'}, {'renderedTime': '6:00 PM–9:00 PM'}], 'segments': []}, {'days': 'Fri', 'open': [{'renderedTime': '2:00 PM–3:00 PM'}, {'renderedTime': '5:00 PM–11:00 PM'}], 'segments': []}, {'days': 'Sat', 'open': [{'renderedTime': 'Noon–10:00 PM'}], 'segments': []}, {'days': 'Sun', 'open': [{'renderedTime': '1:00 PM–10:00 PM'}], 'segments': []}]}, 'pageUpdates': {'count': 0, 'items': []}, 'inbox': {'count': 0, 'items': []}, 'attributes': {'groups': [{'type': 'price', 'name': 'Price', 'summary': '$$', 'count': 1, 'items': [{'displayName': 'Price', 'displayValue': '$$', 'priceTier': 2}]}, {'type': 'reservations', 'name': 'Reservations', 'count': 3, 'items': [{'displayName': 'Reservations', 'displayValue': 'No'}]}, {'type': 'payments', 'name': 'Credit Cards', 'summary': 'Credit Cards', 'count': 7, 'items': [{'displayName': 'Credit Cards', 'displayValue': 'Yes (incl. American Express)'}]}, {'type': 'outdoorSeating', 'name': 'Outdoor Seating', 'count': 1, 'items': [{'displayName': 'Outdoor Seating', 'displayValue': 'No'}]}, {'type': 'music', 'name': 'Music', 'count': 3, 'items': [{'displayName': 'Music', 'displayValue': 'No'}]}, {'type': 'serves', 'name': 'Menus', 'summary': 'Lunch & Dinner', 'count': 8, 'items': [{'displayName': 'Lunch', 'displayValue': 'Lunch'}, {'displayName': 'Dinner', 'displayValue': 'Dinner'}]}, {'type': 'diningOptions', 'name': 'Dining Options', 'summary': 'Take-out & Delivery', 'count': 5, 'items': [{'displayName': 'Take-out', 'displayValue': 'Take-out'}, {'displayName': 'Delivery', 'displayValue': 'Delivery'}]}, {'type': 'restroom', 'name': 'Restroom', 'summary': 'Restroom', 'count': 1, 'items': [{'displayName': 'Restroom', 'displayValue': 'Yes'}]}, {'type': 'wheelchairAccessible', 'name': 'Wheelchair Accessible', 'summary': 'Wheelchair Accessible', 'count': 1, 'items': [{'displayName': 'Wheelchair Accessible', 'displayValue': 'Yes'}]}, {'type': 'tvs', 'name': 'TVs', 'summary': 'TVs', 'count': 1, 'items': [{'displayName': 'TVs', 'displayValue': 'Yes'}]}]}, 'bestPhoto': {'id': '4e3eecb81838cb1b830505b6', 'createdAt': 1312746680, 'source': {'name': 'Foursquare for Android', 'url': 'https://foursquare.com/download/#/android'}, 'prefix': 'https://fastly.4sqi.net/img/general/', 'suffix': '/VHQCID02YHWOIQNXLKELPYW3ZPUES4LA4G1UOF4BW0EOPJXE.jpg', 'width': 431, 'height': 720, 'visibility': 'public'}, 'colors': {'highlightColor': {'photoId': '4e3eecb81838cb1b830505b6', 'value': -14675952}, 'highlightTextColor': {'photoId': '4e3eecb81838cb1b830505b6', 'value': -1}, 'algoVersion': 3}}}}\n",
      "                         ID                        Name  Likes  Rating  Tips\n",
      "0  4bb93b70cf2fc9b6fe64a002  Gandhi Fine Indian Cuisine     81     8.5    47\n",
      "( 12 / 39 ) processed\n"
     ]
    },
    {
     "name": "stdout",
     "output_type": "stream",
     "text": [
      "{'meta': {'code': 200, 'requestId': '5e1ca241b9a389001b5449d3'}, 'response': {'venue': {'id': '5631511b498e3d6d7e0a4df0', 'name': 'Tikka Indian Grill', 'contact': {'phone': '7187682262', 'formattedPhone': '(718) 768-2262'}, 'location': {'address': '185 Grand Street', 'lat': 40.71434305888687, 'lng': -73.96090327883888, 'labeledLatLngs': [{'label': 'display', 'lat': 40.71434305888687, 'lng': -73.96090327883888}], 'postalCode': '11211', 'cc': 'US', 'city': 'Brooklyn', 'state': 'NY', 'country': 'United States', 'formattedAddress': ['185 Grand Street', 'Brooklyn, NY 11211', 'United States']}, 'canonicalUrl': 'https://foursquare.com/v/tikka-indian-grill/5631511b498e3d6d7e0a4df0', 'categories': [{'id': '4bf58dd8d48988d10f941735', 'name': 'Indian Restaurant', 'pluralName': 'Indian Restaurants', 'shortName': 'Indian', 'icon': {'prefix': 'https://ss3.4sqi.net/img/categories_v2/food/indian_', 'suffix': '.png'}, 'primary': True}], 'verified': True, 'stats': {'tipCount': 29}, 'url': 'http://www.tikkaindiangrill.com', 'price': {'tier': 2, 'message': 'Moderate', 'currency': '$'}, 'likes': {'count': 95, 'groups': [{'type': 'others', 'count': 95, 'items': []}], 'summary': '95 Likes'}, 'dislike': False, 'ok': False, 'rating': 8.4, 'ratingColor': '73CF42', 'ratingSignals': 142, 'delivery': {'id': '316606', 'url': 'https://www.seamless.com/menu/tikka-indian-grill-185-grand-st-brooklyn/316606?affiliate=1131&utm_source=foursquare-affiliate-network&utm_medium=affiliate&utm_campaign=1131&utm_content=316606', 'provider': {'name': 'seamless', 'icon': {'prefix': 'https://fastly.4sqi.net/img/general/cap/', 'sizes': [40, 50], 'name': '/delivery_provider_seamless_20180129.png'}}}, 'allowMenuUrlEdit': True, 'beenHere': {'count': 0, 'unconfirmedCount': 0, 'marked': False, 'lastCheckinExpiredAt': 0}, 'specials': {'count': 0, 'items': []}, 'photos': {'count': 28, 'groups': [{'type': 'venue', 'name': 'Venue photos', 'count': 28, 'items': [{'id': '5ab42508d5b44f6e007f2f49', 'createdAt': 1521755400, 'source': {'name': 'Foursquare Web', 'url': 'https://foursquare.com'}, 'prefix': 'https://fastly.4sqi.net/img/general/', 'suffix': '/483555303_PdjJqxJ27cnMlBqa57QFdvEoL4fhm5TjZSa0FzG_y-c.png', 'width': 600, 'height': 600, 'user': {'id': '483555303', 'firstName': 'Tikka Indian Grill', 'photo': {'prefix': 'https://fastly.4sqi.net/img/user/', 'suffix': '/483555303_ufoNCkWT_9V6rZC2lQp3YNiYrzyNsGqE_0MPtgHpllYAlY_Z46YEzeO7I4H82e0QNUy_EPl--.png'}, 'type': 'venuePage', 'venue': {'id': '5631511b498e3d6d7e0a4df0'}}, 'visibility': 'public'}]}]}, 'reasons': {'count': 1, 'items': [{'summary': 'Lots of people like this place', 'type': 'general', 'reasonName': 'rawLikesReason'}]}, 'description': 'Authentic Indian food with a focus on quality, service and offering patrons options such as Vegan and Halal. The location is BYOB NO CORKING FEE', 'storeId': '', 'page': {'pageInfo': {'description': 'Authentic Indian restaurant, organic dishes, great food, professional table service and BYOB with no hassling corking fees', 'links': {'count': 1, 'items': [{'url': 'http://www.tikkaindiangrill.com'}]}}, 'user': {'id': '480802256', 'firstName': 'Tikka Indian Grill', 'photo': {'prefix': 'https://fastly.4sqi.net/img/user/', 'suffix': '/480802256_dlUdMIel_smVU2at7IP0DUEuNaJxwkQTrTofltRfkEyKBL1UOIThgGUDPI9F3E9p1lOd_0puJ.png'}, 'type': 'chain', 'tips': {'count': 0}, 'lists': {'groups': [{'type': 'created', 'count': 2, 'items': []}]}, 'bio': ''}}, 'hereNow': {'count': 0, 'summary': 'Nobody here', 'groups': []}, 'createdAt': 1446072603, 'tips': {'count': 29, 'groups': [{'type': 'others', 'name': 'All tips', 'count': 29, 'items': [{'id': '563c303ccd101493745e81aa', 'createdAt': 1446785084, 'text': 'Easily the best Indian food in Williamsburg. Good prices. Generous portions. Super friendly and attentive staff.', 'type': 'user', 'canonicalUrl': 'https://foursquare.com/item/563c303ccd101493745e81aa', 'lang': 'en', 'likes': {'count': 1, 'groups': [{'type': 'others', 'count': 1, 'items': [{'id': '6173717', 'firstName': 'Tom', 'lastName': 'W', 'photo': {'prefix': 'https://fastly.4sqi.net/img/user/', 'suffix': '/CW23HRSBR4HORDE5.jpg'}}]}], 'summary': '1 like'}, 'logView': True, 'agreeCount': 2, 'disagreeCount': 0, 'todo': {'count': 0}, 'user': {'id': '2344439', 'firstName': 'Graham', 'lastName': 'L', 'photo': {'prefix': 'https://fastly.4sqi.net/img/user/', 'suffix': '/KCVFAIJEH11CVEN4.jpg'}}, 'authorInteractionType': 'liked'}]}]}, 'shortUrl': 'http://4sq.com/1Wjwlwa', 'timeZone': 'America/New_York', 'listed': {'count': 116, 'groups': [{'type': 'others', 'name': 'Lists from other people', 'count': 116, 'items': [{'id': '5174b878e4b03b466e8cafd4', 'name': 'Williamsburg', 'description': '', 'type': 'others', 'user': {'id': '33733687', 'firstName': 'Aline', 'lastName': 'V', 'photo': {'prefix': 'https://fastly.4sqi.net/img/user/', 'suffix': '/33733687-OPVDEUXNFNC0U04G.jpg'}}, 'editable': False, 'public': True, 'collaborative': False, 'url': '/alinevelter/list/williamsburg', 'canonicalUrl': 'https://foursquare.com/alinevelter/list/williamsburg', 'createdAt': 1366603896, 'updatedAt': 1578542536, 'photo': {'id': '52067c5511d28afd311d9d19', 'createdAt': 1376156757, 'prefix': 'https://fastly.4sqi.net/img/general/', 'suffix': '/33733687_zwAH-7SxO9mC7sfDZ8cVzfTMmT1zXtZiMLV0IdkkdGI.jpg', 'width': 960, 'height': 720, 'user': {'id': '33733687', 'firstName': 'Aline', 'lastName': 'V', 'photo': {'prefix': 'https://fastly.4sqi.net/img/user/', 'suffix': '/33733687-OPVDEUXNFNC0U04G.jpg'}}, 'visibility': 'public'}, 'followers': {'count': 2}, 'listItems': {'count': 172, 'items': [{'id': 'v5631511b498e3d6d7e0a4df0', 'createdAt': 1531765995}]}}, {'id': '56b034ec498e88e98e07c2d3', 'name': 'Brooklyn List', 'description': '', 'type': 'others', 'user': {'id': '1192223', 'firstName': 'Paulie', 'lastName': 'G', 'photo': {'prefix': 'https://fastly.4sqi.net/img/user/', 'suffix': '/A2Z1VJQRQ5QO0ATM.jpg'}}, 'editable': False, 'public': True, 'collaborative': False, 'url': '/pauliegee/list/brooklyn-list', 'canonicalUrl': 'https://foursquare.com/pauliegee/list/brooklyn-list', 'createdAt': 1454388460, 'updatedAt': 1578833503, 'followers': {'count': 3}, 'listItems': {'count': 96, 'items': [{'id': 'v5631511b498e3d6d7e0a4df0', 'createdAt': 1463182473}]}}, {'id': '51acde26498e247ac9bbd56a', 'name': 'BK', 'description': '', 'type': 'others', 'user': {'id': '8640866', 'firstName': 'Sarah', 'lastName': 'N', 'photo': {'prefix': 'https://fastly.4sqi.net/img/user/', 'suffix': '/-XEM10PT3NFREHOBB.jpg'}}, 'editable': False, 'public': True, 'collaborative': False, 'url': '/admiralsnelson/list/bk', 'canonicalUrl': 'https://foursquare.com/admiralsnelson/list/bk', 'createdAt': 1370283558, 'updatedAt': 1524538043, 'photo': {'id': '53e28c4a498eb90b0cf2d7b6', 'createdAt': 1407355978, 'prefix': 'https://fastly.4sqi.net/img/general/', 'suffix': '/91544876_BWNXWdLS57ESy85sQlijg3EPdxElQR9m0-81acNh3H8.jpg', 'width': 940, 'height': 370, 'user': {'id': '91544876', 'firstName': 'goop', 'photo': {'prefix': 'https://fastly.4sqi.net/img/user/', 'suffix': '/91544876-14RHEPRV4NPKKE0Q.jpg'}, 'type': 'page'}, 'visibility': 'public'}, 'followers': {'count': 7}, 'listItems': {'count': 208, 'items': [{'id': 'v5631511b498e3d6d7e0a4df0', 'createdAt': 1494713283}]}}, {'id': '5ce6ef9804d1ae002c49d572', 'name': 'We gotta try these', 'description': '', 'type': 'others', 'user': {'id': '545964079', 'firstName': 'Charles', 'lastName': 'V', 'photo': {'prefix': 'https://fastly.4sqi.net/img/user/', 'suffix': '/545964079_tTJJOx-k_HxkOUfQM6MG6XQm1lzKduhd1XKK8rvoYVwYome1BzobTk_AY-QKbpre_20C0yHQD.jpg'}}, 'editable': False, 'public': True, 'collaborative': True, 'url': '/user/545964079/list/we-gotta-try-these', 'canonicalUrl': 'https://foursquare.com/user/545964079/list/we-gotta-try-these', 'createdAt': 1558638488, 'updatedAt': 1572002923, 'followers': {'count': 2}, 'listItems': {'count': 198, 'items': [{'id': 'v5631511b498e3d6d7e0a4df0', 'createdAt': 1562451072}]}}]}]}, 'hours': {'status': 'Open until 11:00 PM', 'richStatus': {'entities': [], 'text': 'Open until 11:00 PM'}, 'isOpen': True, 'isLocalHoliday': False, 'dayData': [], 'timeframes': [{'days': 'Mon–Thu, Sun', 'includesToday': True, 'open': [{'renderedTime': 'Noon–11:00 PM'}], 'segments': []}, {'days': 'Fri–Sat', 'open': [{'renderedTime': 'Noon–Midnight'}], 'segments': []}]}, 'popular': {'isOpen': False, 'isLocalHoliday': False, 'timeframes': [{'days': 'Today', 'includesToday': True, 'open': [{'renderedTime': '6:00 PM–11:00 PM'}], 'segments': []}, {'days': 'Tue', 'open': [{'renderedTime': '6:00 PM–11:00 PM'}], 'segments': []}, {'days': 'Wed', 'open': [{'renderedTime': '7:00 PM–10:00 PM'}], 'segments': []}, {'days': 'Thu', 'open': [{'renderedTime': 'Noon–1:00 PM'}, {'renderedTime': '7:00 PM–11:00 PM'}], 'segments': []}, {'days': 'Fri', 'open': [{'renderedTime': '7:00 PM–Midnight'}], 'segments': []}, {'days': 'Sat', 'open': [{'renderedTime': '3:00 PM–Midnight'}], 'segments': []}, {'days': 'Sun', 'open': [{'renderedTime': '1:00 PM–10:00 PM'}], 'segments': []}]}, 'pageUpdates': {'count': 0, 'items': []}, 'inbox': {'count': 0, 'items': []}, 'attributes': {'groups': [{'type': 'price', 'name': 'Price', 'summary': '$$', 'count': 1, 'items': [{'displayName': 'Price', 'displayValue': '$$', 'priceTier': 2}]}, {'type': 'payments', 'name': 'Credit Cards', 'summary': 'Credit Cards', 'count': 7, 'items': [{'displayName': 'Credit Cards', 'displayValue': 'Yes (incl. Discover & Visa)'}]}, {'type': 'outdoorSeating', 'name': 'Outdoor Seating', 'count': 1, 'items': [{'displayName': 'Outdoor Seating', 'displayValue': 'No'}]}, {'type': 'wifi', 'name': 'Wi-Fi', 'summary': 'Wi-Fi', 'count': 1, 'items': [{'displayName': 'Wi-Fi', 'displayValue': 'Yes'}]}, {'type': 'serves', 'name': 'Menus', 'summary': 'Happy Hour, Lunch & more', 'count': 8, 'items': [{'displayName': 'Lunch', 'displayValue': 'Lunch'}, {'displayName': 'Dinner', 'displayValue': 'Dinner'}, {'displayName': 'Dessert', 'displayValue': 'Dessert'}, {'displayName': 'Happy Hour', 'displayValue': 'Happy Hour'}]}, {'type': 'drinks', 'name': 'Drinks', 'summary': 'BYO', 'count': 5, 'items': [{'displayName': 'BYO', 'displayValue': 'BYO'}]}, {'type': 'diningOptions', 'name': 'Dining Options', 'summary': 'Delivery', 'count': 5, 'items': [{'displayName': 'Delivery', 'displayValue': 'Delivery'}]}]}, 'bestPhoto': {'id': '5ab42508d5b44f6e007f2f49', 'createdAt': 1521755400, 'source': {'name': 'Foursquare Web', 'url': 'https://foursquare.com'}, 'prefix': 'https://fastly.4sqi.net/img/general/', 'suffix': '/483555303_PdjJqxJ27cnMlBqa57QFdvEoL4fhm5TjZSa0FzG_y-c.png', 'width': 600, 'height': 600, 'visibility': 'public'}, 'colors': {'highlightColor': {'photoId': '5ab42508d5b44f6e007f2f49', 'value': -14673888}, 'highlightTextColor': {'photoId': '5ab42508d5b44f6e007f2f49', 'value': -1}, 'algoVersion': 3}}}}\n",
      "                         ID                Name  Likes  Rating  Tips\n",
      "0  5631511b498e3d6d7e0a4df0  Tikka Indian Grill     95     8.4    29\n",
      "( 13 / 39 ) processed\n"
     ]
    },
    {
     "name": "stdout",
     "output_type": "stream",
     "text": [
      "{'meta': {'code': 200, 'requestId': '5e1ca290b57e88001b8e51fc'}, 'response': {'venue': {'id': '527ed6a5498e91b0d7e9b8f4', 'name': 'Mahal Kita', 'contact': {'phone': '7185991516', 'formattedPhone': '(718) 599-1516', 'twitter': 'mahalkitany'}, 'location': {'address': '184 Havemeyer St', 'crossStreet': 'btwn S 4th St & S 3rd St', 'lat': 40.71055514758327, 'lng': -73.95813477484435, 'labeledLatLngs': [{'label': 'display', 'lat': 40.71055514758327, 'lng': -73.95813477484435}], 'postalCode': '11211', 'cc': 'US', 'city': 'Brooklyn', 'state': 'NY', 'country': 'United States', 'formattedAddress': ['184 Havemeyer St (btwn S 4th St & S 3rd St)', 'Brooklyn, NY 11211', 'United States']}, 'canonicalUrl': 'https://foursquare.com/v/mahal-kita/527ed6a5498e91b0d7e9b8f4', 'categories': [{'id': '4bf58dd8d48988d10f941735', 'name': 'Indian Restaurant', 'pluralName': 'Indian Restaurants', 'shortName': 'Indian', 'icon': {'prefix': 'https://ss3.4sqi.net/img/categories_v2/food/indian_', 'suffix': '.png'}, 'primary': True}], 'verified': True, 'stats': {'tipCount': 10}, 'url': 'http://www.brooklynmahalkita.com', 'price': {'tier': 2, 'message': 'Moderate', 'currency': '$'}, 'hasMenu': True, 'likes': {'count': 22, 'groups': [{'type': 'others', 'count': 22, 'items': []}], 'summary': '22 Likes'}, 'dislike': False, 'ok': False, 'rating': 7.0, 'ratingColor': 'C5DE35', 'ratingSignals': 38, 'menu': {'type': 'Menu', 'label': 'Menu', 'anchor': 'View Menu', 'url': 'https://foursquare.com/v/mahal-kita/527ed6a5498e91b0d7e9b8f4/menu', 'mobileUrl': 'https://foursquare.com/v/527ed6a5498e91b0d7e9b8f4/device_menu'}, 'allowMenuUrlEdit': True, 'beenHere': {'count': 0, 'unconfirmedCount': 0, 'marked': False, 'lastCheckinExpiredAt': 0}, 'specials': {'count': 0, 'items': []}, 'photos': {'count': 13, 'groups': [{'type': 'venue', 'name': 'Venue photos', 'count': 13, 'items': [{'id': '52d0606111d23fc0530c8db6', 'createdAt': 1389387873, 'source': {'name': 'Foursquare for Android', 'url': 'https://foursquare.com/download/#/android'}, 'prefix': 'https://fastly.4sqi.net/img/general/', 'suffix': '/1410057_Gosbg8WTUER8iVmiNdX_kuOP4nf2xNcuCpiit1NpdPk.jpg', 'width': 960, 'height': 540, 'user': {'id': '1410057', 'firstName': 'Miguel', 'lastName': 'B', 'photo': {'prefix': 'https://fastly.4sqi.net/img/user/', 'suffix': '/ZO0ECMLGJKI1G35N.jpg'}}, 'visibility': 'public'}]}]}, 'venuePage': {'id': '79510183'}, 'reasons': {'count': 0, 'items': []}, 'description': 'Mahal Kita is an authentic Indian restaurant in Brooklyn serving tasty traditional dishes from all over India in a warm and welcoming environment.', 'storeId': '', 'page': {'user': {'id': '79510183', 'firstName': 'Mahal Kita', 'photo': {'prefix': 'https://fastly.4sqi.net/img/user/', 'suffix': '/79510183-FWUHYJDIN1VWACMM.png'}, 'type': 'venuePage', 'venue': {'id': '527ed6a5498e91b0d7e9b8f4'}, 'tips': {'count': 0}, 'lists': {'groups': [{'type': 'created', 'count': 2, 'items': []}]}, 'bio': ''}}, 'hereNow': {'count': 0, 'summary': 'Nobody here', 'groups': []}, 'createdAt': 1384044197, 'tips': {'count': 10, 'groups': [{'type': 'others', 'name': 'All tips', 'count': 10, 'items': [{'id': '531139f7498e8927d155eda4', 'createdAt': 1393637879, 'text': 'Best Indian restaurant in Williamsburg! There delivery service is wonderful as well. Need a menu suggestion? Try the Chicken Korma special, and get the Vegetable Samosa.', 'type': 'user', 'canonicalUrl': 'https://foursquare.com/item/531139f7498e8927d155eda4', 'lang': 'en', 'likes': {'count': 1, 'groups': [{'type': 'others', 'count': 1, 'items': [{'id': '13983131', 'firstName': 'Isabella🐱', 'lastName': 'P', 'photo': {'prefix': 'https://fastly.4sqi.net/img/user/', 'suffix': '/55L15KHFVONH1W5M.jpg'}}]}], 'summary': '1 like'}, 'logView': True, 'agreeCount': 1, 'disagreeCount': 0, 'todo': {'count': 0}, 'user': {'id': '143934', 'firstName': 'Mary Ann', 'lastName': 'C', 'photo': {'prefix': 'https://fastly.4sqi.net/img/user/', 'suffix': '/143934-QD3UN0O1CF5WSMPO.jpg'}}, 'authorInteractionType': 'liked'}]}]}, 'shortUrl': 'http://4sq.com/17nF8cP', 'timeZone': 'America/New_York', 'listed': {'count': 21, 'groups': [{'type': 'others', 'name': 'Lists from other people', 'count': 21, 'items': [{'id': '5012f570e4b03546290036da', 'name': 'USA NYC BK Williamsburg', 'description': 'North Williamsburg & South Williamsburg.  Williamsburg between the East River & the BQE above Boriquen Place.', 'type': 'others', 'user': {'id': '12113441', 'firstName': 'Kino', 'photo': {'prefix': 'https://fastly.4sqi.net/img/user/', 'suffix': '/12113441-K5HTHFLU2MUCM0CM.jpg'}}, 'editable': False, 'public': True, 'collaborative': False, 'url': '/kinosfault/list/usa-nyc-bk-williamsburg', 'canonicalUrl': 'https://foursquare.com/kinosfault/list/usa-nyc-bk-williamsburg', 'createdAt': 1343419760, 'updatedAt': 1558996737, 'photo': {'id': '509d7f2be4b0eaa9155bbb02', 'createdAt': 1352498987, 'prefix': 'https://fastly.4sqi.net/img/general/', 'suffix': '/282491_itDZV8wE-u84HGl8fuYlDfc58mBVo8PliGJdGQYPUNc.jpg', 'width': 612, 'height': 612, 'user': {'id': '282491', 'firstName': 'Brian', 'lastName': 'S', 'photo': {'prefix': 'https://fastly.4sqi.net/img/user/', 'suffix': '/282491-GDVM4JWQIMJBOOVT.jpg'}}, 'visibility': 'public'}, 'followers': {'count': 22}, 'listItems': {'count': 302, 'items': [{'id': 'v527ed6a5498e91b0d7e9b8f4', 'createdAt': 1451819276}]}}, {'id': '51147418e4b0592c804bc325', 'name': 'Williamsburg Eats', 'description': '', 'type': 'others', 'user': {'id': '8151816', 'firstName': 'Amy', 'lastName': 'K', 'photo': {'prefix': 'https://fastly.4sqi.net/img/user/', 'suffix': '/8151816-5I31QLJ2ZQRC4BKI.jpg'}}, 'editable': False, 'public': True, 'collaborative': False, 'url': '/yourfavcrasian/list/williamsburg-eats', 'canonicalUrl': 'https://foursquare.com/yourfavcrasian/list/williamsburg-eats', 'createdAt': 1360294936, 'updatedAt': 1405975599, 'followers': {'count': 1}, 'listItems': {'count': 27, 'items': [{'id': 'v527ed6a5498e91b0d7e9b8f4', 'createdAt': 1401748752}]}}, {'id': '52d753f1498ed872ca7ca6fb', 'name': 'HUNGRY', 'description': '', 'type': 'others', 'user': {'id': '2075477', 'firstName': 'Leah', 'lastName': 'B', 'photo': {'prefix': 'https://fastly.4sqi.net/img/user/', 'suffix': '/1IZMOT4E15KCIWTV.jpg'}}, 'editable': False, 'public': True, 'collaborative': False, 'url': '/leahblowes/list/hungry', 'canonicalUrl': 'https://foursquare.com/leahblowes/list/hungry', 'createdAt': 1389843441, 'updatedAt': 1541957396, 'photo': {'id': '523fbda211d2fad2df774f90', 'createdAt': 1379909026, 'prefix': 'https://fastly.4sqi.net/img/general/', 'suffix': '/18384689_QzrQVzSdJr_qkblHbZ0_s1aD1a-YWJIX_Twc4BILXq8.jpg', 'width': 720, 'height': 720, 'user': {'id': '18384689', 'firstName': 'katherine', 'lastName': 'c', 'photo': {'prefix': 'https://fastly.4sqi.net/img/user/', 'suffix': '/QM1FCJPEEQH2C4CN.jpg'}}, 'visibility': 'public'}, 'followers': {'count': 0}, 'listItems': {'count': 90, 'items': [{'id': 'v527ed6a5498e91b0d7e9b8f4', 'createdAt': 1392926515}]}}, {'id': '5670a7f8498e06920c39d8b2', 'name': 'Caviar', 'description': '', 'type': 'others', 'user': {'id': '38152', 'firstName': 'Andrea', 'lastName': 'B', 'photo': {'prefix': 'https://fastly.4sqi.net/img/user/', 'suffix': '/CMQSNMRBV5AXBGKM.jpg'}}, 'editable': False, 'public': True, 'collaborative': False, 'url': '/user/38152/list/caviar', 'canonicalUrl': 'https://foursquare.com/user/38152/list/caviar', 'createdAt': 1450223608, 'updatedAt': 1561398571, 'photo': {'id': '55dcdc39498e56627b28286b', 'createdAt': 1440537657, 'prefix': 'https://fastly.4sqi.net/img/general/', 'suffix': '/138262430_DKEGvPK95NdAxq67wdIPxKXEZhjPaRb6s_ZyA0o5Odo.jpg', 'width': 1000, 'height': 667, 'user': {'id': '138262430', 'firstName': 'Saucy By Nature', 'photo': {'prefix': 'https://fastly.4sqi.net/img/user/', 'suffix': '/138262430-1241MQ0YS2CUWY5N.png'}, 'type': 'venuePage', 'venue': {'id': '5031151be4b01042a438c2e3'}}, 'visibility': 'public'}, 'followers': {'count': 0}, 'listItems': {'count': 58, 'items': [{'id': 'v527ed6a5498e91b0d7e9b8f4', 'createdAt': 1450227220}]}}]}]}, 'hours': {'status': 'Open until 10:00 PM', 'richStatus': {'entities': [], 'text': 'Open until 10:00 PM'}, 'isOpen': True, 'isLocalHoliday': False, 'dayData': [], 'timeframes': [{'days': 'Mon–Thu', 'includesToday': True, 'open': [{'renderedTime': '11:30 AM–10:00 PM'}], 'segments': []}, {'days': 'Fri–Sat', 'open': [{'renderedTime': '11:30 AM–10:30 PM'}], 'segments': []}, {'days': 'Sun', 'open': [{'renderedTime': '11:30 AM–3:00 PM'}, {'renderedTime': '5:00 PM–10:00 PM'}], 'segments': []}]}, 'popular': {'isOpen': False, 'isLocalHoliday': False, 'timeframes': [{'days': 'Today', 'includesToday': True, 'open': [{'renderedTime': '6:00 PM–10:00 PM'}], 'segments': []}, {'days': 'Tue', 'open': [{'renderedTime': '1:00 PM–2:00 PM'}, {'renderedTime': '6:00 PM–10:00 PM'}], 'segments': []}, {'days': 'Wed–Thu', 'open': [{'renderedTime': '7:00 PM–10:00 PM'}], 'segments': []}, {'days': 'Fri', 'open': [{'renderedTime': '6:00 PM–10:00 PM'}], 'segments': []}, {'days': 'Sat', 'open': [{'renderedTime': '2:00 PM–11:00 PM'}], 'segments': []}, {'days': 'Sun', 'open': [{'renderedTime': 'Noon–1:00 PM'}, {'renderedTime': '5:00 PM–10:00 PM'}], 'segments': []}]}, 'pageUpdates': {'count': 0, 'items': []}, 'inbox': {'count': 0, 'items': []}, 'attributes': {'groups': [{'type': 'price', 'name': 'Price', 'summary': '$$', 'count': 1, 'items': [{'displayName': 'Price', 'displayValue': '$$', 'priceTier': 2}]}, {'type': 'reservations', 'name': 'Reservations', 'count': 3, 'items': [{'displayName': 'Reservations', 'displayValue': 'No'}]}, {'type': 'payments', 'name': 'Credit Cards', 'summary': 'Credit Cards', 'count': 7, 'items': [{'displayName': 'Credit Cards', 'displayValue': 'Yes (incl. Discover)'}]}, {'type': 'outdoorSeating', 'name': 'Outdoor Seating', 'count': 1, 'items': [{'displayName': 'Outdoor Seating', 'displayValue': 'No'}]}, {'type': 'parking', 'name': 'Parking', 'summary': 'Street Parking', 'count': 5, 'items': [{'displayName': 'Street Parking', 'displayValue': 'Street'}]}]}, 'bestPhoto': {'id': '52d0606111d23fc0530c8db6', 'createdAt': 1389387873, 'source': {'name': 'Foursquare for Android', 'url': 'https://foursquare.com/download/#/android'}, 'prefix': 'https://fastly.4sqi.net/img/general/', 'suffix': '/1410057_Gosbg8WTUER8iVmiNdX_kuOP4nf2xNcuCpiit1NpdPk.jpg', 'width': 960, 'height': 540, 'visibility': 'public'}, 'colors': {'highlightColor': {'photoId': '52d0606111d23fc0530c8db6', 'value': -8900608}, 'highlightTextColor': {'photoId': '52d0606111d23fc0530c8db6', 'value': -1}, 'algoVersion': 3}}}}\n",
      "                         ID        Name  Likes  Rating  Tips\n",
      "0  527ed6a5498e91b0d7e9b8f4  Mahal Kita     22     7.0    10\n",
      "( 14 / 39 ) processed\n"
     ]
    },
    {
     "name": "stdout",
     "output_type": "stream",
     "text": [
      "{'meta': {'code': 200, 'requestId': '5e1ca224760a7f001b6ca316'}, 'response': {'venue': {'id': '4ae7876ef964a5201eac21e3', 'name': 'Kismat Indian Restaurant', 'contact': {'phone': '2127958633', 'formattedPhone': '(212) 795-8633', 'twitter': 'kismatindian'}, 'location': {'address': '603 Fort Washington Ave', 'crossStreet': '187th St', 'lat': 40.855221723964846, 'lng': -73.93696683600031, 'labeledLatLngs': [{'label': 'display', 'lat': 40.855221723964846, 'lng': -73.93696683600031}], 'postalCode': '10040', 'cc': 'US', 'city': 'New York', 'state': 'NY', 'country': 'United States', 'formattedAddress': ['603 Fort Washington Ave (187th St)', 'New York, NY 10040', 'United States']}, 'canonicalUrl': 'https://foursquare.com/v/kismat-indian-restaurant/4ae7876ef964a5201eac21e3', 'categories': [{'id': '4bf58dd8d48988d10f941735', 'name': 'Indian Restaurant', 'pluralName': 'Indian Restaurants', 'shortName': 'Indian', 'icon': {'prefix': 'https://ss3.4sqi.net/img/categories_v2/food/indian_', 'suffix': '.png'}, 'primary': True}], 'verified': True, 'stats': {'tipCount': 25}, 'url': 'http://kismatindianrestaurant-hub.com', 'price': {'tier': 2, 'message': 'Moderate', 'currency': '$'}, 'hasMenu': True, 'likes': {'count': 45, 'groups': [{'type': 'others', 'count': 45, 'items': []}], 'summary': '45 Likes'}, 'dislike': False, 'ok': False, 'rating': 7.7, 'ratingColor': 'C5DE35', 'ratingSignals': 72, 'delivery': {'id': '291797', 'url': 'https://www.seamless.com/menu/kismat-indian-cuisine-603-fort-washington-ave-new-york/291797?affiliate=1131&utm_source=foursquare-affiliate-network&utm_medium=affiliate&utm_campaign=1131&utm_content=291797', 'provider': {'name': 'seamless', 'icon': {'prefix': 'https://fastly.4sqi.net/img/general/cap/', 'sizes': [40, 50], 'name': '/delivery_provider_seamless_20180129.png'}}}, 'menu': {'type': 'Menu', 'label': 'Menu', 'anchor': 'View Menu', 'url': 'https://foursquare.com/v/kismat-indian-restaurant/4ae7876ef964a5201eac21e3/menu', 'mobileUrl': 'https://foursquare.com/v/4ae7876ef964a5201eac21e3/device_menu'}, 'allowMenuUrlEdit': True, 'beenHere': {'count': 0, 'unconfirmedCount': 0, 'marked': False, 'lastCheckinExpiredAt': 0}, 'specials': {'count': 0, 'items': []}, 'photos': {'count': 51, 'groups': [{'type': 'venue', 'name': 'Venue photos', 'count': 51, 'items': [{'id': '542aeef8498e40e206e5acd6', 'createdAt': 1412099832, 'source': {'name': 'Foursquare Web', 'url': 'https://foursquare.com'}, 'prefix': 'https://fastly.4sqi.net/img/general/', 'suffix': '/94614245_FJErbef2X6bb9Zgd2pSxLySdQTWoHH_8ZI8UxcIfxXE.jpg', 'width': 700, 'height': 465, 'user': {'id': '94614245', 'firstName': 'Kismat Indian Restaurant', 'photo': {'prefix': 'https://fastly.4sqi.net/img/user/', 'suffix': '/94614245-KIDFJXLQDMDGTRRX.png'}, 'type': 'venuePage', 'venue': {'id': '4ae7876ef964a5201eac21e3'}}, 'visibility': 'public'}]}]}, 'venuePage': {'id': '94614245'}, 'reasons': {'count': 1, 'items': [{'summary': 'Lots of people like this place', 'type': 'general', 'reasonName': 'rawLikesReason'}]}, 'description': 'Kismat Indian Restaurant in New York, NY serves exceptionally fresh and aromatic Indian dishes. Come in and get some incredible Indian food!', 'storeId': '', 'page': {'user': {'id': '94614245', 'firstName': 'Kismat Indian Restaurant', 'photo': {'prefix': 'https://fastly.4sqi.net/img/user/', 'suffix': '/94614245-KIDFJXLQDMDGTRRX.png'}, 'type': 'venuePage', 'venue': {'id': '4ae7876ef964a5201eac21e3'}, 'tips': {'count': 0}, 'lists': {'groups': [{'type': 'created', 'count': 2, 'items': []}]}, 'bio': ''}}, 'hereNow': {'count': 0, 'summary': 'Nobody here', 'groups': []}, 'createdAt': 1256687470, 'tips': {'count': 25, 'groups': [{'type': 'others', 'name': 'All tips', 'count': 25, 'items': [{'id': '4ae7885d70c603bb72b98eb4', 'createdAt': 1256687709, 'text': 'BEST Indian food anywhere, ever. Not fancy and not expensive, but soooo good. Worth a trip on the A.', 'type': 'user', 'canonicalUrl': 'https://foursquare.com/item/4ae7885d70c603bb72b98eb4', 'lang': 'en', 'likes': {'count': 3, 'groups': [{'type': 'others', 'count': 3, 'items': [{'id': '261346', 'firstName': 'Myke', 'lastName': 'M', 'photo': {'prefix': 'https://fastly.4sqi.net/img/user/', 'suffix': '/261346-A2PJ3XJ5G2WGRUUB.jpg'}}, {'id': '12231321', 'firstName': 'Anna', 'lastName': 'P', 'photo': {'prefix': 'https://fastly.4sqi.net/img/user/', 'suffix': '/12231321-FNFJQ1EOCNONBPLC.jpg'}}]}], 'summary': '3 likes'}, 'logView': True, 'agreeCount': 3, 'disagreeCount': 0, 'todo': {'count': 2}, 'user': {'id': '81672', 'firstName': 'Leesa', 'photo': {'prefix': 'https://fastly.4sqi.net/img/user/', 'suffix': '/81672-LUSVLNV155BTGSFR.jpg'}}}]}]}, 'shortUrl': 'http://4sq.com/9o4QDZ', 'timeZone': 'America/New_York', 'listed': {'count': 30, 'groups': [{'type': 'others', 'name': 'Lists from other people', 'count': 30, 'items': [{'id': '53a5cc58498e13d6162313de', 'name': 'NYC2', 'description': '', 'type': 'others', 'user': {'id': '28192132', 'firstName': 'Matt', 'lastName': 'K', 'photo': {'prefix': 'https://fastly.4sqi.net/img/user/', 'suffix': '/IYV14CH4NND1HCFT.jpg'}}, 'editable': False, 'public': True, 'collaborative': False, 'url': '/user/28192132/list/nyc2', 'canonicalUrl': 'https://foursquare.com/user/28192132/list/nyc2', 'createdAt': 1403374680, 'updatedAt': 1518212862, 'photo': {'id': '531b50ce11d259c14a91a038', 'createdAt': 1394299086, 'prefix': 'https://fastly.4sqi.net/img/general/', 'suffix': '/44006606_MiUtvxF_6G4hd4jh10eW3x-FuOw6g421PMjuHLiL1lY.jpg', 'width': 2448, 'height': 3264, 'user': {'id': '44006606', 'firstName': 'Brooklyn Taco Company', 'photo': {'prefix': 'https://fastly.4sqi.net/img/user/', 'suffix': '/44006606-SZJDX2SFYKMTI3JQ.png'}, 'type': 'venuePage', 'venue': {'id': '4e78ec28483bc8fe840a40d9'}}, 'visibility': 'public'}, 'followers': {'count': 1}, 'listItems': {'count': 322, 'items': [{'id': 'v4ae7876ef964a5201eac21e3', 'createdAt': 1408290595}]}}, {'id': '4ea725f030f897d8dae46212', 'name': 'Restaurants', 'description': '', 'type': 'others', 'user': {'id': '1339926', 'firstName': 'Elle', 'lastName': 'M', 'photo': {'prefix': 'https://fastly.4sqi.net/img/user/', 'suffix': '/1339926_80zhQYJA_BzPoXDozHgeof1wWTbLTpISWu9v28_FfJ-Lmomh9PSHb0Yiy4hD8QQ1mty9DXSP0.jpg'}}, 'editable': False, 'public': True, 'collaborative': False, 'url': '/exchgr/list/restaurants', 'canonicalUrl': 'https://foursquare.com/exchgr/list/restaurants', 'createdAt': 1319577072, 'updatedAt': 1376661653, 'photo': {'id': '4d62b473c1192da1b3900f43', 'createdAt': 1298314355, 'prefix': 'https://fastly.4sqi.net/img/general/', 'suffix': '/1XOSNNKB0TCJTXFMGHLCMVX525YKZ5WSY3FBJOEUTEGSM2XS.jpg', 'width': 537, 'height': 720, 'user': {'id': '6782545', 'firstName': 'Josh', 'lastName': 'R', 'photo': {'prefix': 'https://fastly.4sqi.net/img/user/', 'suffix': '/SDSWRQCKCXHFH5L2.jpg'}}, 'visibility': 'public'}, 'followers': {'count': 16}, 'listItems': {'count': 71, 'items': [{'id': 'v4ae7876ef964a5201eac21e3', 'createdAt': 1331140732}]}}, {'id': '5006e4f4e4b06c66c4059b80', 'name': '181st and 187th Street Restaurants', 'description': '', 'type': 'others', 'user': {'id': '4006952', 'firstName': 'Trevor', 'lastName': 'S', 'photo': {'prefix': 'https://fastly.4sqi.net/img/user/', 'suffix': '/blank_boy.png', 'default': True}}, 'editable': False, 'public': True, 'collaborative': False, 'url': '/user/4006952/list/181st-and-187th-street-restaurants', 'canonicalUrl': 'https://foursquare.com/user/4006952/list/181st-and-187th-street-restaurants', 'createdAt': 1342629108, 'updatedAt': 1356199656, 'followers': {'count': 6}, 'listItems': {'count': 10, 'items': [{'id': 'v4ae7876ef964a5201eac21e3', 'createdAt': 1342629199}]}}, {'id': '4edfdaf29adf1692b54f9964', 'name': 'Other-To-Do List', 'description': '', 'type': 'others', 'user': {'id': '4174003', 'firstName': 'D', 'photo': {'prefix': 'https://fastly.4sqi.net/img/user/', 'suffix': '/4174003-TZI2AX1JI53DMMDL.jpg'}}, 'editable': False, 'public': True, 'collaborative': False, 'url': '/user/4174003/list/othertodo-list', 'canonicalUrl': 'https://foursquare.com/user/4174003/list/othertodo-list', 'createdAt': 1323293426, 'updatedAt': 1522789915, 'photo': {'id': '4eadb22cd3e32ee0de754475', 'createdAt': 1320006188, 'prefix': 'https://fastly.4sqi.net/img/general/', 'suffix': '/3C44MPRG22WHGE5XMAB4XXCKSXEIZIABHGG3OFKFDVF5SQPC.jpg', 'width': 612, 'height': 612, 'user': {'id': '1550', 'firstName': 'christian svanes', 'lastName': 'k', 'photo': {'prefix': 'https://fastly.4sqi.net/img/user/', 'suffix': '/1550-532XGPVQCSOTM2H1.jpg'}}, 'visibility': 'public'}, 'followers': {'count': 4}, 'listItems': {'count': 94, 'items': [{'id': 'v4ae7876ef964a5201eac21e3', 'createdAt': 1374765346, 'photo': {'id': '4f597a63e4b03a9f69f85fab', 'createdAt': 1331264099, 'prefix': 'https://fastly.4sqi.net/img/general/', 'suffix': '/Pt6kGQgSqg9UUgE-cUn_oSAKlBPIM7-ZnFlPWSMWOWw.jpg', 'width': 612, 'height': 612, 'user': {'id': '34559', 'firstName': 'Craig', 'lastName': 'E', 'photo': {'prefix': 'https://fastly.4sqi.net/img/user/', 'suffix': '/34559_eNvgtJfd_gsngsFKHVaFJcMZvymoFJ0amVfVltjq-9MGFF4X49RhOJBCri6Gt16EDvz0l9HEj.jpg'}}, 'visibility': 'public'}}]}}]}]}, 'hours': {'status': 'Open until 10:45 PM', 'richStatus': {'entities': [], 'text': 'Open until 10:45 PM'}, 'isOpen': True, 'isLocalHoliday': False, 'dayData': [], 'timeframes': [{'days': 'Mon–Sun', 'includesToday': True, 'open': [{'renderedTime': 'Noon–10:45 PM'}], 'segments': []}]}, 'popular': {'isOpen': False, 'isLocalHoliday': False, 'timeframes': [{'days': 'Today', 'includesToday': True, 'open': [{'renderedTime': '1:00 PM–2:00 PM'}, {'renderedTime': '5:00 PM–10:00 PM'}], 'segments': []}, {'days': 'Tue–Wed', 'open': [{'renderedTime': '6:00 PM–10:00 PM'}], 'segments': []}, {'days': 'Thu–Fri', 'open': [{'renderedTime': 'Noon–1:00 PM'}, {'renderedTime': '4:00 PM–10:00 PM'}], 'segments': []}, {'days': 'Sat–Sun', 'open': [{'renderedTime': '1:00 PM–10:00 PM'}], 'segments': []}]}, 'pageUpdates': {'count': 0, 'items': []}, 'inbox': {'count': 0, 'items': []}, 'attributes': {'groups': [{'type': 'price', 'name': 'Price', 'summary': '$$', 'count': 1, 'items': [{'displayName': 'Price', 'displayValue': '$$', 'priceTier': 2}]}, {'type': 'payments', 'name': 'Credit Cards', 'summary': 'Credit Cards', 'count': 7, 'items': [{'displayName': 'Credit Cards', 'displayValue': 'Yes (incl. Discover & Visa)'}]}, {'type': 'outdoorSeating', 'name': 'Outdoor Seating', 'count': 1, 'items': [{'displayName': 'Outdoor Seating', 'displayValue': 'No'}]}, {'type': 'serves', 'name': 'Menus', 'summary': 'Happy Hour, Dinner & more', 'count': 8, 'items': [{'displayName': 'Brunch', 'displayValue': 'Brunch'}, {'displayName': 'Dinner', 'displayValue': 'Dinner'}, {'displayName': 'Happy Hour', 'displayValue': 'Happy Hour'}]}, {'type': 'diningOptions', 'name': 'Dining Options', 'summary': 'Delivery', 'count': 5, 'items': [{'displayName': 'Delivery', 'displayValue': 'Delivery'}]}]}, 'bestPhoto': {'id': '542aeef8498e40e206e5acd6', 'createdAt': 1412099832, 'source': {'name': 'Foursquare Web', 'url': 'https://foursquare.com'}, 'prefix': 'https://fastly.4sqi.net/img/general/', 'suffix': '/94614245_FJErbef2X6bb9Zgd2pSxLySdQTWoHH_8ZI8UxcIfxXE.jpg', 'width': 700, 'height': 465, 'visibility': 'public'}, 'colors': {'highlightColor': {'photoId': '542aeef8498e40e206e5acd6', 'value': -2039584}, 'highlightTextColor': {'photoId': '542aeef8498e40e206e5acd6', 'value': -16777216}, 'algoVersion': 3}}}}\n",
      "                         ID                      Name  Likes  Rating  Tips\n",
      "0  4ae7876ef964a5201eac21e3  Kismat Indian Restaurant     45     7.7    25\n",
      "( 15 / 39 ) processed\n"
     ]
    },
    {
     "name": "stdout",
     "output_type": "stream",
     "text": [
      "{'meta': {'code': 200, 'requestId': '5e1ca20a71c428001b5e718f'}, 'response': {'venue': {'id': '54c2bd96498eaf5142e3fe92', 'name': 'Clove Indian Restaurant & Bar', 'contact': {'phone': '6469186644', 'formattedPhone': '(646) 918-6644', 'twitter': 'cloveindian'}, 'location': {'address': '1592 Amsterdam Ave', 'crossStreet': 'btwn 139th St & 138th St', 'lat': 40.82128, 'lng': -73.95062, 'labeledLatLngs': [{'label': 'display', 'lat': 40.82128, 'lng': -73.95062}], 'postalCode': '10031', 'cc': 'US', 'city': 'New York', 'state': 'NY', 'country': 'United States', 'formattedAddress': ['1592 Amsterdam Ave (btwn 139th St & 138th St)', 'New York, NY 10031', 'United States']}, 'canonicalUrl': 'https://foursquare.com/v/clove-indian-restaurant--bar/54c2bd96498eaf5142e3fe92', 'categories': [{'id': '4bf58dd8d48988d10f941735', 'name': 'Indian Restaurant', 'pluralName': 'Indian Restaurants', 'shortName': 'Indian', 'icon': {'prefix': 'https://ss3.4sqi.net/img/categories_v2/food/indian_', 'suffix': '.png'}, 'primary': True}], 'verified': True, 'stats': {'tipCount': 16}, 'url': 'http://cloveindianrestaurant-hub.com', 'price': {'tier': 2, 'message': 'Moderate', 'currency': '$'}, 'likes': {'count': 32, 'groups': [{'type': 'others', 'count': 32, 'items': []}], 'summary': '32 Likes'}, 'dislike': False, 'ok': False, 'rating': 7.7, 'ratingColor': 'C5DE35', 'ratingSignals': 57, 'delivery': {'id': '308759', 'url': 'https://www.seamless.com/menu/clove-1592-amsterdam-ave-new-york/308759?affiliate=1131&utm_source=foursquare-affiliate-network&utm_medium=affiliate&utm_campaign=1131&utm_content=308759', 'provider': {'name': 'seamless', 'icon': {'prefix': 'https://fastly.4sqi.net/img/general/cap/', 'sizes': [40, 50], 'name': '/delivery_provider_seamless_20180129.png'}}}, 'allowMenuUrlEdit': True, 'beenHere': {'count': 0, 'unconfirmedCount': 0, 'marked': False, 'lastCheckinExpiredAt': 0}, 'specials': {'count': 0, 'items': []}, 'photos': {'count': 10, 'groups': [{'type': 'venue', 'name': 'Venue photos', 'count': 10, 'items': [{'id': '54ff149911d2fc312086c044', 'createdAt': 1426003097, 'source': {'name': 'Foursquare Web', 'url': 'https://foursquare.com'}, 'prefix': 'https://fastly.4sqi.net/img/general/', 'suffix': '/122224155_qZDnKuStR3v2L_-ptkHOZNdDaIlmGvTPDqIeGk9N5t4.png', 'width': 300, 'height': 300, 'user': {'id': '122224155', 'firstName': 'Clove Indian Restaurant & Bar', 'photo': {'prefix': 'https://fastly.4sqi.net/img/user/', 'suffix': '/122224155-PNTUABR3T1AF4EF4.png'}, 'type': 'venuePage', 'venue': {'id': '54c2bd96498eaf5142e3fe92'}}, 'visibility': 'public'}]}]}, 'venuePage': {'id': '122224155'}, 'reasons': {'count': 1, 'items': [{'summary': 'Lots of people like this place', 'type': 'general', 'reasonName': 'rawLikesReason'}]}, 'description': 'Clove Indian Restaurant and Bar in New York City offers delicious Indian Cuisine and a range of signature cocktails.', 'storeId': '', 'page': {'user': {'id': '122224155', 'firstName': 'Clove Indian Restaurant & Bar', 'photo': {'prefix': 'https://fastly.4sqi.net/img/user/', 'suffix': '/122224155-PNTUABR3T1AF4EF4.png'}, 'type': 'venuePage', 'venue': {'id': '54c2bd96498eaf5142e3fe92'}, 'tips': {'count': 0}, 'lists': {'groups': [{'type': 'created', 'count': 2, 'items': []}]}, 'bio': ''}}, 'hereNow': {'count': 0, 'summary': 'Nobody here', 'groups': []}, 'createdAt': 1422048662, 'tips': {'count': 16, 'groups': [{'type': 'others', 'name': 'All tips', 'count': 16, 'items': [{'id': '54c2be4c498ea6f7a30231f2', 'createdAt': 1422048844, 'text': 'Get your tandoori from the buffet with some beer & wine options. A bar is in the works for those that want a spicy happy hour. Prices are geared toward the collegiate budget. Dining is quite relaxed.', 'type': 'user', 'canonicalUrl': 'https://foursquare.com/item/54c2be4c498ea6f7a30231f2', 'lang': 'en', 'likes': {'count': 3, 'groups': [{'type': 'others', 'count': 3, 'items': [{'id': '407782671', 'firstName': 'Matthew', 'lastName': 'D', 'photo': {'prefix': 'https://fastly.4sqi.net/img/user/', 'suffix': '/407782671_5fwisbyI_HPkktBfQm2apJVjK9jGFw8E-bhGMilWmDU1YVNCSTLA-9hHlyK-RVvoQoAFZjx-P.jpg'}}, {'id': '135741626', 'firstName': 'Jessica', 'lastName': 'J', 'photo': {'prefix': 'https://fastly.4sqi.net/img/user/', 'suffix': '/135741626-51MC1TF311E3XZO0.jpg'}}, {'id': '22488738', 'firstName': 'Harlem', 'lastName': 'A', 'photo': {'prefix': 'https://fastly.4sqi.net/img/user/', 'suffix': '/GU2BKSGEN2MXU3PF.jpg'}}]}], 'summary': '3 likes'}, 'logView': True, 'editedAt': 1442262252, 'agreeCount': 4, 'disagreeCount': 0, 'todo': {'count': 0}, 'user': {'id': '22488738', 'firstName': 'Harlem', 'lastName': 'A', 'photo': {'prefix': 'https://fastly.4sqi.net/img/user/', 'suffix': '/GU2BKSGEN2MXU3PF.jpg'}}}]}]}, 'shortUrl': 'http://4sq.com/15xW5kL', 'timeZone': 'America/New_York', 'listed': {'count': 11, 'groups': [{'type': 'others', 'name': 'Lists from other people', 'count': 11, 'items': [{'id': '595851d50123584ec14be945', 'name': 'NYC', 'description': '', 'type': 'others', 'user': {'id': '84409602', 'firstName': 'Kristen', 'lastName': 'K', 'photo': {'prefix': 'https://fastly.4sqi.net/img/user/', 'suffix': '/84409602-0BPERQQYBMG4SFNC.jpg'}}, 'editable': False, 'public': True, 'collaborative': False, 'url': '/user/84409602/list/nyc', 'canonicalUrl': 'https://foursquare.com/user/84409602/list/nyc', 'createdAt': 1498960341, 'updatedAt': 1500214054, 'photo': {'id': '504cdfc1e4b01028dd0679b9', 'createdAt': 1347215297, 'prefix': 'https://fastly.4sqi.net/img/general/', 'suffix': '/qk8S_GyA5CtrO6lpdUXNPZuidHx3a0fuGrQFDNuxW2g.jpg', 'width': 612, 'height': 612, 'user': {'id': '18529711', 'firstName': 'Monique', 'lastName': 'C', 'photo': {'prefix': 'https://fastly.4sqi.net/img/user/', 'suffix': '/G2ILRII1JCXNXXP5.jpg'}}, 'visibility': 'public'}, 'followers': {'count': 0}, 'listItems': {'count': 5, 'items': [{'id': 'v54c2bd96498eaf5142e3fe92', 'createdAt': 1498960488}]}}, {'id': '50e302eee4b0b93ef730e001', 'name': 'Dining (Restaurants and supper clubs)', 'description': '', 'type': 'others', 'user': {'id': '22488738', 'firstName': 'Harlem', 'lastName': 'A', 'photo': {'prefix': 'https://fastly.4sqi.net/img/user/', 'suffix': '/GU2BKSGEN2MXU3PF.jpg'}}, 'editable': False, 'public': True, 'collaborative': False, 'url': '/gr8trharlem411/list/dining-restaurants-and-supper-clubs', 'canonicalUrl': 'https://foursquare.com/gr8trharlem411/list/dining-restaurants-and-supper-clubs', 'createdAt': 1357054702, 'updatedAt': 1472244920, 'photo': {'id': '4e21aef81f6effe84f736510', 'createdAt': 1310830328, 'prefix': 'https://fastly.4sqi.net/img/general/', 'suffix': '/3ZUQQCPV3XQKHQOD3JSM3RUHIXR4GXQUDQO0FIKFZ0PU0PBD.jpg', 'width': 720, 'height': 540, 'user': {'id': '98440', 'firstName': 'WeHarlem', 'photo': {'prefix': 'https://igx.4sqi.net/img/user/', 'suffix': '/HF03OEQRFWN3LDGN.jpg'}}, 'visibility': 'public'}, 'followers': {'count': 33}, 'listItems': {'count': 49, 'items': [{'id': 't54c2be4c498ea6f7a30231f2', 'createdAt': 1422048876}]}}, {'id': '59a87122d7627e2332924096', 'name': 'In the Heights', 'description': '', 'type': 'others', 'user': {'id': '66592033', 'firstName': 'Haley', 'lastName': 'N', 'photo': {'prefix': 'https://fastly.4sqi.net/img/user/', 'suffix': '/5SWCV543TZEU4PQD.jpg'}}, 'editable': False, 'public': True, 'collaborative': False, 'url': '/user/66592033/list/in-the-heights', 'canonicalUrl': 'https://foursquare.com/user/66592033/list/in-the-heights', 'createdAt': 1504211234, 'updatedAt': 1557506428, 'followers': {'count': 0}, 'listItems': {'count': 11, 'items': [{'id': 'v54c2bd96498eaf5142e3fe92', 'createdAt': 1504211938}]}}, {'id': '53ea514a498e96d4b52c9119', 'name': 'Dinner - Harlem', 'description': '', 'type': 'others', 'user': {'id': '2594051', 'firstName': 'Alexandra', 'lastName': 'L', 'photo': {'prefix': 'https://fastly.4sqi.net/img/user/', 'suffix': '/blank_girl.png', 'default': True}}, 'editable': False, 'public': True, 'collaborative': False, 'url': '/user/2594051/list/dinner--harlem', 'canonicalUrl': 'https://foursquare.com/user/2594051/list/dinner--harlem', 'createdAt': 1407865162, 'updatedAt': 1560880574, 'photo': {'id': '527136a311d26d097039228c', 'createdAt': 1383151267, 'prefix': 'https://fastly.4sqi.net/img/general/', 'suffix': '/4174003_MHGpq3xPbyvGLmeQwsHvAjGg5aPSxIECvA8zztLk9k0.jpg', 'width': 298, 'height': 400, 'user': {'id': '4174003', 'firstName': 'D', 'photo': {'prefix': 'https://fastly.4sqi.net/img/user/', 'suffix': '/4174003-TZI2AX1JI53DMMDL.jpg'}}, 'visibility': 'public'}, 'followers': {'count': 0}, 'listItems': {'count': 51, 'items': [{'id': 'v54c2bd96498eaf5142e3fe92', 'createdAt': 1435237823}]}}]}]}, 'hours': {'status': 'Open until 10:45 PM', 'richStatus': {'entities': [], 'text': 'Open until 10:45 PM'}, 'isOpen': True, 'isLocalHoliday': False, 'dayData': [], 'timeframes': [{'days': 'Mon–Sun', 'includesToday': True, 'open': [{'renderedTime': '11:00 AM–10:45 PM'}], 'segments': []}]}, 'popular': {'status': 'Likely open', 'richStatus': {'entities': [], 'text': 'Likely open'}, 'isOpen': True, 'isLocalHoliday': False, 'timeframes': [{'days': 'Today', 'includesToday': True, 'open': [{'renderedTime': 'Noon–5:00 PM'}, {'renderedTime': '7:00 PM–8:00 PM'}], 'segments': []}, {'days': 'Tue', 'open': [{'renderedTime': '11:00 AM–4:00 PM'}, {'renderedTime': '7:00 PM–10:00 PM'}], 'segments': []}, {'days': 'Wed', 'open': [{'renderedTime': 'Noon–10:00 PM'}], 'segments': []}, {'days': 'Thu', 'open': [{'renderedTime': '11:00 AM–10:00 PM'}], 'segments': []}, {'days': 'Fri', 'open': [{'renderedTime': 'Noon–10:00 PM'}], 'segments': []}, {'days': 'Sat', 'open': [{'renderedTime': '1:00 PM–4:00 PM'}, {'renderedTime': '6:00 PM–9:00 PM'}], 'segments': []}, {'days': 'Sun', 'open': [{'renderedTime': 'Noon–1:00 PM'}, {'renderedTime': '3:00 PM–4:00 PM'}, {'renderedTime': '6:00 PM–8:00 PM'}], 'segments': []}]}, 'pageUpdates': {'count': 0, 'items': []}, 'inbox': {'count': 0, 'items': []}, 'attributes': {'groups': [{'type': 'price', 'name': 'Price', 'summary': '$$', 'count': 1, 'items': [{'displayName': 'Price', 'displayValue': '$$', 'priceTier': 2}]}, {'type': 'reservations', 'name': 'Reservations', 'count': 3, 'items': [{'displayName': 'Reservations', 'displayValue': 'No'}]}, {'type': 'outdoorSeating', 'name': 'Outdoor Seating', 'summary': 'Outdoor Seating', 'count': 1, 'items': [{'displayName': 'Outdoor Seating', 'displayValue': 'Yes'}]}, {'type': 'wifi', 'name': 'Wi-Fi', 'summary': 'Wi-Fi', 'count': 1, 'items': [{'displayName': 'Wi-Fi', 'displayValue': 'Yes'}]}, {'type': 'serves', 'name': 'Menus', 'summary': 'Happy Hour, Dinner & more', 'count': 8, 'items': [{'displayName': 'Lunch', 'displayValue': 'Lunch'}, {'displayName': 'Dinner', 'displayValue': 'Dinner'}, {'displayName': 'Happy Hour', 'displayValue': 'Happy Hour'}]}, {'type': 'drinks', 'name': 'Drinks', 'summary': 'Full Bar & Cocktails', 'count': 5, 'items': [{'displayName': 'Full Bar', 'displayValue': 'Full Bar'}, {'displayName': 'Cocktails', 'displayValue': 'Cocktails'}]}, {'type': 'diningOptions', 'name': 'Dining Options', 'summary': 'Delivery', 'count': 5, 'items': [{'displayName': 'Delivery', 'displayValue': 'Delivery'}]}]}, 'bestPhoto': {'id': '54ff149911d2fc312086c044', 'createdAt': 1426003097, 'source': {'name': 'Foursquare Web', 'url': 'https://foursquare.com'}, 'prefix': 'https://fastly.4sqi.net/img/general/', 'suffix': '/122224155_qZDnKuStR3v2L_-ptkHOZNdDaIlmGvTPDqIeGk9N5t4.png', 'width': 300, 'height': 300, 'visibility': 'public'}, 'colors': {'highlightColor': {'photoId': '54ff149911d2fc312086c044', 'value': -514008}, 'highlightTextColor': {'photoId': '54ff149911d2fc312086c044', 'value': -16777216}, 'algoVersion': 3}}}}\n",
      "                         ID                           Name  Likes  Rating  \\\n",
      "0  54c2bd96498eaf5142e3fe92  Clove Indian Restaurant & Bar     32     7.7   \n",
      "\n",
      "   Tips  \n",
      "0    16  \n",
      "( 16 / 39 ) processed\n"
     ]
    },
    {
     "name": "stdout",
     "output_type": "stream",
     "text": [
      "{'meta': {'code': 200, 'requestId': '5e1ca255d03993001b34d034'}, 'response': {'venue': {'id': '529d382a11d2dd5ef107e641', 'name': 'Chapati House - NYC', 'contact': {'phone': '2127497200', 'formattedPhone': '(212) 749-7200', 'twitter': 'chapatihousenyc'}, 'location': {'address': '3153 Broadway', 'crossStreet': 'Tiemann Pl.', 'lat': 40.81457249971737, 'lng': -73.95915381671377, 'labeledLatLngs': [{'label': 'display', 'lat': 40.81457249971737, 'lng': -73.95915381671377}], 'postalCode': '10027', 'cc': 'US', 'city': 'New York', 'state': 'NY', 'country': 'United States', 'formattedAddress': ['3153 Broadway (Tiemann Pl.)', 'New York, NY 10027', 'United States']}, 'canonicalUrl': 'https://foursquare.com/v/chapati-house--nyc/529d382a11d2dd5ef107e641', 'categories': [{'id': '4bf58dd8d48988d10f941735', 'name': 'Indian Restaurant', 'pluralName': 'Indian Restaurants', 'shortName': 'Indian', 'icon': {'prefix': 'https://ss3.4sqi.net/img/categories_v2/food/indian_', 'suffix': '.png'}, 'primary': True}], 'verified': True, 'stats': {'tipCount': 18}, 'url': 'http://chapatihousenyc-hub.com', 'price': {'tier': 2, 'message': 'Moderate', 'currency': '$'}, 'likes': {'count': 73, 'groups': [{'type': 'others', 'count': 73, 'items': []}], 'summary': '73 Likes'}, 'dislike': False, 'ok': False, 'rating': 7.7, 'ratingColor': 'C5DE35', 'ratingSignals': 101, 'delivery': {'id': '288817', 'url': 'https://www.seamless.com/menu/chapati-house-3153-broadway-ave-new-york/288817?affiliate=1131&utm_source=foursquare-affiliate-network&utm_medium=affiliate&utm_campaign=1131&utm_content=288817', 'provider': {'name': 'seamless', 'icon': {'prefix': 'https://fastly.4sqi.net/img/general/cap/', 'sizes': [40, 50], 'name': '/delivery_provider_seamless_20180129.png'}}}, 'allowMenuUrlEdit': True, 'beenHere': {'count': 0, 'unconfirmedCount': 0, 'marked': False, 'lastCheckinExpiredAt': 0}, 'specials': {'count': 0, 'items': []}, 'photos': {'count': 25, 'groups': [{'type': 'venue', 'name': 'Venue photos', 'count': 25, 'items': [{'id': '54ecc93d498e6f9b0e99b2cb', 'createdAt': 1424804157, 'source': {'name': 'Foursquare Web', 'url': 'https://foursquare.com'}, 'prefix': 'https://fastly.4sqi.net/img/general/', 'suffix': '/120966053_l4IMMtiwaPZfcTmGSIJ4UJuEHQ6hIXN7PCpr_oQPU7U.jpg', 'width': 913, 'height': 629, 'user': {'id': '120966053', 'firstName': 'Chapati House - NYC', 'photo': {'prefix': 'https://fastly.4sqi.net/img/user/', 'suffix': '/120966053-Z2PHZNOXB02RLFRF.png'}, 'type': 'venuePage', 'venue': {'id': '529d382a11d2dd5ef107e641'}}, 'visibility': 'public'}]}]}, 'venuePage': {'id': '120966053'}, 'reasons': {'count': 1, 'items': [{'summary': 'Lots of people like this place', 'type': 'general', 'reasonName': 'rawLikesReason'}]}, 'description': 'Chapati House specializes in delicious traditional Indian food that’s cooked slowly with care and served quickly with a smile.', 'page': {'user': {'id': '120966053', 'firstName': 'Chapati House - NYC', 'photo': {'prefix': 'https://fastly.4sqi.net/img/user/', 'suffix': '/120966053-Z2PHZNOXB02RLFRF.png'}, 'type': 'venuePage', 'venue': {'id': '529d382a11d2dd5ef107e641'}, 'tips': {'count': 0}, 'lists': {'groups': [{'type': 'created', 'count': 2, 'items': []}]}, 'bio': ''}}, 'hereNow': {'count': 0, 'summary': 'Nobody here', 'groups': []}, 'createdAt': 1386035242, 'tips': {'count': 18, 'groups': [{'type': 'others', 'name': 'All tips', 'count': 18, 'items': [{'id': '53a634c4498eaf17b2a6df8b', 'createdAt': 1403401412, 'text': 'love this place! Indian food, Chipotle-pick-your-main-&-toppings style!', 'type': 'user', 'canonicalUrl': 'https://foursquare.com/item/53a634c4498eaf17b2a6df8b', 'lang': 'en', 'likes': {'count': 3, 'groups': [{'type': 'others', 'count': 3, 'items': [{'id': '96516553', 'firstName': 'Pratyush', 'lastName': 'N', 'photo': {'prefix': 'https://fastly.4sqi.net/img/user/', 'suffix': '/96516553_Sw8J2Rjr_bjkTOMNzuAkHqSW1RgwufUhiLrtcltZhx8UVST_QWbXVLCS_T54K9DOkZel2Mnxd.jpg'}}, {'id': '82268902', 'firstName': 'Debashree', 'lastName': 'M', 'photo': {'prefix': 'https://fastly.4sqi.net/img/user/', 'suffix': '/82268902-Y4QHJ5UJSLFMEB4Q.jpg'}}, {'id': '25723392', 'firstName': 'Björn', 'lastName': 'G', 'photo': {'prefix': 'https://fastly.4sqi.net/img/user/', 'suffix': '/MLCYRWUPZILG5DHX.gif'}}]}], 'summary': '3 likes'}, 'logView': True, 'agreeCount': 3, 'disagreeCount': 0, 'todo': {'count': 0}, 'user': {'id': '110429', 'firstName': 'lindsay', 'lastName': 'f', 'photo': {'prefix': 'https://fastly.4sqi.net/img/user/', 'suffix': '/5LJS0CEZ3HNBTT14.jpg'}}, 'authorInteractionType': 'liked'}]}]}, 'shortUrl': 'http://4sq.com/18cGHsn', 'timeZone': 'America/New_York', 'listed': {'count': 31, 'groups': [{'type': 'others', 'name': 'Lists from other people', 'count': 31, 'items': [{'id': '4f29f587e4b0d4e47d1269bb', 'name': 'Quick bite', 'description': '', 'type': 'others', 'user': {'id': '18796778', 'firstName': 'Kirsten', 'lastName': 'L', 'photo': {'prefix': 'https://fastly.4sqi.net/img/user/', 'suffix': '/18796778-KMS3HFUCPRUJCIJS.jpg'}}, 'editable': False, 'public': True, 'collaborative': False, 'url': '/sciencejobnyc/list/quick-bite', 'canonicalUrl': 'https://foursquare.com/sciencejobnyc/list/quick-bite', 'createdAt': 1328149895, 'updatedAt': 1566570459, 'photo': {'id': '4f79e165e4b05cde631b888b', 'createdAt': 1333387621, 'prefix': 'https://fastly.4sqi.net/img/general/', 'suffix': '/Y-B3tRCUeR2HjSTYJuR_z_WrBGQxw3QCJTB93aOxQoY.jpg', 'width': 540, 'height': 720, 'user': {'id': '32', 'firstName': 'Dens', 'photo': {'prefix': 'https://fastly.4sqi.net/img/user/', 'suffix': '/32_1239135232.jpg'}}, 'visibility': 'public'}, 'followers': {'count': 2}, 'listItems': {'count': 288, 'items': [{'id': 'v529d382a11d2dd5ef107e641', 'createdAt': 1476989406}]}}, {'id': '50cfc849e4b037239d544451', 'name': 'Harlem', 'description': '', 'type': 'others', 'user': {'id': '2087240', 'firstName': 'Kristin', 'lastName': 'C', 'photo': {'prefix': 'https://fastly.4sqi.net/img/user/', 'suffix': '/FGI0LWOGLDGJDDAM.jpg'}}, 'editable': False, 'public': True, 'collaborative': False, 'url': '/whalecrusader/list/harlem', 'canonicalUrl': 'https://foursquare.com/whalecrusader/list/harlem', 'createdAt': 1355794505, 'updatedAt': 1405543361, 'followers': {'count': 2}, 'listItems': {'count': 37, 'items': [{'id': 'v529d382a11d2dd5ef107e641', 'createdAt': 1393212459}]}}, {'id': '5027f6dfe4b00bbc7aa3edab', 'name': 'NYC', 'description': 'I ran out of space on this list (there is a 200 venu limit).  See the NYC II list for more!', 'type': 'others', 'user': {'id': '2830776', 'firstName': 'Abbie', 'lastName': 'W', 'photo': {'prefix': 'https://fastly.4sqi.net/img/user/', 'suffix': '/FZ5LNBS4LE05CJSP.jpg'}}, 'editable': False, 'public': True, 'collaborative': True, 'url': '/user/2830776/list/nyc', 'canonicalUrl': 'https://foursquare.com/user/2830776/list/nyc', 'createdAt': 1344796383, 'updatedAt': 1516856910, 'photo': {'id': '51c0fd87498e0896ff085d56', 'createdAt': 1371602311, 'prefix': 'https://fastly.4sqi.net/img/general/', 'suffix': '/362474_hyrN5GwBlkyhcibaWcahdAFsqdV8iAeLgmHK_69Scpc.jpg', 'width': 612, 'height': 612, 'user': {'id': '362474', 'firstName': 'Krystina', 'lastName': 'F', 'photo': {'prefix': 'https://fastly.4sqi.net/img/user/', 'suffix': '/SSVZT32IHYT4DFSE.jpg'}}, 'visibility': 'public'}, 'followers': {'count': 9}, 'listItems': {'count': 347, 'items': [{'id': 'v529d382a11d2dd5ef107e641', 'createdAt': 1483415766}]}}, {'id': '4edfdaf29adf1692b54f9964', 'name': 'Other-To-Do List', 'description': '', 'type': 'others', 'user': {'id': '4174003', 'firstName': 'D', 'photo': {'prefix': 'https://fastly.4sqi.net/img/user/', 'suffix': '/4174003-TZI2AX1JI53DMMDL.jpg'}}, 'editable': False, 'public': True, 'collaborative': False, 'url': '/user/4174003/list/othertodo-list', 'canonicalUrl': 'https://foursquare.com/user/4174003/list/othertodo-list', 'createdAt': 1323293426, 'updatedAt': 1522789915, 'photo': {'id': '4eadb22cd3e32ee0de754475', 'createdAt': 1320006188, 'prefix': 'https://fastly.4sqi.net/img/general/', 'suffix': '/3C44MPRG22WHGE5XMAB4XXCKSXEIZIABHGG3OFKFDVF5SQPC.jpg', 'width': 612, 'height': 612, 'user': {'id': '1550', 'firstName': 'christian svanes', 'lastName': 'k', 'photo': {'prefix': 'https://fastly.4sqi.net/img/user/', 'suffix': '/1550-532XGPVQCSOTM2H1.jpg'}}, 'visibility': 'public'}, 'followers': {'count': 4}, 'listItems': {'count': 94, 'items': [{'id': 'v529d382a11d2dd5ef107e641', 'createdAt': 1393268445, 'photo': {'id': '52e9419011d2998a8ccd92f5', 'createdAt': 1391018384, 'prefix': 'https://fastly.4sqi.net/img/general/', 'suffix': '/1824072_vEvIoyqKfxXTO9WorZfUNcg2vYy7K1S50KMCb6NvJGI.jpg', 'width': 960, 'height': 720, 'user': {'id': '1824072', 'firstName': 'Tiffany', 'lastName': 'H', 'photo': {'prefix': 'https://fastly.4sqi.net/img/user/', 'suffix': '/BNDIIGQG55G1SNJZ.jpg'}}, 'visibility': 'public'}}]}}]}]}, 'hours': {'status': 'Open until 11:00 PM', 'richStatus': {'entities': [], 'text': 'Open until 11:00 PM'}, 'isOpen': True, 'isLocalHoliday': False, 'dayData': [], 'timeframes': [{'days': 'Mon–Sun', 'includesToday': True, 'open': [{'renderedTime': '11:00 AM–11:00 PM'}], 'segments': []}]}, 'popular': {'status': 'Likely open', 'richStatus': {'entities': [], 'text': 'Likely open'}, 'isOpen': True, 'isLocalHoliday': False, 'timeframes': [{'days': 'Today', 'includesToday': True, 'open': [{'renderedTime': 'Noon–4:00 PM'}, {'renderedTime': '6:00 PM–9:00 PM'}], 'segments': []}, {'days': 'Tue', 'open': [{'renderedTime': 'Noon–3:00 PM'}, {'renderedTime': '6:00 PM–10:00 PM'}], 'segments': []}, {'days': 'Wed', 'open': [{'renderedTime': 'Noon–3:00 PM'}, {'renderedTime': '5:00 PM–9:00 PM'}], 'segments': []}, {'days': 'Thu–Fri', 'open': [{'renderedTime': 'Noon–2:00 PM'}, {'renderedTime': '5:00 PM–9:00 PM'}], 'segments': []}, {'days': 'Sat', 'open': [{'renderedTime': 'Noon–2:00 PM'}, {'renderedTime': '5:00 PM–10:00 PM'}], 'segments': []}, {'days': 'Sun', 'open': [{'renderedTime': '1:00 PM–11:00 PM'}], 'segments': []}]}, 'pageUpdates': {'count': 0, 'items': []}, 'inbox': {'count': 0, 'items': []}, 'attributes': {'groups': [{'type': 'price', 'name': 'Price', 'summary': '$$', 'count': 1, 'items': [{'displayName': 'Price', 'displayValue': '$$', 'priceTier': 2}]}, {'type': 'reservations', 'name': 'Reservations', 'count': 3, 'items': [{'displayName': 'Reservations', 'displayValue': 'No'}]}, {'type': 'payments', 'name': 'Credit Cards', 'summary': 'Credit Cards', 'count': 7, 'items': [{'displayName': 'Credit Cards', 'displayValue': 'Yes'}]}, {'type': 'outdoorSeating', 'name': 'Outdoor Seating', 'count': 1, 'items': [{'displayName': 'Outdoor Seating', 'displayValue': 'No'}]}, {'type': 'serves', 'name': 'Menus', 'summary': 'Lunch & Dinner', 'count': 8, 'items': [{'displayName': 'Lunch', 'displayValue': 'Lunch'}, {'displayName': 'Dinner', 'displayValue': 'Dinner'}]}, {'type': 'diningOptions', 'name': 'Dining Options', 'summary': 'Delivery', 'count': 5, 'items': [{'displayName': 'Delivery', 'displayValue': 'Delivery'}]}]}, 'bestPhoto': {'id': '54ecc93d498e6f9b0e99b2cb', 'createdAt': 1424804157, 'source': {'name': 'Foursquare Web', 'url': 'https://foursquare.com'}, 'prefix': 'https://fastly.4sqi.net/img/general/', 'suffix': '/120966053_l4IMMtiwaPZfcTmGSIJ4UJuEHQ6hIXN7PCpr_oQPU7U.jpg', 'width': 913, 'height': 629, 'visibility': 'public'}, 'colors': {'highlightColor': {'photoId': '54ecc93d498e6f9b0e99b2cb', 'value': -4167664}, 'highlightTextColor': {'photoId': '54ecc93d498e6f9b0e99b2cb', 'value': -16777216}, 'algoVersion': 3}}}}\n",
      "                         ID                 Name  Likes  Rating  Tips\n",
      "0  529d382a11d2dd5ef107e641  Chapati House - NYC     73     7.7    18\n",
      "( 17 / 39 ) processed\n"
     ]
    },
    {
     "name": "stdout",
     "output_type": "stream",
     "text": [
      "{'meta': {'code': 200, 'requestId': '5e1ca26d0de0d9001b3bb4ab'}, 'response': {'venue': {'id': '4b0dec08f964a520ae5223e3', 'name': 'Alachi Masala', 'contact': {'phone': '2128747420', 'formattedPhone': '(212) 874-7420', 'twitter': 'alachimasala', 'facebook': '833664873419022', 'facebookName': 'Poona Indian Restaurant'}, 'location': {'address': '488 Amsterdam Ave Frnt 1', 'lat': 40.7861663, 'lng': -73.9764143, 'labeledLatLngs': [{'label': 'display', 'lat': 40.7861663, 'lng': -73.9764143}], 'postalCode': '10024', 'cc': 'US', 'city': 'New York', 'state': 'NY', 'country': 'United States', 'formattedAddress': ['488 Amsterdam Ave Frnt 1', 'New York, NY 10024', 'United States']}, 'canonicalUrl': 'https://foursquare.com/v/alachi-masala/4b0dec08f964a520ae5223e3', 'categories': [{'id': '4bf58dd8d48988d10f941735', 'name': 'Indian Restaurant', 'pluralName': 'Indian Restaurants', 'shortName': 'Indian', 'icon': {'prefix': 'https://ss3.4sqi.net/img/categories_v2/food/indian_', 'suffix': '.png'}, 'primary': True}], 'verified': True, 'stats': {'tipCount': 17}, 'url': 'http://alachimasalany.com', 'price': {'tier': 2, 'message': 'Moderate', 'currency': '$'}, 'hasMenu': True, 'likes': {'count': 18, 'groups': [{'type': 'others', 'count': 18, 'items': []}], 'summary': '18 Likes'}, 'dislike': False, 'ok': False, 'rating': 7.6, 'ratingColor': 'C5DE35', 'ratingSignals': 38, 'delivery': {'id': '66495', 'url': 'https://www.seamless.com/menu/alachi-masala-indian-488-amsterdam-ave-new-york/66495?affiliate=1131&utm_source=foursquare-affiliate-network&utm_medium=affiliate&utm_campaign=1131&utm_content=66495', 'provider': {'name': 'seamless', 'icon': {'prefix': 'https://fastly.4sqi.net/img/general/cap/', 'sizes': [40, 50], 'name': '/delivery_provider_seamless_20180129.png'}}}, 'menu': {'type': 'Menu', 'label': 'Menu', 'anchor': 'View Menu', 'url': 'https://foursquare.com/v/alachi-masala/4b0dec08f964a520ae5223e3/menu', 'mobileUrl': 'https://foursquare.com/v/4b0dec08f964a520ae5223e3/device_menu'}, 'allowMenuUrlEdit': True, 'beenHere': {'count': 0, 'unconfirmedCount': 0, 'marked': False, 'lastCheckinExpiredAt': 0}, 'specials': {'count': 0, 'items': []}, 'photos': {'count': 30, 'groups': [{'type': 'venue', 'name': 'Venue photos', 'count': 30, 'items': [{'id': '564f9f5b498effcbe55c3d2d', 'createdAt': 1448058715, 'source': {'name': 'Foursquare Web', 'url': 'https://foursquare.com'}, 'prefix': 'https://fastly.4sqi.net/img/general/', 'suffix': '/146736771_uF-s4Al75_uFr3JBBipYPX0Zq3ljcFQG9N1JIIgSTBU.png', 'width': 406, 'height': 406, 'user': {'id': '146736771', 'firstName': 'Alachi Masala', 'photo': {'prefix': 'https://fastly.4sqi.net/img/user/', 'suffix': '/146736771-NPUQCBKPWG0V4JB1.jpg'}, 'type': 'venuePage', 'venue': {'id': '4b0dec08f964a520ae5223e3'}}, 'visibility': 'public'}]}]}, 'venuePage': {'id': '146736771'}, 'reasons': {'count': 0, 'items': []}, 'description': 'Indian food', 'storeId': '', 'page': {'user': {'id': '146736771', 'firstName': 'Alachi Masala', 'photo': {'prefix': 'https://fastly.4sqi.net/img/user/', 'suffix': '/146736771-NPUQCBKPWG0V4JB1.jpg'}, 'type': 'venuePage', 'venue': {'id': '4b0dec08f964a520ae5223e3'}, 'tips': {'count': 0}, 'lists': {'groups': [{'type': 'created', 'count': 2, 'items': []}]}, 'bio': ''}}, 'hereNow': {'count': 0, 'summary': 'Nobody here', 'groups': []}, 'createdAt': 1259203592, 'tips': {'count': 17, 'groups': [{'type': 'others', 'name': 'All tips', 'count': 17, 'items': [{'id': '520456f2498e5bedb25fa93a', 'createdAt': 1376016114, 'text': 'The naan is soo good!! The saag aloo is also really really yummy :)', 'type': 'user', 'canonicalUrl': 'https://foursquare.com/item/520456f2498e5bedb25fa93a', 'lang': 'en', 'likes': {'count': 2, 'groups': [{'type': 'others', 'count': 2, 'items': [{'id': '7016812', 'firstName': 'Kim', 'lastName': 'H', 'photo': {'prefix': 'https://fastly.4sqi.net/img/user/', 'suffix': '/7016812-ECNHOFBKT1IE1MES.jpg'}}, {'id': '932304', 'firstName': 'Eric', 'photo': {'prefix': 'https://fastly.4sqi.net/img/user/', 'suffix': '/blank_boy.png', 'default': True}}]}], 'summary': '2 likes'}, 'logView': True, 'agreeCount': 2, 'disagreeCount': 0, 'todo': {'count': 0}, 'user': {'id': '15262490', 'firstName': 'Heidi', 'lastName': 'M', 'photo': {'prefix': 'https://fastly.4sqi.net/img/user/', 'suffix': '/4RDSTYIV3K3KLQZG.jpg'}}}]}]}, 'shortUrl': 'http://4sq.com/bsEmuu', 'timeZone': 'America/New_York', 'listed': {'count': 23, 'groups': [{'type': 'others', 'name': 'Lists from other people', 'count': 23, 'items': [{'id': '50c107e6e4b0158f3d5739f2', 'name': 'UWS', 'description': '', 'type': 'others', 'user': {'id': '1385955', 'firstName': 'Emily', 'lastName': 'R', 'photo': {'prefix': 'https://fastly.4sqi.net/img/user/', 'suffix': '/5YSDOQQFA3V3R3S1.jpg'}}, 'editable': False, 'public': True, 'collaborative': False, 'url': '/user/1385955/list/uws', 'canonicalUrl': 'https://foursquare.com/user/1385955/list/uws', 'createdAt': 1354827750, 'updatedAt': 1378309816, 'followers': {'count': 2}, 'listItems': {'count': 19, 'items': [{'id': 'v4b0dec08f964a520ae5223e3', 'createdAt': 1369080080}]}}, {'id': '5285172e498e6c11e122009e', 'name': 'Best BYOB of NYC', 'description': '', 'type': 'others', 'user': {'id': '244747', 'firstName': 'Emily', 'lastName': 'S', 'photo': {'prefix': 'https://fastly.4sqi.net/img/user/', 'suffix': '/P3AF5K1XUTJ1XUUG.png'}}, 'editable': False, 'public': True, 'collaborative': False, 'url': '/emilyschildt/list/best-byob-of-nyc', 'canonicalUrl': 'https://foursquare.com/emilyschildt/list/best-byob-of-nyc', 'createdAt': 1384453934, 'updatedAt': 1384455736, 'followers': {'count': 3}, 'listItems': {'count': 84, 'items': [{'id': 'v4b0dec08f964a520ae5223e3', 'createdAt': 1384455421}]}}, {'id': '501c34d2e4b05e0d94fc6bfc', 'name': '••• my uws •••', 'description': '', 'type': 'others', 'user': {'id': '2575503', 'firstName': 'Eliane', 'lastName': 'v', 'photo': {'prefix': 'https://fastly.4sqi.net/img/user/', 'suffix': '/EHSHUZT0LAZROEZZ.jpg'}}, 'editable': False, 'public': True, 'collaborative': False, 'url': '/elianevdb/list/-my-uws-', 'canonicalUrl': 'https://foursquare.com/elianevdb/list/-my-uws-', 'createdAt': 1344025810, 'updatedAt': 1353529880, 'photo': {'id': '4e3eaab762e19d61097e3e06', 'createdAt': 1312729783, 'prefix': 'https://fastly.4sqi.net/img/general/', 'suffix': '/HSGBADK1YCWQH1VMV5G2WDLIC1LFGYXP0HLGTNMICZESFT2D.jpg', 'width': 537, 'height': 720, 'user': {'id': '2575503', 'firstName': 'Eliane', 'lastName': 'v', 'photo': {'prefix': 'https://fastly.4sqi.net/img/user/', 'suffix': '/EHSHUZT0LAZROEZZ.jpg'}}, 'visibility': 'public'}, 'followers': {'count': 6}, 'listItems': {'count': 64, 'items': [{'id': 'v4b0dec08f964a520ae5223e3', 'createdAt': 1344027093}]}}, {'id': '51b362c1498e5871a9f08eee', 'name': 'DESI Delights 👳🏾\\u200d♂️', 'description': 'Indian / Indo-Chinese', 'type': 'others', 'user': {'id': '3597604', 'firstName': 'ZenFoodster', 'photo': {'prefix': 'https://fastly.4sqi.net/img/user/', 'suffix': '/MA1VO1FBSBJPKYZI.jpg'}}, 'editable': False, 'public': True, 'collaborative': False, 'url': '/zenfoodster/list/desi-delights-', 'canonicalUrl': 'https://foursquare.com/zenfoodster/list/desi-delights-', 'createdAt': 1370710721, 'updatedAt': 1536179962, 'photo': {'id': '51b138a1498ef699a0972a6e', 'createdAt': 1370568865, 'prefix': 'https://fastly.4sqi.net/img/general/', 'suffix': '/3597604_wa-681WhercBwalwZaze4uxPTxjL-z5ar5a6Q-CO_GU.jpg', 'width': 960, 'height': 720, 'user': {'id': '3597604', 'firstName': 'ZenFoodster', 'photo': {'prefix': 'https://fastly.4sqi.net/img/user/', 'suffix': '/MA1VO1FBSBJPKYZI.jpg'}}, 'visibility': 'public'}, 'followers': {'count': 1}, 'listItems': {'count': 41, 'items': [{'id': 'v4b0dec08f964a520ae5223e3', 'createdAt': 1528190527}]}}]}]}, 'hours': {'status': 'Closed until 3:30 PM', 'richStatus': {'entities': [], 'text': 'Closed until 3:30 PM'}, 'isOpen': False, 'isLocalHoliday': False, 'dayData': [], 'timeframes': [{'days': 'Mon–Fri', 'includesToday': True, 'open': [{'renderedTime': '3:30 PM–11:00 PM'}], 'segments': []}, {'days': 'Sat–Sun', 'open': [{'renderedTime': 'Noon–11:00 PM'}], 'segments': []}]}, 'popular': {'isOpen': False, 'isLocalHoliday': False, 'timeframes': [{'days': 'Today', 'includesToday': True, 'open': [{'renderedTime': '5:00 PM–10:00 PM'}], 'segments': []}, {'days': 'Tue', 'open': [{'renderedTime': '2:00 PM–3:00 PM'}, {'renderedTime': '5:00 PM–10:00 PM'}], 'segments': []}, {'days': 'Wed', 'open': [{'renderedTime': '3:00 PM–4:00 PM'}, {'renderedTime': '7:00 PM–11:00 PM'}], 'segments': []}, {'days': 'Thu', 'open': [{'renderedTime': '1:00 PM–2:00 PM'}, {'renderedTime': '5:00 PM–11:00 PM'}], 'segments': []}, {'days': 'Fri', 'open': [{'renderedTime': '2:00 PM–3:00 PM'}, {'renderedTime': '7:00 PM–11:00 PM'}], 'segments': []}, {'days': 'Sat', 'open': [{'renderedTime': '4:00 PM–11:00 PM'}], 'segments': []}, {'days': 'Sun', 'open': [{'renderedTime': 'Noon–10:00 PM'}], 'segments': []}]}, 'pageUpdates': {'count': 0, 'items': []}, 'inbox': {'count': 0, 'items': []}, 'attributes': {'groups': [{'type': 'price', 'name': 'Price', 'summary': '$$', 'count': 1, 'items': [{'displayName': 'Price', 'displayValue': '$$', 'priceTier': 2}]}, {'type': 'payments', 'name': 'Credit Cards', 'summary': 'Credit Cards', 'count': 7, 'items': [{'displayName': 'Credit Cards', 'displayValue': 'Yes (incl. Discover & Visa)'}]}, {'type': 'outdoorSeating', 'name': 'Outdoor Seating', 'count': 1, 'items': [{'displayName': 'Outdoor Seating', 'displayValue': 'No'}]}, {'type': 'serves', 'name': 'Menus', 'summary': 'Dinner', 'count': 8, 'items': [{'displayName': 'Dinner', 'displayValue': 'Dinner'}]}, {'type': 'diningOptions', 'name': 'Dining Options', 'summary': 'Delivery', 'count': 5, 'items': [{'displayName': 'Delivery', 'displayValue': 'Delivery'}]}]}, 'bestPhoto': {'id': '564f9f5b498effcbe55c3d2d', 'createdAt': 1448058715, 'source': {'name': 'Foursquare Web', 'url': 'https://foursquare.com'}, 'prefix': 'https://fastly.4sqi.net/img/general/', 'suffix': '/146736771_uF-s4Al75_uFr3JBBipYPX0Zq3ljcFQG9N1JIIgSTBU.png', 'width': 406, 'height': 406, 'visibility': 'public'}, 'colors': {'highlightColor': {'photoId': '564f9f5b498effcbe55c3d2d', 'value': -460616}, 'highlightTextColor': {'photoId': '564f9f5b498effcbe55c3d2d', 'value': -16777216}, 'algoVersion': 3}}}}\n",
      "                         ID           Name  Likes  Rating  Tips\n",
      "0  4b0dec08f964a520ae5223e3  Alachi Masala     18     7.6    17\n",
      "( 18 / 39 ) processed\n"
     ]
    },
    {
     "name": "stdout",
     "output_type": "stream",
     "text": [
      "{'meta': {'code': 200, 'requestId': '5e1ca2313907e70022690815'}, 'response': {'venue': {'id': '5aeb49d267f62b002ca5a9b5', 'name': 'Masala King', 'contact': {}, 'location': {'address': '64 E 34th St', 'crossStreet': 'btwn Park & Madison Ave', 'lat': 40.74718410480507, 'lng': -73.98185309164937, 'labeledLatLngs': [{'label': 'display', 'lat': 40.74718410480507, 'lng': -73.98185309164937}], 'postalCode': '10016', 'cc': 'US', 'city': 'New York', 'state': 'NY', 'country': 'United States', 'formattedAddress': ['64 E 34th St (btwn Park & Madison Ave)', 'New York, NY 10016', 'United States']}, 'canonicalUrl': 'https://foursquare.com/v/masala-king/5aeb49d267f62b002ca5a9b5', 'categories': [{'id': '4bf58dd8d48988d10f941735', 'name': 'Indian Restaurant', 'pluralName': 'Indian Restaurants', 'shortName': 'Indian', 'icon': {'prefix': 'https://ss3.4sqi.net/img/categories_v2/food/indian_', 'suffix': '.png'}, 'primary': True}], 'verified': False, 'stats': {'tipCount': 2}, 'price': {'tier': 2, 'message': 'Moderate', 'currency': '$'}, 'likes': {'count': 7, 'groups': [{'type': 'others', 'count': 7, 'items': [{'id': '40680453', 'firstName': 'Fabian', 'lastName': 'M', 'photo': {'prefix': 'https://fastly.4sqi.net/img/user/', 'suffix': '/NV1S1KSR1DFPUQEI.jpg'}}, {'id': '16927519', 'firstName': 'Ryan', 'lastName': 'C', 'photo': {'prefix': 'https://fastly.4sqi.net/img/user/', 'suffix': '/16927519-Z4FXSNLZ4YYG4ZOE.jpg'}}, {'id': '19302635', 'firstName': 'Angelo', 'lastName': 'F', 'photo': {'prefix': 'https://fastly.4sqi.net/img/user/', 'suffix': '/19302635_0b6taj9C_TPgJdRKN6mEAzJJ0E8hS5KZXBO61KpgWkrCzpVn663AFZCtVt5l5PIC80uqI5Ubh.jpg'}}, {'id': '12319253', 'firstName': 'Kevin', 'lastName': 'R', 'photo': {'prefix': 'https://fastly.4sqi.net/img/user/', 'suffix': '/HUVUOIY51GHR5OIS.jpg'}}]}], 'summary': '7 Likes'}, 'dislike': False, 'ok': False, 'rating': 8.1, 'ratingColor': '73CF42', 'ratingSignals': 9, 'delivery': {'id': '776906', 'url': 'https://www.seamless.com/menu/masala-king-64-e-34th-st-new-york/776906?affiliate=1131&utm_source=foursquare-affiliate-network&utm_medium=affiliate&utm_campaign=1131&utm_content=776906', 'provider': {'name': 'seamless', 'icon': {'prefix': 'https://fastly.4sqi.net/img/general/cap/', 'sizes': [40, 50], 'name': '/delivery_provider_seamless_20180129.png'}}}, 'allowMenuUrlEdit': True, 'beenHere': {'count': 0, 'unconfirmedCount': 0, 'marked': False, 'lastCheckinExpiredAt': 0}, 'specials': {'count': 0, 'items': []}, 'photos': {'count': 1, 'groups': [{'type': 'venue', 'name': 'Venue photos', 'count': 1, 'items': [{'id': '5d3e13abed449700074aa419', 'createdAt': 1564349355, 'source': {'name': 'Swarm for iOS', 'url': 'https://www.swarmapp.com'}, 'prefix': 'https://fastly.4sqi.net/img/general/', 'suffix': '/550026761_72_FoaXVSJUSBZd70dpPIfTEfEbgpoit6knrnQkcrDE.jpg', 'width': 1440, 'height': 1916, 'user': {'id': '550026761', 'firstName': 'Paul', 'lastName': 'T', 'photo': {'prefix': 'https://fastly.4sqi.net/img/user/', 'suffix': '/blank_boy.png', 'default': True}}, 'visibility': 'public'}]}]}, 'reasons': {'count': 0, 'items': []}, 'hereNow': {'count': 0, 'summary': 'Nobody here', 'groups': []}, 'createdAt': 1525369298, 'tips': {'count': 2, 'groups': [{'type': 'others', 'name': 'All tips', 'count': 2, 'items': [{'id': '5c9e3cc328374e002f20e495', 'createdAt': 1553874115, 'text': 'Best Indian ever. Most attentive service.', 'type': 'user', 'canonicalUrl': 'https://foursquare.com/item/5c9e3cc328374e002f20e495', 'lang': 'en', 'likes': {'count': 0, 'groups': []}, 'logView': True, 'agreeCount': 1, 'disagreeCount': 0, 'lastVoteText': 'Upvoted Nov 7, 2019', 'lastUpvoteTimestamp': 1573160234, 'todo': {'count': 0}, 'user': {'id': '19302635', 'firstName': 'Angelo', 'lastName': 'F', 'photo': {'prefix': 'https://fastly.4sqi.net/img/user/', 'suffix': '/19302635_0b6taj9C_TPgJdRKN6mEAzJJ0E8hS5KZXBO61KpgWkrCzpVn663AFZCtVt5l5PIC80uqI5Ubh.jpg'}}, 'authorInteractionType': 'liked'}]}]}, 'shortUrl': 'https://4sq.com/2rhO01n', 'timeZone': 'America/New_York', 'listed': {'count': 1, 'groups': [{'type': 'others', 'name': 'Lists from other people', 'count': 1, 'items': [{'id': '5bc4ee2be07550002c4e8c61', 'name': 'NYC', 'description': '', 'type': 'others', 'user': {'id': '465885537', 'firstName': 'Elena', 'lastName': 'S', 'photo': {'prefix': 'https://fastly.4sqi.net/img/user/', 'suffix': '/465885537_t0PmYr82_euHi2KPCs6-gKUuADNVCWGQbZZA_dcb7jHnWgqbdqoVtiNB6TbdR37gPgLt8SGtY.jpg'}}, 'editable': False, 'public': True, 'collaborative': False, 'url': '/user/465885537/list/nyc', 'canonicalUrl': 'https://foursquare.com/user/465885537/list/nyc', 'createdAt': 1539632683, 'updatedAt': 1539995690, 'photo': {'id': '5609ba87498e6fc9d322f544', 'createdAt': 1443478151, 'prefix': 'https://fastly.4sqi.net/img/general/', 'suffix': '/2713357_SBnEJrz0_DuoclPWQsCoQoG5lBTH7qqGC5QRlcKcVI8.jpg', 'width': 960, 'height': 540, 'user': {'id': '2713357', 'firstName': 'Elke', 'lastName': 'D', 'photo': {'prefix': 'https://fastly.4sqi.net/img/user/', 'suffix': '/2713357-WERFCRMJZAIPT5KF'}}, 'visibility': 'public'}, 'followers': {'count': 0}, 'listItems': {'count': 6, 'items': [{'id': 'v5aeb49d267f62b002ca5a9b5', 'createdAt': 1539995690}]}}]}]}, 'pageUpdates': {'count': 0, 'items': []}, 'inbox': {'count': 0, 'items': []}, 'attributes': {'groups': [{'type': 'price', 'name': 'Price', 'summary': '$$', 'count': 1, 'items': [{'displayName': 'Price', 'displayValue': '$$', 'priceTier': 2}]}, {'type': 'serves', 'name': 'Menus', 'summary': 'Lunch & Dinner', 'count': 8, 'items': [{'displayName': 'Lunch', 'displayValue': 'Lunch'}, {'displayName': 'Dinner', 'displayValue': 'Dinner'}]}, {'type': 'diningOptions', 'name': 'Dining Options', 'summary': 'Delivery', 'count': 5, 'items': [{'displayName': 'Delivery', 'displayValue': 'Delivery'}]}]}, 'bestPhoto': {'id': '5d3e13abed449700074aa419', 'createdAt': 1564349355, 'source': {'name': 'Swarm for iOS', 'url': 'https://www.swarmapp.com'}, 'prefix': 'https://fastly.4sqi.net/img/general/', 'suffix': '/550026761_72_FoaXVSJUSBZd70dpPIfTEfEbgpoit6knrnQkcrDE.jpg', 'width': 1440, 'height': 1916, 'visibility': 'public'}, 'colors': {'highlightColor': {'photoId': '5d3e13abed449700074aa419', 'value': -14671848}, 'highlightTextColor': {'photoId': '5d3e13abed449700074aa419', 'value': -1}, 'algoVersion': 3}}}}\n",
      "                         ID         Name  Likes  Rating  Tips\n",
      "0  5aeb49d267f62b002ca5a9b5  Masala King      7     8.1     2\n",
      "( 19 / 39 ) processed\n",
      "{'meta': {'code': 200, 'requestId': '5e1ca2140f596800223c9c72'}, 'response': {'venue': {'id': '4b4aab62f964a520978c26e3', 'name': 'Dil-e Punjab Deli', 'contact': {'phone': '2126479428', 'formattedPhone': '(212) 647-9428', 'twitter': 'dilepunjabdeli'}, 'location': {'address': '170 9th Ave', 'crossStreet': 'at 21st St', 'lat': 40.74484451009235, 'lng': -74.00252750283143, 'labeledLatLngs': [{'label': 'display', 'lat': 40.74484451009235, 'lng': -74.00252750283143}], 'postalCode': '10011', 'cc': 'US', 'city': 'New York', 'state': 'NY', 'country': 'United States', 'formattedAddress': ['170 9th Ave (at 21st St)', 'New York, NY 10011', 'United States']}, 'canonicalUrl': 'https://foursquare.com/v/dile-punjab-deli/4b4aab62f964a520978c26e3', 'categories': [{'id': '4bf58dd8d48988d10f941735', 'name': 'Indian Restaurant', 'pluralName': 'Indian Restaurants', 'shortName': 'Indian', 'icon': {'prefix': 'https://ss3.4sqi.net/img/categories_v2/food/indian_', 'suffix': '.png'}, 'primary': True}], 'verified': True, 'stats': {'tipCount': 44}, 'url': 'http://www.dilepunjabdelinyc.com', 'price': {'tier': 1, 'message': 'Cheap', 'currency': '$'}, 'hasMenu': True, 'likes': {'count': 106, 'groups': [{'type': 'others', 'count': 106, 'items': []}], 'summary': '106 Likes'}, 'dislike': False, 'ok': False, 'rating': 8.7, 'ratingColor': '73CF42', 'ratingSignals': 147, 'delivery': {'id': '298956', 'url': 'https://www.seamless.com/menu/dil-e-punjab-deli-170-9th-ave-new-york/298956?affiliate=1131&utm_source=foursquare-affiliate-network&utm_medium=affiliate&utm_campaign=1131&utm_content=298956', 'provider': {'name': 'seamless', 'icon': {'prefix': 'https://fastly.4sqi.net/img/general/cap/', 'sizes': [40, 50], 'name': '/delivery_provider_seamless_20180129.png'}}}, 'menu': {'type': 'Menu', 'label': 'Menu', 'anchor': 'View Menu', 'url': 'https://foursquare.com/v/dile-punjab-deli/4b4aab62f964a520978c26e3/menu', 'mobileUrl': 'https://foursquare.com/v/4b4aab62f964a520978c26e3/device_menu'}, 'allowMenuUrlEdit': True, 'beenHere': {'count': 0, 'unconfirmedCount': 0, 'marked': False, 'lastCheckinExpiredAt': 0}, 'specials': {'count': 0, 'items': []}, 'photos': {'count': 43, 'groups': [{'type': 'venue', 'name': 'Venue photos', 'count': 43, 'items': [{'id': '5919f7df68180734fe01c4a5', 'createdAt': 1494874079, 'source': {'name': 'Foursquare Web', 'url': 'https://foursquare.com'}, 'prefix': 'https://fastly.4sqi.net/img/general/', 'suffix': '/414872619_BEhaMddSwcYNPNYwzssIL29hTkQbCV-P-oHHTqkmoR0.jpg', 'width': 1500, 'height': 1000, 'user': {'id': '414872619', 'firstName': 'Dil-e Punjab Deli', 'photo': {'prefix': 'https://fastly.4sqi.net/img/user/', 'suffix': '/414872619_3T9u1JFF_wDe0Dct8_o-ejyUB5Jn1qFXVlLr_d-7JCzO1wUwf29BAAJgb9s7-6CG41qQSXVB2.png'}, 'type': 'venuePage', 'venue': {'id': '4b4aab62f964a520978c26e3'}}, 'visibility': 'public'}]}]}, 'venuePage': {'id': '414872619'}, 'reasons': {'count': 1, 'items': [{'summary': 'Lots of people like this place', 'type': 'general', 'reasonName': 'rawLikesReason'}]}, 'description': 'Fresh, fast Indian cuisine for lunch or dinner on the go!', 'page': {'user': {'id': '414872619', 'firstName': 'Dil-e Punjab Deli', 'photo': {'prefix': 'https://fastly.4sqi.net/img/user/', 'suffix': '/414872619_3T9u1JFF_wDe0Dct8_o-ejyUB5Jn1qFXVlLr_d-7JCzO1wUwf29BAAJgb9s7-6CG41qQSXVB2.png'}, 'type': 'venuePage', 'venue': {'id': '4b4aab62f964a520978c26e3'}, 'tips': {'count': 0}, 'lists': {'groups': [{'type': 'created', 'count': 2, 'items': []}]}, 'bio': ''}}, 'hereNow': {'count': 0, 'summary': 'Nobody here', 'groups': []}, 'createdAt': 1263184738, 'tips': {'count': 44, 'groups': [{'type': 'others', 'name': 'All tips', 'count': 44, 'items': [{'id': '4fe357f0e4b0675f95a93b8d', 'createdAt': 1340299248, 'text': 'The paneer mattar/ tofu & peas is delicious.', 'type': 'user', 'canonicalUrl': 'https://foursquare.com/item/4fe357f0e4b0675f95a93b8d', 'lang': 'en', 'likes': {'count': 2, 'groups': [{'type': 'others', 'count': 2, 'items': [{'id': '3820', 'firstName': 'Matthew', 'lastName': 'H', 'photo': {'prefix': 'https://fastly.4sqi.net/img/user/', 'suffix': '/EULP3UTMMW4T40KC.jpg'}}, {'id': '75677328', 'firstName': 'Richard', 'lastName': 'S', 'photo': {'prefix': 'https://fastly.4sqi.net/img/user/', 'suffix': '/75677328-5JPUMYERKYQ0Q4IL.jpg'}}]}], 'summary': '2 likes'}, 'logView': True, 'agreeCount': 2, 'disagreeCount': 0, 'todo': {'count': 0}, 'user': {'id': '1295211', 'firstName': 'Anup', 'photo': {'prefix': 'https://fastly.4sqi.net/img/user/', 'suffix': '/1295211-AE01A4KCPOISCWGA.jpg'}}}]}]}, 'shortUrl': 'http://4sq.com/bPrq7t', 'timeZone': 'America/New_York', 'listed': {'count': 222, 'groups': [{'type': 'others', 'name': 'Lists from other people', 'count': 222, 'items': [{'id': '57698b89498e63ecea16d052', 'name': 'The Best Indian Restaurants in the U.S.', 'description': 'According to our data, both South and North Indian restaurants are surging in popularity. Between the two, visits are up over 100% since last year. So hop on the trend and grab a dosa or some naan.', 'type': 'others', 'user': {'id': '23438729', 'firstName': 'Foursquare City Guide', 'photo': {'prefix': 'https://fastly.4sqi.net/img/user/', 'suffix': '/23438729-TODURDIUDUMY4JF5.png'}, 'type': 'page'}, 'editable': False, 'public': True, 'collaborative': False, 'url': '/foursquare/list/the-best-indian-restaurants-in-the-us', 'canonicalUrl': 'https://foursquare.com/foursquare/list/the-best-indian-restaurants-in-the-us', 'createdAt': 1466534793, 'updatedAt': 1485881430, 'photo': {'id': '56986979498e53226f56293b', 'createdAt': 1452829049, 'prefix': 'https://fastly.4sqi.net/img/general/', 'suffix': '/13609929_gqFzbwKUYewE54x2YWDX9mj9XeVWgGSzuK7349ZbYAk.jpg', 'width': 1440, 'height': 1878, 'user': {'id': '13609929', 'firstName': 'Justin', 'lastName': 'B', 'photo': {'prefix': 'https://fastly.4sqi.net/img/user/', 'suffix': '/13609929_pEcqiaCG_Li6SHnIT1L5BaYMFcGqYQKuusmfUhEfsMx0b469ECh6D-fWDsIEiHgeo30aU4Yuz.jpg'}}, 'visibility': 'public'}, 'logView': True, 'guideType': 'bestOf', 'guide': True, 'followers': {'count': 154}, 'listItems': {'count': 30, 'items': [{'id': 't5735ff5d498ea890f716c4f6', 'createdAt': 1466637614, 'photo': {'id': '5384d60811d2a661232c580c', 'createdAt': 1401214472, 'prefix': 'https://fastly.4sqi.net/img/general/', 'suffix': '/327177_f5LzELNMD_OPml_UTGY6Dd_yZNQReh-ZejFLrQO7GHs.jpg', 'width': 960, 'height': 720, 'user': {'id': '327177', 'firstName': 'Lance', 'lastName': 'L', 'photo': {'prefix': 'https://fastly.4sqi.net/img/user/', 'suffix': '/327177-LTYOVVLKUMEYFHPI.jpg'}}, 'visibility': 'public'}}]}}, {'id': '4faad908e4b0d7ccc8ee7cbb', 'name': 'NYC Chelsea', 'description': '', 'type': 'others', 'user': {'id': '27492172', 'firstName': 'Scott', 'lastName': 'G', 'photo': {'prefix': 'https://fastly.4sqi.net/img/user/', 'suffix': '/F0KCFZWMAO353EA4.jpg'}}, 'editable': False, 'public': True, 'collaborative': False, 'url': '/user/27492172/list/nyc-chelsea', 'canonicalUrl': 'https://foursquare.com/user/27492172/list/nyc-chelsea', 'createdAt': 1336596744, 'updatedAt': 1473968180, 'photo': {'id': '4eb072fa0cd6283498ec2543', 'createdAt': 1320186618, 'prefix': 'https://fastly.4sqi.net/img/general/', 'suffix': '/5OL2AT0C4R220MIFR0BHGIL3YJBXIIR45CFDDZXDAOGWZNYT.jpg', 'width': 492, 'height': 330, 'user': {'id': '742542', 'firstName': 'Time Out New York', 'photo': {'prefix': 'https://fastly.4sqi.net/img/user/', 'suffix': '/XXHKCBSQHBORZNSR.jpg'}, 'type': 'page'}, 'visibility': 'public'}, 'followers': {'count': 11}, 'listItems': {'count': 69, 'items': [{'id': 't4f09da7fe4b05dd3a4925714', 'createdAt': 1340295295}]}}, {'id': '522e187b498edbef510ac073', 'name': '3460 Miles in New York City', 'description': '', 'type': 'others', 'user': {'id': '57232', 'firstName': 'CBM \\ue12b', 'photo': {'prefix': 'https://fastly.4sqi.net/img/user/', 'suffix': '/57232_0kTf-DWm_ne-qpjAT_d1sE7V_vPFPasUj5Uznf0Kogn8SnX_qFHI2oYJIbAYKMZsqS32YBmV0.jpg'}}, 'editable': False, 'public': True, 'collaborative': False, 'url': '/cbm/list/3460-miles-in-new-york-city', 'canonicalUrl': 'https://foursquare.com/cbm/list/3460-miles-in-new-york-city', 'createdAt': 1378752635, 'updatedAt': 1422378765, 'photo': {'id': '5011af11e4b0e259d212954e', 'createdAt': 1343336209, 'prefix': 'https://fastly.4sqi.net/img/general/', 'suffix': '/HCojzunBnuwTwMhw-lxbNbgUfW1dV5zJtAXFeE_Nhao.jpg', 'width': 540, 'height': 720, 'user': {'id': '8369028', 'firstName': 'Yebyul', 'lastName': 'O', 'photo': {'prefix': 'https://fastly.4sqi.net/img/user/', 'suffix': '/GS1Y05VCQPGOZT1N.jpg'}}, 'visibility': 'public'}, 'followers': {'count': 102}, 'listItems': {'count': 63, 'items': [{'id': 'v4b4aab62f964a520978c26e3', 'createdAt': 1421189881, 'photo': {'id': '531176d911d2c55d4be095ce', 'createdAt': 1393653465, 'prefix': 'https://fastly.4sqi.net/img/general/', 'suffix': '/42598424_hkL0DM0R1C6kxZgTRNBRStHPSkjOubU5j1gCw7NOkKk.jpg', 'width': 959, 'height': 717, 'user': {'id': '42598424', 'firstName': 'Justin', 'lastName': 'O', 'photo': {'prefix': 'https://fastly.4sqi.net/img/user/', 'suffix': '/L4ZJTEWN03BYSA1O.jpg'}}, 'visibility': 'public'}}]}}, {'id': '4ef771b9e300930670236552', 'name': 'Chelsea Like a Local', 'description': 'Escape the chain stores of 6th avenue, the Bridge & Tunnel gay bars, \"Sex & the City\" landmarks, and overpriced trend shops -- discover the real life of Chelsea, from breakfast to brunch the next day!', 'type': 'others', 'user': {'id': '4276260', 'firstName': 'Dave', 'lastName': 'S', 'photo': {'prefix': 'https://fastly.4sqi.net/img/user/', 'suffix': '/SICAQK12O1NGTWLR.jpg'}}, 'editable': False, 'public': True, 'collaborative': False, 'url': '/dwsny/list/chelsea-like-a-local', 'canonicalUrl': 'https://foursquare.com/dwsny/list/chelsea-like-a-local', 'createdAt': 1324839353, 'updatedAt': 1567475217, 'photo': {'id': '4e94d6336da1effe22907357', 'createdAt': 1318377011, 'prefix': 'https://fastly.4sqi.net/img/general/', 'suffix': '/YLG5P4PHV0OZGCCZOI2UN2SEA1WYMTXS0ZYZ3XJFI0AKLOXV.jpg', 'width': 540, 'height': 720, 'user': {'id': '2359529', 'firstName': 'Daniel', 'lastName': 'S', 'photo': {'prefix': 'https://fastly.4sqi.net/img/user/', 'suffix': '/EN5GPWHDXJNUJCZP.jpg'}}, 'visibility': 'public'}, 'followers': {'count': 159}, 'listItems': {'count': 52, 'items': [{'id': 't4f09da7fe4b05dd3a4925714', 'createdAt': 1326044400, 'photo': {'id': '4ff38e86e4b01d081ed28e5d', 'createdAt': 1341361798, 'prefix': 'https://fastly.4sqi.net/img/general/', 'suffix': '/oNDIM-Xs4z6ys2VXoESMhySH6ENQS4k2UAyFb9j1wf8.jpg', 'width': 540, 'height': 720, 'user': {'id': '31046057', 'firstName': 'Tim', 'lastName': 'M', 'photo': {'prefix': 'https://fastly.4sqi.net/img/user/', 'suffix': '/31046057-TUEZJHIK1AZKUYSR.jpg'}}, 'visibility': 'public'}}]}}]}]}, 'hours': {'status': 'Open until Midnight', 'richStatus': {'entities': [], 'text': 'Open until Midnight'}, 'isOpen': True, 'isLocalHoliday': False, 'dayData': [], 'timeframes': [{'days': 'Mon–Sun', 'includesToday': True, 'open': [{'renderedTime': '10:00 AM–Midnight'}], 'segments': []}]}, 'popular': {'status': 'Likely open', 'richStatus': {'entities': [], 'text': 'Likely open'}, 'isOpen': True, 'isLocalHoliday': False, 'timeframes': [{'days': 'Today', 'includesToday': True, 'open': [{'renderedTime': 'Noon–2:00 PM'}, {'renderedTime': '6:00 PM–11:00 PM'}], 'segments': []}, {'days': 'Tue', 'open': [{'renderedTime': 'Noon–2:00 PM'}, {'renderedTime': '6:00 PM–11:00 PM'}], 'segments': []}, {'days': 'Wed', 'open': [{'renderedTime': 'Noon–3:00 PM'}, {'renderedTime': '6:00 PM–11:00 PM'}], 'segments': []}, {'days': 'Thu', 'open': [{'renderedTime': 'Noon–3:00 PM'}, {'renderedTime': '6:00 PM–10:00 PM'}], 'segments': []}, {'days': 'Fri', 'open': [{'renderedTime': 'Noon–3:00 PM'}, {'renderedTime': '7:00 PM–10:00 PM'}], 'segments': []}, {'days': 'Sat–Sun', 'open': [{'renderedTime': '24 Hours'}], 'segments': []}]}, 'pageUpdates': {'count': 0, 'items': []}, 'inbox': {'count': 0, 'items': []}, 'attributes': {'groups': [{'type': 'price', 'name': 'Price', 'summary': '$', 'count': 1, 'items': [{'displayName': 'Price', 'displayValue': '$', 'priceTier': 1}]}, {'type': 'reservations', 'name': 'Reservations', 'count': 3, 'items': [{'displayName': 'Reservations', 'displayValue': 'No'}]}, {'type': 'payments', 'name': 'Credit Cards', 'summary': 'Credit Cards', 'count': 7, 'items': [{'displayName': 'Credit Cards', 'displayValue': 'Yes'}]}, {'type': 'outdoorSeating', 'name': 'Outdoor Seating', 'count': 1, 'items': [{'displayName': 'Outdoor Seating', 'displayValue': 'No'}]}, {'type': 'serves', 'name': 'Menus', 'summary': 'Lunch & Dinner', 'count': 8, 'items': [{'displayName': 'Lunch', 'displayValue': 'Lunch'}, {'displayName': 'Dinner', 'displayValue': 'Dinner'}]}, {'type': 'diningOptions', 'name': 'Dining Options', 'summary': 'Delivery', 'count': 5, 'items': [{'displayName': 'Delivery', 'displayValue': 'Delivery'}]}]}, 'bestPhoto': {'id': '5919f7df68180734fe01c4a5', 'createdAt': 1494874079, 'source': {'name': 'Foursquare Web', 'url': 'https://foursquare.com'}, 'prefix': 'https://fastly.4sqi.net/img/general/', 'suffix': '/414872619_BEhaMddSwcYNPNYwzssIL29hTkQbCV-P-oHHTqkmoR0.jpg', 'width': 1500, 'height': 1000, 'visibility': 'public'}, 'colors': {'highlightColor': {'photoId': '5919f7df68180734fe01c4a5', 'value': -1513240}, 'highlightTextColor': {'photoId': '5919f7df68180734fe01c4a5', 'value': -16777216}, 'algoVersion': 3}}}}\n",
      "                         ID               Name  Likes  Rating  Tips\n",
      "0  4b4aab62f964a520978c26e3  Dil-e Punjab Deli    106     8.7    44\n",
      "( 20 / 39 ) processed\n"
     ]
    },
    {
     "name": "stdout",
     "output_type": "stream",
     "text": [
      "{'meta': {'code': 200, 'requestId': '5e1ca28947b43d00236a3f2f'}, 'response': {'venue': {'id': '56c931b2cd10407d3ecbefda', 'name': 'Ananda', 'contact': {}, 'location': {'address': '210 Thompson St', 'crossStreet': 'btwn W 3rd & Bleecker Sts', 'lat': 40.72883889496238, 'lng': -73.9993364782382, 'labeledLatLngs': [{'label': 'display', 'lat': 40.72883889496238, 'lng': -73.9993364782382}], 'postalCode': '10012', 'cc': 'US', 'city': 'New York', 'state': 'NY', 'country': 'United States', 'formattedAddress': ['210 Thompson St (btwn W 3rd & Bleecker Sts)', 'New York, NY 10012', 'United States']}, 'canonicalUrl': 'https://foursquare.com/v/ananda/56c931b2cd10407d3ecbefda', 'categories': [{'id': '4bf58dd8d48988d10f941735', 'name': 'Indian Restaurant', 'pluralName': 'Indian Restaurants', 'shortName': 'Indian', 'icon': {'prefix': 'https://ss3.4sqi.net/img/categories_v2/food/indian_', 'suffix': '.png'}, 'primary': True}], 'verified': False, 'stats': {'tipCount': 20}, 'url': 'http://www.ahimsa.nyc', 'price': {'tier': 2, 'message': 'Moderate', 'currency': '$'}, 'likes': {'count': 81, 'groups': [{'type': 'others', 'count': 81, 'items': []}], 'summary': '81 Likes'}, 'dislike': False, 'ok': False, 'rating': 8.3, 'ratingColor': '73CF42', 'ratingSignals': 113, 'delivery': {'id': '322406', 'url': 'https://www.seamless.com/menu/ahimsa-210-thompson-st-new-york/322406?affiliate=1131&utm_source=foursquare-affiliate-network&utm_medium=affiliate&utm_campaign=1131&utm_content=322406', 'provider': {'name': 'seamless', 'icon': {'prefix': 'https://fastly.4sqi.net/img/general/cap/', 'sizes': [40, 50], 'name': '/delivery_provider_seamless_20180129.png'}}}, 'allowMenuUrlEdit': True, 'beenHere': {'count': 0, 'unconfirmedCount': 0, 'marked': False, 'lastCheckinExpiredAt': 0}, 'specials': {'count': 0, 'items': []}, 'photos': {'count': 38, 'groups': [{'type': 'venue', 'name': 'Venue photos', 'count': 38, 'items': [{'id': '5cda22caf5e9d7002c25a973', 'createdAt': 1557799626, 'source': {'name': 'Foursquare for iOS', 'url': 'https://foursquare.com/download/#/iphone'}, 'prefix': 'https://fastly.4sqi.net/img/general/', 'suffix': '/4002_dNG7cssifK3h8EcTvVIMJSoH-qhl1F6Sf3HIJwd8wYs.jpg', 'width': 1920, 'height': 1440, 'user': {'id': '4002', 'firstName': 'Michael', 'lastName': 'H', 'photo': {'prefix': 'https://fastly.4sqi.net/img/user/', 'suffix': '/4002-JHZIX34V1JHWNXU5.jpg'}}, 'visibility': 'public'}]}]}, 'reasons': {'count': 1, 'items': [{'summary': 'Lots of people like this place', 'type': 'general', 'reasonName': 'rawLikesReason'}]}, 'hereNow': {'count': 0, 'summary': 'Nobody here', 'groups': []}, 'createdAt': 1456026034, 'tips': {'count': 20, 'groups': [{'type': 'others', 'name': 'All tips', 'count': 20, 'items': [{'id': '5733ec52498e3657d2b3225b', 'createdAt': 1463020626, 'text': \"This place is the cleanest, freshest tasting Indian food I've ever had. Herbs and spices that you can see whole in the food. Not your average sauces and none of the usual heaviness. Awesome place.\", 'type': 'user', 'canonicalUrl': 'https://foursquare.com/item/5733ec52498e3657d2b3225b', 'lang': 'en', 'likes': {'count': 2, 'groups': [{'type': 'others', 'count': 2, 'items': [{'id': '92074611', 'firstName': 'Aneesh', 'lastName': 'B', 'photo': {'prefix': 'https://fastly.4sqi.net/img/user/', 'suffix': '/92074611-QKPIDSI3I12ELSRB.jpg'}}, {'id': '117982', 'firstName': 'Jay', 'lastName': 'B', 'photo': {'prefix': 'https://fastly.4sqi.net/img/user/', 'suffix': '/117982_1259031782874.jpg'}}]}], 'summary': '2 likes'}, 'logView': True, 'agreeCount': 2, 'disagreeCount': 1, 'todo': {'count': 0}, 'user': {'id': '117982', 'firstName': 'Jay', 'lastName': 'B', 'photo': {'prefix': 'https://fastly.4sqi.net/img/user/', 'suffix': '/117982_1259031782874.jpg'}}, 'authorInteractionType': 'liked'}]}]}, 'shortUrl': 'http://4sq.com/1QRF7OH', 'timeZone': 'America/New_York', 'listed': {'count': 91, 'groups': [{'type': 'others', 'name': 'Lists from other people', 'count': 91, 'items': [{'id': '51eafebe498e687cd0f5f361', 'name': 'Near the Office', 'description': '', 'type': 'others', 'user': {'id': '19852582', 'firstName': 'Amanda', 'lastName': 'W', 'photo': {'prefix': 'https://fastly.4sqi.net/img/user/', 'suffix': '/CB3PGELA5YYSN0UH.jpg'}}, 'editable': False, 'public': True, 'collaborative': False, 'url': '/minnaw/list/near-the-office', 'canonicalUrl': 'https://foursquare.com/minnaw/list/near-the-office', 'createdAt': 1374355134, 'updatedAt': 1555962475, 'photo': {'id': '4fdb6d24e4b061c120efdaf3', 'createdAt': 1339780388, 'prefix': 'https://fastly.4sqi.net/img/general/', 'suffix': '/NIGMzuOlaGjePSImZ7VJmVu6RR74sdV7DGBjvSBPH6E.jpg', 'width': 431, 'height': 720, 'user': {'id': '10770050', 'firstName': 'Christina', 'lastName': 'F', 'photo': {'prefix': 'https://fastly.4sqi.net/img/user/', 'suffix': '/ZIFMH4ZBDK0XDLJG.jpg'}}, 'visibility': 'public'}, 'followers': {'count': 2}, 'listItems': {'count': 101, 'items': [{'id': 'v56c931b2cd10407d3ecbefda', 'createdAt': 1493860072}]}}, {'id': '56181833498e84414c713f1c', 'name': 'Venues Team Lunch', 'description': '', 'type': 'others', 'user': {'id': '96694690', 'firstName': 'Dustin', 'photo': {'prefix': 'https://fastly.4sqi.net/img/user/', 'suffix': '/96694690-TAXL3VVZCT5BIEGN'}}, 'editable': False, 'public': True, 'collaborative': True, 'url': '/user/96694690/list/venues-team-lunch', 'canonicalUrl': 'https://foursquare.com/user/96694690/list/venues-team-lunch', 'createdAt': 1444419635, 'updatedAt': 1473178002, 'photo': {'id': '50b3bb54e4b0373657e30a0e', 'createdAt': 1353956180, 'prefix': 'https://fastly.4sqi.net/img/general/', 'suffix': '/2135149_BhBfe3ZJgH3TVfHZNo1ole2e_Kj_Spcr1wilnD4CNV0.jpg', 'width': 612, 'height': 612, 'user': {'id': '2135149', 'firstName': 'Michael', 'lastName': 'H', 'photo': {'prefix': 'https://fastly.4sqi.net/img/user/', 'suffix': '/2135149-KUGXKHJBV15GOQ54.jpg'}}, 'visibility': 'public'}, 'followers': {'count': 5}, 'listItems': {'count': 19, 'items': [{'id': 'v56c931b2cd10407d3ecbefda', 'createdAt': 1462898047}]}}, {'id': '571d735f498e03d24c4449f2', 'name': '吃素', 'description': '', 'type': 'others', 'user': {'id': '45502160', 'firstName': 'Manuela', 'lastName': 'Z', 'photo': {'prefix': 'https://fastly.4sqi.net/img/user/', 'suffix': '/ZOVMTZEBOPIGLE3Y.jpg'}}, 'editable': False, 'public': True, 'collaborative': False, 'url': '/manuelasweb/list/%E5%90%83%E7%B4%A0', 'canonicalUrl': 'https://foursquare.com/manuelasweb/list/%E5%90%83%E7%B4%A0', 'createdAt': 1461547871, 'updatedAt': 1543497528, 'photo': {'id': '556787f5498eab935e5ca591', 'createdAt': 1432848373, 'prefix': 'https://fastly.4sqi.net/img/general/', 'suffix': '/129961985_hqa1Dv9db7idgoniTSbIT6-GGRElrGyM9Y4ZQSV7uRE.jpg', 'width': 960, 'height': 960, 'user': {'id': '129961985', 'firstName': 'Buddha Bodai Kosher Vegetarian', 'photo': {'prefix': 'https://fastly.4sqi.net/img/user/', 'suffix': '/129961985-2VX1BFTIAASCTHW2.jpg'}, 'type': 'venuePage', 'venue': {'id': '54e771c8498e750b0dee9579'}}, 'visibility': 'public'}, 'followers': {'count': 3}, 'listItems': {'count': 86, 'items': [{'id': 'v56c931b2cd10407d3ecbefda', 'createdAt': 1468112385}]}}, {'id': '52f835bd498ed4d1e8884136', 'name': 'Foodie Love in New York - 03', 'description': '', 'type': 'others', 'user': {'id': '547977', 'firstName': 'WiLL', 'photo': {'prefix': 'https://fastly.4sqi.net/img/user/', 'suffix': '/-Q5NYGDMFDMOITQRR.jpg'}}, 'editable': False, 'public': True, 'collaborative': False, 'url': '/sweetiewill/list/foodie-love-in-new-york--03', 'canonicalUrl': 'https://foursquare.com/sweetiewill/list/foodie-love-in-new-york--03', 'createdAt': 1391998397, 'updatedAt': 1470527368, 'followers': {'count': 4}, 'listItems': {'count': 89, 'items': [{'id': 'v56c931b2cd10407d3ecbefda', 'createdAt': 1470527368}]}}]}]}, 'hours': {'status': 'Open until 10:00 PM', 'richStatus': {'entities': [], 'text': 'Open until 10:00 PM'}, 'isOpen': True, 'isLocalHoliday': False, 'dayData': [], 'timeframes': [{'days': 'Mon–Thu, Sun', 'includesToday': True, 'open': [{'renderedTime': 'Noon–10:00 PM'}], 'segments': []}, {'days': 'Fri–Sat', 'open': [{'renderedTime': 'Noon–11:00 PM'}], 'segments': []}]}, 'popular': {'status': 'Likely open', 'richStatus': {'entities': [], 'text': 'Likely open'}, 'isOpen': True, 'isLocalHoliday': False, 'timeframes': [{'days': 'Today', 'includesToday': True, 'open': [{'renderedTime': 'Noon–3:00 PM'}, {'renderedTime': '7:00 PM–10:00 PM'}], 'segments': []}, {'days': 'Tue–Wed', 'open': [{'renderedTime': 'Noon–2:00 PM'}, {'renderedTime': '6:00 PM–10:00 PM'}], 'segments': []}, {'days': 'Thu–Fri', 'open': [{'renderedTime': 'Noon–3:00 PM'}, {'renderedTime': '6:00 PM–10:00 PM'}], 'segments': []}, {'days': 'Sat', 'open': [{'renderedTime': 'Noon–1:00 PM'}, {'renderedTime': '3:00 PM–11:00 PM'}], 'segments': []}, {'days': 'Sun', 'open': [{'renderedTime': '1:00 PM–3:00 PM'}, {'renderedTime': '6:00 PM–10:00 PM'}], 'segments': []}]}, 'pageUpdates': {'count': 0, 'items': []}, 'inbox': {'count': 0, 'items': []}, 'attributes': {'groups': [{'type': 'price', 'name': 'Price', 'summary': '$$', 'count': 1, 'items': [{'displayName': 'Price', 'displayValue': '$$', 'priceTier': 2}]}, {'type': 'payments', 'name': 'Credit Cards', 'summary': 'Credit Cards', 'count': 7, 'items': [{'displayName': 'Credit Cards', 'displayValue': 'Yes (incl. Diners Club & American Express)'}]}, {'type': 'outdoorSeating', 'name': 'Outdoor Seating', 'count': 1, 'items': [{'displayName': 'Outdoor Seating', 'displayValue': 'No'}]}, {'type': 'serves', 'name': 'Menus', 'summary': 'Dinner, Lunch & more', 'count': 8, 'items': [{'displayName': 'Brunch', 'displayValue': 'Brunch'}, {'displayName': 'Lunch', 'displayValue': 'Lunch'}, {'displayName': 'Dinner', 'displayValue': 'Dinner'}]}, {'type': 'drinks', 'name': 'Drinks', 'summary': 'Beer', 'count': 5, 'items': [{'displayName': 'Beer', 'displayValue': 'Beer'}]}, {'type': 'diningOptions', 'name': 'Dining Options', 'summary': 'Delivery', 'count': 5, 'items': [{'displayName': 'Delivery', 'displayValue': 'Delivery'}]}, {'type': 'restroom', 'name': 'Restroom', 'summary': 'Restroom', 'count': 1, 'items': [{'displayName': 'Restroom', 'displayValue': 'Yes'}]}]}, 'bestPhoto': {'id': '5cda22caf5e9d7002c25a973', 'createdAt': 1557799626, 'source': {'name': 'Foursquare for iOS', 'url': 'https://foursquare.com/download/#/iphone'}, 'prefix': 'https://fastly.4sqi.net/img/general/', 'suffix': '/4002_dNG7cssifK3h8EcTvVIMJSoH-qhl1F6Sf3HIJwd8wYs.jpg', 'width': 1920, 'height': 1440, 'visibility': 'public'}, 'colors': {'highlightColor': {'photoId': '5cda22caf5e9d7002c25a973', 'value': -13092808}, 'highlightTextColor': {'photoId': '5cda22caf5e9d7002c25a973', 'value': -1}, 'algoVersion': 3}}}}\n",
      "                         ID    Name  Likes  Rating  Tips\n",
      "0  56c931b2cd10407d3ecbefda  Ananda     81     8.3    20\n",
      "( 21 / 39 ) processed\n"
     ]
    },
    {
     "name": "stdout",
     "output_type": "stream",
     "text": [
      "{'meta': {'code': 200, 'requestId': '5e1ca25e7828ae001be873bb'}, 'response': {'venue': {'id': '4bbb9dbded7776b0e1ad3e51', 'name': 'Tamarind TriBeCa', 'contact': {'phone': '2127759000', 'formattedPhone': '(212) 775-9000', 'facebook': '201503306550753', 'facebookName': 'Tamarind Tribeca'}, 'location': {'address': '99 Hudson St', 'crossStreet': 'at Franklin St', 'lat': 40.71921117375622, 'lng': -74.00872657957527, 'labeledLatLngs': [{'label': 'display', 'lat': 40.71921117375622, 'lng': -74.00872657957527}], 'postalCode': '10013', 'cc': 'US', 'city': 'New York', 'state': 'NY', 'country': 'United States', 'formattedAddress': ['99 Hudson St (at Franklin St)', 'New York, NY 10013', 'United States']}, 'canonicalUrl': 'https://foursquare.com/v/tamarind-tribeca/4bbb9dbded7776b0e1ad3e51', 'categories': [{'id': '4bf58dd8d48988d10f941735', 'name': 'Indian Restaurant', 'pluralName': 'Indian Restaurants', 'shortName': 'Indian', 'icon': {'prefix': 'https://ss3.4sqi.net/img/categories_v2/food/indian_', 'suffix': '.png'}, 'primary': True}], 'verified': False, 'stats': {'tipCount': 146}, 'url': 'http://www.tamarindrestaurantsnyc.com/tribeca/home.html', 'price': {'tier': 3, 'message': 'Expensive', 'currency': '$'}, 'hasMenu': True, 'likes': {'count': 590, 'groups': [{'type': 'others', 'count': 590, 'items': []}], 'summary': '590 Likes'}, 'dislike': False, 'ok': False, 'rating': 9.1, 'ratingColor': '00B551', 'ratingSignals': 764, 'menu': {'type': 'Menu', 'label': 'Menu', 'anchor': 'View Menu', 'url': 'https://foursquare.com/v/tamarind-tribeca/4bbb9dbded7776b0e1ad3e51/menu', 'mobileUrl': 'https://foursquare.com/v/4bbb9dbded7776b0e1ad3e51/device_menu', 'externalUrl': 'http://tamarindtribeca.com/dinner/'}, 'allowMenuUrlEdit': True, 'beenHere': {'count': 0, 'unconfirmedCount': 0, 'marked': False, 'lastCheckinExpiredAt': 0}, 'specials': {'count': 0, 'items': []}, 'photos': {'count': 338, 'groups': [{'type': 'venue', 'name': 'Venue photos', 'count': 338, 'items': [{'id': '5154def0e4b0bd13deadf472', 'createdAt': 1364516592, 'source': {'name': 'Foursquare for iOS', 'url': 'https://foursquare.com/download/#/iphone'}, 'prefix': 'https://fastly.4sqi.net/img/general/', 'suffix': '/37444928_ynYeMnnmNLs_gPSFcGrLTZ4noxjYOTUkMldqrzawk6g.jpg', 'width': 960, 'height': 720, 'user': {'id': '37444928', 'firstName': 'Annie', 'lastName': 'J', 'photo': {'prefix': 'https://fastly.4sqi.net/img/user/', 'suffix': '/S5WBREIIK05BEDS3.jpg'}}, 'visibility': 'public'}]}]}, 'reasons': {'count': 1, 'items': [{'summary': 'Lots of people like this place', 'type': 'general', 'reasonName': 'rawLikesReason'}]}, 'hereNow': {'count': 0, 'summary': 'Nobody here', 'groups': []}, 'createdAt': 1270586813, 'tips': {'count': 146, 'groups': [{'type': 'others', 'name': 'All tips', 'count': 146, 'items': [{'id': '4bfe920070c603bb48339db4', 'createdAt': 1274974720, 'text': 'Plush banquettes and sizable booths make this Indian restaurant ideal for private business meetings. But after a three-course lunch, you may be more in the mood for a nap.', 'type': 'user', 'url': 'http://online.wsj.com/article/SB10001424052748704717004575269003763624646.html?mod=4sq', 'canonicalUrl': 'https://foursquare.com/item/4bfe920070c603bb48339db4', 'lang': 'en', 'likes': {'count': 7, 'groups': [{'type': 'others', 'count': 7, 'items': [{'id': '3432350', 'firstName': 'Sujay', 'lastName': 'S', 'photo': {'prefix': 'https://fastly.4sqi.net/img/user/', 'suffix': '/3432350-W1UXQFNUQ10QG2IQ.jpg'}}, {'id': '1071790', 'firstName': 'Jinie', 'photo': {'prefix': 'https://fastly.4sqi.net/img/user/', 'suffix': '/DYFTEXM4O3JWFKVF.jpg'}}, {'id': '20398258', 'firstName': 'Dejay', 'lastName': 'R', 'photo': {'prefix': 'https://fastly.4sqi.net/img/user/', 'suffix': '/20398258-4T3IPCCRVXCLU2GN.jpg'}}, {'id': '26910457', 'firstName': 'Tiffany', 'lastName': 'H', 'photo': {'prefix': 'https://fastly.4sqi.net/img/user/', 'suffix': '/26910457-DQ0Y40NKNNGI5AVY.jpg'}}]}], 'summary': '7 likes'}, 'logView': True, 'agreeCount': 7, 'disagreeCount': 0, 'todo': {'count': 119}, 'user': {'id': '989827', 'firstName': 'The Wall Street Journal', 'photo': {'prefix': 'https://fastly.4sqi.net/img/user/', 'suffix': '/5EIJ4PDK4IY5KRFE.jpg'}, 'type': 'page'}}]}]}, 'shortUrl': 'http://4sq.com/aocOco', 'timeZone': 'America/New_York', 'listed': {'count': 1174, 'groups': [{'type': 'others', 'name': 'Lists from other people', 'count': 1174, 'items': [{'id': '51630cd6e4b0364596ba5b17', 'name': 'Tribeca Film Festival Hot Spots', 'description': 'Attending the Tribeca Film Festival? Kate Betts, contributing editor at Travel + Leisure, shares her favorite spots to eat, shop and play in Tribeca. More NYC tips at foursquare.com/travlandleisure.', 'entities': [{'indices': [167, 197], 'type': 'url', 'object': {'url': 'http://foursquare.com/travlandleisure'}}], 'type': 'others', 'user': {'id': '7128944', 'firstName': 'American Express', 'photo': {'prefix': 'https://fastly.4sqi.net/img/user/', 'suffix': '/7128944-YMSHCMQ11UYOQU1L.jpg'}, 'type': 'chain'}, 'editable': False, 'public': True, 'collaborative': False, 'url': '/americanexpress/list/tribeca-film-festival-hot-spots', 'canonicalUrl': 'https://foursquare.com/americanexpress/list/tribeca-film-festival-hot-spots', 'createdAt': 1365445846, 'updatedAt': 1408381684, 'photo': {'id': '510c44b3e4b0ee657dc4a2c3', 'createdAt': 1359758515, 'prefix': 'https://fastly.4sqi.net/img/general/', 'suffix': '/493294_2sF4MCrKPLZfAZuwJ7r6PPuKP63XsoiuW22FmPCilvY.jpg', 'width': 720, 'height': 960, 'user': {'id': '493294', 'firstName': 'Lizzie on', 'lastName': 't', 'photo': {'prefix': 'https://fastly.4sqi.net/img/user/', 'suffix': '/HWA0GVX5W5ILGUVO.jpg'}}, 'visibility': 'public'}, 'logView': True, 'followers': {'count': 156}, 'listItems': {'count': 17, 'items': [{'id': 'v4bbb9dbded7776b0e1ad3e51', 'createdAt': 1365446043, 'photo': {'id': '510c44b3e4b0ee657dc4a2c3', 'createdAt': 1359758515, 'prefix': 'https://fastly.4sqi.net/img/general/', 'suffix': '/493294_2sF4MCrKPLZfAZuwJ7r6PPuKP63XsoiuW22FmPCilvY.jpg', 'width': 720, 'height': 960, 'user': {'id': '493294', 'firstName': 'Lizzie on', 'lastName': 't', 'photo': {'prefix': 'https://fastly.4sqi.net/img/user/', 'suffix': '/HWA0GVX5W5ILGUVO.jpg'}}, 'visibility': 'public'}}]}}, {'id': '517585f4e4b07d59e22fbda1', 'name': 'Where to Eat Indian Food in NYC', 'description': '', 'type': 'others', 'user': {'id': '12703379', 'firstName': 'Serious Eats', 'photo': {'prefix': 'https://fastly.4sqi.net/img/user/', 'suffix': '/12703379-OJSNA253S0GCOKZZ.png'}, 'type': 'page'}, 'editable': False, 'public': True, 'collaborative': False, 'url': '/seriouseats/list/where-to-eat-indian-food-in-nyc', 'canonicalUrl': 'https://foursquare.com/seriouseats/list/where-to-eat-indian-food-in-nyc', 'createdAt': 1366656500, 'updatedAt': 1380744814, 'logView': True, 'followers': {'count': 172}, 'listItems': {'count': 33, 'items': [{'id': 't5143b846e4b09e1f4e108393', 'createdAt': 1366661306}]}}, {'id': '4f3e715ce4b0abb6d69b61de', 'name': '2013 NYC Michelin Starred Restaurants', 'description': 'In the latest edition of the highly anticipated MICHELIN Guide New York City 2013, a record 66 restaurants have been awarded Michelin stars.', 'type': 'others', 'user': {'id': '3358242', 'firstName': 'Michelin Travel & Lifestyle', 'photo': {'prefix': 'https://fastly.4sqi.net/img/user/', 'suffix': '/VK0PPDE3V1HU20D5.jpg'}, 'type': 'page'}, 'editable': False, 'public': True, 'collaborative': False, 'url': '/michelinguides/list/2013-nyc-michelin-starred-restaurants', 'canonicalUrl': 'https://foursquare.com/michelinguides/list/2013-nyc-michelin-starred-restaurants', 'createdAt': 1329492316, 'updatedAt': 1384107446, 'logView': True, 'followers': {'count': 3758}, 'listItems': {'count': 66, 'items': [{'id': 'v4bbb9dbded7776b0e1ad3e51', 'createdAt': 1329493306}]}}, {'id': '529cab5611d2eed54c8bb17d', 'name': '2014 New York Michelin Starred Restaurants', 'description': \"New York's top restaurants represent many styles of cooking and service, with exceptional quality their common ground.\", 'type': 'others', 'user': {'id': '3358242', 'firstName': 'Michelin Travel & Lifestyle', 'photo': {'prefix': 'https://fastly.4sqi.net/img/user/', 'suffix': '/VK0PPDE3V1HU20D5.jpg'}, 'type': 'page'}, 'editable': False, 'public': True, 'collaborative': False, 'url': '/michelinguides/list/2014-new-york-michelin-starred-restaurants', 'canonicalUrl': 'https://foursquare.com/michelinguides/list/2014-new-york-michelin-starred-restaurants', 'createdAt': 1385999190, 'updatedAt': 1386003955, 'logView': True, 'followers': {'count': 384}, 'listItems': {'count': 66, 'items': [{'id': 't529cbd6511d270122da26739', 'createdAt': 1386003807}]}}]}]}, 'hours': {'status': 'Open until 3:00 PM, reopens later', 'richStatus': {'entities': [], 'text': 'Open until 3:00 PM, reopens later'}, 'isOpen': True, 'isLocalHoliday': False, 'dayData': [], 'timeframes': [{'days': 'Mon–Thu, Sun', 'includesToday': True, 'open': [{'renderedTime': '11:30 AM–3:00 PM'}, {'renderedTime': '5:30 PM–11:30 PM'}], 'segments': []}, {'days': 'Fri–Sat', 'open': [{'renderedTime': '11:30 AM–3:00 PM'}, {'renderedTime': '5:30 PM–Midnight'}], 'segments': []}]}, 'popular': {'status': 'Likely open', 'richStatus': {'entities': [], 'text': 'Likely open'}, 'isOpen': True, 'isLocalHoliday': False, 'timeframes': [{'days': 'Today', 'includesToday': True, 'open': [{'renderedTime': 'Noon–1:00 PM'}, {'renderedTime': '6:00 PM–10:00 PM'}], 'segments': []}, {'days': 'Tue', 'open': [{'renderedTime': '6:00 PM–10:00 PM'}], 'segments': []}, {'days': 'Wed', 'open': [{'renderedTime': 'Noon–2:00 PM'}, {'renderedTime': '6:00 PM–10:00 PM'}], 'segments': []}, {'days': 'Thu', 'open': [{'renderedTime': 'Noon–1:00 PM'}, {'renderedTime': '6:00 PM–11:00 PM'}], 'segments': []}, {'days': 'Fri', 'open': [{'renderedTime': 'Noon–2:00 PM'}, {'renderedTime': '6:00 PM–11:00 PM'}], 'segments': []}, {'days': 'Sat', 'open': [{'renderedTime': '6:00 PM–11:00 PM'}], 'segments': []}, {'days': 'Sun', 'open': [{'renderedTime': 'Noon–2:00 PM'}, {'renderedTime': '6:00 PM–10:00 PM'}], 'segments': []}]}, 'pageUpdates': {'count': 0, 'items': []}, 'inbox': {'count': 0, 'items': []}, 'attributes': {'groups': [{'type': 'price', 'name': 'Price', 'summary': '$$$', 'count': 1, 'items': [{'displayName': 'Price', 'displayValue': '$$$', 'priceTier': 3}]}, {'type': 'payments', 'name': 'Credit Cards', 'summary': 'Credit Cards', 'count': 7, 'items': [{'displayName': 'Credit Cards', 'displayValue': 'Yes (incl. American Express & MasterCard)'}]}, {'type': 'outdoorSeating', 'name': 'Outdoor Seating', 'count': 1, 'items': [{'displayName': 'Outdoor Seating', 'displayValue': 'No'}]}, {'type': 'serves', 'name': 'Menus', 'summary': 'Happy Hour, Brunch & more', 'count': 8, 'items': [{'displayName': 'Brunch', 'displayValue': 'Brunch'}, {'displayName': 'Lunch', 'displayValue': 'Lunch'}, {'displayName': 'Dinner', 'displayValue': 'Dinner'}, {'displayName': 'Happy Hour', 'displayValue': 'Happy Hour'}]}, {'type': 'drinks', 'name': 'Drinks', 'summary': 'Wine, Full Bar & Cocktails', 'count': 5, 'items': [{'displayName': 'Wine', 'displayValue': 'Wine'}, {'displayName': 'Full Bar', 'displayValue': 'Full Bar'}, {'displayName': 'Cocktails', 'displayValue': 'Cocktails'}]}, {'type': 'diningOptions', 'name': 'Dining Options', 'count': 5, 'items': [{'displayName': 'Delivery', 'displayValue': 'No Delivery'}]}]}, 'bestPhoto': {'id': '5154def0e4b0bd13deadf472', 'createdAt': 1364516592, 'source': {'name': 'Foursquare for iOS', 'url': 'https://foursquare.com/download/#/iphone'}, 'prefix': 'https://fastly.4sqi.net/img/general/', 'suffix': '/37444928_ynYeMnnmNLs_gPSFcGrLTZ4noxjYOTUkMldqrzawk6g.jpg', 'width': 960, 'height': 720, 'visibility': 'public'}, 'colors': {'highlightColor': {'photoId': '5154def0e4b0bd13deadf472', 'value': -14145512}, 'highlightTextColor': {'photoId': '5154def0e4b0bd13deadf472', 'value': -1}, 'algoVersion': 3}}}}\n",
      "                         ID              Name  Likes  Rating  Tips\n",
      "0  4bbb9dbded7776b0e1ad3e51  Tamarind TriBeCa    590     9.1   146\n",
      "( 22 / 39 ) processed\n"
     ]
    },
    {
     "name": "stdout",
     "output_type": "stream",
     "text": [
      "{'meta': {'code': 200, 'requestId': '5e1ca2160f596800223ca6fe'}, 'response': {'venue': {'id': '4d24b812836f5481518645f7', 'name': 'Doaba Deli', 'contact': {'phone': '2122222636', 'formattedPhone': '(212) 222-2636'}, 'location': {'address': '945 Columbus Ave', 'crossStreet': 'btw W 106th & 107th', 'lat': 40.799513471286254, 'lng': -73.96266286944638, 'labeledLatLngs': [{'label': 'display', 'lat': 40.799513471286254, 'lng': -73.96266286944638}], 'postalCode': '10025', 'cc': 'US', 'neighborhood': 'Upper West Side', 'city': 'New York', 'state': 'NY', 'country': 'United States', 'formattedAddress': ['945 Columbus Ave (btw W 106th & 107th)', 'New York, NY 10025', 'United States']}, 'canonicalUrl': 'https://foursquare.com/v/doaba-deli/4d24b812836f5481518645f7', 'categories': [{'id': '4bf58dd8d48988d10f941735', 'name': 'Indian Restaurant', 'pluralName': 'Indian Restaurants', 'shortName': 'Indian', 'icon': {'prefix': 'https://ss3.4sqi.net/img/categories_v2/food/indian_', 'suffix': '.png'}, 'primary': True}], 'verified': False, 'stats': {'tipCount': 13}, 'price': {'tier': 1, 'message': 'Cheap', 'currency': '$'}, 'likes': {'count': 42, 'groups': [{'type': 'others', 'count': 42, 'items': []}], 'summary': '42 Likes'}, 'dislike': False, 'ok': False, 'rating': 7.6, 'ratingColor': 'C5DE35', 'ratingSignals': 63, 'allowMenuUrlEdit': True, 'beenHere': {'count': 0, 'unconfirmedCount': 0, 'marked': False, 'lastCheckinExpiredAt': 0}, 'specials': {'count': 0, 'items': []}, 'photos': {'count': 22, 'groups': [{'type': 'venue', 'name': 'Venue photos', 'count': 22, 'items': [{'id': '5be088d51c675b002cde1855', 'createdAt': 1541441749, 'source': {'name': 'Swarm for Android', 'url': 'https://www.swarmapp.com'}, 'prefix': 'https://fastly.4sqi.net/img/general/', 'suffix': '/4663245_VCoB4YPpXwIwiqsq4mEW-hR9AoWUUAuBp6PDbNsX11Y.jpg', 'width': 1425, 'height': 1900, 'user': {'id': '4663245', 'firstName': 'Shayna', 'photo': {'prefix': 'https://fastly.4sqi.net/img/user/', 'suffix': '/4663245_mzHgtrj3_9SBSlpY4uELBiB_uoW9M1HNiJSEpZWwO1008mY1h6sYc3-H_QOgE_9oV0-cmUEjh.jpg'}}, 'visibility': 'public'}]}]}, 'reasons': {'count': 1, 'items': [{'summary': 'Lots of people like this place', 'type': 'general', 'reasonName': 'rawLikesReason'}]}, 'hereNow': {'count': 0, 'summary': 'Nobody here', 'groups': []}, 'createdAt': 1294252050, 'tips': {'count': 13, 'groups': [{'type': 'others', 'name': 'All tips', 'count': 13, 'items': [{'id': '5175c007e4b05ee03b6cbdf5', 'createdAt': 1366671367, 'text': 'Hi five for $1 chai!', 'type': 'user', 'canonicalUrl': 'https://foursquare.com/item/5175c007e4b05ee03b6cbdf5', 'lang': 'en', 'likes': {'count': 2, 'groups': [{'type': 'others', 'count': 2, 'items': [{'id': '38401458', 'firstName': 'Dinesh', 'lastName': 'K', 'photo': {'prefix': 'https://fastly.4sqi.net/img/user/', 'suffix': '/38401458-YWNT5C51RG14X1HQ.jpg'}}, {'id': '46750266', 'firstName': 'Mukund', 'lastName': 'R', 'photo': {'prefix': 'https://fastly.4sqi.net/img/user/', 'suffix': '/46750266_KGh5Btgn_qj_DhXap6dD3KvYhDdejh4uFY91cX4Au7GWYO3quhwyqTd3dTe9G-yuXNfE6Q_iq.jpg'}}]}], 'summary': '2 likes'}, 'logView': True, 'agreeCount': 2, 'disagreeCount': 0, 'todo': {'count': 0}, 'user': {'id': '3744', 'firstName': 'Karen', 'lastName': 'B', 'photo': {'prefix': 'https://fastly.4sqi.net/img/user/', 'suffix': '/VJMHWFVISHB4NIYE.jpg'}}}]}]}, 'shortUrl': 'http://4sq.com/fEyjuR', 'timeZone': 'America/New_York', 'listed': {'count': 28, 'groups': [{'type': 'others', 'name': 'Lists from other people', 'count': 28, 'items': [{'id': '52003516498e8dd873ee9fe4', 'name': 'My Upper West Side Life', 'description': '', 'type': 'others', 'user': {'id': '10520389', 'firstName': 'Katrina', 'lastName': 'B', 'photo': {'prefix': 'https://fastly.4sqi.net/img/user/', 'suffix': '/4FTEI4DSMV3LLKYU.jpg'}}, 'editable': False, 'public': True, 'collaborative': False, 'url': '/ellaboku/list/my-upper-west-side-life', 'canonicalUrl': 'https://foursquare.com/ellaboku/list/my-upper-west-side-life', 'createdAt': 1375745302, 'updatedAt': 1557008313, 'photo': {'id': '51b78bdc454ad6084442efa7', 'createdAt': 1370983388, 'prefix': 'https://fastly.4sqi.net/img/general/', 'suffix': '/742542_18aEJ4Wz7WUuNKo146qb4hiSghJTFtsDiIGMHUuSBEU.jpg', 'width': 555, 'height': 370, 'user': {'id': '742542', 'firstName': 'Time Out New York', 'photo': {'prefix': 'https://fastly.4sqi.net/img/user/', 'suffix': '/XXHKCBSQHBORZNSR.jpg'}, 'type': 'page'}, 'visibility': 'public'}, 'followers': {'count': 1}, 'listItems': {'count': 159, 'items': [{'id': 'v4d24b812836f5481518645f7', 'createdAt': 1420779661}]}}, {'id': '5560c0fc498e7ba428f1e38d', 'name': 'nyc-coulée', 'description': '', 'type': 'others', 'user': {'id': '95909844', 'firstName': 'Selim', 'lastName': 'Y', 'photo': {'prefix': 'https://fastly.4sqi.net/img/user/', 'suffix': '/95909844-DPIB0A3Q514QOZ31.jpg'}}, 'editable': False, 'public': True, 'collaborative': False, 'url': '/user/95909844/list/nyccoul%C3%A9e', 'canonicalUrl': 'https://foursquare.com/user/95909844/list/nyccoul%C3%A9e', 'createdAt': 1432404220, 'updatedAt': 1511559978, 'photo': {'id': '50b80228e4b0e31c3fda0fc6', 'createdAt': 1354236456, 'prefix': 'https://fastly.4sqi.net/img/general/', 'suffix': '/8065392_6-dLy96sZDZ1gLyV8I7KBia5vYCAMG5bAO3RvFMDfg0.jpg', 'width': 537, 'height': 720, 'user': {'id': '8065392', 'firstName': 'Samantha', 'lastName': 'N', 'photo': {'prefix': 'https://fastly.4sqi.net/img/user/', 'suffix': '/JRL2DI1DUF1GDBES.jpg'}}, 'visibility': 'public'}, 'followers': {'count': 8}, 'listItems': {'count': 100, 'items': [{'id': 'v4d24b812836f5481518645f7', 'createdAt': 1468628060}]}}, {'id': '4eeeb555f790c40a8b843fee', 'name': 'For Chai', 'description': '', 'type': 'others', 'user': {'id': '999418', 'firstName': 'Farheen', 'lastName': 'M', 'photo': {'prefix': 'https://fastly.4sqi.net/img/user/', 'suffix': '/999418_EjdKO3EL_j_r83Mk7uRpDLVrldiMRKptMlvcZWY4z6dYMPUZ2M129gNllGnOrXc6gnIrz0wSC.jpg'}}, 'editable': False, 'public': True, 'collaborative': False, 'url': '/farheenmmalik/list/for-chai', 'canonicalUrl': 'https://foursquare.com/farheenmmalik/list/for-chai', 'createdAt': 1324266837, 'updatedAt': 1431875590, 'followers': {'count': 0}, 'listItems': {'count': 6, 'items': [{'id': 'v4d24b812836f5481518645f7', 'createdAt': 1324266847}]}}, {'id': '560615b8498e121c16be3b93', 'name': 'Date', 'description': '', 'type': 'others', 'user': {'id': '136527325', 'firstName': 'Bella', 'lastName': 'F', 'photo': {'prefix': 'https://fastly.4sqi.net/img/user/', 'suffix': '/136527325-TBEGVCBGGT1ER3ZM.jpg'}}, 'editable': False, 'public': True, 'collaborative': False, 'url': '/user/136527325/list/date', 'canonicalUrl': 'https://foursquare.com/user/136527325/list/date', 'createdAt': 1443239352, 'updatedAt': 1521514018, 'photo': {'id': '530252fc498e429edc72c630', 'createdAt': 1392661244, 'prefix': 'https://fastly.4sqi.net/img/general/', 'suffix': '/12559929_yM95p1oQ2w8OKifB3upsoKVxHbuKyiIVp9OeQibo-rM.jpg', 'width': 3264, 'height': 2448, 'user': {'id': '12559929', 'firstName': 'Gentrifried Chicken', 'photo': {'prefix': 'https://fastly.4sqi.net/img/user/', 'suffix': '/2XTL0FOUQXDWOACY.jpg'}, 'type': 'page'}, 'visibility': 'public'}, 'followers': {'count': 0}, 'listItems': {'count': 275, 'items': [{'id': 'v4d24b812836f5481518645f7', 'createdAt': 1446943736}]}}]}]}, 'popular': {'status': 'Likely open', 'richStatus': {'entities': [], 'text': 'Likely open'}, 'isOpen': True, 'isLocalHoliday': False, 'timeframes': [{'days': 'Today', 'includesToday': True, 'open': [{'renderedTime': 'Noon–3:00 PM'}, {'renderedTime': '6:00 PM–10:00 PM'}], 'segments': []}, {'days': 'Tue', 'open': [{'renderedTime': '1:00 PM–2:00 PM'}, {'renderedTime': '6:00 PM–11:00 PM'}], 'segments': []}, {'days': 'Wed', 'open': [{'renderedTime': 'Noon–1:00 PM'}, {'renderedTime': '4:00 PM–5:00 PM'}, {'renderedTime': '7:00 PM–10:00 PM'}], 'segments': []}, {'days': 'Thu', 'open': [{'renderedTime': '1:00 PM–11:00 PM'}], 'segments': []}, {'days': 'Fri', 'open': [{'renderedTime': '1:00 PM–3:00 PM'}, {'renderedTime': '6:00 PM–11:00 PM'}], 'segments': []}, {'days': 'Sat–Sun', 'open': [{'renderedTime': '24 Hours'}], 'segments': []}]}, 'pageUpdates': {'count': 0, 'items': []}, 'inbox': {'count': 0, 'items': []}, 'attributes': {'groups': [{'type': 'price', 'name': 'Price', 'summary': '$', 'count': 1, 'items': [{'displayName': 'Price', 'displayValue': '$', 'priceTier': 1}]}, {'type': 'reservations', 'name': 'Reservations', 'count': 3, 'items': [{'displayName': 'Reservations', 'displayValue': 'No'}]}, {'type': 'payments', 'name': 'Credit Cards', 'summary': 'No Credit Cards', 'count': 7, 'items': [{'displayName': 'Credit Cards', 'displayValue': 'No'}]}, {'type': 'outdoorSeating', 'name': 'Outdoor Seating', 'count': 1, 'items': [{'displayName': 'Outdoor Seating', 'displayValue': 'No'}]}, {'type': 'diningOptions', 'name': 'Dining Options', 'count': 5, 'items': [{'displayName': 'Delivery', 'displayValue': 'No Delivery'}]}]}, 'bestPhoto': {'id': '5be088d51c675b002cde1855', 'createdAt': 1541441749, 'source': {'name': 'Swarm for Android', 'url': 'https://www.swarmapp.com'}, 'prefix': 'https://fastly.4sqi.net/img/general/', 'suffix': '/4663245_VCoB4YPpXwIwiqsq4mEW-hR9AoWUUAuBp6PDbNsX11Y.jpg', 'width': 1425, 'height': 1900, 'visibility': 'public'}, 'colors': {'highlightColor': {'photoId': '5be088d51c675b002cde1855', 'value': -7303032}, 'highlightTextColor': {'photoId': '5be088d51c675b002cde1855', 'value': -16777216}, 'algoVersion': 3}}}}\n",
      "                         ID        Name  Likes  Rating  Tips\n",
      "0  4d24b812836f5481518645f7  Doaba Deli     42     7.6    13\n",
      "( 23 / 39 ) processed\n"
     ]
    },
    {
     "name": "stdout",
     "output_type": "stream",
     "text": [
      "{'meta': {'code': 200, 'requestId': '5e1ca20d211536001c6f971c'}, 'response': {'venue': {'id': '5b770657c0cacb002c89bc63', 'name': 'The Kati Roll Company', 'contact': {}, 'location': {'address': '22 Maiden Ln', 'lat': 40.70911435070483, 'lng': -74.0090911929708, 'labeledLatLngs': [{'label': 'display', 'lat': 40.70911435070483, 'lng': -74.0090911929708}], 'postalCode': '10038', 'cc': 'US', 'city': 'New York', 'state': 'NY', 'country': 'United States', 'formattedAddress': ['22 Maiden Ln', 'New York, NY 10038', 'United States']}, 'canonicalUrl': 'https://foursquare.com/v/the-kati-roll-company/5b770657c0cacb002c89bc63', 'categories': [{'id': '4bf58dd8d48988d10f941735', 'name': 'Indian Restaurant', 'pluralName': 'Indian Restaurants', 'shortName': 'Indian', 'icon': {'prefix': 'https://ss3.4sqi.net/img/categories_v2/food/indian_', 'suffix': '.png'}, 'primary': True}], 'verified': False, 'stats': {'tipCount': 2}, 'price': {'tier': 2, 'message': 'Moderate', 'currency': '$'}, 'likes': {'count': 15, 'groups': [{'type': 'others', 'count': 15, 'items': []}], 'summary': '15 Likes'}, 'dislike': False, 'ok': False, 'rating': 7.8, 'ratingColor': 'C5DE35', 'ratingSignals': 22, 'delivery': {'id': '793999', 'url': 'https://www.seamless.com/menu/the-kati-roll-company---maiden-lane-22-maiden-ln-new-york/793999?affiliate=1131&utm_source=foursquare-affiliate-network&utm_medium=affiliate&utm_campaign=1131&utm_content=793999', 'provider': {'name': 'seamless', 'icon': {'prefix': 'https://fastly.4sqi.net/img/general/cap/', 'sizes': [40, 50], 'name': '/delivery_provider_seamless_20180129.png'}}}, 'allowMenuUrlEdit': True, 'beenHere': {'count': 0, 'unconfirmedCount': 0, 'marked': False, 'lastCheckinExpiredAt': 0}, 'specials': {'count': 0, 'items': []}, 'photos': {'count': 8, 'groups': [{'type': 'venue', 'name': 'Venue photos', 'count': 8, 'items': [{'id': '5d9a353cb1148d0008f7f431', 'createdAt': 1570387260, 'source': {'name': 'Swarm for Android', 'url': 'https://www.swarmapp.com'}, 'prefix': 'https://fastly.4sqi.net/img/general/', 'suffix': '/10778410_q_A16RSb-twNd6dck5bqiAxId46t4Im_tMaZ3VBfKTw.jpg', 'width': 1900, 'height': 923, 'user': {'id': '10778410', 'firstName': 'Deepika', 'photo': {'prefix': 'https://fastly.4sqi.net/img/user/', 'suffix': '/10778410_s0gDgfQ3_SVpBIOuZXmWn-njwrrX24_H87LJezHvOe0-7h_LQmmrBoQQuaIpe9-59PeZK06q5.jpg'}}, 'visibility': 'public'}]}]}, 'reasons': {'count': 0, 'items': []}, 'hereNow': {'count': 0, 'summary': 'Nobody here', 'groups': []}, 'createdAt': 1534527063, 'tips': {'count': 2, 'groups': [{'type': 'others', 'name': 'All tips', 'count': 2, 'items': [{'id': '5ba92d5a66fc6500398a808a', 'createdAt': 1537813850, 'text': 'Everything that I have tried is amazing!  The favors perfect!!!', 'type': 'user', 'canonicalUrl': 'https://foursquare.com/item/5ba92d5a66fc6500398a808a', 'lang': 'en', 'likes': {'count': 0, 'groups': []}, 'logView': True, 'agreeCount': 3, 'disagreeCount': 0, 'todo': {'count': 0}, 'user': {'id': '12041653', 'firstName': 'Susan', 'lastName': 'B', 'photo': {'prefix': 'https://fastly.4sqi.net/img/user/', 'suffix': '/12041653_6CMbvyhd_GcdFSFDPkwKMKL7Kymne0h2tztQSTlTq0cBk9yry18i62ElW5M6QkEDunWXBMrhl.jpg'}}, 'authorInteractionType': 'liked'}]}]}, 'shortUrl': 'https://4sq.com/2BrGzfk', 'timeZone': 'America/New_York', 'listed': {'count': 12, 'groups': [{'type': 'others', 'name': 'Lists from other people', 'count': 12, 'items': [{'id': '5bbc05eb898bdc002c4cecb0', 'name': 'Budget friendly eats around BMCC', 'description': '', 'type': 'others', 'user': {'id': '400294488', 'firstName': 'Edwin', 'lastName': 'C', 'photo': {'prefix': 'https://fastly.4sqi.net/img/user/', 'suffix': '/400294488_EzQaX-a-_yrToOyCM3k-HHPOuIv6yI8DHlu0b7tPnneSibhVOwXLwPUJElilWu9UOaapRDGoC.jpg'}}, 'editable': False, 'public': True, 'collaborative': True, 'url': '/user/400294488/list/budget-friendly-eats-around-bmcc', 'canonicalUrl': 'https://foursquare.com/user/400294488/list/budget-friendly-eats-around-bmcc', 'createdAt': 1539048939, 'updatedAt': 1552490164, 'followers': {'count': 0}, 'listItems': {'count': 12, 'items': [{'id': 'v5b770657c0cacb002c89bc63', 'createdAt': 1552490164}]}}, {'id': '585c43ea4e31c542be360090', 'name': 'FiDi', 'description': \"Places in FiDi near Dan's\", 'type': 'others', 'user': {'id': '27530661', 'firstName': 'Michael', 'lastName': 'F', 'photo': {'prefix': 'https://fastly.4sqi.net/img/user/', 'suffix': '/27530661_flci5iYB_Pv85n9hzEUzex6V0dfRcwdanyYQl7I0-wdzIzD5MeCkJn886QdDOV0tv3ozAtrlQ'}}, 'editable': False, 'public': True, 'collaborative': False, 'url': '/user/27530661/list/fidi', 'canonicalUrl': 'https://foursquare.com/user/27530661/list/fidi', 'createdAt': 1482441706, 'updatedAt': 1578876426, 'photo': {'id': '5165a35ae4b05a8c086cc2f7', 'createdAt': 1365615450, 'prefix': 'https://fastly.4sqi.net/img/general/', 'suffix': '/7102641_TkA-OqExXP7QZmZQ3HOBNhS2TE-YPB8SW217r8AL-Kg.jpg', 'width': 612, 'height': 612, 'user': {'id': '7102641', 'firstName': 'Linchi', 'lastName': 'K', 'photo': {'prefix': 'https://fastly.4sqi.net/img/user/', 'suffix': '/7102641-55AT3UWR0AAI0ZE3.jpg'}}, 'visibility': 'public'}, 'followers': {'count': 0}, 'listItems': {'count': 20, 'items': [{'id': 'v5b770657c0cacb002c89bc63', 'createdAt': 1550250988}]}}, {'id': '5dcec631411e2a0006a98b93', 'name': 'FiDi', 'description': '', 'type': 'others', 'user': {'id': '245307', 'firstName': 'pipitu', 'photo': {'prefix': 'https://fastly.4sqi.net/img/user/', 'suffix': '/245307_zQwokb9Q_QxwqslUrzP0lnZIKSigJHekv45nnggrXNPXWUMR5Kn-BzYXUPYA1ZRtvTevmzDiq.jpg'}}, 'editable': False, 'public': True, 'collaborative': False, 'url': '/pipitu/list/fidi', 'canonicalUrl': 'https://foursquare.com/pipitu/list/fidi', 'createdAt': 1573832241, 'updatedAt': 1573845591, 'photo': {'id': '5d7abdedf6e319000882dfc5', 'createdAt': 1568325101, 'prefix': 'https://fastly.4sqi.net/img/general/', 'suffix': '/12320_xLVyT4Hy1z0IHaDjYpeMHxqxwGsg2-VAS6noFpck7Tg.jpg', 'width': 1440, 'height': 1920, 'user': {'id': '12320', 'firstName': 'Roger', 'lastName': 'E', 'photo': {'prefix': 'https://fastly.4sqi.net/img/user/', 'suffix': '/12320_lWB2lgoL_Unn0Y7oZIxmp0dVHd8by0QhuFEPp-0PFfDIoy3ehoQ0h75-DwGh_t2JrnaQu99yY.jpg'}}, 'visibility': 'public'}, 'followers': {'count': 0}, 'listItems': {'count': 50, 'items': [{'id': 'v5b770657c0cacb002c89bc63', 'createdAt': 1573844440}]}}, {'id': '5c7ead40971317002db892b2', 'name': 'Lunch in FiDi', 'description': '', 'type': 'others', 'user': {'id': '4248254', 'firstName': 'Thibault', 'lastName': 'L', 'photo': {'prefix': 'https://fastly.4sqi.net/img/user/', 'suffix': '/4248254_T9e5Ay2T_Pmx9edzv6WznYwPo4_yjeERAII2sz2GqswT1DT9Nb9CbZw2UUXhKAhhuSNd5xt6u'}}, 'editable': False, 'public': True, 'collaborative': False, 'url': '/tleruitte/list/lunch-in-fidi', 'canonicalUrl': 'https://foursquare.com/tleruitte/list/lunch-in-fidi', 'createdAt': 1551805760, 'updatedAt': 1554918772, 'followers': {'count': 1}, 'listItems': {'count': 19, 'items': [{'id': 'v5b770657c0cacb002c89bc63', 'createdAt': 1551805954}]}}]}]}, 'popular': {'status': 'Likely open', 'richStatus': {'entities': [], 'text': 'Likely open'}, 'isOpen': True, 'isLocalHoliday': False, 'timeframes': [{'days': 'Today', 'includesToday': True, 'open': [{'renderedTime': 'Noon–5:00 PM'}, {'renderedTime': '8:00 PM–9:00 PM'}], 'segments': []}, {'days': 'Tue', 'open': [{'renderedTime': '11:00 AM–9:00 PM'}], 'segments': []}, {'days': 'Wed', 'open': [{'renderedTime': '11:00 AM–8:00 PM'}], 'segments': []}, {'days': 'Thu', 'open': [{'renderedTime': '11:00 AM–3:00 PM'}, {'renderedTime': '6:00 PM–7:00 PM'}], 'segments': []}, {'days': 'Fri', 'open': [{'renderedTime': 'Noon–3:00 PM'}, {'renderedTime': '5:00 PM–8:00 PM'}], 'segments': []}, {'days': 'Sat', 'open': [{'renderedTime': '2:00 PM–3:00 PM'}, {'renderedTime': '6:00 PM–7:00 PM'}], 'segments': []}, {'days': 'Sun', 'open': [{'renderedTime': '2:00 PM–3:00 PM'}], 'segments': []}]}, 'pageUpdates': {'count': 0, 'items': []}, 'inbox': {'count': 0, 'items': []}, 'attributes': {'groups': [{'type': 'price', 'name': 'Price', 'summary': '$$', 'count': 1, 'items': [{'displayName': 'Price', 'displayValue': '$$', 'priceTier': 2}]}, {'type': 'serves', 'name': 'Menus', 'summary': 'Lunch & Dinner', 'count': 8, 'items': [{'displayName': 'Lunch', 'displayValue': 'Lunch'}, {'displayName': 'Dinner', 'displayValue': 'Dinner'}]}, {'type': 'diningOptions', 'name': 'Dining Options', 'summary': 'Delivery', 'count': 5, 'items': [{'displayName': 'Delivery', 'displayValue': 'Delivery'}]}]}, 'bestPhoto': {'id': '5d9a353cb1148d0008f7f431', 'createdAt': 1570387260, 'source': {'name': 'Swarm for Android', 'url': 'https://www.swarmapp.com'}, 'prefix': 'https://fastly.4sqi.net/img/general/', 'suffix': '/10778410_q_A16RSb-twNd6dck5bqiAxId46t4Im_tMaZ3VBfKTw.jpg', 'width': 1900, 'height': 923, 'visibility': 'public'}, 'colors': {'highlightColor': {'photoId': '5d9a353cb1148d0008f7f431', 'value': -4147032}, 'highlightTextColor': {'photoId': '5d9a353cb1148d0008f7f431', 'value': -16777216}, 'algoVersion': 3}}}}\n",
      "                         ID                   Name  Likes  Rating  Tips\n",
      "0  5b770657c0cacb002c89bc63  The Kati Roll Company     15     7.8     2\n",
      "( 24 / 39 ) processed\n"
     ]
    },
    {
     "name": "stdout",
     "output_type": "stream",
     "text": [
      "{'meta': {'code': 200, 'requestId': '5e1ca27b949393001b2de9bc'}, 'response': {'venue': {'id': '5782c9ce498edde587f5aa14', 'name': 'Tikka Indian Grill', 'contact': {'phone': '7184801307', 'formattedPhone': '(718) 480-1307'}, 'location': {'address': '119-30 Metropolitan Ave', 'lat': 40.70587364181698, 'lng': -73.83094233462995, 'labeledLatLngs': [{'label': 'display', 'lat': 40.70587364181698, 'lng': -73.83094233462995}], 'postalCode': '11415', 'cc': 'US', 'city': 'Queens', 'state': 'NY', 'country': 'United States', 'formattedAddress': ['119-30 Metropolitan Ave', 'Queens, NY 11415', 'United States']}, 'canonicalUrl': 'https://foursquare.com/v/tikka-indian-grill/5782c9ce498edde587f5aa14', 'categories': [{'id': '4bf58dd8d48988d10f941735', 'name': 'Indian Restaurant', 'pluralName': 'Indian Restaurants', 'shortName': 'Indian', 'icon': {'prefix': 'https://ss3.4sqi.net/img/categories_v2/food/indian_', 'suffix': '.png'}, 'primary': True}], 'verified': True, 'stats': {'tipCount': 2}, 'url': 'http://www.tikkaindiangrill.com', 'price': {'tier': 2, 'message': 'Moderate', 'currency': '$'}, 'likes': {'count': 10, 'groups': [{'type': 'others', 'count': 10, 'items': []}], 'summary': '10 Likes'}, 'dislike': False, 'ok': False, 'rating': 7.7, 'ratingColor': 'C5DE35', 'ratingSignals': 13, 'delivery': {'id': '333259', 'url': 'https://www.seamless.com/menu/tikka-indian-grill-kew-garden-119-30-metropolitan-ave-kew-gardens/333259?affiliate=1131&utm_source=foursquare-affiliate-network&utm_medium=affiliate&utm_campaign=1131&utm_content=333259', 'provider': {'name': 'seamless', 'icon': {'prefix': 'https://fastly.4sqi.net/img/general/cap/', 'sizes': [40, 50], 'name': '/delivery_provider_seamless_20180129.png'}}}, 'allowMenuUrlEdit': True, 'beenHere': {'count': 0, 'unconfirmedCount': 0, 'marked': False, 'lastCheckinExpiredAt': 0}, 'specials': {'count': 0, 'items': []}, 'photos': {'count': 1, 'groups': [{'type': 'venue', 'name': 'Venue photos', 'count': 1, 'items': [{'id': '5c1e875965211f002cca9765', 'createdAt': 1545504601, 'source': {'name': 'Foursquare for iOS', 'url': 'https://foursquare.com/download/#/iphone'}, 'prefix': 'https://fastly.4sqi.net/img/general/', 'suffix': '/240192_G3m-OvaSmLtw02boTOV962gkh5iVFqPuuP3nLKMzfRg.jpg', 'width': 1920, 'height': 1440, 'user': {'id': '240192', 'firstName': 'Kirk', 'lastName': 'W', 'photo': {'prefix': 'https://fastly.4sqi.net/img/user/', 'suffix': '/5BTMSFRXO5BOFZHF.jpg'}}, 'visibility': 'public'}]}]}, 'reasons': {'count': 0, 'items': []}, 'page': {'pageInfo': {'description': 'Authentic Indian restaurant, organic dishes, great food, professional table service and BYOB with no hassling corking fees', 'links': {'count': 1, 'items': [{'url': 'http://www.tikkaindiangrill.com'}]}}, 'user': {'id': '480802256', 'firstName': 'Tikka Indian Grill', 'photo': {'prefix': 'https://fastly.4sqi.net/img/user/', 'suffix': '/480802256_dlUdMIel_smVU2at7IP0DUEuNaJxwkQTrTofltRfkEyKBL1UOIThgGUDPI9F3E9p1lOd_0puJ.png'}, 'type': 'chain', 'tips': {'count': 0}, 'lists': {'groups': [{'type': 'created', 'count': 2, 'items': []}]}, 'bio': ''}}, 'hereNow': {'count': 0, 'summary': 'Nobody here', 'groups': []}, 'createdAt': 1468189134, 'tips': {'count': 2, 'groups': [{'type': 'others', 'name': 'All tips', 'count': 2, 'items': [{'id': '5c1e8758a2c00b002c844c67', 'createdAt': 1545504600, 'text': 'Nice place for authentic Indian food. Both dal and pakora were well seasoned. Tikka masala and lamb curry were spot on and the service is attentive.', 'type': 'user', 'canonicalUrl': 'https://foursquare.com/item/5c1e8758a2c00b002c844c67', 'photo': {'id': '5c1e875965211f002cca9765', 'createdAt': 1545504601, 'source': {'name': 'Foursquare for iOS', 'url': 'https://foursquare.com/download/#/iphone'}, 'prefix': 'https://fastly.4sqi.net/img/general/', 'suffix': '/240192_G3m-OvaSmLtw02boTOV962gkh5iVFqPuuP3nLKMzfRg.jpg', 'width': 1920, 'height': 1440, 'visibility': 'public'}, 'photourl': 'https://fastly.4sqi.net/img/general/original/240192_G3m-OvaSmLtw02boTOV962gkh5iVFqPuuP3nLKMzfRg.jpg', 'lang': 'en', 'likes': {'count': 0, 'groups': []}, 'logView': True, 'agreeCount': 0, 'disagreeCount': 0, 'todo': {'count': 0}, 'user': {'id': '240192', 'firstName': 'Kirk', 'lastName': 'W', 'photo': {'prefix': 'https://fastly.4sqi.net/img/user/', 'suffix': '/5BTMSFRXO5BOFZHF.jpg'}}, 'authorInteractionType': 'liked'}]}]}, 'shortUrl': 'http://4sq.com/29NrnM0', 'timeZone': 'America/New_York', 'listed': {'count': 1, 'groups': [{'type': 'others', 'name': 'Lists from other people', 'count': 1, 'items': [{'id': '4f2dee08e4b007725b0177f2', 'name': 'Entertainment in NY', 'description': '', 'type': 'others', 'user': {'id': '14234305', 'firstName': 'Jamia', 'lastName': 'P', 'photo': {'prefix': 'https://fastly.4sqi.net/img/user/', 'suffix': '/P52BINL2GFRIV3BP.jpg'}}, 'editable': False, 'public': True, 'collaborative': False, 'url': '/user/14234305/list/entertainment-in-ny', 'canonicalUrl': 'https://foursquare.com/user/14234305/list/entertainment-in-ny', 'createdAt': 1328410120, 'updatedAt': 1568923374, 'followers': {'count': 0}, 'listItems': {'count': 11, 'items': [{'id': 'v5782c9ce498edde587f5aa14', 'createdAt': 1494356373}]}}]}]}, 'pageUpdates': {'count': 0, 'items': []}, 'inbox': {'count': 0, 'items': []}, 'attributes': {'groups': [{'type': 'price', 'name': 'Price', 'summary': '$$', 'count': 1, 'items': [{'displayName': 'Price', 'displayValue': '$$', 'priceTier': 2}]}, {'type': 'serves', 'name': 'Menus', 'summary': 'Lunch & Dinner', 'count': 8, 'items': [{'displayName': 'Lunch', 'displayValue': 'Lunch'}, {'displayName': 'Dinner', 'displayValue': 'Dinner'}]}, {'type': 'diningOptions', 'name': 'Dining Options', 'summary': 'Delivery', 'count': 5, 'items': [{'displayName': 'Delivery', 'displayValue': 'Delivery'}]}]}, 'bestPhoto': {'id': '5c1e875965211f002cca9765', 'createdAt': 1545504601, 'source': {'name': 'Foursquare for iOS', 'url': 'https://foursquare.com/download/#/iphone'}, 'prefix': 'https://fastly.4sqi.net/img/general/', 'suffix': '/240192_G3m-OvaSmLtw02boTOV962gkh5iVFqPuuP3nLKMzfRg.jpg', 'width': 1920, 'height': 1440, 'visibility': 'public'}, 'colors': {'highlightColor': {'photoId': '5c1e875965211f002cca9765', 'value': -15196128}, 'highlightTextColor': {'photoId': '5c1e875965211f002cca9765', 'value': -1}, 'algoVersion': 3}}}}\n",
      "                         ID                Name  Likes  Rating  Tips\n",
      "0  5782c9ce498edde587f5aa14  Tikka Indian Grill     10     7.7     2\n",
      "( 25 / 39 ) processed\n",
      "{'meta': {'code': 200, 'requestId': '5e1ca23a923935001ba96d29'}, 'response': {'venue': {'id': '50a287a7e4b0033f830f06db', 'name': \"Raj's Indian Kitchen\", 'contact': {'phone': '7183618844', 'formattedPhone': '(718) 361-8844'}, 'location': {'address': '27-18 Queens Plz S', 'lat': 40.74997632892085, 'lng': -73.93926056994543, 'labeledLatLngs': [{'label': 'display', 'lat': 40.74997632892085, 'lng': -73.93926056994543}], 'postalCode': '11101', 'cc': 'US', 'city': 'Long Island City', 'state': 'NY', 'country': 'United States', 'formattedAddress': ['27-18 Queens Plz S', 'Long Island City, NY 11101', 'United States']}, 'canonicalUrl': 'https://foursquare.com/v/rajs-indian-kitchen/50a287a7e4b0033f830f06db', 'categories': [{'id': '4bf58dd8d48988d10f941735', 'name': 'Indian Restaurant', 'pluralName': 'Indian Restaurants', 'shortName': 'Indian', 'icon': {'prefix': 'https://ss3.4sqi.net/img/categories_v2/food/indian_', 'suffix': '.png'}, 'primary': True}], 'verified': False, 'stats': {'tipCount': 9}, 'url': 'http://rajsindiankitchen.com', 'price': {'tier': 2, 'message': 'Moderate', 'currency': '$'}, 'likes': {'count': 22, 'groups': [{'type': 'others', 'count': 22, 'items': []}], 'summary': '22 Likes'}, 'dislike': False, 'ok': False, 'rating': 7.5, 'ratingColor': 'C5DE35', 'ratingSignals': 33, 'delivery': {'id': '274919', 'url': 'https://www.seamless.com/menu/rajs-indian-kitchen-27-18-queens-plz-s-long-island-city/274919?affiliate=1131&utm_source=foursquare-affiliate-network&utm_medium=affiliate&utm_campaign=1131&utm_content=274919', 'provider': {'name': 'seamless', 'icon': {'prefix': 'https://fastly.4sqi.net/img/general/cap/', 'sizes': [40, 50], 'name': '/delivery_provider_seamless_20180129.png'}}}, 'menu': {'type': 'Menu', 'label': 'Menu', 'anchor': 'View Menu', 'url': 'http://rajsindiankitchen.com/#!menu/cwld', 'mobileUrl': 'http://rajsindiankitchen.com/#!menu/cwld', 'externalUrl': 'http://rajsindiankitchen.com/#!menu/cwld'}, 'allowMenuUrlEdit': True, 'beenHere': {'count': 0, 'unconfirmedCount': 0, 'marked': False, 'lastCheckinExpiredAt': 0}, 'specials': {'count': 0, 'items': []}, 'photos': {'count': 13, 'groups': [{'type': 'venue', 'name': 'Venue photos', 'count': 13, 'items': [{'id': '50a2a777e4b02a26c0f123f3', 'createdAt': 1352836983, 'source': {'name': 'Foursquare for iOS', 'url': 'https://foursquare.com/download/#/iphone'}, 'prefix': 'https://fastly.4sqi.net/img/general/', 'suffix': '/890794_q3Qn8grEFAD4zCGk1bII8lrzAccNH9bKDwTyjjYIxPk.jpg', 'width': 540, 'height': 720, 'user': {'id': '890794', 'firstName': 'Julius Erwin', 'lastName': 'Q', 'photo': {'prefix': 'https://fastly.4sqi.net/img/user/', 'suffix': '/FCMHMBJK4USHQXH2.jpg'}}, 'visibility': 'public'}]}]}, 'reasons': {'count': 0, 'items': []}, 'description': 'Using a flavorful blend of unique spices, sauces, fresh meats and vegetables, our chefs adhere to a traditional, \"old world\" palate, giving our patrons an authentic dining experience.', 'hereNow': {'count': 0, 'summary': 'Nobody here', 'groups': []}, 'createdAt': 1352828839, 'tips': {'count': 9, 'groups': [{'type': 'others', 'name': 'All tips', 'count': 9, 'items': [{'id': '522a024f11d24abd6d65d0c8', 'createdAt': 1378484815, 'text': 'The menu says rice or naan but they actually give you both!', 'type': 'user', 'canonicalUrl': 'https://foursquare.com/item/522a024f11d24abd6d65d0c8', 'lang': 'en', 'likes': {'count': 1, 'groups': [{'type': 'others', 'count': 1, 'items': [{'id': '64557932', 'firstName': 'Andrew', 'lastName': 'S', 'photo': {'prefix': 'https://fastly.4sqi.net/img/user/', 'suffix': '/64557932-VWLZ1WKFPXJNXM1F.jpg'}}]}], 'summary': '1 like'}, 'logView': True, 'agreeCount': 1, 'disagreeCount': 0, 'todo': {'count': 0}, 'user': {'id': '4242089', 'firstName': 'Keren', 'photo': {'prefix': 'https://fastly.4sqi.net/img/user/', 'suffix': '/ZEOMNE4RYKDTMWUW.jpg'}}}]}]}, 'shortUrl': 'http://4sq.com/Qb3uy8', 'timeZone': 'America/New_York', 'listed': {'count': 7, 'groups': [{'type': 'others', 'name': 'Lists from other people', 'count': 7, 'items': [{'id': '56730d62498e06920d4b10ef', 'name': 'NYC noms', 'description': 'Quick noms for quick people', 'type': 'others', 'user': {'id': '81147163', 'firstName': 'Kevin', 'lastName': 'Y', 'photo': {'prefix': 'https://fastly.4sqi.net/img/user/', 'suffix': '/81147163-4HFKWFYTP02TGCTH.jpg'}}, 'editable': False, 'public': True, 'collaborative': False, 'url': '/kyeahokay/list/nyc-noms', 'canonicalUrl': 'https://foursquare.com/kyeahokay/list/nyc-noms', 'createdAt': 1450380642, 'updatedAt': 1573612621, 'photo': {'id': '4f731ecde4b02c6aef00e851', 'createdAt': 1332944589, 'prefix': 'https://fastly.4sqi.net/img/general/', 'suffix': '/simTGTGi0q2T_7XFyZqSwGSX8YwSiMhL7S8DiMGGd5k.jpg', 'width': 540, 'height': 720, 'user': {'id': '645671', 'firstName': 'Francesco', 'photo': {'prefix': 'https://fastly.4sqi.net/img/user/', 'suffix': '/02ZGBNUYS0TW14P2.jpg'}}, 'visibility': 'public'}, 'followers': {'count': 0}, 'listItems': {'count': 256, 'items': [{'id': 'v50a287a7e4b0033f830f06db', 'createdAt': 1542149714}]}}, {'id': '5730e46c498eaee6acbdb059', 'name': 'LIC', 'description': '', 'type': 'others', 'user': {'id': '30826', 'firstName': 'Albert', 'lastName': 'H', 'photo': {'prefix': 'https://fastly.4sqi.net/img/user/', 'suffix': '/30826-TM2VNO33M0UBA5B4.jpg'}}, 'editable': False, 'public': True, 'collaborative': False, 'url': '/alberthong/list/lic', 'canonicalUrl': 'https://foursquare.com/alberthong/list/lic', 'createdAt': 1462821996, 'updatedAt': 1531548283, 'photo': {'id': '4fc79607e4b0fa8954729ff4', 'createdAt': 1338480135, 'prefix': 'https://fastly.4sqi.net/img/general/', 'suffix': '/Zao6eRsjvO-4UwPC4GDYKLChnqyNn9iyKAVOfSmpzCo.jpg', 'width': 720, 'height': 540, 'user': {'id': '13794482', 'firstName': 'Audrey', 'lastName': 'T', 'photo': {'prefix': 'https://fastly.4sqi.net/img/user/', 'suffix': '/PM1IS2XAD4QSGA0V.jpg'}}, 'visibility': 'public'}, 'followers': {'count': 0}, 'listItems': {'count': 91, 'items': [{'id': 'v50a287a7e4b0033f830f06db', 'createdAt': 1471958708}]}}, {'id': '5989bd903362731a91665215', 'name': 'Cornell Tech Vicinity: Off the Bridge', 'description': '', 'type': 'others', 'user': {'id': '125276', 'firstName': 'Mor', 'lastName': 'N', 'photo': {'prefix': 'https://fastly.4sqi.net/img/user/', 'suffix': '/2MPETGIBTLGC2N45.jpg'}}, 'editable': False, 'public': True, 'collaborative': False, 'url': '/mmoorr/list/cornell-tech-vicinity-off-the-bridge', 'canonicalUrl': 'https://foursquare.com/mmoorr/list/cornell-tech-vicinity-off-the-bridge', 'createdAt': 1502199184, 'updatedAt': 1542764954, 'photo': {'id': '595534619ec399706fe9d365', 'createdAt': 1498756193, 'prefix': 'https://fastly.4sqi.net/img/general/', 'suffix': '/96156200_t4QH6y4PTZf8dnJjVYgLvHy2u6yCEa96Qm0zcgE_3rI.jpg', 'width': 1068, 'height': 1900, 'user': {'id': '96156200', 'firstName': 'Abdulaziz', 'lastName': 'A', 'photo': {'prefix': 'https://fastly.4sqi.net/img/user/', 'suffix': '/96156200_ru21fK1E_5huSKR-0VU0MEtak9e7XzbQ6ur84LHvvTg5UlwJYi0QYxp9WA9FV9Wv4xiDZ3ZkP.jpg'}}, 'visibility': 'public'}, 'followers': {'count': 0}, 'listItems': {'count': 10, 'items': [{'id': 'v50a287a7e4b0033f830f06db', 'createdAt': 1523324600}]}}, {'id': '56f2c08ecd10bbda248dd9f7', 'name': 'NY favorites', 'description': '', 'type': 'others', 'user': {'id': '139431094', 'firstName': 'Ray', 'photo': {'prefix': 'https://fastly.4sqi.net/img/user/', 'suffix': '/139431094-OXDVMP41K0WI3G11'}}, 'editable': False, 'public': True, 'collaborative': False, 'url': '/user/139431094/list/ny-favorites', 'canonicalUrl': 'https://foursquare.com/user/139431094/list/ny-favorites', 'createdAt': 1458749582, 'updatedAt': 1550101846, 'photo': {'id': '5104156ce4b00e387bbde476', 'createdAt': 1359222124, 'prefix': 'https://fastly.4sqi.net/img/general/', 'suffix': '/2355556_zNzP6Rh5tKS9Z2vW0gBJ2K6O7-nvnvoEmJXVoKVtgkQ.jpg', 'width': 720, 'height': 960, 'user': {'id': '2355556', 'firstName': 'Ricky', 'lastName': 'G', 'photo': {'prefix': 'https://fastly.4sqi.net/img/user/', 'suffix': '/VQIDND3FQGMRDL25.jpg'}}, 'visibility': 'public'}, 'followers': {'count': 0}, 'listItems': {'count': 45, 'items': [{'id': 'v50a287a7e4b0033f830f06db', 'createdAt': 1461647335}]}}]}]}, 'hours': {'status': 'Open until 10:00 PM', 'richStatus': {'entities': [], 'text': 'Open until 10:00 PM'}, 'isOpen': True, 'isLocalHoliday': False, 'dayData': [], 'timeframes': [{'days': 'Mon–Sun', 'includesToday': True, 'open': [{'renderedTime': '11:00 AM–10:00 PM'}], 'segments': []}]}, 'popular': {'status': 'Likely open', 'richStatus': {'entities': [], 'text': 'Likely open'}, 'isOpen': True, 'isLocalHoliday': False, 'timeframes': [{'days': 'Today', 'includesToday': True, 'open': [{'renderedTime': 'Noon–4:00 PM'}, {'renderedTime': '6:00 PM–10:00 PM'}], 'segments': []}, {'days': 'Tue', 'open': [{'renderedTime': '11:00 AM–3:00 PM'}, {'renderedTime': '7:00 PM–10:00 PM'}], 'segments': []}, {'days': 'Wed', 'open': [{'renderedTime': '11:00 AM–3:00 PM'}, {'renderedTime': '6:00 PM–10:00 PM'}], 'segments': []}, {'days': 'Thu', 'open': [{'renderedTime': 'Noon–2:00 PM'}, {'renderedTime': '6:00 PM–9:00 PM'}], 'segments': []}, {'days': 'Fri', 'open': [{'renderedTime': '11:00 AM–2:00 PM'}, {'renderedTime': '6:00 PM–10:00 PM'}], 'segments': []}, {'days': 'Sat', 'open': [{'renderedTime': '1:00 PM–9:00 PM'}], 'segments': []}, {'days': 'Sun', 'open': [{'renderedTime': 'Noon–2:00 PM'}, {'renderedTime': '4:00 PM–9:00 PM'}], 'segments': []}]}, 'pageUpdates': {'count': 0, 'items': []}, 'inbox': {'count': 0, 'items': []}, 'attributes': {'groups': [{'type': 'price', 'name': 'Price', 'summary': '$$', 'count': 1, 'items': [{'displayName': 'Price', 'displayValue': '$$', 'priceTier': 2}]}, {'type': 'reservations', 'name': 'Reservations', 'count': 3, 'items': [{'displayName': 'Reservations', 'displayValue': 'No'}]}, {'type': 'payments', 'name': 'Credit Cards', 'summary': 'Credit Cards', 'count': 7, 'items': [{'displayName': 'Credit Cards', 'displayValue': 'Yes'}]}, {'type': 'outdoorSeating', 'name': 'Outdoor Seating', 'count': 1, 'items': [{'displayName': 'Outdoor Seating', 'displayValue': 'No'}]}, {'type': 'serves', 'name': 'Menus', 'summary': 'Lunch & Dinner', 'count': 8, 'items': [{'displayName': 'Lunch', 'displayValue': 'Lunch'}, {'displayName': 'Dinner', 'displayValue': 'Dinner'}]}, {'type': 'diningOptions', 'name': 'Dining Options', 'summary': 'Delivery', 'count': 5, 'items': [{'displayName': 'Delivery', 'displayValue': 'Delivery'}]}, {'type': 'parking', 'name': 'Parking', 'summary': 'Street Parking', 'count': 5, 'items': [{'displayName': 'Street Parking', 'displayValue': 'Street'}]}, {'type': 'restroom', 'name': 'Restroom', 'summary': 'Restroom', 'count': 1, 'items': [{'displayName': 'Restroom', 'displayValue': 'Yes'}]}]}, 'bestPhoto': {'id': '50a2a777e4b02a26c0f123f3', 'createdAt': 1352836983, 'source': {'name': 'Foursquare for iOS', 'url': 'https://foursquare.com/download/#/iphone'}, 'prefix': 'https://fastly.4sqi.net/img/general/', 'suffix': '/890794_q3Qn8grEFAD4zCGk1bII8lrzAccNH9bKDwTyjjYIxPk.jpg', 'width': 540, 'height': 720, 'visibility': 'public'}, 'colors': {'highlightColor': {'photoId': '50a2a777e4b02a26c0f123f3', 'value': -11001832}, 'highlightTextColor': {'photoId': '50a2a777e4b02a26c0f123f3', 'value': -1}, 'algoVersion': 3}}}}\n",
      "                         ID                  Name  Likes  Rating  Tips\n",
      "0  50a287a7e4b0033f830f06db  Raj's Indian Kitchen     22     7.5     9\n",
      "( 26 / 39 ) processed\n"
     ]
    },
    {
     "name": "stdout",
     "output_type": "stream",
     "text": [
      "{'meta': {'code': 200, 'requestId': '5e1ca2bfdf2774001c6e9b4d'}, 'response': {'venue': {'id': '4b3a8aa5f964a520996925e3', 'name': 'Sajni 026', 'contact': {'phone': '7182750606', 'formattedPhone': '(718) 275-0606'}, 'location': {'address': '9810 Queens Blvd', 'crossStreet': '65th Rd.', 'lat': 40.728123, 'lng': -73.858071, 'labeledLatLngs': [{'label': 'display', 'lat': 40.728123, 'lng': -73.858071}], 'postalCode': '11374', 'cc': 'US', 'city': 'Rego Park', 'state': 'NY', 'country': 'United States', 'formattedAddress': ['9810 Queens Blvd (65th Rd.)', 'Rego Park, NY 11374', 'United States']}, 'canonicalUrl': 'https://foursquare.com/v/sajni-026/4b3a8aa5f964a520996925e3', 'categories': [{'id': '4bf58dd8d48988d10f941735', 'name': 'Indian Restaurant', 'pluralName': 'Indian Restaurants', 'shortName': 'Indian', 'icon': {'prefix': 'https://ss3.4sqi.net/img/categories_v2/food/indian_', 'suffix': '.png'}, 'primary': True}], 'verified': False, 'stats': {'tipCount': 6}, 'price': {'tier': 1, 'message': 'Cheap', 'currency': '$'}, 'hasMenu': True, 'likes': {'count': 3, 'groups': [{'type': 'others', 'count': 3, 'items': [{'id': '25956186', 'firstName': 'Gajtana', 'lastName': 'S', 'photo': {'prefix': 'https://fastly.4sqi.net/img/user/', 'suffix': '/LV4VSJPPM2LW2ADJ.jpg'}}, {'id': '11840995', 'firstName': 'Gabe', 'lastName': 'V', 'photo': {'prefix': 'https://fastly.4sqi.net/img/user/', 'suffix': '/11840995_nVfGWhfM_OFJMGIBx2QzlHbGd2xJElo3p3X__oKFTDyyBr2C7UW2MtvjA97hZ-5_isDSas6cf.jpg'}}, {'id': '28821447', 'firstName': 'Benjamin', 'lastName': 'M', 'photo': {'prefix': 'https://fastly.4sqi.net/img/user/', 'suffix': '/28821447-MV41TY3CCFT5UJNS.jpg'}}]}], 'summary': '3 Likes'}, 'dislike': False, 'ok': False, 'rating': 5.7, 'ratingColor': 'FF9600', 'ratingSignals': 9, 'menu': {'type': 'Menu', 'label': 'Menu', 'anchor': 'View Menu', 'url': 'https://foursquare.com/v/sajni-026/4b3a8aa5f964a520996925e3/menu', 'mobileUrl': 'https://foursquare.com/v/4b3a8aa5f964a520996925e3/device_menu'}, 'allowMenuUrlEdit': True, 'beenHere': {'count': 0, 'unconfirmedCount': 0, 'marked': False, 'lastCheckinExpiredAt': 0}, 'specials': {'count': 0, 'items': []}, 'photos': {'count': 1, 'groups': [{'type': 'venue', 'name': 'Venue photos', 'count': 1, 'items': [{'id': '51ad15ed498e7c066ab0a4a6', 'createdAt': 1370297837, 'source': {'name': 'Foursquare for Android', 'url': 'https://foursquare.com/download/#/android'}, 'prefix': 'https://fastly.4sqi.net/img/general/', 'suffix': '/5932712_74-R_lpybv1xHWUb98_WwQ2FnlJ6-VC7bCC64RqeOwY.jpg', 'width': 543, 'height': 960, 'user': {'id': '5932712', 'firstName': '3Scribbles', 'photo': {'prefix': 'https://fastly.4sqi.net/img/user/', 'suffix': '/K1REFVU3GQGXK2JZ.png'}}, 'visibility': 'public'}]}]}, 'reasons': {'count': 0, 'items': []}, 'hereNow': {'count': 0, 'summary': 'Nobody here', 'groups': []}, 'createdAt': 1262127781, 'tips': {'count': 6, 'groups': [{'type': 'others', 'name': 'All tips', 'count': 6, 'items': [{'id': '553c557d498ec6d3b6a13abb', 'createdAt': 1430017405, 'text': 'They are closed.', 'type': 'user', 'canonicalUrl': 'https://foursquare.com/item/553c557d498ec6d3b6a13abb', 'lang': 'en', 'likes': {'count': 0, 'groups': []}, 'logView': True, 'agreeCount': 0, 'disagreeCount': 0, 'todo': {'count': 0}, 'user': {'id': '25956186', 'firstName': 'Gajtana', 'lastName': 'S', 'photo': {'prefix': 'https://fastly.4sqi.net/img/user/', 'suffix': '/LV4VSJPPM2LW2ADJ.jpg'}}, 'authorInteractionType': 'liked'}]}]}, 'shortUrl': 'http://4sq.com/4NSxU3', 'timeZone': 'America/New_York', 'listed': {'count': 0, 'groups': [{'type': 'others', 'name': 'Lists from other people', 'count': 0, 'items': []}]}, 'pageUpdates': {'count': 0, 'items': []}, 'inbox': {'count': 0, 'items': []}, 'attributes': {'groups': [{'type': 'price', 'name': 'Price', 'summary': '$', 'count': 1, 'items': [{'displayName': 'Price', 'displayValue': '$', 'priceTier': 1}]}, {'type': 'payments', 'name': 'Credit Cards', 'summary': 'Credit Cards', 'count': 7, 'items': [{'displayName': 'Credit Cards', 'displayValue': 'Yes'}]}]}, 'bestPhoto': {'id': '51ad15ed498e7c066ab0a4a6', 'createdAt': 1370297837, 'source': {'name': 'Foursquare for Android', 'url': 'https://foursquare.com/download/#/android'}, 'prefix': 'https://fastly.4sqi.net/img/general/', 'suffix': '/5932712_74-R_lpybv1xHWUb98_WwQ2FnlJ6-VC7bCC64RqeOwY.jpg', 'width': 543, 'height': 960, 'visibility': 'public'}}}}\n",
      "                         ID       Name  Likes  Rating  Tips\n",
      "0  4b3a8aa5f964a520996925e3  Sajni 026      3     5.7     6\n",
      "( 27 / 39 ) processed\n",
      "{'meta': {'code': 200, 'requestId': '5e1ca185dd0f85001bf071f8'}, 'response': {'venue': {'id': '4f1f4996e4b01ff351a7a50c', 'name': 'Ayna Agra Indian Restaurant', 'contact': {'phone': '7182251201', 'formattedPhone': '(718) 225-1201'}, 'location': {'address': '213-35 39th Ave, Queens, NY 11361', 'lat': 40.76547788211754, 'lng': -73.77173659554312, 'labeledLatLngs': [{'label': 'display', 'lat': 40.76547788211754, 'lng': -73.77173659554312}], 'postalCode': '11361', 'cc': 'US', 'city': 'Queens', 'state': 'NY', 'country': 'United States', 'formattedAddress': ['213-35 39th Ave, Queens, NY 11361', 'Queens, NY 11361', 'United States']}, 'canonicalUrl': 'https://foursquare.com/v/ayna-agra-indian-restaurant/4f1f4996e4b01ff351a7a50c', 'categories': [{'id': '4bf58dd8d48988d10f941735', 'name': 'Indian Restaurant', 'pluralName': 'Indian Restaurants', 'shortName': 'Indian', 'icon': {'prefix': 'https://ss3.4sqi.net/img/categories_v2/food/indian_', 'suffix': '.png'}, 'primary': True}], 'verified': False, 'stats': {'tipCount': 12}, 'url': 'http://agrarestaurantnyc.com', 'price': {'tier': 2, 'message': 'Moderate', 'currency': '$'}, 'likes': {'count': 39, 'groups': [{'type': 'others', 'count': 39, 'items': []}], 'summary': '39 Likes'}, 'dislike': False, 'ok': False, 'rating': 8.2, 'ratingColor': '73CF42', 'ratingSignals': 54, 'allowMenuUrlEdit': True, 'beenHere': {'count': 0, 'unconfirmedCount': 0, 'marked': False, 'lastCheckinExpiredAt': 0}, 'specials': {'count': 0, 'items': []}, 'photos': {'count': 27, 'groups': [{'type': 'venue', 'name': 'Venue photos', 'count': 27, 'items': [{'id': '4fe66012e4b005c24e1fce0e', 'createdAt': 1340497938, 'source': {'name': 'Foursquare for iOS', 'url': 'https://foursquare.com/download/#/iphone'}, 'prefix': 'https://fastly.4sqi.net/img/general/', 'suffix': '/D5rQbTQaA5q4kgeXuIVKYAFeree1Q5AfRjPfE8s3yGo.jpg', 'width': 540, 'height': 720, 'user': {'id': '28910571', 'firstName': 'Mary', 'lastName': 'K', 'photo': {'prefix': 'https://fastly.4sqi.net/img/user/', 'suffix': '/0YW1ZLHPW5NLEKPM.jpg'}}, 'visibility': 'public'}]}]}, 'reasons': {'count': 1, 'items': [{'summary': 'Lots of people like this place', 'type': 'general', 'reasonName': 'rawLikesReason'}]}, 'hereNow': {'count': 0, 'summary': 'Nobody here', 'groups': []}, 'createdAt': 1327450518, 'tips': {'count': 12, 'groups': [{'type': 'others', 'name': 'All tips', 'count': 12, 'items': [{'id': '4fe66c18e4b032d6537994e7', 'createdAt': 1340501016, 'text': \"Try their chicken tandoori - clay oven special. It is so flavorful and cooked perfectly. It's absolutely delicious!!\", 'type': 'user', 'canonicalUrl': 'https://foursquare.com/item/4fe66c18e4b032d6537994e7', 'lang': 'en', 'likes': {'count': 3, 'groups': [{'type': 'others', 'count': 3, 'items': [{'id': '27832120', 'firstName': 'Gloria', 'lastName': 'C', 'photo': {'prefix': 'https://fastly.4sqi.net/img/user/', 'suffix': '/GGHOZDR3JV10FATL.jpg'}}, {'id': '4697736', 'firstName': 'Moses', 'lastName': 'C', 'photo': {'prefix': 'https://fastly.4sqi.net/img/user/', 'suffix': '/V5OWXMLWYHKVW4BZ.jpg'}}]}], 'summary': '3 likes'}, 'logView': True, 'agreeCount': 4, 'disagreeCount': 0, 'todo': {'count': 0}, 'user': {'id': '28910571', 'firstName': 'Mary', 'lastName': 'K', 'photo': {'prefix': 'https://fastly.4sqi.net/img/user/', 'suffix': '/0YW1ZLHPW5NLEKPM.jpg'}}, 'authorInteractionType': 'liked'}]}]}, 'shortUrl': 'http://4sq.com/whZoV1', 'timeZone': 'America/New_York', 'listed': {'count': 15, 'groups': [{'type': 'others', 'name': 'Lists from other people', 'count': 15, 'items': [{'id': '4fe52e26e4b0ec3d84b999e0', 'name': 'USA NYC QNS East', 'description': 'Flushing to Bayside to Little Neck.', 'type': 'others', 'user': {'id': '12113441', 'firstName': 'Kino', 'photo': {'prefix': 'https://fastly.4sqi.net/img/user/', 'suffix': '/12113441-K5HTHFLU2MUCM0CM.jpg'}}, 'editable': False, 'public': True, 'collaborative': False, 'url': '/kinosfault/list/usa-nyc-qns-east', 'canonicalUrl': 'https://foursquare.com/kinosfault/list/usa-nyc-qns-east', 'createdAt': 1340419622, 'updatedAt': 1574040454, 'photo': {'id': '4e828796e5fa7e8f39b14f8f', 'createdAt': 1317177238, 'prefix': 'https://fastly.4sqi.net/img/general/', 'suffix': '/NAQANQ5HPCAE5YORR2EU5K1TOKFHPN4B51IS0J0YMQTTSPOY.jpg', 'width': 640, 'height': 480, 'user': {'id': '642403', 'firstName': 'Bekah', 'photo': {'prefix': 'https://fastly.4sqi.net/img/user/', 'suffix': '/YV5BDKMJXCST2YYA.jpg'}}, 'visibility': 'public'}, 'followers': {'count': 8}, 'listItems': {'count': 348, 'items': [{'id': 'v4f1f4996e4b01ff351a7a50c', 'createdAt': 1424208489}]}}, {'id': '510ca336e4b0faae2dc4684e', 'name': 'Sweets', 'description': '', 'type': 'others', 'user': {'id': '8656499', 'firstName': 'Muraffa Lisa', 'lastName': 'M', 'photo': {'prefix': 'https://fastly.4sqi.net/img/user/', 'suffix': '/8656499-BF12RVOLPJPV4CZT.jpg'}}, 'editable': False, 'public': True, 'collaborative': False, 'url': '/muraffa44/list/sweets', 'canonicalUrl': 'https://foursquare.com/muraffa44/list/sweets', 'createdAt': 1359782710, 'updatedAt': 1373264934, 'followers': {'count': 0}, 'listItems': {'count': 3, 'items': [{'id': 'v4f1f4996e4b01ff351a7a50c', 'createdAt': 1373264934}]}}, {'id': '523e202a11d29e040a059904', 'name': 'My fave places', 'description': '', 'type': 'others', 'user': {'id': '15064355', 'firstName': 'Penelope', 'lastName': 'H', 'photo': {'prefix': 'https://fastly.4sqi.net/img/user/', 'suffix': '/IIVYWCOZMQGT1AMI.jpg'}}, 'editable': False, 'public': True, 'collaborative': False, 'url': '/user/15064355/list/my-fave-places', 'canonicalUrl': 'https://foursquare.com/user/15064355/list/my-fave-places', 'createdAt': 1379803178, 'updatedAt': 1390191962, 'followers': {'count': 0}, 'listItems': {'count': 12, 'items': [{'id': 'v4f1f4996e4b01ff351a7a50c', 'createdAt': 1384702938}]}}, {'id': '51db9c0f498ed64a10b9c65c', 'name': 'Restaurants', 'description': '', 'type': 'others', 'user': {'id': '10339677', 'firstName': 'Melissa', 'photo': {'prefix': 'https://fastly.4sqi.net/img/user/', 'suffix': '/DE5SL10IAI4CMWCS.jpg'}}, 'editable': False, 'public': True, 'collaborative': False, 'url': '/wayw4rd/list/restaurants', 'canonicalUrl': 'https://foursquare.com/wayw4rd/list/restaurants', 'createdAt': 1373346831, 'updatedAt': 1405375718, 'followers': {'count': 1}, 'listItems': {'count': 67, 'items': [{'id': 'v4f1f4996e4b01ff351a7a50c', 'createdAt': 1402630226}]}}]}]}, 'hours': {'status': 'Open until 11:00 PM', 'richStatus': {'entities': [], 'text': 'Open until 11:00 PM'}, 'isOpen': True, 'isLocalHoliday': False, 'dayData': [], 'timeframes': [{'days': 'Mon–Sun', 'includesToday': True, 'open': [{'renderedTime': '11:00 AM–11:00 PM'}], 'segments': []}]}, 'popular': {'status': 'Likely open', 'richStatus': {'entities': [], 'text': 'Likely open'}, 'isOpen': True, 'isLocalHoliday': False, 'timeframes': [{'days': 'Today', 'includesToday': True, 'open': [{'renderedTime': 'Noon–3:00 PM'}, {'renderedTime': '5:00 PM–9:00 PM'}], 'segments': []}, {'days': 'Tue', 'open': [{'renderedTime': '7:00 PM–10:00 PM'}], 'segments': []}, {'days': 'Wed', 'open': [{'renderedTime': '6:00 PM–9:00 PM'}], 'segments': []}, {'days': 'Thu–Fri', 'open': [{'renderedTime': '5:00 PM–10:00 PM'}], 'segments': []}, {'days': 'Sat', 'open': [{'renderedTime': 'Noon–10:00 PM'}], 'segments': []}, {'days': 'Sun', 'open': [{'renderedTime': 'Noon–1:00 PM'}, {'renderedTime': '4:00 PM–10:00 PM'}], 'segments': []}]}, 'pageUpdates': {'count': 0, 'items': []}, 'inbox': {'count': 0, 'items': []}, 'attributes': {'groups': [{'type': 'price', 'name': 'Price', 'summary': '$$', 'count': 1, 'items': [{'displayName': 'Price', 'displayValue': '$$', 'priceTier': 2}]}, {'type': 'reservations', 'name': 'Reservations', 'summary': 'Reservations', 'count': 3, 'items': [{'displayName': 'Reservations', 'displayValue': 'Yes'}]}, {'type': 'payments', 'name': 'Credit Cards', 'summary': 'Credit Cards', 'count': 7, 'items': [{'displayName': 'Credit Cards', 'displayValue': 'Yes (incl. Discover & Visa)'}]}, {'type': 'outdoorSeating', 'name': 'Outdoor Seating', 'count': 1, 'items': [{'displayName': 'Outdoor Seating', 'displayValue': 'No'}]}, {'type': 'serves', 'name': 'Menus', 'summary': 'Happy Hour, Dinner & more', 'count': 8, 'items': [{'displayName': 'Brunch', 'displayValue': 'Brunch'}, {'displayName': 'Lunch', 'displayValue': 'Lunch'}, {'displayName': 'Dinner', 'displayValue': 'Dinner'}, {'displayName': 'Dessert', 'displayValue': 'Dessert'}, {'displayName': 'Happy Hour', 'displayValue': 'Happy Hour'}]}, {'type': 'drinks', 'name': 'Drinks', 'summary': 'Cocktails', 'count': 5, 'items': [{'displayName': 'Cocktails', 'displayValue': 'Cocktails'}]}, {'type': 'diningOptions', 'name': 'Dining Options', 'count': 5, 'items': [{'displayName': 'Delivery', 'displayValue': 'No Delivery'}]}]}, 'bestPhoto': {'id': '4fe66012e4b005c24e1fce0e', 'createdAt': 1340497938, 'source': {'name': 'Foursquare for iOS', 'url': 'https://foursquare.com/download/#/iphone'}, 'prefix': 'https://fastly.4sqi.net/img/general/', 'suffix': '/D5rQbTQaA5q4kgeXuIVKYAFeree1Q5AfRjPfE8s3yGo.jpg', 'width': 540, 'height': 720, 'visibility': 'public'}, 'colors': {'highlightColor': {'photoId': '4fe66012e4b005c24e1fce0e', 'value': -481168}, 'highlightTextColor': {'photoId': '4fe66012e4b005c24e1fce0e', 'value': -16777216}, 'algoVersion': 3}}}}\n",
      "                         ID                         Name  Likes  Rating  Tips\n",
      "0  4f1f4996e4b01ff351a7a50c  Ayna Agra Indian Restaurant     39     8.2    12\n",
      "( 28 / 39 ) processed\n"
     ]
    },
    {
     "name": "stdout",
     "output_type": "stream",
     "text": [
      "{'meta': {'code': 200, 'requestId': '5e1ca25ed03993001b34fbb5'}, 'response': {'venue': {'id': '57a27a37498e68b1928c8c66', 'name': 'Spice Rack', 'contact': {'phone': '7182735843', 'formattedPhone': '(718) 273-5843'}, 'location': {'address': '1791 Victory Blvd', 'crossStreet': 'Manor Road', 'lat': 40.61333, 'lng': -74.123173, 'labeledLatLngs': [{'label': 'display', 'lat': 40.61333, 'lng': -74.123173}], 'postalCode': '10314', 'cc': 'US', 'city': 'New York', 'state': 'NY', 'country': 'United States', 'formattedAddress': ['1791 Victory Blvd (Manor Road)', 'New York, NY 10314', 'United States']}, 'canonicalUrl': 'https://foursquare.com/v/spice-rack/57a27a37498e68b1928c8c66', 'categories': [{'id': '4bf58dd8d48988d10f941735', 'name': 'Indian Restaurant', 'pluralName': 'Indian Restaurants', 'shortName': 'Indian', 'icon': {'prefix': 'https://ss3.4sqi.net/img/categories_v2/food/indian_', 'suffix': '.png'}, 'primary': True}], 'verified': False, 'stats': {'tipCount': 1}, 'price': {'tier': 2, 'message': 'Moderate', 'currency': '$'}, 'likes': {'count': 1, 'groups': [{'type': 'others', 'count': 1, 'items': [{'id': '33761035', 'firstName': 'Ansari', 'lastName': 'A', 'photo': {'prefix': 'https://fastly.4sqi.net/img/user/', 'suffix': '/J2CJW2H4IYKP2FWM.jpg'}}]}], 'summary': '1 Like'}, 'dislike': False, 'ok': False, 'delivery': {'id': '338368', 'url': 'https://www.seamless.com/menu/spice-rack-1791-victory-blvd-staten-island/338368?affiliate=1131&utm_source=foursquare-affiliate-network&utm_medium=affiliate&utm_campaign=1131&utm_content=338368', 'provider': {'name': 'seamless', 'icon': {'prefix': 'https://fastly.4sqi.net/img/general/cap/', 'sizes': [40, 50], 'name': '/delivery_provider_seamless_20180129.png'}}}, 'allowMenuUrlEdit': True, 'beenHere': {'count': 0, 'unconfirmedCount': 0, 'marked': False, 'lastCheckinExpiredAt': 0}, 'specials': {'count': 0, 'items': []}, 'photos': {'count': 2, 'groups': [{'type': 'venue', 'name': 'Venue photos', 'count': 2, 'items': [{'id': '5850c8fed4ab736a18d7b064', 'createdAt': 1481689342, 'source': {'name': 'Foursquare for iOS', 'url': 'https://foursquare.com/download/#/iphone'}, 'prefix': 'https://fastly.4sqi.net/img/general/', 'suffix': '/33761035_9OdDV2sDWhLKAnafFTs44GTeiT8lvWU7BP_y3FyFqq0.jpg', 'width': 1440, 'height': 1920, 'user': {'id': '33761035', 'firstName': 'Ansari', 'lastName': 'A', 'photo': {'prefix': 'https://fastly.4sqi.net/img/user/', 'suffix': '/J2CJW2H4IYKP2FWM.jpg'}}, 'visibility': 'public'}]}]}, 'reasons': {'count': 0, 'items': []}, 'hereNow': {'count': 0, 'summary': 'Nobody here', 'groups': []}, 'createdAt': 1470265911, 'tips': {'count': 1, 'groups': [{'type': 'others', 'name': 'All tips', 'count': 1, 'items': [{'id': '5850c8fde72ef64845eb395d', 'createdAt': 1481689341, 'text': 'Amazing biryanis', 'type': 'user', 'canonicalUrl': 'https://foursquare.com/item/5850c8fde72ef64845eb395d', 'photo': {'id': '5850c8fed4ab736a18d7b064', 'createdAt': 1481689342, 'source': {'name': 'Foursquare for iOS', 'url': 'https://foursquare.com/download/#/iphone'}, 'prefix': 'https://fastly.4sqi.net/img/general/', 'suffix': '/33761035_9OdDV2sDWhLKAnafFTs44GTeiT8lvWU7BP_y3FyFqq0.jpg', 'width': 1440, 'height': 1920, 'visibility': 'public'}, 'photourl': 'https://fastly.4sqi.net/img/general/original/33761035_9OdDV2sDWhLKAnafFTs44GTeiT8lvWU7BP_y3FyFqq0.jpg', 'lang': 'en', 'likes': {'count': 0, 'groups': []}, 'logView': True, 'agreeCount': 0, 'disagreeCount': 0, 'todo': {'count': 0}, 'user': {'id': '33761035', 'firstName': 'Ansari', 'lastName': 'A', 'photo': {'prefix': 'https://fastly.4sqi.net/img/user/', 'suffix': '/J2CJW2H4IYKP2FWM.jpg'}}, 'authorInteractionType': 'liked'}]}]}, 'shortUrl': 'http://4sq.com/2ayONDH', 'timeZone': 'America/New_York', 'listed': {'count': 0, 'groups': [{'type': 'others', 'name': 'Lists from other people', 'count': 0, 'items': []}]}, 'hours': {'status': 'Open until 9:45 PM', 'richStatus': {'entities': [], 'text': 'Open until 9:45 PM'}, 'isOpen': True, 'isLocalHoliday': False, 'dayData': [], 'timeframes': [{'days': 'Mon–Sun', 'includesToday': True, 'open': [{'renderedTime': '10:45 AM–9:45 PM'}], 'segments': []}]}, 'pageUpdates': {'count': 0, 'items': []}, 'inbox': {'count': 0, 'items': []}, 'attributes': {'groups': [{'type': 'price', 'name': 'Price', 'summary': '$$', 'count': 1, 'items': [{'displayName': 'Price', 'displayValue': '$$', 'priceTier': 2}]}, {'type': 'diningOptions', 'name': 'Dining Options', 'summary': 'Delivery', 'count': 5, 'items': [{'displayName': 'Delivery', 'displayValue': 'Delivery'}]}]}, 'bestPhoto': {'id': '5850c8fed4ab736a18d7b064', 'createdAt': 1481689342, 'source': {'name': 'Foursquare for iOS', 'url': 'https://foursquare.com/download/#/iphone'}, 'prefix': 'https://fastly.4sqi.net/img/general/', 'suffix': '/33761035_9OdDV2sDWhLKAnafFTs44GTeiT8lvWU7BP_y3FyFqq0.jpg', 'width': 1440, 'height': 1920, 'visibility': 'public'}, 'colors': {'highlightColor': {'photoId': '5850c8fed4ab736a18d7b064', 'value': -10475520}, 'highlightTextColor': {'photoId': '5850c8fed4ab736a18d7b064', 'value': -1}, 'algoVersion': 3}}}}\n",
      "Empty DataFrame\n",
      "Columns: [ID, Name, Likes, Rating, Tips]\n",
      "Index: []\n",
      "No data available for id= 57a27a37498e68b1928c8c66\n",
      "( 29 / 39 ) processed\n",
      "{'meta': {'code': 200, 'requestId': '5e1ca26583525f001bda6c21'}, 'response': {'venue': {'id': '4be74a502468c928505a0243', 'name': 'Taste Of India II', 'contact': {'phone': '7189874700', 'formattedPhone': '(718) 987-4700'}, 'location': {'address': '287 New Dorp Ln', 'lat': 40.57212651619049, 'lng': -74.11267401240129, 'labeledLatLngs': [{'label': 'display', 'lat': 40.57212651619049, 'lng': -74.11267401240129}], 'postalCode': '10306', 'cc': 'US', 'city': 'Staten Island', 'state': 'NY', 'country': 'United States', 'formattedAddress': ['287 New Dorp Ln', 'Staten Island, NY 10306', 'United States']}, 'canonicalUrl': 'https://foursquare.com/v/taste-of-india-ii/4be74a502468c928505a0243', 'categories': [{'id': '4bf58dd8d48988d10f941735', 'name': 'Indian Restaurant', 'pluralName': 'Indian Restaurants', 'shortName': 'Indian', 'icon': {'prefix': 'https://ss3.4sqi.net/img/categories_v2/food/indian_', 'suffix': '.png'}, 'primary': True}, {'id': '4bf58dd8d48988d142941735', 'name': 'Asian Restaurant', 'pluralName': 'Asian Restaurants', 'shortName': 'Asian', 'icon': {'prefix': 'https://ss3.4sqi.net/img/categories_v2/food/asian_', 'suffix': '.png'}}], 'verified': False, 'stats': {'tipCount': 14}, 'url': 'http://tasteofindia2.com', 'price': {'tier': 2, 'message': 'Moderate', 'currency': '$'}, 'hasMenu': True, 'likes': {'count': 29, 'groups': [{'type': 'others', 'count': 29, 'items': []}], 'summary': '29 Likes'}, 'dislike': False, 'ok': False, 'rating': 8.1, 'ratingColor': '73CF42', 'ratingSignals': 42, 'menu': {'type': 'Menu', 'label': 'Menu', 'anchor': 'View Menu', 'url': 'https://foursquare.com/v/taste-of-india-ii/4be74a502468c928505a0243/menu', 'mobileUrl': 'https://foursquare.com/v/4be74a502468c928505a0243/device_menu'}, 'allowMenuUrlEdit': True, 'beenHere': {'count': 0, 'unconfirmedCount': 0, 'marked': False, 'lastCheckinExpiredAt': 0}, 'specials': {'count': 0, 'items': []}, 'photos': {'count': 11, 'groups': [{'type': 'venue', 'name': 'Venue photos', 'count': 11, 'items': [{'id': '5a888e85364d97403b27ae90', 'createdAt': 1518898821, 'source': {'name': 'Swarm for iOS', 'url': 'https://www.swarmapp.com'}, 'prefix': 'https://fastly.4sqi.net/img/general/', 'suffix': '/25160938_P2WA8HLdJZXWUYr2yo-uL3qyWgAP17Oeg_BKdhcfLkc.jpg', 'width': 1440, 'height': 1920, 'user': {'id': '25160938', 'firstName': 'Josica', 'lastName': '?', 'photo': {'prefix': 'https://fastly.4sqi.net/img/user/', 'suffix': '/25160938_HWiYK0iT_7rHtH8qj55AxkFlZjKJSQZnFTehMrv_ZqD1RNigQabIS6UPpCgK2UAwX0qQoXv6t.jpg'}}, 'visibility': 'public'}]}]}, 'reasons': {'count': 0, 'items': []}, 'hereNow': {'count': 0, 'summary': 'Nobody here', 'groups': []}, 'createdAt': 1273449040, 'tips': {'count': 14, 'groups': [{'type': 'others', 'name': 'All tips', 'count': 14, 'items': [{'id': '51a1586d498e796151308aba', 'createdAt': 1369528429, 'text': 'Naan awesome!', 'type': 'user', 'canonicalUrl': 'https://foursquare.com/item/51a1586d498e796151308aba', 'lang': 'en', 'likes': {'count': 2, 'groups': [{'type': 'others', 'count': 2, 'items': [{'id': '52825547', 'firstName': 'DonNap', 'photo': {'prefix': 'https://fastly.4sqi.net/img/user/', 'suffix': '/52825547-ROTA4KA5VEKULX2E.jpg'}}, {'id': '53059626', 'firstName': 'S', 'lastName': 'N', 'photo': {'prefix': 'https://fastly.4sqi.net/img/user/', 'suffix': '/BOTB1PUF0A4XF1KX.jpg'}}]}], 'summary': '2 likes'}, 'logView': True, 'agreeCount': 2, 'disagreeCount': 0, 'todo': {'count': 0}, 'user': {'id': '53059626', 'firstName': 'S', 'lastName': 'N', 'photo': {'prefix': 'https://fastly.4sqi.net/img/user/', 'suffix': '/BOTB1PUF0A4XF1KX.jpg'}}, 'authorInteractionType': 'liked'}]}]}, 'shortUrl': 'http://4sq.com/9oLLv5', 'timeZone': 'America/New_York', 'listed': {'count': 6, 'groups': [{'type': 'others', 'name': 'Lists from other people', 'count': 6, 'items': [{'id': '527a983b11d29dced8f1f4d3', 'name': 'Staten Island Spots', 'description': '', 'type': 'others', 'user': {'id': '12019760', 'firstName': 'Tav', 'lastName': 'T', 'photo': {'prefix': 'https://fastly.4sqi.net/img/user/', 'suffix': '/YBO2DBZ4GWGAQHRH.jpg'}}, 'editable': False, 'public': True, 'collaborative': False, 'url': '/tavtheduck/list/staten-island-spots', 'canonicalUrl': 'https://foursquare.com/tavtheduck/list/staten-island-spots', 'createdAt': 1383766075, 'updatedAt': 1401152228, 'photo': {'id': '5171ebeb498e6f23de573d3b', 'createdAt': 1366420459, 'prefix': 'https://fastly.4sqi.net/img/general/', 'suffix': '/19797339_1rZXM6xXILnFHRY_EpW8F9_ph8reO_C0lAHhJbC9vZM.jpg', 'width': 1440, 'height': 1920, 'user': {'id': '19797339', 'firstName': 'Michael', 'lastName': 'E', 'photo': {'prefix': 'https://fastly.4sqi.net/img/user/', 'suffix': '/MABQ4GCXLF0BOWCV.jpg'}}, 'visibility': 'public'}, 'followers': {'count': 0}, 'listItems': {'count': 16, 'items': [{'id': 'v4be74a502468c928505a0243', 'createdAt': 1383766858}]}}, {'id': '569c0af6498e703a370d496d', 'name': 'SINY', 'description': '', 'type': 'others', 'user': {'id': '133164409', 'firstName': 'J', 'lastName': 'L', 'photo': {'prefix': 'https://fastly.4sqi.net/img/user/', 'suffix': '/133164409-MB2ZCRY0EQC0HNCR.jpg'}}, 'editable': False, 'public': True, 'collaborative': False, 'url': '/user/133164409/list/siny', 'canonicalUrl': 'https://foursquare.com/user/133164409/list/siny', 'createdAt': 1453066998, 'updatedAt': 1569799209, 'photo': {'id': '4fdb9d68e4b0a4cb4dc1387d', 'createdAt': 1339792744, 'prefix': 'https://fastly.4sqi.net/img/general/', 'suffix': '/vjscSFw4mAujCtT9BNab4CcdlFv5j9dJpgEr4ObOzds.jpg', 'width': 612, 'height': 612, 'user': {'id': '162725', 'firstName': 'Megan', 'lastName': 'A', 'photo': {'prefix': 'https://fastly.4sqi.net/img/user/', 'suffix': '/G5BKWZ2CTV0STGQS.png'}}, 'visibility': 'public'}, 'followers': {'count': 0}, 'listItems': {'count': 93, 'items': [{'id': 'v4be74a502468c928505a0243', 'createdAt': 1522225324}]}}, {'id': '5234607b11d25eb27fd00e51', 'name': 'Nom Nom Staten Island', 'description': '', 'type': 'others', 'user': {'id': '1501203', 'firstName': 'Daniellamaria🌺', 'photo': {'prefix': 'https://fastly.4sqi.net/img/user/', 'suffix': '/JPKP0TURQB04QREI.jpg'}}, 'editable': False, 'public': True, 'collaborative': False, 'url': '/user/1501203/list/nom-nom-staten-island-1', 'canonicalUrl': 'https://foursquare.com/user/1501203/list/nom-nom-staten-island-1', 'createdAt': 1379164283, 'updatedAt': 1397615134, 'followers': {'count': 0}, 'listItems': {'count': 21, 'items': [{'id': 'v4be74a502468c928505a0243', 'createdAt': 1393602366}]}}, {'id': '4ec2aff602d52c21c7e457d0', 'name': 'Staten Island Food Places', 'description': '', 'type': 'others', 'user': {'id': '411532', 'firstName': 'Ray', 'lastName': 'M', 'photo': {'prefix': 'https://fastly.4sqi.net/img/user/', 'suffix': '/FQWYOHIQ4HN1RGKA.png'}}, 'editable': False, 'public': True, 'collaborative': False, 'url': '/raymak/list/staten-island-food-places', 'canonicalUrl': 'https://foursquare.com/raymak/list/staten-island-food-places', 'createdAt': 1321381878, 'updatedAt': 1387564083, 'photo': {'id': '50eae9bce4b07cd25119987d', 'createdAt': 1357572540, 'prefix': 'https://fastly.4sqi.net/img/general/', 'suffix': '/36182121_Uye30cgnLeKu7Pn6tmPZTjUU3MXYi_aVJVfqLxUQH-c.jpg', 'width': 720, 'height': 406, 'user': {'id': '36182121', 'firstName': 'Edward', 'lastName': 'L', 'photo': {'prefix': 'https://fastly.4sqi.net/img/user/', 'suffix': '/BQFM5DXVJC0QOR4O.jpg'}}, 'visibility': 'public'}, 'followers': {'count': 68}, 'listItems': {'count': 64, 'items': [{'id': 'v4be74a502468c928505a0243', 'createdAt': 1321383667}]}}]}]}, 'hours': {'status': 'Open until 10:00 PM', 'richStatus': {'entities': [], 'text': 'Open until 10:00 PM'}, 'isOpen': True, 'isLocalHoliday': False, 'dayData': [], 'timeframes': [{'days': 'Mon–Thu', 'includesToday': True, 'open': [{'renderedTime': 'Noon–10:00 PM'}], 'segments': []}, {'days': 'Fri–Sat', 'open': [{'renderedTime': '11:30 AM–10:30 PM'}], 'segments': []}, {'days': 'Sun', 'open': [{'renderedTime': '11:30 AM–10:00 PM'}], 'segments': []}]}, 'popular': {'isOpen': False, 'isLocalHoliday': False, 'timeframes': [{'days': 'Today', 'includesToday': True, 'open': [{'renderedTime': '2:00 PM–3:00 PM'}, {'renderedTime': '5:00 PM–10:00 PM'}], 'segments': []}, {'days': 'Tue', 'open': [{'renderedTime': 'Noon–3:00 PM'}, {'renderedTime': '5:00 PM–9:00 PM'}], 'segments': []}, {'days': 'Wed', 'open': [{'renderedTime': '1:00 PM–3:00 PM'}, {'renderedTime': '5:00 PM–9:00 PM'}], 'segments': []}, {'days': 'Thu', 'open': [{'renderedTime': '5:00 PM–10:00 PM'}], 'segments': []}, {'days': 'Fri', 'open': [{'renderedTime': 'Noon–11:00 PM'}], 'segments': []}, {'days': 'Sat', 'open': [{'renderedTime': 'Noon–10:00 PM'}], 'segments': []}, {'days': 'Sun', 'open': [{'renderedTime': '11:00 AM–9:00 PM'}], 'segments': []}]}, 'pageUpdates': {'count': 0, 'items': []}, 'inbox': {'count': 0, 'items': []}, 'attributes': {'groups': [{'type': 'price', 'name': 'Price', 'summary': '$$', 'count': 1, 'items': [{'displayName': 'Price', 'displayValue': '$$', 'priceTier': 2}]}, {'type': 'payments', 'name': 'Credit Cards', 'summary': 'Credit Cards', 'count': 7, 'items': [{'displayName': 'Credit Cards', 'displayValue': 'Yes (incl. Discover & Visa)'}]}, {'type': 'outdoorSeating', 'name': 'Outdoor Seating', 'count': 1, 'items': [{'displayName': 'Outdoor Seating', 'displayValue': 'No'}]}, {'type': 'serves', 'name': 'Menus', 'summary': 'Dinner, Lunch & more', 'count': 8, 'items': [{'displayName': 'Brunch', 'displayValue': 'Brunch'}, {'displayName': 'Lunch', 'displayValue': 'Lunch'}, {'displayName': 'Dinner', 'displayValue': 'Dinner'}]}, {'type': 'diningOptions', 'name': 'Dining Options', 'summary': 'Delivery', 'count': 5, 'items': [{'displayName': 'Delivery', 'displayValue': 'Delivery'}]}]}, 'bestPhoto': {'id': '5a888e85364d97403b27ae90', 'createdAt': 1518898821, 'source': {'name': 'Swarm for iOS', 'url': 'https://www.swarmapp.com'}, 'prefix': 'https://fastly.4sqi.net/img/general/', 'suffix': '/25160938_P2WA8HLdJZXWUYr2yo-uL3qyWgAP17Oeg_BKdhcfLkc.jpg', 'width': 1440, 'height': 1920, 'visibility': 'public'}, 'colors': {'highlightColor': {'photoId': '5a888e85364d97403b27ae90', 'value': -15202264}, 'highlightTextColor': {'photoId': '5a888e85364d97403b27ae90', 'value': -1}, 'algoVersion': 3}}}}\n",
      "                         ID               Name  Likes  Rating  Tips\n",
      "0  4be74a502468c928505a0243  Taste Of India II     29     8.1    14\n",
      "( 30 / 39 ) processed\n"
     ]
    },
    {
     "name": "stdout",
     "output_type": "stream",
     "text": [
      "{'meta': {'code': 200, 'requestId': '5e1ca280949393001b2dff58'}, 'response': {'venue': {'id': '56ed855a498ef3bb022352c3', 'name': 'Mughlai Indian Cuisine', 'contact': {'phone': '2127226262', 'formattedPhone': '(212) 722-6262'}, 'location': {'address': '1724 2nd Ave', 'crossStreet': '89th & 90th St', 'lat': 40.78020580283837, 'lng': -73.95008785684102, 'labeledLatLngs': [{'label': 'display', 'lat': 40.78020580283837, 'lng': -73.95008785684102}], 'postalCode': '10128', 'cc': 'US', 'city': 'New York', 'state': 'NY', 'country': 'United States', 'formattedAddress': ['1724 2nd Ave (89th & 90th St)', 'New York, NY 10128', 'United States']}, 'canonicalUrl': 'https://foursquare.com/v/mughlai-indian-cuisine/56ed855a498ef3bb022352c3', 'categories': [{'id': '4bf58dd8d48988d10f941735', 'name': 'Indian Restaurant', 'pluralName': 'Indian Restaurants', 'shortName': 'Indian', 'icon': {'prefix': 'https://ss3.4sqi.net/img/categories_v2/food/indian_', 'suffix': '.png'}, 'primary': True}], 'verified': False, 'stats': {'tipCount': 9}, 'url': 'http://mughlaicuisineny.com', 'price': {'tier': 2, 'message': 'Moderate', 'currency': '$'}, 'likes': {'count': 26, 'groups': [{'type': 'others', 'count': 26, 'items': []}], 'summary': '26 Likes'}, 'dislike': False, 'ok': False, 'rating': 7.8, 'ratingColor': 'C5DE35', 'ratingSignals': 39, 'delivery': {'id': '321971', 'url': 'https://www.seamless.com/menu/mughlai-indian-cuisine-1724-2nd-ave-new-york/321971?affiliate=1131&utm_source=foursquare-affiliate-network&utm_medium=affiliate&utm_campaign=1131&utm_content=321971', 'provider': {'name': 'seamless', 'icon': {'prefix': 'https://fastly.4sqi.net/img/general/cap/', 'sizes': [40, 50], 'name': '/delivery_provider_seamless_20180129.png'}}}, 'allowMenuUrlEdit': True, 'beenHere': {'count': 0, 'unconfirmedCount': 0, 'marked': False, 'lastCheckinExpiredAt': 0}, 'specials': {'count': 0, 'items': []}, 'photos': {'count': 12, 'groups': [{'type': 'venue', 'name': 'Venue photos', 'count': 12, 'items': [{'id': '57a4e515cd10d9a34daf9fd0', 'createdAt': 1470424341, 'source': {'name': 'Swarm for iOS', 'url': 'https://www.swarmapp.com'}, 'prefix': 'https://fastly.4sqi.net/img/general/', 'suffix': '/12536017_H6gl6Fs0ojuFJi1e5fQqn5mUmBaTdb6zXwZos-kHcOA.jpg', 'width': 1920, 'height': 1440, 'user': {'id': '12536017', 'firstName': 'dawn.in.newyork', 'photo': {'prefix': 'https://fastly.4sqi.net/img/user/', 'suffix': '/12536017-5VTLSXHIFORKXZIY.jpg'}}, 'visibility': 'public'}]}]}, 'reasons': {'count': 0, 'items': []}, 'hereNow': {'count': 0, 'summary': 'Nobody here', 'groups': []}, 'createdAt': 1458406746, 'tips': {'count': 9, 'groups': [{'type': 'others', 'name': 'All tips', 'count': 9, 'items': [{'id': '5c5dd25a1543c7002c114716', 'createdAt': 1549652570, 'text': 'Half price entrees at lunchtime', 'type': 'user', 'canonicalUrl': 'https://foursquare.com/item/5c5dd25a1543c7002c114716', 'lang': 'en', 'likes': {'count': 0, 'groups': []}, 'logView': True, 'agreeCount': 0, 'disagreeCount': 0, 'todo': {'count': 0}, 'user': {'id': '468511171', 'firstName': 'Gia', 'lastName': 'H', 'photo': {'prefix': 'https://fastly.4sqi.net/img/user/', 'suffix': '/468511171_TFWfkB2Z_xcsIwozEO12yO5kUzeldx6LDodav9lDVrs9CefPp31DROc6F-RbMBCrb4QR1H1oX.jpg'}}}]}]}, 'shortUrl': 'http://4sq.com/1T173VS', 'timeZone': 'America/New_York', 'listed': {'count': 29, 'groups': [{'type': 'others', 'name': 'Lists from other people', 'count': 29, 'items': [{'id': '50a7b209e4b02938be4dcdb6', 'name': 'NYC Favorites Uptown', 'description': '', 'type': 'others', 'user': {'id': '23291874', 'firstName': 'Amy', 'lastName': 'M', 'photo': {'prefix': 'https://fastly.4sqi.net/img/user/', 'suffix': '/1FWPSHTWUTIZXWOU.jpg'}}, 'editable': False, 'public': True, 'collaborative': False, 'url': '/user/23291874/list/nyc-favorites-uptown', 'canonicalUrl': 'https://foursquare.com/user/23291874/list/nyc-favorites-uptown', 'createdAt': 1353167369, 'updatedAt': 1528546576, 'followers': {'count': 2}, 'listItems': {'count': 30, 'items': [{'id': 't57c721db498e8876a34830c0', 'createdAt': 1472668133}]}}, {'id': '4f1ba308e4b0d1a655f06588', 'name': 'UES to try', 'description': '', 'type': 'others', 'user': {'id': '11184879', 'firstName': 'Megan', 'lastName': 'H', 'photo': {'prefix': 'https://fastly.4sqi.net/img/user/', 'suffix': '/T0WS24BAH01ZSUY0.jpg'}}, 'editable': False, 'public': True, 'collaborative': False, 'url': '/mhess4/list/ues-to-try', 'canonicalUrl': 'https://foursquare.com/mhess4/list/ues-to-try', 'createdAt': 1327211272, 'updatedAt': 1512738179, 'photo': {'id': '4ed4f1f3f5b975def53e1949', 'createdAt': 1322578419, 'prefix': 'https://fastly.4sqi.net/img/general/', 'suffix': '/35ESK52VFYWLCXWFDVGU5D3GYLSJXV5LHZ3Z3JVZL05KCULC.jpg', 'width': 720, 'height': 540, 'user': {'id': '16140699', 'firstName': 'Monika', 'lastName': 'N', 'photo': {'prefix': 'https://fastly.4sqi.net/img/user/', 'suffix': '/ONNZJBJRJI1H2A2V.jpg'}}, 'visibility': 'public'}, 'followers': {'count': 3}, 'listItems': {'count': 40, 'items': [{'id': 'v56ed855a498ef3bb022352c3', 'createdAt': 1487298632}]}}, {'id': '5180bbfa498e0c5f3bc3be1c', 'name': 'My fave craves ❤️', 'description': 'My fave places! ❤️', 'type': 'others', 'user': {'id': '3597604', 'firstName': 'ZenFoodster', 'photo': {'prefix': 'https://fastly.4sqi.net/img/user/', 'suffix': '/MA1VO1FBSBJPKYZI.jpg'}}, 'editable': False, 'public': True, 'collaborative': False, 'url': '/zenfoodster/list/my-fave-craves-', 'canonicalUrl': 'https://foursquare.com/zenfoodster/list/my-fave-craves-', 'createdAt': 1367391226, 'updatedAt': 1519121111, 'photo': {'id': '517fe806498e042acb4300f4', 'createdAt': 1367336966, 'prefix': 'https://fastly.4sqi.net/img/general/', 'suffix': '/3597604_naYYvkgqNf8Ps9wFM6Fm5FBvdPRsxqX8zJwS40EaLbQ.jpg', 'width': 1920, 'height': 1440, 'user': {'id': '3597604', 'firstName': 'ZenFoodster', 'photo': {'prefix': 'https://fastly.4sqi.net/img/user/', 'suffix': '/MA1VO1FBSBJPKYZI.jpg'}}, 'visibility': 'public'}, 'followers': {'count': 2}, 'listItems': {'count': 301, 'items': [{'id': 't57a68175498e322fdfdd08d5', 'createdAt': 1512934458}]}}, {'id': '518116a3498e5a1a693c20fe', 'name': 'ZEN’s Lunch Bunch!💲', 'description': \"Anywhere there's more bang for the buck during lunch (especially compared to dinner) is MONEY!\", 'type': 'others', 'user': {'id': '3597604', 'firstName': 'ZenFoodster', 'photo': {'prefix': 'https://fastly.4sqi.net/img/user/', 'suffix': '/MA1VO1FBSBJPKYZI.jpg'}}, 'editable': False, 'public': True, 'collaborative': False, 'url': '/zenfoodster/list/zens-lunch-bunch', 'canonicalUrl': 'https://foursquare.com/zenfoodster/list/zens-lunch-bunch', 'createdAt': 1367414435, 'updatedAt': 1565879519, 'photo': {'id': '516edbe4e4b0c6274af0f44a', 'createdAt': 1366219748, 'prefix': 'https://fastly.4sqi.net/img/general/', 'suffix': '/3597604_D9yRuQbyW3KS9K-08RZuG0no9Jr1vE5U6XBwtTGzjRM.jpg', 'width': 1440, 'height': 1774, 'user': {'id': '3597604', 'firstName': 'ZenFoodster', 'photo': {'prefix': 'https://fastly.4sqi.net/img/user/', 'suffix': '/MA1VO1FBSBJPKYZI.jpg'}}, 'visibility': 'public'}, 'followers': {'count': 3}, 'listItems': {'count': 192, 'items': [{'id': 't57a68175498e322fdfdd08d5', 'createdAt': 1507361230}]}}]}]}, 'hours': {'status': 'Open until 3:00 PM, reopens later', 'richStatus': {'entities': [], 'text': 'Open until 3:00 PM, reopens later'}, 'isOpen': True, 'isLocalHoliday': False, 'dayData': [], 'timeframes': [{'days': 'Mon–Thu', 'includesToday': True, 'open': [{'renderedTime': '11:00 AM–3:00 PM'}, {'renderedTime': '5:00 PM–10:00 PM'}], 'segments': []}, {'days': 'Fri', 'open': [{'renderedTime': '11:00 AM–3:00 PM'}, {'renderedTime': '5:00 PM–10:30 PM'}], 'segments': []}, {'days': 'Sat', 'open': [{'renderedTime': '11:00 AM–10:30 PM'}], 'segments': []}, {'days': 'Sun', 'open': [{'renderedTime': '11:00 AM–10:00 PM'}], 'segments': []}]}, 'popular': {'status': 'Likely open', 'richStatus': {'entities': [], 'text': 'Likely open'}, 'isOpen': True, 'isLocalHoliday': False, 'timeframes': [{'days': 'Today', 'includesToday': True, 'open': [{'renderedTime': 'Noon–3:00 PM'}, {'renderedTime': '6:00 PM–10:00 PM'}], 'segments': []}, {'days': 'Tue', 'open': [{'renderedTime': '1:00 PM–2:00 PM'}, {'renderedTime': '6:00 PM–9:00 PM'}], 'segments': []}, {'days': 'Wed', 'open': [{'renderedTime': '11:00 AM–3:00 PM'}, {'renderedTime': '5:00 PM–10:00 PM'}], 'segments': []}, {'days': 'Thu', 'open': [{'renderedTime': '11:00 AM–1:00 PM'}, {'renderedTime': '7:00 PM–10:00 PM'}], 'segments': []}, {'days': 'Fri', 'open': [{'renderedTime': 'Noon–3:00 PM'}, {'renderedTime': '6:00 PM–10:00 PM'}], 'segments': []}, {'days': 'Sat', 'open': [{'renderedTime': 'Noon–11:00 PM'}], 'segments': []}, {'days': 'Sun', 'open': [{'renderedTime': 'Noon–3:00 PM'}, {'renderedTime': '5:00 PM–9:00 PM'}], 'segments': []}]}, 'pageUpdates': {'count': 0, 'items': []}, 'inbox': {'count': 0, 'items': []}, 'attributes': {'groups': [{'type': 'price', 'name': 'Price', 'summary': '$$', 'count': 1, 'items': [{'displayName': 'Price', 'displayValue': '$$', 'priceTier': 2}]}, {'type': 'payments', 'name': 'Credit Cards', 'summary': 'Credit Cards', 'count': 7, 'items': [{'displayName': 'Credit Cards', 'displayValue': 'Yes'}]}, {'type': 'serves', 'name': 'Menus', 'summary': 'Dinner', 'count': 8, 'items': [{'displayName': 'Dinner', 'displayValue': 'Dinner'}]}, {'type': 'diningOptions', 'name': 'Dining Options', 'summary': 'Delivery', 'count': 5, 'items': [{'displayName': 'Delivery', 'displayValue': 'Delivery'}]}]}, 'bestPhoto': {'id': '57a4e515cd10d9a34daf9fd0', 'createdAt': 1470424341, 'source': {'name': 'Swarm for iOS', 'url': 'https://www.swarmapp.com'}, 'prefix': 'https://fastly.4sqi.net/img/general/', 'suffix': '/12536017_H6gl6Fs0ojuFJi1e5fQqn5mUmBaTdb6zXwZos-kHcOA.jpg', 'width': 1920, 'height': 1440, 'visibility': 'public'}, 'colors': {'highlightColor': {'photoId': '57a4e515cd10d9a34daf9fd0', 'value': -12578816}, 'highlightTextColor': {'photoId': '57a4e515cd10d9a34daf9fd0', 'value': -1}, 'algoVersion': 3}}}}\n",
      "                         ID                    Name  Likes  Rating  Tips\n",
      "0  56ed855a498ef3bb022352c3  Mughlai Indian Cuisine     26     7.8     9\n",
      "( 31 / 39 ) processed\n"
     ]
    },
    {
     "name": "stdout",
     "output_type": "stream",
     "text": [
      "{'meta': {'code': 200, 'requestId': '5e1ca25fad1ab4001cc2c517'}, 'response': {'venue': {'id': '5a1e961c1987ec47beed877d', 'name': 'Baar Baar', 'contact': {'phone': '2122281200', 'formattedPhone': '(212) 228-1200', 'twitter': 'baarbaarnyc', 'instagram': 'baarbaarnyc', 'facebook': '478023699251632', 'facebookUsername': 'baarbaarnyc', 'facebookName': 'Baar Baar'}, 'location': {'address': '13 E 1st St', 'crossStreet': 'btw Bowery & 2nd Ave', 'lat': 40.724533801523286, 'lng': -73.99162419418478, 'labeledLatLngs': [{'label': 'display', 'lat': 40.724533801523286, 'lng': -73.99162419418478}], 'postalCode': '10003', 'cc': 'US', 'city': 'New York', 'state': 'NY', 'country': 'United States', 'formattedAddress': ['13 E 1st St (btw Bowery & 2nd Ave)', 'New York, NY 10003', 'United States']}, 'canonicalUrl': 'https://foursquare.com/v/baar-baar/5a1e961c1987ec47beed877d', 'categories': [{'id': '4bf58dd8d48988d10f941735', 'name': 'Indian Restaurant', 'pluralName': 'Indian Restaurants', 'shortName': 'Indian', 'icon': {'prefix': 'https://ss3.4sqi.net/img/categories_v2/food/indian_', 'suffix': '.png'}, 'primary': True}, {'id': '4bf58dd8d48988d116941735', 'name': 'Bar', 'pluralName': 'Bars', 'shortName': 'Bar', 'icon': {'prefix': 'https://ss3.4sqi.net/img/categories_v2/nightlife/pub_', 'suffix': '.png'}}], 'verified': False, 'stats': {'tipCount': 34}, 'url': 'http://www.baarbaarnyc.com', 'price': {'tier': 2, 'message': 'Moderate', 'currency': '$'}, 'likes': {'count': 141, 'groups': [{'type': 'others', 'count': 141, 'items': []}], 'summary': '141 Likes'}, 'dislike': False, 'ok': False, 'rating': 8.8, 'ratingColor': '73CF42', 'ratingSignals': 194, 'allowMenuUrlEdit': True, 'beenHere': {'count': 0, 'unconfirmedCount': 0, 'marked': False, 'lastCheckinExpiredAt': 0}, 'specials': {'count': 0, 'items': []}, 'photos': {'count': 123, 'groups': [{'type': 'venue', 'name': 'Venue photos', 'count': 123, 'items': [{'id': '5a446cb331ac6c1325d0851a', 'createdAt': 1514433715, 'source': {'name': 'Foursquare for Android', 'url': 'https://foursquare.com/download/#/android'}, 'prefix': 'https://fastly.4sqi.net/img/general/', 'suffix': '/33973_SL1pgb-fVGQH9k-iGE-mh7fIrkUPeenU2IUowflOnZs.jpg', 'width': 4032, 'height': 3024, 'user': {'id': '33973', 'firstName': 'Arjun', 'lastName': 'S', 'photo': {'prefix': 'https://fastly.4sqi.net/img/user/', 'suffix': '/33973_oJwyftxL_FaJdnbQI3pK_0xx4wbEHBsg1HiQUWisraGPgqLhLlLlfSfVY58WIHbGpxNouSMme'}}, 'visibility': 'public'}]}]}, 'reasons': {'count': 1, 'items': [{'summary': 'Lots of people like this place', 'type': 'general', 'reasonName': 'rawLikesReason'}]}, 'hereNow': {'count': 0, 'summary': 'Nobody here', 'groups': []}, 'createdAt': 1511953948, 'tips': {'count': 34, 'groups': [{'type': 'others', 'name': 'All tips', 'count': 34, 'items': [{'id': '5d4bbd776a39180008016575', 'createdAt': 1565244791, 'text': 'Eclectic interior design. Great ambiance and food. Fascinating cocktail list.', 'type': 'user', 'canonicalUrl': 'https://foursquare.com/item/5d4bbd776a39180008016575', 'photo': {'id': '5d4bbd7a7928f300082b2c6b', 'createdAt': 1565244794, 'source': {'name': 'Foursquare for iOS', 'url': 'https://foursquare.com/download/#/iphone'}, 'prefix': 'https://fastly.4sqi.net/img/general/', 'suffix': '/84635627_PVkZhY4P4k-WuGLYt_gaZOG4PVbH-_NArrWBghs_9M4.jpg', 'width': 1440, 'height': 1920, 'visibility': 'public'}, 'photourl': 'https://fastly.4sqi.net/img/general/original/84635627_PVkZhY4P4k-WuGLYt_gaZOG4PVbH-_NArrWBghs_9M4.jpg', 'lang': 'en', 'likes': {'count': 0, 'groups': []}, 'logView': True, 'agreeCount': 0, 'disagreeCount': 0, 'todo': {'count': 0}, 'user': {'id': '84635627', 'firstName': 'Jackie', 'lastName': 'N', 'photo': {'prefix': 'https://fastly.4sqi.net/img/user/', 'suffix': '/84635627_hK5SqlIt_J77SjbNuMwhQGeQ7FxjhU9zdeOInfvJcIkZm9BTO_pK7M09GSnK2yDpQ8wVsPi-M.jpg'}}, 'authorInteractionType': 'liked'}]}]}, 'shortUrl': 'http://4sq.com/2AgYxQf', 'timeZone': 'America/New_York', 'listed': {'count': 325, 'groups': [{'type': 'others', 'name': 'Lists from other people', 'count': 325, 'items': [{'id': '4e6c14f4b0fba3f50e2a4cb5', 'name': 'To Try in East Village and Vicinity', 'description': '', 'type': 'others', 'user': {'id': '3448', 'firstName': 'Kris', 'lastName': 'A', 'photo': {'prefix': 'https://fastly.4sqi.net/img/user/', 'suffix': '/3448-YL4HFNHI4URR3DZK.jpg'}}, 'editable': False, 'public': True, 'collaborative': False, 'url': '/wka/list/to-try-in-east-village-and-vicinity', 'canonicalUrl': 'https://foursquare.com/wka/list/to-try-in-east-village-and-vicinity', 'createdAt': 1315706100, 'updatedAt': 1578350222, 'photo': {'id': '4e1cacbbd1649b0f7929f618', 'createdAt': 1310502075, 'prefix': 'https://fastly.4sqi.net/img/general/', 'suffix': '/3LUPB1HQARXCQ4UCXKT0NCPIK3UZHOPGTP2ZCAYCOBZ4SFQD.jpg', 'width': 540, 'height': 540, 'user': {'id': '1196333', 'firstName': 'Harveen', 'lastName': 'B', 'photo': {'prefix': 'https://fastly.4sqi.net/img/user/', 'suffix': '/YF3ESKDIZJNDMXYD.jpg'}}, 'visibility': 'public'}, 'followers': {'count': 23}, 'listItems': {'count': 57, 'items': [{'id': 'v5a1e961c1987ec47beed877d', 'createdAt': 1514608394}]}}, {'id': '4e5e5516091a33a643c3d0b7', 'name': 'New York', 'description': '', 'type': 'others', 'user': {'id': '3307110', 'firstName': 'Eliane', 'lastName': 'K', 'photo': {'prefix': 'https://fastly.4sqi.net/img/user/', 'suffix': '/ZQFRSWPB2XRKBN5F.jpg'}}, 'editable': False, 'public': True, 'collaborative': False, 'url': '/elianek/list/new-york', 'canonicalUrl': 'https://foursquare.com/elianek/list/new-york', 'createdAt': 1314805014, 'updatedAt': 1577587050, 'photo': {'id': '4fdbd66ae4b03622b1155d42', 'createdAt': 1339807338, 'prefix': 'https://fastly.4sqi.net/img/general/', 'suffix': '/btbCOSUptZXnPXtUrHtjrFlUVA0kcj2PxLn263RqHaY.jpg', 'width': 612, 'height': 612, 'user': {'id': '10444', 'firstName': 'Seiji', 'lastName': 'C', 'photo': {'prefix': 'https://fastly.4sqi.net/img/user/', 'suffix': '/10444-HPM3N5U2IPRJQ1FN.jpg'}}, 'visibility': 'public'}, 'followers': {'count': 11}, 'listItems': {'count': 180, 'items': [{'id': 'v5a1e961c1987ec47beed877d', 'createdAt': 1575581110}]}}, {'id': '4efcb166d3e3cbf3b452d6cb', 'name': 'East village restaurants', 'description': '', 'type': 'others', 'user': {'id': '174625', 'firstName': 'Talia', 'lastName': 'F', 'photo': {'prefix': 'https://fastly.4sqi.net/img/user/', 'suffix': '/174625-PZKCOY4IJQVPXNQ3.jpg'}}, 'editable': False, 'public': True, 'collaborative': False, 'url': '/taliafish/list/east-village-restaurants', 'canonicalUrl': 'https://foursquare.com/taliafish/list/east-village-restaurants', 'createdAt': 1325183334, 'updatedAt': 1552656154, 'followers': {'count': 33}, 'listItems': {'count': 180, 'items': [{'id': 'v5a1e961c1987ec47beed877d', 'createdAt': 1512785477}]}}, {'id': '573fcba6498e983af73d386b', 'name': 'Recent Standouts in NYC', 'description': '', 'type': 'others', 'user': {'id': '697943', 'firstName': 'Noah', 'lastName': 'W', 'photo': {'prefix': 'https://fastly.4sqi.net/img/user/', 'suffix': '/697943_jQx3rpaR_DmCtX0lbxNf3D3idRsUdoFl_feXc4MkLlYeHO5BkTZg0NY0SXHF9tYgq50UFxsnx.jpg'}}, 'editable': False, 'public': True, 'collaborative': False, 'url': '/noah_weiss/list/recent-standouts-in-nyc', 'canonicalUrl': 'https://foursquare.com/noah_weiss/list/recent-standouts-in-nyc', 'createdAt': 1463798694, 'updatedAt': 1566778897, 'photo': {'id': '573fcb59498ea2ba237e1786', 'createdAt': 1463798617, 'prefix': 'https://fastly.4sqi.net/img/general/', 'suffix': '/697943_o1ln5NLxp9juttuw4MdF4REc65JAreVactGzD3BDTXE.jpg', 'width': 1440, 'height': 1440, 'user': {'id': '697943', 'firstName': 'Noah', 'lastName': 'W', 'photo': {'prefix': 'https://fastly.4sqi.net/img/user/', 'suffix': '/697943_jQx3rpaR_DmCtX0lbxNf3D3idRsUdoFl_feXc4MkLlYeHO5BkTZg0NY0SXHF9tYgq50UFxsnx.jpg'}}, 'visibility': 'public'}, 'followers': {'count': 12}, 'listItems': {'count': 75, 'items': [{'id': 'v5a1e961c1987ec47beed877d', 'createdAt': 1531697086}]}}]}]}, 'hours': {'status': 'Closed until 4:00 PM', 'richStatus': {'entities': [], 'text': 'Closed until 4:00 PM'}, 'isOpen': False, 'isLocalHoliday': False, 'dayData': [], 'timeframes': [{'days': 'Mon–Wed', 'includesToday': True, 'open': [{'renderedTime': '4:00 PM–11:00 PM'}], 'segments': []}, {'days': 'Thu–Sun', 'open': [{'renderedTime': '4:00 PM–2:00 AM'}], 'segments': []}]}, 'popular': {'isOpen': False, 'isLocalHoliday': False, 'timeframes': [{'days': 'Today', 'includesToday': True, 'open': [{'renderedTime': '6:00 PM–9:00 PM'}], 'segments': []}, {'days': 'Tue–Thu', 'open': [{'renderedTime': '6:00 PM–10:00 PM'}], 'segments': []}, {'days': 'Fri', 'open': [{'renderedTime': '6:00 PM–11:00 PM'}], 'segments': []}, {'days': 'Sat', 'open': [{'renderedTime': 'Noon–4:00 PM'}, {'renderedTime': '6:00 PM–11:00 PM'}], 'segments': []}, {'days': 'Sun', 'open': [{'renderedTime': 'Noon–4:00 PM'}, {'renderedTime': '6:00 PM–9:00 PM'}], 'segments': []}]}, 'pageUpdates': {'count': 0, 'items': []}, 'inbox': {'count': 0, 'items': []}, 'attributes': {'groups': [{'type': 'price', 'name': 'Price', 'summary': '$$', 'count': 1, 'items': [{'displayName': 'Price', 'displayValue': '$$', 'priceTier': 2}]}, {'type': 'reservations', 'name': 'Reservations', 'summary': 'Reservations', 'count': 3, 'items': [{'displayName': 'Reservations', 'displayValue': 'Yes'}]}, {'type': 'payments', 'name': 'Credit Cards', 'summary': 'Credit Cards', 'count': 7, 'items': [{'displayName': 'Credit Cards', 'displayValue': 'Yes'}]}, {'type': 'outdoorSeating', 'name': 'Outdoor Seating', 'summary': 'Outdoor Seating', 'count': 1, 'items': [{'displayName': 'Outdoor Seating', 'displayValue': 'Yes'}]}, {'type': 'music', 'name': 'Music', 'count': 3, 'items': [{'displayName': 'Music', 'displayValue': 'No'}]}, {'type': 'serves', 'name': 'Menus', 'summary': 'Tasting Menu, Dinner & more', 'count': 8, 'items': [{'displayName': 'Brunch', 'displayValue': 'Brunch'}, {'displayName': 'Lunch', 'displayValue': 'Lunch'}, {'displayName': 'Dinner', 'displayValue': 'Dinner'}, {'displayName': 'Happy Hour', 'displayValue': 'Happy Hour'}, {'displayName': 'Tasting Menu', 'displayValue': 'Tasting Menu'}]}, {'type': 'drinks', 'name': 'Drinks', 'summary': 'Beer, Wine, Full Bar & Cocktails', 'count': 5, 'items': [{'displayName': 'Beer', 'displayValue': 'Beer'}, {'displayName': 'Wine', 'displayValue': 'Wine'}, {'displayName': 'Full Bar', 'displayValue': 'Full Bar'}, {'displayName': 'Cocktails', 'displayValue': 'Cocktails'}]}, {'type': 'diningOptions', 'name': 'Dining Options', 'summary': 'Table Service & Bar Service', 'count': 5, 'items': [{'displayName': 'Table Service', 'displayValue': 'Table Service'}, {'displayName': 'Bar Service', 'displayValue': 'Bar Service'}]}, {'type': 'parking', 'name': 'Parking', 'summary': 'Street Parking & Private Lot', 'count': 5, 'items': [{'displayName': 'Street Parking', 'displayValue': 'Street'}, {'displayName': 'Private Lot', 'displayValue': 'Private Lot'}]}, {'type': 'coatCheck', 'name': 'Coat Check', 'summary': 'Coat Check', 'count': 1, 'items': [{'displayName': 'Coat Check', 'displayValue': 'Yes'}]}, {'type': 'wheelchairAccessible', 'name': 'Wheelchair Accessible', 'summary': 'Wheelchair Accessible', 'count': 1, 'items': [{'displayName': 'Wheelchair Accessible', 'displayValue': 'Yes'}]}]}, 'bestPhoto': {'id': '5a446cb331ac6c1325d0851a', 'createdAt': 1514433715, 'source': {'name': 'Foursquare for Android', 'url': 'https://foursquare.com/download/#/android'}, 'prefix': 'https://fastly.4sqi.net/img/general/', 'suffix': '/33973_SL1pgb-fVGQH9k-iGE-mh7fIrkUPeenU2IUowflOnZs.jpg', 'width': 4032, 'height': 3024, 'visibility': 'public'}, 'colors': {'highlightColor': {'photoId': '5a446cb331ac6c1325d0851a', 'value': -13096952}, 'highlightTextColor': {'photoId': '5a446cb331ac6c1325d0851a', 'value': -1}, 'algoVersion': 3}}}}\n",
      "                         ID       Name  Likes  Rating  Tips\n",
      "0  5a1e961c1987ec47beed877d  Baar Baar    141     8.8    34\n",
      "( 32 / 39 ) processed\n"
     ]
    },
    {
     "name": "stdout",
     "output_type": "stream",
     "text": [
      "{'meta': {'code': 200, 'requestId': '5e1ca260ad1ab4001cc2c88b'}, 'response': {'venue': {'id': '575dea4c498e2739e43a27e2', 'name': 'Aahar Indian Cuisine', 'contact': {'phone': '6466493374', 'formattedPhone': '(646) 649-3374'}, 'location': {'address': '10 Murray St', 'crossStreet': 'Broadway', 'lat': 40.71330656515891, 'lng': -74.00799405698501, 'labeledLatLngs': [{'label': 'display', 'lat': 40.71330656515891, 'lng': -74.00799405698501}], 'postalCode': '10007', 'cc': 'US', 'city': 'New York', 'state': 'NY', 'country': 'United States', 'formattedAddress': ['10 Murray St (Broadway)', 'New York, NY 10007', 'United States']}, 'canonicalUrl': 'https://foursquare.com/v/aahar-indian-cuisine/575dea4c498e2739e43a27e2', 'categories': [{'id': '4bf58dd8d48988d10f941735', 'name': 'Indian Restaurant', 'pluralName': 'Indian Restaurants', 'shortName': 'Indian', 'icon': {'prefix': 'https://ss3.4sqi.net/img/categories_v2/food/indian_', 'suffix': '.png'}, 'primary': True}], 'verified': False, 'stats': {'tipCount': 20}, 'url': 'http://www.aaharny.com', 'price': {'tier': 2, 'message': 'Moderate', 'currency': '$'}, 'likes': {'count': 53, 'groups': [{'type': 'others', 'count': 53, 'items': []}], 'summary': '53 Likes'}, 'dislike': False, 'ok': False, 'rating': 8.3, 'ratingColor': '73CF42', 'ratingSignals': 79, 'delivery': {'id': '333939', 'url': 'https://www.seamless.com/menu/aahar-indian-cuisine-10-murray-st-new-york/333939?affiliate=1131&utm_source=foursquare-affiliate-network&utm_medium=affiliate&utm_campaign=1131&utm_content=333939', 'provider': {'name': 'seamless', 'icon': {'prefix': 'https://fastly.4sqi.net/img/general/cap/', 'sizes': [40, 50], 'name': '/delivery_provider_seamless_20180129.png'}}}, 'allowMenuUrlEdit': True, 'beenHere': {'count': 0, 'unconfirmedCount': 0, 'marked': False, 'lastCheckinExpiredAt': 0}, 'specials': {'count': 0, 'items': []}, 'photos': {'count': 27, 'groups': [{'type': 'venue', 'name': 'Venue photos', 'count': 27, 'items': [{'id': '5da9bfb63bac3900082d7b72', 'createdAt': 1571405750, 'source': {'name': 'Swarm for iOS', 'url': 'https://www.swarmapp.com'}, 'prefix': 'https://fastly.4sqi.net/img/general/', 'suffix': '/442468723_hh-AsLt8wT1Q8zs8eQ4tTkB8bIzNwf7ZmW303woKGy0.jpg', 'width': 1440, 'height': 1920, 'user': {'id': '442468723', 'firstName': 'Krishna', 'lastName': 'P', 'photo': {'prefix': 'https://fastly.4sqi.net/img/user/', 'suffix': '/442468723_cMtgZzwv_CXgdQw6KygmLtBTL6vPmJ6jwBjx8LgfTXHNcLchENUL21FXrgJ__j9aDbUsawZB9.jpg'}}, 'visibility': 'public'}]}]}, 'reasons': {'count': 1, 'items': [{'summary': 'Lots of people like this place', 'type': 'general', 'reasonName': 'rawLikesReason'}]}, 'hereNow': {'count': 0, 'summary': 'Nobody here', 'groups': []}, 'createdAt': 1465772620, 'tips': {'count': 20, 'groups': [{'type': 'others', 'name': 'All tips', 'count': 20, 'items': [{'id': '5cfc16394f0e58002c70afe2', 'createdAt': 1560024633, 'text': 'Dhal and chicken tikka', 'type': 'user', 'canonicalUrl': 'https://foursquare.com/item/5cfc16394f0e58002c70afe2', 'lang': 'en', 'likes': {'count': 0, 'groups': []}, 'logView': True, 'agreeCount': 0, 'disagreeCount': 0, 'todo': {'count': 0}, 'user': {'id': '59456535', 'firstName': 'Alon', 'lastName': 'F', 'photo': {'prefix': 'https://fastly.4sqi.net/img/user/', 'suffix': '/blank_boy.png', 'default': True}}, 'authorInteractionType': 'liked'}]}]}, 'shortUrl': 'http://4sq.com/21gNTMJ', 'timeZone': 'America/New_York', 'listed': {'count': 39, 'groups': [{'type': 'others', 'name': 'Lists from other people', 'count': 39, 'items': [{'id': '589f2741102f4771fd5c3a08', 'name': 'Tribeca Bars & Restaurants', 'description': '', 'type': 'others', 'user': {'id': '76551999', 'firstName': 'Kevin', 'lastName': 'B', 'photo': {'prefix': 'https://fastly.4sqi.net/img/user/', 'suffix': '/76551999_tRuGIHjm_t8LUAzXJSasQI7AvL4aUktnF1r0rlv_oh_Ug_Sn9fpqHGPcd_yVQP34GBolQYH45'}}, 'editable': False, 'public': True, 'collaborative': False, 'url': '/user/76551999/list/tribeca-bars--restaurants', 'canonicalUrl': 'https://foursquare.com/user/76551999/list/tribeca-bars--restaurants', 'createdAt': 1486825281, 'updatedAt': 1517841392, 'photo': {'id': '519ff44b498ec461c36b7c55', 'createdAt': 1369437259, 'prefix': 'https://fastly.4sqi.net/img/general/', 'suffix': '/11715683_Xrm6nWbsttEoFC5sipPZqlmpL-GfXGcf-BFk4RZD50A.jpg', 'width': 612, 'height': 612, 'user': {'id': '11715683', 'firstName': 'Julie', 'lastName': 'H', 'photo': {'prefix': 'https://fastly.4sqi.net/img/user/', 'suffix': '/4XW3502DYG4BV5UB.jpg'}}, 'visibility': 'public'}, 'followers': {'count': 0}, 'listItems': {'count': 38, 'items': [{'id': 'v575dea4c498e2739e43a27e2', 'createdAt': 1486825550}]}}, {'id': '5a3810b391eaca7507e27899', 'name': 'NYC list', 'description': '', 'type': 'others', 'user': {'id': '341336377', 'firstName': 'Michele', 'lastName': 'G', 'photo': {'prefix': 'https://fastly.4sqi.net/img/user/', 'suffix': '/341336377-0DHXDOLACRX2LEB1.jpg'}}, 'editable': False, 'public': True, 'collaborative': False, 'url': '/user/341336377/list/nyc-list', 'canonicalUrl': 'https://foursquare.com/user/341336377/list/nyc-list', 'createdAt': 1513623731, 'updatedAt': 1522385735, 'photo': {'id': '51a91c7d498ed9fd7dff4e34', 'createdAt': 1370037373, 'prefix': 'https://fastly.4sqi.net/img/general/', 'suffix': '/39969916_3FWZ1gnWusb0SCae4idOnSVr76pZY_yeufjQzb75mK0.jpg', 'width': 720, 'height': 960, 'user': {'id': '39969916', 'firstName': 'Shugo', 'lastName': 'H', 'photo': {'prefix': 'https://fastly.4sqi.net/img/user/', 'suffix': '/XD0UFVRMTLZIDXOY.jpg'}}, 'visibility': 'public'}, 'followers': {'count': 1}, 'listItems': {'count': 162, 'items': [{'id': 'v575dea4c498e2739e43a27e2', 'createdAt': 1513660244}]}}, {'id': '5a55672bd69ed01d95299bdc', 'name': 'To Do @ NYC', 'description': '', 'type': 'others', 'user': {'id': '8744718', 'firstName': 'Matthew', 'photo': {'prefix': 'https://fastly.4sqi.net/img/user/', 'suffix': '/8744718_ijTgUqLM_X4n9yveqQgUpD7LMWMM-yR9PSp3sAISs7ONW9WrgsMuVwWkt7mPGdZ7BGJ3fC9qt.jpg'}}, 'editable': False, 'public': True, 'collaborative': False, 'url': '/matthewspassion/list/to-do--nyc', 'canonicalUrl': 'https://foursquare.com/matthewspassion/list/to-do--nyc', 'createdAt': 1515546411, 'updatedAt': 1578689752, 'followers': {'count': 0}, 'listItems': {'count': 196, 'items': [{'id': 'v575dea4c498e2739e43a27e2', 'createdAt': 1573508491}]}}, {'id': '5a389d3b91eaca7507f0efcc', 'name': 'Asian NYC', 'description': '', 'type': 'others', 'user': {'id': '5022019', 'firstName': 'Jeffrey', 'lastName': 'Z', 'photo': {'prefix': 'https://fastly.4sqi.net/img/user/', 'suffix': '/5022019_vGBk7tkB_ksQ98beRHrFVdVvf6lgxpONbv6EmnGMCGLMEyCfKGvj_VDYJTODxpBmEHyS939Ms.jpg'}}, 'editable': False, 'public': True, 'collaborative': False, 'url': '/zeldman/list/asian-nyc', 'canonicalUrl': 'https://foursquare.com/zeldman/list/asian-nyc', 'createdAt': 1513659707, 'updatedAt': 1578670882, 'photo': {'id': '50bcff0de4b0062773020255', 'createdAt': 1354563341, 'prefix': 'https://fastly.4sqi.net/img/general/', 'suffix': '/18926_U-pvz4o-ynHe2DisCL9wLpfPNreJe4PpTq4R48okFiQ.jpg', 'width': 720, 'height': 540, 'user': {'id': '18926', 'firstName': 'Oshi', 'lastName': 'Y', 'photo': {'prefix': 'https://fastly.4sqi.net/img/user/', 'suffix': '/Q1ZHJSARBBHSH2FL.jpg'}}, 'visibility': 'public'}, 'followers': {'count': 1}, 'listItems': {'count': 104, 'items': [{'id': 'v575dea4c498e2739e43a27e2', 'createdAt': 1520270225}]}}]}]}, 'hours': {'status': 'Open until 10:00 PM', 'richStatus': {'entities': [], 'text': 'Open until 10:00 PM'}, 'isOpen': True, 'isLocalHoliday': False, 'dayData': [], 'timeframes': [{'days': 'Mon–Sun', 'includesToday': True, 'open': [{'renderedTime': '11:30 AM–10:00 PM'}], 'segments': []}]}, 'popular': {'status': 'Likely open', 'richStatus': {'entities': [], 'text': 'Likely open'}, 'isOpen': True, 'isLocalHoliday': False, 'timeframes': [{'days': 'Today', 'includesToday': True, 'open': [{'renderedTime': 'Noon–3:00 PM'}, {'renderedTime': '6:00 PM–10:00 PM'}], 'segments': []}, {'days': 'Tue', 'open': [{'renderedTime': 'Noon–2:00 PM'}, {'renderedTime': '6:00 PM–10:00 PM'}], 'segments': []}, {'days': 'Wed', 'open': [{'renderedTime': 'Noon–3:00 PM'}, {'renderedTime': '6:00 PM–9:00 PM'}], 'segments': []}, {'days': 'Thu', 'open': [{'renderedTime': '11:00 AM–2:00 PM'}, {'renderedTime': '6:00 PM–10:00 PM'}], 'segments': []}, {'days': 'Fri', 'open': [{'renderedTime': '11:00 AM–3:00 PM'}, {'renderedTime': '6:00 PM–8:00 PM'}], 'segments': []}, {'days': 'Sat', 'open': [{'renderedTime': '6:00 PM–9:00 PM'}], 'segments': []}, {'days': 'Sun', 'open': [{'renderedTime': 'Noon–1:00 PM'}, {'renderedTime': '5:00 PM–9:00 PM'}], 'segments': []}]}, 'pageUpdates': {'count': 0, 'items': []}, 'inbox': {'count': 0, 'items': []}, 'attributes': {'groups': [{'type': 'price', 'name': 'Price', 'summary': '$$', 'count': 1, 'items': [{'displayName': 'Price', 'displayValue': '$$', 'priceTier': 2}]}, {'type': 'reservations', 'name': 'Reservations', 'summary': 'Reservations', 'count': 3, 'items': [{'displayName': 'Reservations', 'displayValue': 'Yes'}]}, {'type': 'payments', 'name': 'Credit Cards', 'summary': 'Credit Cards', 'count': 7, 'items': [{'displayName': 'Credit Cards', 'displayValue': 'Yes'}]}, {'type': 'outdoorSeating', 'name': 'Outdoor Seating', 'count': 1, 'items': [{'displayName': 'Outdoor Seating', 'displayValue': 'No'}]}, {'type': 'wifi', 'name': 'Wi-Fi', 'summary': 'Wi-Fi', 'count': 1, 'items': [{'displayName': 'Wi-Fi', 'displayValue': 'Yes'}]}, {'type': 'serves', 'name': 'Menus', 'summary': 'Lunch & Dinner', 'count': 8, 'items': [{'displayName': 'Lunch', 'displayValue': 'Lunch'}, {'displayName': 'Dinner', 'displayValue': 'Dinner'}]}, {'type': 'diningOptions', 'name': 'Dining Options', 'summary': 'Delivery', 'count': 5, 'items': [{'displayName': 'Delivery', 'displayValue': 'Delivery'}]}]}, 'bestPhoto': {'id': '5da9bfb63bac3900082d7b72', 'createdAt': 1571405750, 'source': {'name': 'Swarm for iOS', 'url': 'https://www.swarmapp.com'}, 'prefix': 'https://fastly.4sqi.net/img/general/', 'suffix': '/442468723_hh-AsLt8wT1Q8zs8eQ4tTkB8bIzNwf7ZmW303woKGy0.jpg', 'width': 1440, 'height': 1920, 'visibility': 'public'}, 'colors': {'highlightColor': {'photoId': '5da9bfb63bac3900082d7b72', 'value': -14143456}, 'highlightTextColor': {'photoId': '5da9bfb63bac3900082d7b72', 'value': -1}, 'algoVersion': 3}}}}\n",
      "                         ID                  Name  Likes  Rating  Tips\n",
      "0  575dea4c498e2739e43a27e2  Aahar Indian Cuisine     53     8.3    20\n",
      "( 33 / 39 ) processed\n"
     ]
    },
    {
     "name": "stdout",
     "output_type": "stream",
     "text": [
      "{'meta': {'code': 200, 'requestId': '5e1ca26a60ba08001bab98ce'}, 'response': {'venue': {'id': '4c434b2bd691c9b6ef8f8f0a', 'name': 'Sagar Restaurant', 'contact': {'phone': '7182985696', 'formattedPhone': '(718) 298-5696'}, 'location': {'address': '168-25 B Hillside Ave', 'lat': 40.710328623498505, 'lng': -73.79412262466633, 'labeledLatLngs': [{'label': 'display', 'lat': 40.710328623498505, 'lng': -73.79412262466633}], 'postalCode': '11432', 'cc': 'US', 'city': 'Jamaica', 'state': 'NY', 'country': 'United States', 'formattedAddress': ['168-25 B Hillside Ave', 'Jamaica, NY 11432', 'United States']}, 'canonicalUrl': 'https://foursquare.com/v/sagar-restaurant/4c434b2bd691c9b6ef8f8f0a', 'categories': [{'id': '4bf58dd8d48988d10f941735', 'name': 'Indian Restaurant', 'pluralName': 'Indian Restaurants', 'shortName': 'Indian', 'icon': {'prefix': 'https://ss3.4sqi.net/img/categories_v2/food/indian_', 'suffix': '.png'}, 'primary': True}], 'verified': False, 'stats': {'tipCount': 6}, 'url': 'http://www.sagarfood.com', 'price': {'tier': 1, 'message': 'Cheap', 'currency': '$'}, 'hasMenu': True, 'likes': {'count': 10, 'groups': [{'type': 'others', 'count': 10, 'items': []}], 'summary': '10 Likes'}, 'dislike': False, 'ok': False, 'rating': 7.5, 'ratingColor': 'C5DE35', 'ratingSignals': 17, 'delivery': {'id': '1436289', 'url': 'https://www.seamless.com/menu/sagar-restaurant-168-25b-hillside-avenue-jamaica/1436289?affiliate=1131&utm_source=foursquare-affiliate-network&utm_medium=affiliate&utm_campaign=1131&utm_content=1436289', 'provider': {'name': 'seamless', 'icon': {'prefix': 'https://fastly.4sqi.net/img/general/cap/', 'sizes': [40, 50], 'name': '/delivery_provider_seamless_20180129.png'}}}, 'menu': {'type': 'Menu', 'label': 'Menu', 'anchor': 'View Menu', 'url': 'https://foursquare.com/v/sagar-restaurant/4c434b2bd691c9b6ef8f8f0a/menu', 'mobileUrl': 'https://foursquare.com/v/4c434b2bd691c9b6ef8f8f0a/device_menu'}, 'allowMenuUrlEdit': True, 'beenHere': {'count': 0, 'unconfirmedCount': 0, 'marked': False, 'lastCheckinExpiredAt': 0}, 'specials': {'count': 0, 'items': []}, 'photos': {'count': 7, 'groups': [{'type': 'venue', 'name': 'Venue photos', 'count': 7, 'items': [{'id': '546b8d20498e77ee20601e5c', 'createdAt': 1416334624, 'source': {'name': 'Instagram', 'url': 'http://instagram.com'}, 'prefix': 'https://fastly.4sqi.net/img/general/', 'suffix': '/1618512_7enTgEP-rydWj-sDr4KE2uOAQ6Sw7W1Rzy_3Fr0Yau8.jpg', 'width': 640, 'height': 640, 'user': {'id': '1618512', 'firstName': 'Achixanthem', 'photo': {'prefix': 'https://fastly.4sqi.net/img/user/', 'suffix': '/1618512_Ns64ZU22_rsGNomINKZYp9-tXVuWSm-bwjwUWfmBEcriLz39VX5YPxSlmw9QhtzXtJqdB4CRp.jpg'}}, 'visibility': 'public'}]}]}, 'reasons': {'count': 0, 'items': []}, 'hereNow': {'count': 0, 'summary': 'Nobody here', 'groups': []}, 'createdAt': 1279478571, 'tips': {'count': 6, 'groups': [{'type': 'others', 'name': 'All tips', 'count': 6, 'items': [{'id': '540b414f498e84d0814e0a34', 'createdAt': 1410023759, 'text': 'I really like their chicken lollipop', 'type': 'user', 'canonicalUrl': 'https://foursquare.com/item/540b414f498e84d0814e0a34', 'photo': {'id': '540b4152498e687ae5851373', 'createdAt': 1410023762, 'source': {'name': 'Foursquare for Android', 'url': 'https://foursquare.com/download/#/android'}, 'prefix': 'https://fastly.4sqi.net/img/general/', 'suffix': '/94232181_cgP7Deq-wccmwWCWAe1b4wdThSb5AF7FVX5BIcF4oE8.jpg', 'width': 960, 'height': 543, 'visibility': 'public'}, 'photourl': 'https://fastly.4sqi.net/img/general/original/94232181_cgP7Deq-wccmwWCWAe1b4wdThSb5AF7FVX5BIcF4oE8.jpg', 'lang': 'en', 'likes': {'count': 1, 'groups': [{'type': 'others', 'count': 1, 'items': []}], 'summary': '1 like'}, 'logView': True, 'agreeCount': 1, 'disagreeCount': 0, 'todo': {'count': 0}, 'user': {'id': '94232181', 'firstName': 'Kamrul', 'lastName': 'I', 'photo': {'prefix': 'https://fastly.4sqi.net/img/user/', 'suffix': '/blank_boy.png', 'default': True}}}]}]}, 'shortUrl': 'http://4sq.com/cbEq9s', 'timeZone': 'America/New_York', 'listed': {'count': 9, 'groups': [{'type': 'others', 'name': 'Lists from other people', 'count': 9, 'items': [{'id': '4e4ad83e483bb8f0598ad74a', 'name': 'Halal Dining', 'description': \"A list of restaurants that cater to Muslims. These are places I've ate at and left tips at. For more comprehensive list check out http://4sq.com/vZFNun\", 'entities': [{'indices': [130, 151], 'type': 'url', 'object': {'url': 'http://4sq.com/vZFNun'}}], 'type': 'others', 'user': {'id': '3242887', 'firstName': 'Ayaz', 'lastName': 'H', 'photo': {'prefix': 'https://fastly.4sqi.net/img/user/', 'suffix': '/KEIW4RUXUL2Z1OUR.jpg'}}, 'editable': False, 'public': True, 'collaborative': False, 'url': '/sahyder1/list/halal-dining', 'canonicalUrl': 'https://foursquare.com/sahyder1/list/halal-dining', 'createdAt': 1313527870, 'updatedAt': 1564760267, 'photo': {'id': '4f7e34fae4b04cc2fb0d75cd', 'createdAt': 1333671162, 'prefix': 'https://fastly.4sqi.net/img/general/', 'suffix': '/7V6zXmXFw3i0dCRsbSO-Wf5-FgvOgkocSdtdkSZyYP8.jpg', 'width': 720, 'height': 540, 'user': {'id': '3242887', 'firstName': 'Ayaz', 'lastName': 'H', 'photo': {'prefix': 'https://fastly.4sqi.net/img/user/', 'suffix': '/KEIW4RUXUL2Z1OUR.jpg'}}, 'visibility': 'public'}, 'followers': {'count': 25}, 'listItems': {'count': 114, 'items': [{'id': 't50fb24b8e4b05cb571985b61', 'createdAt': 1358654154, 'photo': {'id': '50fb24bae4b0b3db9eedc383', 'createdAt': 1358636218, 'prefix': 'https://fastly.4sqi.net/img/general/', 'suffix': '/3242887_K23YztG4mkZJP63JV-e2j0P79ByowlthFYDfrut2SaA.jpg', 'width': 960, 'height': 720, 'user': {'id': '3242887', 'firstName': 'Ayaz', 'lastName': 'H', 'photo': {'prefix': 'https://fastly.4sqi.net/img/user/', 'suffix': '/KEIW4RUXUL2Z1OUR.jpg'}}, 'visibility': 'public'}}]}}, {'id': '4f2bebc4e4b0ccfb1d6057e4', 'name': 'Halal Restaurants', 'description': 'Halal Restaurants. I update another list as I go to places and review myself. Find it at https://foursquare.com/sahyder1/list/halal-dining', 'entities': [{'indices': [89, 138], 'type': 'url', 'object': {'url': 'https://foursquare.com/sahyder1/list/halal-dining'}}], 'type': 'others', 'user': {'id': '3242887', 'firstName': 'Ayaz', 'lastName': 'H', 'photo': {'prefix': 'https://fastly.4sqi.net/img/user/', 'suffix': '/KEIW4RUXUL2Z1OUR.jpg'}}, 'editable': False, 'public': True, 'collaborative': False, 'url': '/sahyder1/list/halal-restaurants', 'canonicalUrl': 'https://foursquare.com/sahyder1/list/halal-restaurants', 'createdAt': 1328278468, 'updatedAt': 1516488556, 'photo': {'id': '4f7e34fae4b04cc2fb0d75cd', 'createdAt': 1333671162, 'prefix': 'https://fastly.4sqi.net/img/general/', 'suffix': '/7V6zXmXFw3i0dCRsbSO-Wf5-FgvOgkocSdtdkSZyYP8.jpg', 'width': 720, 'height': 540, 'user': {'id': '3242887', 'firstName': 'Ayaz', 'lastName': 'H', 'photo': {'prefix': 'https://fastly.4sqi.net/img/user/', 'suffix': '/KEIW4RUXUL2Z1OUR.jpg'}}, 'visibility': 'public'}, 'followers': {'count': 48}, 'listItems': {'count': 254, 'items': [{'id': 't50fb24b8e4b05cb571985b61', 'createdAt': 1358654152, 'photo': {'id': '50fb24bae4b0b3db9eedc383', 'createdAt': 1358636218, 'prefix': 'https://fastly.4sqi.net/img/general/', 'suffix': '/3242887_K23YztG4mkZJP63JV-e2j0P79ByowlthFYDfrut2SaA.jpg', 'width': 960, 'height': 720, 'user': {'id': '3242887', 'firstName': 'Ayaz', 'lastName': 'H', 'photo': {'prefix': 'https://fastly.4sqi.net/img/user/', 'suffix': '/KEIW4RUXUL2Z1OUR.jpg'}}, 'visibility': 'public'}}]}}, {'id': '576197bd38fad91837d92790', 'name': 'NYC Eats', 'description': '', 'type': 'others', 'user': {'id': '202655060', 'firstName': 'Zina', 'lastName': 'A', 'photo': {'prefix': 'https://fastly.4sqi.net/img/user/', 'suffix': '/202655060-OYB0LCH2JX1F3ZTE'}}, 'editable': False, 'public': True, 'collaborative': False, 'url': '/zinalam/list/nyc-eats', 'canonicalUrl': 'https://foursquare.com/zinalam/list/nyc-eats', 'createdAt': 1466013629, 'updatedAt': 1481840064, 'followers': {'count': 2}, 'listItems': {'count': 59, 'items': [{'id': 't57619837498efb62779f3f57', 'createdAt': 1466013740}]}}, {'id': '50c10690e4b0abeb9e0e80df', 'name': 'Zara Realty', 'description': '', 'type': 'others', 'user': {'id': '12683059', 'firstName': 'Kathy', 'lastName': 'T', 'photo': {'prefix': 'https://fastly.4sqi.net/img/user/', 'suffix': '/12683059-VDRSBXBVJSX4FZAM.jpg'}}, 'editable': False, 'public': True, 'collaborative': False, 'url': '/1337n00dlz/list/zara-realty', 'canonicalUrl': 'https://foursquare.com/1337n00dlz/list/zara-realty', 'createdAt': 1354827408, 'updatedAt': 1386602840, 'followers': {'count': 1}, 'listItems': {'count': 22, 'items': [{'id': 'v4c434b2bd691c9b6ef8f8f0a', 'createdAt': 1354827408}]}}]}]}, 'hours': {'status': 'Open until 11:00 PM', 'richStatus': {'entities': [], 'text': 'Open until 11:00 PM'}, 'isOpen': True, 'isLocalHoliday': False, 'dayData': [], 'timeframes': [{'days': 'Mon–Sun', 'includesToday': True, 'open': [{'renderedTime': '9:00 AM–11:00 PM'}], 'segments': []}]}, 'pageUpdates': {'count': 0, 'items': []}, 'inbox': {'count': 0, 'items': []}, 'attributes': {'groups': [{'type': 'price', 'name': 'Price', 'summary': '$', 'count': 1, 'items': [{'displayName': 'Price', 'displayValue': '$', 'priceTier': 1}]}, {'type': 'reservations', 'name': 'Reservations', 'count': 3, 'items': [{'displayName': 'Reservations', 'displayValue': 'No'}]}, {'type': 'payments', 'name': 'Credit Cards', 'summary': 'Credit Cards', 'count': 7, 'items': [{'displayName': 'Credit Cards', 'displayValue': 'Yes'}]}, {'type': 'outdoorSeating', 'name': 'Outdoor Seating', 'count': 1, 'items': [{'displayName': 'Outdoor Seating', 'displayValue': 'No'}]}, {'type': 'music', 'name': 'Music', 'count': 3, 'items': [{'displayName': 'Music', 'displayValue': 'No'}]}, {'type': 'serves', 'name': 'Menus', 'summary': 'Lunch', 'count': 8, 'items': [{'displayName': 'Lunch', 'displayValue': 'Lunch'}]}, {'type': 'diningOptions', 'name': 'Dining Options', 'summary': 'Delivery', 'count': 5, 'items': [{'displayName': 'Delivery', 'displayValue': 'Delivery'}]}, {'type': 'parking', 'name': 'Parking', 'summary': 'Street Parking', 'count': 5, 'items': [{'displayName': 'Street Parking', 'displayValue': 'Street'}]}, {'type': 'restroom', 'name': 'Restroom', 'summary': 'Restroom', 'count': 1, 'items': [{'displayName': 'Restroom', 'displayValue': 'Yes'}]}]}, 'bestPhoto': {'id': '546b8d20498e77ee20601e5c', 'createdAt': 1416334624, 'source': {'name': 'Instagram', 'url': 'http://instagram.com'}, 'prefix': 'https://fastly.4sqi.net/img/general/', 'suffix': '/1618512_7enTgEP-rydWj-sDr4KE2uOAQ6Sw7W1Rzy_3Fr0Yau8.jpg', 'width': 640, 'height': 640, 'visibility': 'public'}, 'colors': {'highlightColor': {'photoId': '546b8d20498e77ee20601e5c', 'value': -15200232}, 'highlightTextColor': {'photoId': '546b8d20498e77ee20601e5c', 'value': -1}, 'algoVersion': 3}}}}\n",
      "                         ID              Name  Likes  Rating  Tips\n",
      "0  4c434b2bd691c9b6ef8f8f0a  Sagar Restaurant     10     7.5     6\n",
      "( 34 / 39 ) processed\n"
     ]
    },
    {
     "name": "stdout",
     "output_type": "stream",
     "text": [
      "{'meta': {'code': 200, 'requestId': '5e1ca262d03993001b351054'}, 'response': {'venue': {'id': '4c69c4b58e7c0f47d48de00f', 'name': 'Ghoroa Sweets & Restaurant', 'contact': {'phone': '7186571000', 'formattedPhone': '(718) 657-1000'}, 'location': {'address': '168-41 Hillside Ave', 'lat': 40.71076627368326, 'lng': -73.79340678825332, 'labeledLatLngs': [{'label': 'display', 'lat': 40.71076627368326, 'lng': -73.79340678825332}], 'postalCode': '11432', 'cc': 'US', 'city': 'Jamaica', 'state': 'NY', 'country': 'United States', 'formattedAddress': ['168-41 Hillside Ave', 'Jamaica, NY 11432', 'United States']}, 'canonicalUrl': 'https://foursquare.com/v/ghoroa-sweets--restaurant/4c69c4b58e7c0f47d48de00f', 'categories': [{'id': '4bf58dd8d48988d10f941735', 'name': 'Indian Restaurant', 'pluralName': 'Indian Restaurants', 'shortName': 'Indian', 'icon': {'prefix': 'https://ss3.4sqi.net/img/categories_v2/food/indian_', 'suffix': '.png'}, 'primary': True}], 'verified': False, 'stats': {'tipCount': 4}, 'price': {'tier': 1, 'message': 'Cheap', 'currency': '$'}, 'hasMenu': True, 'likes': {'count': 1, 'groups': [{'type': 'others', 'count': 1, 'items': [{'id': '2977703', 'firstName': 'Fariyah', 'lastName': 'C', 'photo': {'prefix': 'https://fastly.4sqi.net/img/user/', 'suffix': '/DXO1LP4YDG5VQTTW.jpg'}}]}], 'summary': '1 Like'}, 'dislike': False, 'ok': False, 'menu': {'type': 'Menu', 'label': 'Menu', 'anchor': 'View Menu', 'url': 'https://foursquare.com/v/ghoroa-sweets--restaurant/4c69c4b58e7c0f47d48de00f/menu', 'mobileUrl': 'https://foursquare.com/v/4c69c4b58e7c0f47d48de00f/device_menu'}, 'allowMenuUrlEdit': True, 'beenHere': {'count': 0, 'unconfirmedCount': 0, 'marked': False, 'lastCheckinExpiredAt': 0}, 'specials': {'count': 0, 'items': []}, 'photos': {'count': 5, 'groups': [{'type': 'venue', 'name': 'Venue photos', 'count': 5, 'items': [{'id': '52fbef8a498e4a82eaded582', 'createdAt': 1392242570, 'source': {'name': 'Foursquare for iOS', 'url': 'https://foursquare.com/download/#/iphone'}, 'prefix': 'https://fastly.4sqi.net/img/general/', 'suffix': '/10553909_ls0wookic5uIKGQJ21apE_iH9WRsJe_T4-L514LU4Ao.jpg', 'width': 960, 'height': 720, 'user': {'id': '10553909', 'firstName': 'Joe', 'lastName': 'W', 'photo': {'prefix': 'https://fastly.4sqi.net/img/user/', 'suffix': '/F0PQ10N0RUBUAXK0.jpg'}}, 'visibility': 'public'}]}]}, 'reasons': {'count': 0, 'items': []}, 'hereNow': {'count': 0, 'summary': 'Nobody here', 'groups': []}, 'createdAt': 1282000053, 'tips': {'count': 4, 'groups': [{'type': 'others', 'name': 'All tips', 'count': 4, 'items': [{'id': '52e6fd2e11d230f52c2a4db4', 'createdAt': 1390869806, 'text': \"Their bihari kababs are excellent, and pair really well with paratha. Other Bengali foods are pretty good, although the biryani isn't the best on this street.\", 'type': 'user', 'canonicalUrl': 'https://foursquare.com/item/52e6fd2e11d230f52c2a4db4', 'lang': 'en', 'likes': {'count': 0, 'groups': []}, 'logView': True, 'agreeCount': 0, 'disagreeCount': 0, 'todo': {'count': 0}, 'user': {'id': '47358753', 'firstName': 'Zayed', 'lastName': 'K', 'photo': {'prefix': 'https://fastly.4sqi.net/img/user/', 'suffix': '/E01H1XHJDTDDEXUI.jpg'}}}]}]}, 'shortUrl': 'http://4sq.com/diUtAd', 'timeZone': 'America/New_York', 'listed': {'count': 1, 'groups': [{'type': 'others', 'name': 'Lists from other people', 'count': 1, 'items': [{'id': '50c10690e4b0abeb9e0e80df', 'name': 'Zara Realty', 'description': '', 'type': 'others', 'user': {'id': '12683059', 'firstName': 'Kathy', 'lastName': 'T', 'photo': {'prefix': 'https://fastly.4sqi.net/img/user/', 'suffix': '/12683059-VDRSBXBVJSX4FZAM.jpg'}}, 'editable': False, 'public': True, 'collaborative': False, 'url': '/1337n00dlz/list/zara-realty', 'canonicalUrl': 'https://foursquare.com/1337n00dlz/list/zara-realty', 'createdAt': 1354827408, 'updatedAt': 1386602840, 'followers': {'count': 1}, 'listItems': {'count': 22, 'items': [{'id': 'v4c69c4b58e7c0f47d48de00f', 'createdAt': 1354828922}]}}]}]}, 'pageUpdates': {'count': 0, 'items': []}, 'inbox': {'count': 0, 'items': []}, 'attributes': {'groups': [{'type': 'price', 'name': 'Price', 'summary': '$', 'count': 1, 'items': [{'displayName': 'Price', 'displayValue': '$', 'priceTier': 1}]}]}, 'bestPhoto': {'id': '52fbef8a498e4a82eaded582', 'createdAt': 1392242570, 'source': {'name': 'Foursquare for iOS', 'url': 'https://foursquare.com/download/#/iphone'}, 'prefix': 'https://fastly.4sqi.net/img/general/', 'suffix': '/10553909_ls0wookic5uIKGQJ21apE_iH9WRsJe_T4-L514LU4Ao.jpg', 'width': 960, 'height': 720, 'visibility': 'public'}}}}\n",
      "Empty DataFrame\n",
      "Columns: [ID, Name, Likes, Rating, Tips]\n",
      "Index: []\n",
      "No data available for id= 4c69c4b58e7c0f47d48de00f\n",
      "( 35 / 39 ) processed\n",
      "{'meta': {'code': 200, 'requestId': '5e1ca21f0f596800223cd4df'}, 'response': {'venue': {'id': '4a63bfb4f964a520b3c51fe3', 'name': 'Chola Eclectic Indian Cuisine', 'contact': {'phone': '2126884619', 'formattedPhone': '(212) 688-4619', 'twitter': 'cholanyc', 'facebook': '659813484083096', 'facebookUsername': 'cholanyc', 'facebookName': 'Chola Indian Cuisine'}, 'location': {'address': '232 E 58th St', 'crossStreet': 'btw 2nd & 3rd Ave', 'lat': 40.76033870460851, 'lng': -73.96578518975763, 'labeledLatLngs': [{'label': 'display', 'lat': 40.76033870460851, 'lng': -73.96578518975763}], 'postalCode': '10022', 'cc': 'US', 'city': 'New York', 'state': 'NY', 'country': 'United States', 'formattedAddress': ['232 E 58th St (btw 2nd & 3rd Ave)', 'New York, NY 10022', 'United States']}, 'canonicalUrl': 'https://foursquare.com/v/chola-eclectic-indian-cuisine/4a63bfb4f964a520b3c51fe3', 'categories': [{'id': '4bf58dd8d48988d10f941735', 'name': 'Indian Restaurant', 'pluralName': 'Indian Restaurants', 'shortName': 'Indian', 'icon': {'prefix': 'https://ss3.4sqi.net/img/categories_v2/food/indian_', 'suffix': '.png'}, 'primary': True}], 'verified': True, 'stats': {'tipCount': 56}, 'url': 'http://cholany.com', 'price': {'tier': 2, 'message': 'Moderate', 'currency': '$'}, 'hasMenu': True, 'likes': {'count': 154, 'groups': [{'type': 'others', 'count': 154, 'items': []}], 'summary': '154 Likes'}, 'dislike': False, 'ok': False, 'rating': 8.3, 'ratingColor': '73CF42', 'ratingSignals': 226, 'delivery': {'id': '521286', 'url': 'https://www.seamless.com/menu/chola-232-e-58th-st-new-york/521286?affiliate=1131&utm_source=foursquare-affiliate-network&utm_medium=affiliate&utm_campaign=1131&utm_content=521286', 'provider': {'name': 'seamless', 'icon': {'prefix': 'https://fastly.4sqi.net/img/general/cap/', 'sizes': [40, 50], 'name': '/delivery_provider_seamless_20180129.png'}}}, 'menu': {'type': 'Menu', 'label': 'Menu', 'anchor': 'View Menu', 'url': 'https://foursquare.com/v/chola-eclectic-indian-cuisine/4a63bfb4f964a520b3c51fe3/menu', 'mobileUrl': 'https://foursquare.com/v/4a63bfb4f964a520b3c51fe3/device_menu'}, 'allowMenuUrlEdit': True, 'beenHere': {'count': 0, 'unconfirmedCount': 0, 'marked': False, 'lastCheckinExpiredAt': 0}, 'specials': {'count': 0, 'items': []}, 'photos': {'count': 68, 'groups': [{'type': 'venue', 'name': 'Venue photos', 'count': 68, 'items': [{'id': '5222131111d2b1585111a0ff', 'createdAt': 1377964817, 'source': {'name': 'Foursquare for iOS', 'url': 'https://foursquare.com/download/#/iphone'}, 'prefix': 'https://fastly.4sqi.net/img/general/', 'suffix': '/8858332_Gw40R2j8WUhOKET6YtHX8VbElS9SeS2tQyCOSYPNdxs.jpg', 'width': 720, 'height': 960, 'user': {'id': '8858332', 'firstName': 'Sonoko', 'lastName': 'M', 'photo': {'prefix': 'https://fastly.4sqi.net/img/user/', 'suffix': '/FWFTQUN4KC0UP2PZ.jpg'}}, 'visibility': 'public'}]}]}, 'venuePage': {'id': '47091997'}, 'reasons': {'count': 1, 'items': [{'summary': 'Lots of people like this place', 'type': 'general', 'reasonName': 'rawLikesReason'}]}, 'description': 'Chola opened in 1998 and is part of the fine indian dining group of restaurants. Having received a two star from the New York Times Ruth Reichl, and touted as “An Indian restaurant breaks the mold,” Chola is the industry standard for authentic indian food served in a modern environment.', 'page': {'user': {'id': '47091997', 'firstName': 'Chola Eclectic Indian Cuisine', 'photo': {'prefix': 'https://fastly.4sqi.net/img/user/', 'suffix': '/47091997-VW0SO1AGHMLPZLTE.png'}, 'type': 'venuePage', 'venue': {'id': '4a63bfb4f964a520b3c51fe3'}, 'tips': {'count': 0}, 'lists': {'groups': [{'type': 'created', 'count': 2, 'items': []}]}, 'bio': ''}}, 'hereNow': {'count': 0, 'summary': 'Nobody here', 'groups': []}, 'createdAt': 1248051124, 'tips': {'count': 56, 'groups': [{'type': 'others', 'name': 'All tips', 'count': 56, 'items': [{'id': '540e98ed498ef0522111732b', 'createdAt': 1410242797, 'text': 'One of the best, most authentic North Indian places in the city outside of Jackson Heights. The weekend buffet is always fresh and hot and an amazing deal.', 'type': 'user', 'canonicalUrl': 'https://foursquare.com/item/540e98ed498ef0522111732b', 'lang': 'en', 'likes': {'count': 5, 'groups': [{'type': 'others', 'count': 5, 'items': [{'id': '5569647', 'firstName': 'Mayra', 'lastName': 'R', 'photo': {'prefix': 'https://fastly.4sqi.net/img/user/', 'suffix': '/Y1IMKZEEVJ0WOABB.jpg'}}, {'id': '32441', 'firstName': 'Laura', 'lastName': 'M', 'photo': {'prefix': 'https://fastly.4sqi.net/img/user/', 'suffix': '/4a8311a5932a9.jpg'}}, {'id': '58391061', 'firstName': 'Sanjiv', 'lastName': 'B', 'photo': {'prefix': 'https://fastly.4sqi.net/img/user/', 'suffix': '/OXQB2B02CMF4LXLG.jpg'}}]}], 'summary': '5 likes'}, 'logView': True, 'agreeCount': 5, 'disagreeCount': 0, 'todo': {'count': 1}, 'user': {'id': '3804583', 'firstName': 'Sabina', 'lastName': 'B', 'photo': {'prefix': 'https://fastly.4sqi.net/img/user/', 'suffix': '/3804583-WL4VQJGQA11NCD5A.jpg'}}, 'authorInteractionType': 'liked'}]}]}, 'shortUrl': 'http://4sq.com/8bYOJV', 'timeZone': 'America/New_York', 'listed': {'count': 215, 'groups': [{'type': 'others', 'name': 'Lists from other people', 'count': 215, 'items': [{'id': '4ec3dce68231d4c9fee0567b', 'name': \"NYC's Midtown\", 'description': 'The most visited area of Manhattan and the headquarters for dozens of well known companies, Midtown has much to offer, from hidden restaurants to popular attractions.  Discover our favorites here.', 'type': 'others', 'user': {'id': '13889528', 'firstName': 'New York Habitat', 'photo': {'prefix': 'https://fastly.4sqi.net/img/user/', 'suffix': '/PGPPIGGHW44SEI4X.jpg'}, 'type': 'chain'}, 'editable': False, 'public': True, 'collaborative': False, 'url': '/newyorkhabitat/list/nycs-midtown', 'canonicalUrl': 'https://foursquare.com/newyorkhabitat/list/nycs-midtown', 'createdAt': 1321458918, 'updatedAt': 1337625780, 'photo': {'id': '4ecfc555e3007feb7caec837', 'createdAt': 1322239317, 'prefix': 'https://fastly.4sqi.net/img/general/', 'suffix': '/GYOLBUQJQ0MBHSJ5TKFL0XYBTDD43KPTNTHDQKP3GZSYKLAD.jpg', 'width': 537, 'height': 720, 'user': {'id': '3956584', 'firstName': 'Jason', 'lastName': 'H', 'photo': {'prefix': 'https://fastly.4sqi.net/img/user/', 'suffix': '/IOPNH55MDNVRXECB.jpg'}}, 'visibility': 'public'}, 'logView': True, 'followers': {'count': 738}, 'listItems': {'count': 76, 'items': [{'id': 't4ed90ba193ad464d26d51ff4', 'createdAt': 1322847149, 'photo': {'id': '4f90dc2ee4b0ead1975ad225', 'createdAt': 1334893614, 'prefix': 'https://fastly.4sqi.net/img/general/', 'suffix': '/ar07as0_zPj1C-7lsXKFYYNTDwfp-pXW0P_hBftnLYU.jpg', 'width': 720, 'height': 537, 'user': {'id': '263293', 'firstName': 'Megan', 'lastName': 'D', 'photo': {'prefix': 'https://fastly.4sqi.net/img/user/', 'suffix': '/263293-IKKPKC1KHWZ0CXNR.jpg'}}, 'visibility': 'public'}}]}}, {'id': '50c000f4e4b014a362509d82', 'name': 'Indian Restaurant', 'description': '', 'type': 'others', 'user': {'id': '14742382', 'firstName': 'Renati', 'photo': {'prefix': 'https://fastly.4sqi.net/img/user/', 'suffix': '/OTRSSQEESZM201P0.png'}}, 'editable': False, 'public': True, 'collaborative': False, 'url': '/user/14742382/list/indian-restaurant', 'canonicalUrl': 'https://foursquare.com/user/14742382/list/indian-restaurant', 'createdAt': 1354760436, 'updatedAt': 1354762559, 'photo': {'id': '50bfcfded63edf783cd53807', 'createdAt': 1354747870, 'prefix': 'https://fastly.4sqi.net/img/general/', 'suffix': '/39583984_7B_CTZDRxCnChBKpU3vMyeXcotU0FE3TQKnIyqJKMFc.png', 'width': 300, 'height': 300, 'user': {'id': '39583984', 'firstName': 'il mafioso', 'photo': {'prefix': 'https://fastly.4sqi.net/img/user/', 'suffix': '/DHZOL32OHE1TXOHC.jpg'}}, 'visibility': 'public'}, 'followers': {'count': 110}, 'listItems': {'count': 49, 'items': [{'id': 'v4a63bfb4f964a520b3c51fe3', 'createdAt': 1354761712}]}}, {'id': '51982c18498e965e7d15de6c', 'name': 'New York II', 'description': '', 'type': 'others', 'user': {'id': '17766136', 'firstName': 'Len', 'lastName': '❤', 'photo': {'prefix': 'https://fastly.4sqi.net/img/user/', 'suffix': '/17766136-BIYJ4F541AVJGVJY.jpg'}}, 'editable': False, 'public': True, 'collaborative': False, 'url': '/user/17766136/list/new-york-ii', 'canonicalUrl': 'https://foursquare.com/user/17766136/list/new-york-ii', 'createdAt': 1368927256, 'updatedAt': 1411092266, 'photo': {'id': '4d7bbfaec6982da13bfb7afa', 'createdAt': 1299955630, 'prefix': 'https://fastly.4sqi.net/img/general/', 'suffix': '/CZNP044R0AINYU1TD54EK0RBEH4NBTLBNEZCYXZ0NK0DX2KO.jpg', 'width': 537, 'height': 720, 'user': {'id': '328089', 'firstName': 'James', 'lastName': 'W', 'photo': {'prefix': 'https://fastly.4sqi.net/img/user/', 'suffix': '/328089_XZr3kRkN_xqIJ8JKvBBA9r6C1Z86Z9JwFe3t2dlq2swV0Cg8KdrSyFKmbOFwqBmx6kfk_FSyF.jpg'}}, 'visibility': 'public'}, 'followers': {'count': 49}, 'listItems': {'count': 198, 'items': [{'id': 'v4a63bfb4f964a520b3c51fe3', 'createdAt': 1369405673}]}}]}]}, 'hours': {'status': 'Open until 3:00 PM, reopens later', 'richStatus': {'entities': [], 'text': 'Open until 3:00 PM, reopens later'}, 'isOpen': True, 'isLocalHoliday': False, 'dayData': [], 'timeframes': [{'days': 'Mon–Sat', 'includesToday': True, 'open': [{'renderedTime': 'Noon–3:00 PM'}, {'renderedTime': '5:00 PM–11:00 PM'}], 'segments': []}, {'days': 'Sun', 'open': [{'renderedTime': 'Noon–3:00 PM'}, {'renderedTime': '5:00 PM–10:00 PM'}], 'segments': []}]}, 'popular': {'status': 'Likely open', 'richStatus': {'entities': [], 'text': 'Likely open'}, 'isOpen': True, 'isLocalHoliday': False, 'timeframes': [{'days': 'Today', 'includesToday': True, 'open': [{'renderedTime': 'Noon–2:00 PM'}, {'renderedTime': '6:00 PM–10:00 PM'}], 'segments': []}, {'days': 'Tue', 'open': [{'renderedTime': 'Noon–3:00 PM'}, {'renderedTime': '7:00 PM–10:00 PM'}], 'segments': []}, {'days': 'Wed', 'open': [{'renderedTime': 'Noon–3:00 PM'}, {'renderedTime': '6:00 PM–10:00 PM'}], 'segments': []}, {'days': 'Thu', 'open': [{'renderedTime': 'Noon–2:00 PM'}, {'renderedTime': '6:00 PM–10:00 PM'}], 'segments': []}, {'days': 'Fri–Sat', 'open': [{'renderedTime': 'Noon–3:00 PM'}, {'renderedTime': '6:00 PM–11:00 PM'}], 'segments': []}, {'days': 'Sun', 'open': [{'renderedTime': 'Noon–3:00 PM'}, {'renderedTime': '6:00 PM–10:00 PM'}], 'segments': []}]}, 'pageUpdates': {'count': 0, 'items': []}, 'inbox': {'count': 0, 'items': []}, 'attributes': {'groups': [{'type': 'price', 'name': 'Price', 'summary': '$$', 'count': 1, 'items': [{'displayName': 'Price', 'displayValue': '$$', 'priceTier': 2}]}, {'type': 'payments', 'name': 'Credit Cards', 'summary': 'Credit Cards', 'count': 7, 'items': [{'displayName': 'Credit Cards', 'displayValue': 'Yes (incl. Discover & MasterCard)'}]}, {'type': 'outdoorSeating', 'name': 'Outdoor Seating', 'count': 1, 'items': [{'displayName': 'Outdoor Seating', 'displayValue': 'No'}]}, {'type': 'serves', 'name': 'Menus', 'summary': 'Dinner, Lunch & more', 'count': 8, 'items': [{'displayName': 'Brunch', 'displayValue': 'Brunch'}, {'displayName': 'Lunch', 'displayValue': 'Lunch'}, {'displayName': 'Dinner', 'displayValue': 'Dinner'}]}, {'type': 'drinks', 'name': 'Drinks', 'summary': 'Full Bar & Cocktails', 'count': 5, 'items': [{'displayName': 'Full Bar', 'displayValue': 'Full Bar'}, {'displayName': 'Cocktails', 'displayValue': 'Cocktails'}]}, {'type': 'diningOptions', 'name': 'Dining Options', 'summary': 'Delivery', 'count': 5, 'items': [{'displayName': 'Delivery', 'displayValue': 'Delivery'}]}]}, 'bestPhoto': {'id': '5222131111d2b1585111a0ff', 'createdAt': 1377964817, 'source': {'name': 'Foursquare for iOS', 'url': 'https://foursquare.com/download/#/iphone'}, 'prefix': 'https://fastly.4sqi.net/img/general/', 'suffix': '/8858332_Gw40R2j8WUhOKET6YtHX8VbElS9SeS2tQyCOSYPNdxs.jpg', 'width': 720, 'height': 960, 'visibility': 'public'}, 'colors': {'highlightColor': {'photoId': '5222131111d2b1585111a0ff', 'value': -477072}, 'highlightTextColor': {'photoId': '5222131111d2b1585111a0ff', 'value': -16777216}, 'algoVersion': 3}}}}\n",
      "                         ID                           Name  Likes  Rating  \\\n",
      "0  4a63bfb4f964a520b3c51fe3  Chola Eclectic Indian Cuisine    154     8.3   \n",
      "\n",
      "   Tips  \n",
      "0    56  \n",
      "( 36 / 39 ) processed\n"
     ]
    },
    {
     "name": "stdout",
     "output_type": "stream",
     "text": [
      "{'meta': {'code': 200, 'requestId': '5e1ca29a77af03001b92e496'}, 'response': {'venue': {'id': '4fe4fb50c2eee335e4fea69d', 'name': 'Moti Mahal Delux', 'contact': {'phone': '2123713535', 'formattedPhone': '(212) 371-3535', 'twitter': 'motimahalus', 'facebook': '464790890213866', 'facebookUsername': 'MotiMahalDeluxNYC', 'facebookName': 'Moti Mahal Delux, NYC'}, 'location': {'address': '1149 1st Ave', 'crossStreet': '63rd Street', 'lat': 40.76209761945207, 'lng': -73.96028513480461, 'labeledLatLngs': [{'label': 'display', 'lat': 40.76209761945207, 'lng': -73.96028513480461}], 'postalCode': '10065', 'cc': 'US', 'city': 'New York', 'state': 'NY', 'country': 'United States', 'formattedAddress': ['1149 1st Ave (63rd Street)', 'New York, NY 10065', 'United States']}, 'canonicalUrl': 'https://foursquare.com/v/moti-mahal-delux/4fe4fb50c2eee335e4fea69d', 'categories': [{'id': '4bf58dd8d48988d10f941735', 'name': 'Indian Restaurant', 'pluralName': 'Indian Restaurants', 'shortName': 'Indian', 'icon': {'prefix': 'https://ss3.4sqi.net/img/categories_v2/food/indian_', 'suffix': '.png'}, 'primary': True}], 'verified': True, 'stats': {'tipCount': 82}, 'url': 'http://motimahaldelux.us', 'price': {'tier': 2, 'message': 'Moderate', 'currency': '$'}, 'likes': {'count': 185, 'groups': [{'type': 'others', 'count': 185, 'items': []}], 'summary': '185 Likes'}, 'dislike': False, 'ok': False, 'rating': 8.4, 'ratingColor': '73CF42', 'ratingSignals': 283, 'delivery': {'id': '269555', 'url': 'https://www.seamless.com/menu/moti-mahal-delux-1149-1st-ave-new-york/269555?affiliate=1131&utm_source=foursquare-affiliate-network&utm_medium=affiliate&utm_campaign=1131&utm_content=269555', 'provider': {'name': 'seamless', 'icon': {'prefix': 'https://fastly.4sqi.net/img/general/cap/', 'sizes': [40, 50], 'name': '/delivery_provider_seamless_20180129.png'}}}, 'allowMenuUrlEdit': True, 'beenHere': {'count': 0, 'unconfirmedCount': 0, 'marked': False, 'lastCheckinExpiredAt': 0}, 'specials': {'count': 0, 'items': []}, 'photos': {'count': 75, 'groups': [{'type': 'venue', 'name': 'Venue photos', 'count': 75, 'items': [{'id': '5009a4f0e4b067574debcb27', 'createdAt': 1342809328, 'source': {'name': 'Foursquare for iOS', 'url': 'https://foursquare.com/download/#/iphone'}, 'prefix': 'https://fastly.4sqi.net/img/general/', 'suffix': '/XxNLf47kpuaEZv74aWM-9bO36h3VhMhQXDjTgGnQ1eI.jpg', 'width': 720, 'height': 479, 'user': {'id': '1026227', 'firstName': 'Shagun', 'lastName': 'M', 'photo': {'prefix': 'https://fastly.4sqi.net/img/user/', 'suffix': '/VJGTT5CI1FZP42SP.jpg'}}, 'visibility': 'public'}]}]}, 'venuePage': {'id': '33414534'}, 'reasons': {'count': 1, 'items': [{'summary': 'Lots of people like this place', 'type': 'general', 'reasonName': 'rawLikesReason'}]}, 'storeId': '', 'page': {'user': {'id': '33414534', 'firstName': 'Moti Mahal Delux', 'photo': {'prefix': 'https://fastly.4sqi.net/img/user/', 'suffix': '/33414534-S1RJEX3KZY2EWAVU.png'}, 'type': 'venuePage', 'venue': {'id': '4fe4fb50c2eee335e4fea69d'}, 'tips': {'count': 5}, 'lists': {'groups': [{'type': 'created', 'count': 2, 'items': []}]}, 'bio': ''}}, 'hereNow': {'count': 0, 'summary': 'Nobody here', 'groups': []}, 'createdAt': 1340406608, 'tips': {'count': 82, 'groups': [{'type': 'others', 'name': 'All tips', 'count': 82, 'items': [{'id': '50f9cd1de4b02fe30329b37e', 'createdAt': 1358548253, 'text': 'The lamb kebabs are exceptional, as is the thickly seasoned tandoori chicken. Veggies can head to a steaming lunch buffet with vegetarian options as well!', 'type': 'user', 'canonicalUrl': 'https://foursquare.com/item/50f9cd1de4b02fe30329b37e', 'lang': 'en', 'likes': {'count': 9, 'groups': [{'type': 'others', 'count': 9, 'items': [{'id': '72704526', 'firstName': 'Brian', 'lastName': 'P', 'photo': {'prefix': 'https://fastly.4sqi.net/img/user/', 'suffix': '/72704526_kEdrqPyF_83PEBOIAc6cLvFnEmBWsnsQmB3oE-4LvI7VpZhkrtFK-GlymIVk4MhN6p8fcMoXF.jpg'}}, {'id': '1113377', 'firstName': 'Simone', 'lastName': 'C', 'photo': {'prefix': 'https://fastly.4sqi.net/img/user/', 'suffix': '/1113377-UYQMLDBTBB55TJXP.jpg'}}, {'id': '1026227', 'firstName': 'Shagun', 'lastName': 'M', 'photo': {'prefix': 'https://fastly.4sqi.net/img/user/', 'suffix': '/VJGTT5CI1FZP42SP.jpg'}}]}], 'summary': '9 likes'}, 'logView': True, 'agreeCount': 9, 'disagreeCount': 0, 'todo': {'count': 3}, 'user': {'id': '1868764', 'firstName': 'Village Voice', 'photo': {'prefix': 'https://fastly.4sqi.net/img/user/', 'suffix': '/FWBBHYA4T3BZTXB4.jpg'}, 'type': 'page'}}]}]}, 'shortUrl': 'http://4sq.com/Nzo4QG', 'timeZone': 'America/New_York', 'listed': {'count': 311, 'groups': [{'type': 'others', 'name': 'Lists from other people', 'count': 311, 'items': [{'id': '4f95e64be4b042e856212e9e', 'name': 'new places to feed my face', 'description': '', 'type': 'others', 'user': {'id': '9610642', 'firstName': 'Ashley', 'lastName': 'S', 'photo': {'prefix': 'https://fastly.4sqi.net/img/user/', 'suffix': '/DWNLESJPZAL3TR2F.jpg'}}, 'editable': False, 'public': True, 'collaborative': False, 'url': '/kickash13/list/new-places-to-feed-my-face', 'canonicalUrl': 'https://foursquare.com/kickash13/list/new-places-to-feed-my-face', 'createdAt': 1335223883, 'updatedAt': 1444262667, 'photo': {'id': '4fa6b535e4b0baf7ce3f6d60', 'createdAt': 1336325429, 'prefix': 'https://fastly.4sqi.net/img/general/', 'suffix': '/EqS_sAvFVwigd3OO30a2yUnZQx8s2KUBagZw0Hj_36g.jpg', 'width': 540, 'height': 540, 'user': {'id': '1164105', 'firstName': 'nicole', 'lastName': 'h', 'photo': {'prefix': 'https://fastly.4sqi.net/img/user/', 'suffix': '/3NYDBYNRY0LP42G0.jpg'}}, 'visibility': 'public'}, 'followers': {'count': 33}, 'listItems': {'count': 76, 'items': [{'id': 't50c15ef1222fd114ad57255c', 'createdAt': 1354895288, 'photo': {'id': '5009a4f0e4b067574debcb27', 'createdAt': 1342809328, 'prefix': 'https://fastly.4sqi.net/img/general/', 'suffix': '/XxNLf47kpuaEZv74aWM-9bO36h3VhMhQXDjTgGnQ1eI.jpg', 'width': 720, 'height': 479, 'user': {'id': '1026227', 'firstName': 'Shagun', 'lastName': 'M', 'photo': {'prefix': 'https://fastly.4sqi.net/img/user/', 'suffix': '/VJGTT5CI1FZP42SP.jpg'}}, 'visibility': 'public'}}]}}, {'id': '50c000f4e4b014a362509d82', 'name': 'Indian Restaurant', 'description': '', 'type': 'others', 'user': {'id': '14742382', 'firstName': 'Renati', 'photo': {'prefix': 'https://fastly.4sqi.net/img/user/', 'suffix': '/OTRSSQEESZM201P0.png'}}, 'editable': False, 'public': True, 'collaborative': False, 'url': '/user/14742382/list/indian-restaurant', 'canonicalUrl': 'https://foursquare.com/user/14742382/list/indian-restaurant', 'createdAt': 1354760436, 'updatedAt': 1354762559, 'photo': {'id': '50bfcfded63edf783cd53807', 'createdAt': 1354747870, 'prefix': 'https://fastly.4sqi.net/img/general/', 'suffix': '/39583984_7B_CTZDRxCnChBKpU3vMyeXcotU0FE3TQKnIyqJKMFc.png', 'width': 300, 'height': 300, 'user': {'id': '39583984', 'firstName': 'il mafioso', 'photo': {'prefix': 'https://fastly.4sqi.net/img/user/', 'suffix': '/DHZOL32OHE1TXOHC.jpg'}}, 'visibility': 'public'}, 'followers': {'count': 110}, 'listItems': {'count': 49, 'items': [{'id': 'v4fe4fb50c2eee335e4fea69d', 'createdAt': 1354761733}]}}, {'id': '51accd1b498e75de75e3ede3', 'name': '8 Best Upper East Side Restaurants 2013', 'description': 'Immerse yourself in the inventive cuisine provided here by new hotspots and old favorites alike.', 'type': 'others', 'user': {'id': '1868764', 'firstName': 'Village Voice', 'photo': {'prefix': 'https://fastly.4sqi.net/img/user/', 'suffix': '/FWBBHYA4T3BZTXB4.jpg'}, 'type': 'page'}, 'editable': False, 'public': True, 'collaborative': False, 'url': '/villagevoice/list/8-best-upper-east-side-restaurants-2013', 'canonicalUrl': 'https://foursquare.com/villagevoice/list/8-best-upper-east-side-restaurants-2013', 'createdAt': 1370279195, 'updatedAt': 1370279975, 'photo': {'id': '51accdf58bbd17d46bc0b73b', 'createdAt': 1370279413, 'prefix': 'https://fastly.4sqi.net/img/general/', 'suffix': '/1868764_A9UHO3SrpCEIp37f4_G5kJB2uqRmPaLYKIdkwb00m-0.jpg', 'width': 250, 'height': 167, 'user': {'id': '1868764', 'firstName': 'Village Voice', 'photo': {'prefix': 'https://fastly.4sqi.net/img/user/', 'suffix': '/FWBBHYA4T3BZTXB4.jpg'}, 'type': 'page'}, 'visibility': 'public'}, 'logView': True, 'followers': {'count': 134}, 'listItems': {'count': 8, 'items': [{'id': 't51accdf8498ea2cebf60e054', 'createdAt': 1370279376, 'photo': {'id': '51accdf58bbd17d46bc0b73b', 'createdAt': 1370279413, 'prefix': 'https://fastly.4sqi.net/img/general/', 'suffix': '/1868764_A9UHO3SrpCEIp37f4_G5kJB2uqRmPaLYKIdkwb00m-0.jpg', 'width': 250, 'height': 167, 'user': {'id': '1868764', 'firstName': 'Village Voice', 'photo': {'prefix': 'https://fastly.4sqi.net/img/user/', 'suffix': '/FWBBHYA4T3BZTXB4.jpg'}, 'type': 'page'}, 'visibility': 'public'}}]}}]}]}, 'hours': {'status': 'Open until 3:00 PM, reopens later', 'richStatus': {'entities': [], 'text': 'Open until 3:00 PM, reopens later'}, 'isOpen': True, 'isLocalHoliday': False, 'dayData': [], 'timeframes': [{'days': 'Mon–Thu, Sun', 'includesToday': True, 'open': [{'renderedTime': 'Noon–3:00 PM'}, {'renderedTime': '5:00 PM–11:00 PM'}], 'segments': []}, {'days': 'Fri–Sat', 'open': [{'renderedTime': 'Noon–10:00 PM'}], 'segments': []}]}, 'popular': {'status': 'Likely open', 'richStatus': {'entities': [], 'text': 'Likely open'}, 'isOpen': True, 'isLocalHoliday': False, 'timeframes': [{'days': 'Today', 'includesToday': True, 'open': [{'renderedTime': 'Noon–3:00 PM'}, {'renderedTime': '6:00 PM–10:00 PM'}], 'segments': []}, {'days': 'Tue', 'open': [{'renderedTime': 'Noon–3:00 PM'}, {'renderedTime': '6:00 PM–10:00 PM'}], 'segments': []}, {'days': 'Wed', 'open': [{'renderedTime': 'Noon–2:00 PM'}, {'renderedTime': '6:00 PM–10:00 PM'}], 'segments': []}, {'days': 'Thu', 'open': [{'renderedTime': 'Noon–2:00 PM'}, {'renderedTime': '6:00 PM–11:00 PM'}], 'segments': []}, {'days': 'Fri', 'open': [{'renderedTime': 'Noon–3:00 PM'}, {'renderedTime': '6:00 PM–11:00 PM'}], 'segments': []}, {'days': 'Sat', 'open': [{'renderedTime': 'Noon–3:00 PM'}, {'renderedTime': '5:00 PM–11:00 PM'}], 'segments': []}, {'days': 'Sun', 'open': [{'renderedTime': 'Noon–3:00 PM'}, {'renderedTime': '5:00 PM–10:00 PM'}], 'segments': []}]}, 'pageUpdates': {'count': 0, 'items': []}, 'inbox': {'count': 0, 'items': []}, 'attributes': {'groups': [{'type': 'price', 'name': 'Price', 'summary': '$$', 'count': 1, 'items': [{'displayName': 'Price', 'displayValue': '$$', 'priceTier': 2}]}, {'type': 'payments', 'name': 'Credit Cards', 'summary': 'Credit Cards', 'count': 7, 'items': [{'displayName': 'Credit Cards', 'displayValue': 'Yes (incl. American Express & MasterCard)'}]}, {'type': 'outdoorSeating', 'name': 'Outdoor Seating', 'count': 1, 'items': [{'displayName': 'Outdoor Seating', 'displayValue': 'No'}]}, {'type': 'music', 'name': 'Music', 'count': 3, 'items': [{'displayName': 'Music', 'displayValue': 'No'}]}, {'type': 'wifi', 'name': 'Wi-Fi', 'summary': 'Wi-Fi', 'count': 1, 'items': [{'displayName': 'Wi-Fi', 'displayValue': 'Yes'}]}, {'type': 'serves', 'name': 'Menus', 'summary': 'Dinner, Lunch & more', 'count': 8, 'items': [{'displayName': 'Brunch', 'displayValue': 'Brunch'}, {'displayName': 'Lunch', 'displayValue': 'Lunch'}, {'displayName': 'Dinner', 'displayValue': 'Dinner'}]}, {'type': 'drinks', 'name': 'Drinks', 'summary': 'Wine, Full Bar & Cocktails', 'count': 5, 'items': [{'displayName': 'Wine', 'displayValue': 'Wine'}, {'displayName': 'Full Bar', 'displayValue': 'Full Bar'}, {'displayName': 'Cocktails', 'displayValue': 'Cocktails'}]}, {'type': 'diningOptions', 'name': 'Dining Options', 'summary': 'Delivery', 'count': 5, 'items': [{'displayName': 'Delivery', 'displayValue': 'Delivery'}]}, {'type': 'parking', 'name': 'Parking', 'summary': 'Street Parking', 'count': 5, 'items': [{'displayName': 'Street Parking', 'displayValue': 'Street'}]}, {'type': 'restroom', 'name': 'Restroom', 'summary': 'Restroom', 'count': 1, 'items': [{'displayName': 'Restroom', 'displayValue': 'Yes'}]}, {'type': 'wheelchairAccessible', 'name': 'Wheelchair Accessible', 'summary': 'Wheelchair Accessible', 'count': 1, 'items': [{'displayName': 'Wheelchair Accessible', 'displayValue': 'Yes'}]}]}, 'bestPhoto': {'id': '5009a4f0e4b067574debcb27', 'createdAt': 1342809328, 'source': {'name': 'Foursquare for iOS', 'url': 'https://foursquare.com/download/#/iphone'}, 'prefix': 'https://fastly.4sqi.net/img/general/', 'suffix': '/XxNLf47kpuaEZv74aWM-9bO36h3VhMhQXDjTgGnQ1eI.jpg', 'width': 720, 'height': 479, 'visibility': 'public'}, 'colors': {'highlightColor': {'photoId': '5009a4f0e4b067574debcb27', 'value': -13105152}, 'highlightTextColor': {'photoId': '5009a4f0e4b067574debcb27', 'value': -1}, 'algoVersion': 3}}}}\n",
      "                         ID              Name  Likes  Rating  Tips\n",
      "0  4fe4fb50c2eee335e4fea69d  Moti Mahal Delux    185     8.4    82\n",
      "( 37 / 39 ) processed\n"
     ]
    },
    {
     "name": "stdout",
     "output_type": "stream",
     "text": [
      "{'meta': {'code': 200, 'requestId': '5e1ca273c546f3001bb7c5ad'}, 'response': {'venue': {'id': '3fd66200f964a52099e91ee3', 'name': 'Dawat', 'contact': {'phone': '2123557555', 'formattedPhone': '(212) 355-7555', 'twitter': 'dawatnyc', 'facebook': '197296420307874', 'facebookName': 'Dawat'}, 'location': {'address': '210 E 58th St', 'crossStreet': 'btw 2nd & 3rd Aves.', 'lat': 40.76053721892189, 'lng': -73.96652613958597, 'labeledLatLngs': [{'label': 'display', 'lat': 40.76053721892189, 'lng': -73.96652613958597}], 'postalCode': '10022', 'cc': 'US', 'neighborhood': 'Midtown East', 'city': 'New York', 'state': 'NY', 'country': 'United States', 'formattedAddress': ['210 E 58th St (btw 2nd & 3rd Aves.)', 'New York, NY 10022', 'United States']}, 'canonicalUrl': 'https://foursquare.com/v/dawat/3fd66200f964a52099e91ee3', 'categories': [{'id': '4bf58dd8d48988d10f941735', 'name': 'Indian Restaurant', 'pluralName': 'Indian Restaurants', 'shortName': 'Indian', 'icon': {'prefix': 'https://ss3.4sqi.net/img/categories_v2/food/indian_', 'suffix': '.png'}, 'primary': True}], 'verified': False, 'stats': {'tipCount': 33}, 'url': 'http://www.dawatny.com', 'price': {'tier': 4, 'message': 'Very Expensive', 'currency': '$'}, 'hasMenu': True, 'likes': {'count': 35, 'groups': [{'type': 'others', 'count': 35, 'items': []}], 'summary': '35 Likes'}, 'dislike': False, 'ok': False, 'rating': 7.7, 'ratingColor': 'C5DE35', 'ratingSignals': 64, 'delivery': {'id': '65812', 'url': 'https://www.seamless.com/menu/dawat-210-e-58th-st-new-york/65812?affiliate=1131&utm_source=foursquare-affiliate-network&utm_medium=affiliate&utm_campaign=1131&utm_content=65812', 'provider': {'name': 'seamless', 'icon': {'prefix': 'https://fastly.4sqi.net/img/general/cap/', 'sizes': [40, 50], 'name': '/delivery_provider_seamless_20180129.png'}}}, 'menu': {'type': 'Menu', 'label': 'Menu', 'anchor': 'View Menu', 'url': 'https://foursquare.com/v/dawat/3fd66200f964a52099e91ee3/menu', 'mobileUrl': 'https://foursquare.com/v/3fd66200f964a52099e91ee3/device_menu', 'externalUrl': 'http://www.dawatny.com/menu.html'}, 'allowMenuUrlEdit': True, 'beenHere': {'count': 0, 'unconfirmedCount': 0, 'marked': False, 'lastCheckinExpiredAt': 0}, 'specials': {'count': 0, 'items': []}, 'photos': {'count': 38, 'groups': [{'type': 'venue', 'name': 'Venue photos', 'count': 38, 'items': [{'id': '501aaeb4e4b093d4b0737a6a', 'createdAt': 1343925940, 'source': {'name': 'Foursquare for iOS', 'url': 'https://foursquare.com/download/#/iphone'}, 'prefix': 'https://fastly.4sqi.net/img/general/', 'suffix': '/RM39kAG_AnBKSHJTOO6CwduxNUy6tXFWgO9kmmTiMy4.jpg', 'width': 720, 'height': 540, 'user': {'id': '7463114', 'firstName': 'Emily', 'lastName': 'L', 'photo': {'prefix': 'https://fastly.4sqi.net/img/user/', 'suffix': '/7463114-SGALOJLPCSTLGUJM.jpg'}}, 'visibility': 'public'}]}]}, 'reasons': {'count': 1, 'items': [{'summary': 'Lots of people like this place', 'type': 'general', 'reasonName': 'rawLikesReason'}]}, 'description': 'Best Indian Restaurant in NYC', 'hereNow': {'count': 0, 'summary': 'Nobody here', 'groups': []}, 'createdAt': 1071014400, 'tips': {'count': 33, 'groups': [{'type': 'others', 'name': 'All tips', 'count': 33, 'items': [{'id': '4af6f65870c603bb8bd28eb4', 'createdAt': 1257698904, 'text': 'Get the tasting menu with 3 courses. No need for more courses... You will leave stuffed!', 'type': 'user', 'canonicalUrl': 'https://foursquare.com/item/4af6f65870c603bb8bd28eb4', 'lang': 'en', 'likes': {'count': 5, 'groups': [{'type': 'others', 'count': 5, 'items': [{'id': '57540325', 'firstName': 'Neeta', 'lastName': 'D', 'photo': {'prefix': 'https://fastly.4sqi.net/img/user/', 'suffix': '/blank_boy.png', 'default': True}}]}], 'summary': '5 likes'}, 'logView': True, 'agreeCount': 1, 'disagreeCount': 0, 'todo': {'count': 1}, 'user': {'id': '8273', 'firstName': 'Heather', 'lastName': 'E', 'photo': {'prefix': 'https://fastly.4sqi.net/img/user/', 'suffix': '/8273-V4RLNUUVJRGR4IMS.jpg'}}}]}]}, 'shortUrl': 'http://4sq.com/6mmAWs', 'timeZone': 'America/New_York', 'listed': {'count': 62, 'groups': [{'type': 'others', 'name': 'Lists from other people', 'count': 62, 'items': [{'id': '4f5f6feee4b04ddc398177bd', 'name': 'SimpleFoodie Recommends', 'description': '', 'type': 'others', 'user': {'id': '14760245', 'firstName': 'Simple', 'lastName': 'F', 'photo': {'prefix': 'https://fastly.4sqi.net/img/user/', 'suffix': '/24G4UJNJK1DWJYHF.jpg'}}, 'editable': False, 'public': True, 'collaborative': False, 'url': '/simplefoodie/list/simplefoodie-recommends', 'canonicalUrl': 'https://foursquare.com/simplefoodie/list/simplefoodie-recommends', 'createdAt': 1331654638, 'updatedAt': 1525625055, 'photo': {'id': '515e27f5e4b0e6feaf571f90', 'createdAt': 1365125109, 'prefix': 'https://fastly.4sqi.net/img/general/', 'suffix': '/421139_skWM-y7TWcuaAHZyCE61Ki5Ur3SYVLT_azGDannGsGc.jpg', 'width': 612, 'height': 612, 'user': {'id': '421139', 'firstName': 'Jess', 'lastName': 'K', 'photo': {'prefix': 'https://fastly.4sqi.net/img/user/', 'suffix': '/1NTYIIQFGVGBEEVC.jpg'}}, 'visibility': 'public'}, 'followers': {'count': 6}, 'listItems': {'count': 294, 'items': [{'id': 'v3fd66200f964a52099e91ee3', 'createdAt': 1338141834}]}}, {'id': '4f15f024d4f296f74f55b4ee', 'name': 'NYC Restaurant Week Downtown', 'description': 'A list of venues running NYC Restaurant Week Specials, powered by American Express.', 'type': 'others', 'user': {'id': '5097174', 'firstName': 'Tim', 'lastName': 'J', 'photo': {'prefix': 'https://fastly.4sqi.net/img/user/', 'suffix': '/D1JBBVZPAMB333S3.jpg'}}, 'editable': False, 'public': True, 'collaborative': False, 'url': '/user/5097174/list/nyc-restaurant-week-downtown', 'canonicalUrl': 'https://foursquare.com/user/5097174/list/nyc-restaurant-week-downtown', 'createdAt': 1326837796, 'updatedAt': 1516909968, 'photo': {'id': '4e0140dba12db11295580059', 'createdAt': 1308704987, 'prefix': 'https://fastly.4sqi.net/img/general/', 'suffix': '/DHYA10CFTPLHU0YW3KIG5A3UXDQLZM0Q35KITNFMB2IUFKPC.jpg', 'width': 720, 'height': 540, 'user': {'id': '37449', 'firstName': 'Marie', 'lastName': 'D', 'photo': {'prefix': 'https://fastly.4sqi.net/img/user/', 'suffix': '/37449-DC2FKSWSLJMRNURS.jpg'}}, 'visibility': 'public'}, 'followers': {'count': 29}, 'listItems': {'count': 108, 'items': [{'id': 't4af6f65870c603bb8bd28eb4', 'createdAt': 1326839509, 'photo': {'id': '4f08d6eee4b0ca3a5cbb7083', 'createdAt': 1325979374, 'prefix': 'https://fastly.4sqi.net/img/general/', 'suffix': '/5KLJAO2DDT5UFAYQGLBMSUBTO2QMJWTWHVAOBXBEQ5YZKOZL.jpg', 'width': 720, 'height': 540, 'user': {'id': '19038401', 'firstName': 'Helene', 'photo': {'prefix': 'https://fastly.4sqi.net/img/user/', 'suffix': '/53JL3XDLA3G0ESX3.jpg'}}, 'visibility': 'public'}}]}}, {'id': '4f047abebe7b46d0f96d0b56', 'name': 'NYCrestWeek', 'description': '', 'type': 'others', 'user': {'id': '14513244', 'firstName': 'Talis', 'lastName': 'B', 'photo': {'prefix': 'https://fastly.4sqi.net/img/user/', 'suffix': '/blank_boy.png', 'default': True}}, 'editable': False, 'public': True, 'collaborative': False, 'url': '/user/14513244/list/nycrestweek', 'canonicalUrl': 'https://foursquare.com/user/14513244/list/nycrestweek', 'createdAt': 1325693630, 'updatedAt': 1378309815, 'followers': {'count': 3}, 'listItems': {'count': 200, 'items': [{'id': 'v3fd66200f964a52099e91ee3', 'createdAt': 1325858718}]}}, {'id': '50ed8f34e4b0c468e221eb5f', 'name': 'Best NYC Indian', 'description': '', 'type': 'others', 'user': {'id': '726674', 'firstName': 'Jannie', 'photo': {'prefix': 'https://fastly.4sqi.net/img/user/', 'suffix': '/726674-X03VADISLCZGCJMQ.jpg'}}, 'editable': False, 'public': True, 'collaborative': False, 'url': '/jannieville/list/best-nyc-indian', 'canonicalUrl': 'https://foursquare.com/jannieville/list/best-nyc-indian', 'createdAt': 1357745972, 'updatedAt': 1357746057, 'followers': {'count': 3}, 'listItems': {'count': 5, 'items': [{'id': 'v3fd66200f964a52099e91ee3', 'createdAt': 1357746043}]}}]}]}, 'hours': {'status': 'Open until 10:30 PM', 'richStatus': {'entities': [], 'text': 'Open until 10:30 PM'}, 'isOpen': True, 'isLocalHoliday': False, 'dayData': [], 'timeframes': [{'days': 'Mon–Thu', 'includesToday': True, 'open': [{'renderedTime': '11:30 AM–10:30 PM'}], 'segments': []}, {'days': 'Fri–Sat', 'open': [{'renderedTime': '11:30 AM–11:00 PM'}], 'segments': []}, {'days': 'Sun', 'open': [{'renderedTime': '11:30 AM–10:00 PM'}], 'segments': []}]}, 'popular': {'isOpen': False, 'isLocalHoliday': False, 'timeframes': [{'days': 'Today', 'includesToday': True, 'open': [{'renderedTime': '6:00 PM–10:00 PM'}], 'segments': []}, {'days': 'Tue', 'open': [{'renderedTime': 'Noon–1:00 PM'}, {'renderedTime': '6:00 PM–10:00 PM'}], 'segments': []}, {'days': 'Wed', 'open': [{'renderedTime': 'Noon–1:00 PM'}, {'renderedTime': '6:00 PM–11:00 PM'}], 'segments': []}, {'days': 'Thu', 'open': [{'renderedTime': 'Noon–1:00 PM'}, {'renderedTime': '5:00 PM–10:00 PM'}], 'segments': []}, {'days': 'Fri', 'open': [{'renderedTime': 'Noon–2:00 PM'}, {'renderedTime': '6:00 PM–Midnight'}], 'segments': []}, {'days': 'Sat', 'open': [{'renderedTime': '5:00 PM–11:00 PM'}], 'segments': []}, {'days': 'Sun', 'open': [{'renderedTime': '1:00 PM–3:00 PM'}, {'renderedTime': '5:00 PM–9:00 PM'}], 'segments': []}]}, 'pageUpdates': {'count': 0, 'items': []}, 'inbox': {'count': 0, 'items': []}, 'attributes': {'groups': [{'type': 'price', 'name': 'Price', 'summary': '$$$$', 'count': 1, 'items': [{'displayName': 'Price', 'displayValue': '$$$$', 'priceTier': 4}]}, {'type': 'payments', 'name': 'Credit Cards', 'summary': 'Credit Cards', 'count': 7, 'items': [{'displayName': 'Credit Cards', 'displayValue': 'Yes (incl. Discover & Visa)'}]}, {'type': 'outdoorSeating', 'name': 'Outdoor Seating', 'count': 1, 'items': [{'displayName': 'Outdoor Seating', 'displayValue': 'No'}]}, {'type': 'music', 'name': 'Music', 'count': 3, 'items': [{'displayName': 'Music', 'displayValue': 'No'}]}, {'type': 'serves', 'name': 'Menus', 'summary': 'Dinner, Lunch & more', 'count': 8, 'items': [{'displayName': 'Brunch', 'displayValue': 'Brunch'}, {'displayName': 'Lunch', 'displayValue': 'Lunch'}, {'displayName': 'Dinner', 'displayValue': 'Dinner'}]}, {'type': 'drinks', 'name': 'Drinks', 'summary': 'Full Bar & Cocktails', 'count': 5, 'items': [{'displayName': 'Full Bar', 'displayValue': 'Full Bar'}, {'displayName': 'Cocktails', 'displayValue': 'Cocktails'}]}, {'type': 'diningOptions', 'name': 'Dining Options', 'summary': 'Delivery', 'count': 5, 'items': [{'displayName': 'Delivery', 'displayValue': 'Delivery'}]}, {'type': 'coatCheck', 'name': 'Coat Check', 'summary': 'Coat Check', 'count': 1, 'items': [{'displayName': 'Coat Check', 'displayValue': 'Yes'}]}, {'type': 'restroom', 'name': 'Restroom', 'summary': 'Restroom', 'count': 1, 'items': [{'displayName': 'Restroom', 'displayValue': 'Yes'}]}, {'type': 'wheelchairAccessible', 'name': 'Wheelchair Accessible', 'summary': 'Wheelchair Accessible', 'count': 1, 'items': [{'displayName': 'Wheelchair Accessible', 'displayValue': 'Yes'}]}]}, 'bestPhoto': {'id': '501aaeb4e4b093d4b0737a6a', 'createdAt': 1343925940, 'source': {'name': 'Foursquare for iOS', 'url': 'https://foursquare.com/download/#/iphone'}, 'prefix': 'https://fastly.4sqi.net/img/general/', 'suffix': '/RM39kAG_AnBKSHJTOO6CwduxNUy6tXFWgO9kmmTiMy4.jpg', 'width': 720, 'height': 540, 'visibility': 'public'}, 'colors': {'highlightColor': {'photoId': '501aaeb4e4b093d4b0737a6a', 'value': -4144960}, 'highlightTextColor': {'photoId': '501aaeb4e4b093d4b0737a6a', 'value': -16777216}, 'algoVersion': 3}}}}\n",
      "                         ID   Name  Likes  Rating  Tips\n",
      "0  3fd66200f964a52099e91ee3  Dawat     35     7.7    33\n",
      "( 38 / 39 ) processed\n"
     ]
    },
    {
     "name": "stdout",
     "output_type": "stream",
     "text": [
      "{'meta': {'code': 200, 'requestId': '5e1ca27ac94979001b2ac18e'}, 'response': {'venue': {'id': '4c48da9f3013a59356c5f0e1', 'name': 'Saffron Garden', 'contact': {'phone': '7184334449', 'formattedPhone': '(718) 433-4449'}, 'location': {'address': '46-11 Skillman Ave', 'crossStreet': 'btwn 46th and 47th', 'lat': 40.74655397129589, 'lng': -73.9177381667934, 'labeledLatLngs': [{'label': 'display', 'lat': 40.74655397129589, 'lng': -73.9177381667934}], 'postalCode': '11104', 'cc': 'US', 'city': 'Sunnyside', 'state': 'NY', 'country': 'United States', 'formattedAddress': ['46-11 Skillman Ave (btwn 46th and 47th)', 'Sunnyside, NY 11104', 'United States']}, 'canonicalUrl': 'https://foursquare.com/v/saffron-garden/4c48da9f3013a59356c5f0e1', 'categories': [{'id': '4bf58dd8d48988d10f941735', 'name': 'Indian Restaurant', 'pluralName': 'Indian Restaurants', 'shortName': 'Indian', 'icon': {'prefix': 'https://ss3.4sqi.net/img/categories_v2/food/indian_', 'suffix': '.png'}, 'primary': True}], 'verified': False, 'stats': {'tipCount': 16}, 'url': 'https://saffrongardensunnysideny.com', 'price': {'tier': 1, 'message': 'Cheap', 'currency': '$'}, 'hasMenu': True, 'likes': {'count': 17, 'groups': [{'type': 'others', 'count': 17, 'items': []}], 'summary': '17 Likes'}, 'dislike': False, 'ok': False, 'rating': 7.6, 'ratingColor': 'C5DE35', 'ratingSignals': 34, 'delivery': {'id': '436933', 'url': 'https://www.seamless.com/menu/saffron-garden-4611-skillman-ave-sunnyside/436933?affiliate=1131&utm_source=foursquare-affiliate-network&utm_medium=affiliate&utm_campaign=1131&utm_content=436933', 'provider': {'name': 'seamless', 'icon': {'prefix': 'https://fastly.4sqi.net/img/general/cap/', 'sizes': [40, 50], 'name': '/delivery_provider_seamless_20180129.png'}}}, 'menu': {'type': 'Menu', 'label': 'Menu', 'anchor': 'View Menu', 'url': 'https://foursquare.com/v/saffron-garden/4c48da9f3013a59356c5f0e1/menu', 'mobileUrl': 'https://foursquare.com/v/4c48da9f3013a59356c5f0e1/device_menu'}, 'allowMenuUrlEdit': True, 'beenHere': {'count': 0, 'unconfirmedCount': 0, 'marked': False, 'lastCheckinExpiredAt': 0}, 'specials': {'count': 0, 'items': []}, 'photos': {'count': 29, 'groups': [{'type': 'venue', 'name': 'Venue photos', 'count': 29, 'items': [{'id': '59d983b4db2aeb38904444cd', 'createdAt': 1507427252, 'source': {'name': 'Swarm for iOS', 'url': 'https://www.swarmapp.com'}, 'prefix': 'https://fastly.4sqi.net/img/general/', 'suffix': '/31980315_ErtMrJ7AdhRupGb2-BL_p4ca5EFzAzAF-9Ll0QwhtAU.jpg', 'width': 1920, 'height': 1440, 'user': {'id': '31980315', 'firstName': 'Georgia', 'photo': {'prefix': 'https://fastly.4sqi.net/img/user/', 'suffix': '/31980315-2VDOUH0BF3WHBO1A.jpg'}}, 'visibility': 'public'}]}]}, 'reasons': {'count': 0, 'items': []}, 'hereNow': {'count': 0, 'summary': 'Nobody here', 'groups': []}, 'createdAt': 1279842975, 'tips': {'count': 16, 'groups': [{'type': 'others', 'name': 'All tips', 'count': 16, 'items': [{'id': '50fb8993e4b05cb5741da84a', 'createdAt': 1358662035, 'text': 'Food here was fantastic and a wonderful introduction to Indian food! Great apps, mild chicken dishes with biryani and awesome rice pudding!', 'type': 'user', 'canonicalUrl': 'https://foursquare.com/item/50fb8993e4b05cb5741da84a', 'lang': 'en', 'likes': {'count': 1, 'groups': [{'type': 'others', 'count': 1, 'items': []}], 'summary': '1 like'}, 'logView': True, 'agreeCount': 1, 'disagreeCount': 0, 'todo': {'count': 0}, 'user': {'id': '185177', 'firstName': 'Stephanie', 'lastName': 'P', 'photo': {'prefix': 'https://fastly.4sqi.net/img/user/', 'suffix': '/185177-RYZ5QC3XX3GNKINL.jpg'}}}]}]}, 'shortUrl': 'http://4sq.com/b7CWNq', 'timeZone': 'America/New_York', 'listed': {'count': 8, 'groups': [{'type': 'others', 'name': 'Lists from other people', 'count': 8, 'items': [{'id': '5949381a974617339e4ce24c', 'name': 'Sunnyside Spots', 'description': '', 'type': 'others', 'user': {'id': '22585274', 'firstName': 'Nicholo', 'lastName': 'B', 'photo': {'prefix': 'https://fastly.4sqi.net/img/user/', 'suffix': '/T10OLC44P0LQ5YQ0.jpg'}}, 'editable': False, 'public': True, 'collaborative': False, 'url': '/user/22585274/list/sunnyside-spots', 'canonicalUrl': 'https://foursquare.com/user/22585274/list/sunnyside-spots', 'createdAt': 1497970714, 'updatedAt': 1576209061, 'photo': {'id': '4ed2f1709adf254459f95991', 'createdAt': 1322447216, 'prefix': 'https://fastly.4sqi.net/img/general/', 'suffix': '/1ZPNT1JQNQE3UWELCZGKQR54DYWMDO5PAYV4YOKU2DXD3FE4.jpg', 'width': 612, 'height': 612, 'user': {'id': '835836', 'firstName': 'Christopher', 'lastName': 'W', 'photo': {'prefix': 'https://fastly.4sqi.net/img/user/', 'suffix': '/XUZJXXABWR5Y4UTT.jpg'}}, 'visibility': 'public'}, 'followers': {'count': 0}, 'listItems': {'count': 43, 'items': [{'id': 'v4c48da9f3013a59356c5f0e1', 'createdAt': 1497970757}]}}, {'id': '59bc5b29dab4b15990926843', 'name': 'Notsofatdogs', 'description': '', 'type': 'others', 'user': {'id': '350833727', 'firstName': '', 'photo': {'prefix': 'https://fastly.4sqi.net/img/user/', 'suffix': '/blank_boy.png', 'default': True}}, 'editable': False, 'public': True, 'collaborative': False, 'url': '/user/350833727/list/notsofatdogs', 'canonicalUrl': 'https://foursquare.com/user/350833727/list/notsofatdogs', 'createdAt': 1505516329, 'updatedAt': 1521762183, 'photo': {'id': '56fa8561498e4cb7831a2bdf', 'createdAt': 1459258721, 'prefix': 'https://fastly.4sqi.net/img/general/', 'suffix': '/87447937_pTrzJyJ-5qK-b7w9BG4rTBpmR0D2eG6snmnO-DRHAic.jpg', 'width': 618, 'height': 445, 'user': {'id': '87447937', 'firstName': 'PureWow', 'photo': {'prefix': 'https://fastly.4sqi.net/img/user/', 'suffix': '/87447937-J0LUNLSTPTSQSM5R.png'}, 'type': 'page'}, 'visibility': 'public'}, 'followers': {'count': 0}, 'listItems': {'count': 63, 'items': [{'id': 'v4c48da9f3013a59356c5f0e1', 'createdAt': 1518287586}]}}, {'id': '5039a329e4b0fbecfdb7e9fb', 'name': 'Sunnyside: Quaint vs Trendy', 'description': \"All the best spots in this charming little nabe are gruff, older fixtures or newer, happenin' joints.  Either way, as a native for longer than a quarter-century, I guarantee you their awesomeness.\", 'type': 'others', 'user': {'id': '8386995', 'firstName': 'Jean 💜', 'photo': {'prefix': 'https://fastly.4sqi.net/img/user/', 'suffix': '/E4SZG1XB3SKW4JWQ.jpg'}}, 'editable': False, 'public': True, 'collaborative': False, 'url': '/jeenjeanjaan/list/sunnyside-quaint-vs-trendy', 'canonicalUrl': 'https://foursquare.com/jeenjeanjaan/list/sunnyside-quaint-vs-trendy', 'createdAt': 1345954601, 'updatedAt': 1547591483, 'photo': {'id': '4ebe9c3961af06192ab22c7b', 'createdAt': 1321114681, 'prefix': 'https://fastly.4sqi.net/img/general/', 'suffix': '/5NFBTEMCLHSLTOSS0MRL0EPL2WDWZQDXAA2WNLIXP5FJDG5B.jpg', 'width': 431, 'height': 720, 'user': {'id': '32057', 'firstName': 'Lenny', 'lastName': 'Z', 'photo': {'prefix': 'https://fastly.4sqi.net/img/user/', 'suffix': '/32057-WJQMTWSWCYDBTVA0.jpg'}}, 'visibility': 'public'}, 'followers': {'count': 11}, 'listItems': {'count': 53, 'items': [{'id': 'v4c48da9f3013a59356c5f0e1', 'createdAt': 1345955013, 'photo': {'id': '50cca1b7e4b03ef07a25e6b8', 'createdAt': 1355588023, 'prefix': 'https://fastly.4sqi.net/img/general/', 'suffix': '/8386995_OX9xKNGoxWJIlvagzeFyKoQ5sIdwIbd8sRLKVCAq-6g.jpg', 'width': 540, 'height': 720, 'user': {'id': '8386995', 'firstName': 'Jean 💜', 'photo': {'prefix': 'https://fastly.4sqi.net/img/user/', 'suffix': '/E4SZG1XB3SKW4JWQ.jpg'}}, 'visibility': 'public'}}]}}, {'id': '4f37d079e4b099ca94c564c5', 'name': 'Sunnyside', 'description': '', 'type': 'others', 'user': {'id': '4018916', 'firstName': 'Jill', 'lastName': 'G', 'photo': {'prefix': 'https://fastly.4sqi.net/img/user/', 'suffix': '/1WEU25I0DBXPOZWG.jpg'}}, 'editable': False, 'public': True, 'collaborative': False, 'url': '/jillash/list/sunnyside', 'canonicalUrl': 'https://foursquare.com/jillash/list/sunnyside', 'createdAt': 1329057913, 'updatedAt': 1387730932, 'followers': {'count': 31}, 'listItems': {'count': 41, 'items': [{'id': 'v4c48da9f3013a59356c5f0e1', 'createdAt': 1329061500}]}}]}]}, 'hours': {'status': 'Closed until 12:30 PM', 'richStatus': {'entities': [], 'text': 'Closed until 12:30 PM'}, 'isOpen': False, 'isLocalHoliday': False, 'dayData': [], 'timeframes': [{'days': 'Mon–Thu', 'includesToday': True, 'open': [{'renderedTime': '5:00 AM–10:30 AM'}, {'renderedTime': '12:30 PM–3:00 AM'}], 'segments': []}, {'days': 'Fri–Sat', 'open': [{'renderedTime': '5:00 AM–11:00 AM'}, {'renderedTime': '12:30 PM–3:00 AM'}], 'segments': []}, {'days': 'Sun', 'open': [{'renderedTime': '4:00 AM–10:00 AM'}, {'renderedTime': '12:30 PM–3:00 AM'}], 'segments': []}]}, 'popular': {'isOpen': False, 'isLocalHoliday': False, 'timeframes': [{'days': 'Today', 'includesToday': True, 'open': [{'renderedTime': '3:00 PM–4:00 PM'}, {'renderedTime': '6:00 PM–10:00 PM'}], 'segments': []}, {'days': 'Tue', 'open': [{'renderedTime': '6:00 PM–10:00 PM'}], 'segments': []}, {'days': 'Wed', 'open': [{'renderedTime': 'Noon–1:00 PM'}, {'renderedTime': '6:00 PM–10:00 PM'}], 'segments': []}, {'days': 'Thu', 'open': [{'renderedTime': '6:00 PM–10:00 PM'}], 'segments': []}, {'days': 'Fri', 'open': [{'renderedTime': '3:00 PM–11:00 PM'}], 'segments': []}, {'days': 'Sat', 'open': [{'renderedTime': '1:00 PM–11:00 PM'}], 'segments': []}, {'days': 'Sun', 'open': [{'renderedTime': 'Noon–10:00 PM'}], 'segments': []}]}, 'pageUpdates': {'count': 0, 'items': []}, 'inbox': {'count': 0, 'items': []}, 'attributes': {'groups': [{'type': 'price', 'name': 'Price', 'summary': '$', 'count': 1, 'items': [{'displayName': 'Price', 'displayValue': '$', 'priceTier': 1}]}, {'type': 'payments', 'name': 'Credit Cards', 'summary': 'Credit Cards', 'count': 7, 'items': [{'displayName': 'Credit Cards', 'displayValue': 'Yes (incl. Discover & Visa)'}]}, {'type': 'outdoorSeating', 'name': 'Outdoor Seating', 'count': 1, 'items': [{'displayName': 'Outdoor Seating', 'displayValue': 'No'}]}, {'type': 'diningOptions', 'name': 'Dining Options', 'summary': 'Delivery', 'count': 5, 'items': [{'displayName': 'Delivery', 'displayValue': 'Delivery'}]}]}, 'bestPhoto': {'id': '59d983b4db2aeb38904444cd', 'createdAt': 1507427252, 'source': {'name': 'Swarm for iOS', 'url': 'https://www.swarmapp.com'}, 'prefix': 'https://fastly.4sqi.net/img/general/', 'suffix': '/31980315_ErtMrJ7AdhRupGb2-BL_p4ca5EFzAzAF-9Ll0QwhtAU.jpg', 'width': 1920, 'height': 1440, 'visibility': 'public'}, 'colors': {'highlightColor': {'photoId': '59d983b4db2aeb38904444cd', 'value': -15198192}, 'highlightTextColor': {'photoId': '59d983b4db2aeb38904444cd', 'value': -1}, 'algoVersion': 3}}}}\n",
      "                         ID            Name  Likes  Rating  Tips\n",
      "0  4c48da9f3013a59356c5f0e1  Saffron Garden     17     7.6    16\n",
      "( 39 / 39 ) processed\n"
     ]
    },
    {
     "data": {
      "text/html": [
       "<div>\n",
       "<style scoped>\n",
       "    .dataframe tbody tr th:only-of-type {\n",
       "        vertical-align: middle;\n",
       "    }\n",
       "\n",
       "    .dataframe tbody tr th {\n",
       "        vertical-align: top;\n",
       "    }\n",
       "\n",
       "    .dataframe thead th {\n",
       "        text-align: right;\n",
       "    }\n",
       "</style>\n",
       "<table border=\"1\" class=\"dataframe\">\n",
       "  <thead>\n",
       "    <tr style=\"text-align: right;\">\n",
       "      <th></th>\n",
       "      <th>Borough</th>\n",
       "      <th>Neighborhood</th>\n",
       "      <th>ID</th>\n",
       "      <th>Name</th>\n",
       "      <th>Likes</th>\n",
       "      <th>Rating</th>\n",
       "      <th>Tips</th>\n",
       "    </tr>\n",
       "  </thead>\n",
       "  <tbody>\n",
       "    <tr>\n",
       "      <td>34</td>\n",
       "      <td>Queens</td>\n",
       "      <td>Jamaica Hills</td>\n",
       "      <td>0</td>\n",
       "      <td>0</td>\n",
       "      <td>0</td>\n",
       "      <td>0.0</td>\n",
       "      <td>0</td>\n",
       "    </tr>\n",
       "    <tr>\n",
       "      <td>35</td>\n",
       "      <td>Manhattan</td>\n",
       "      <td>Sutton Place</td>\n",
       "      <td>4a63bfb4f964a520b3c51fe3</td>\n",
       "      <td>Chola Eclectic Indian Cuisine</td>\n",
       "      <td>154</td>\n",
       "      <td>8.3</td>\n",
       "      <td>56</td>\n",
       "    </tr>\n",
       "    <tr>\n",
       "      <td>36</td>\n",
       "      <td>Manhattan</td>\n",
       "      <td>Sutton Place</td>\n",
       "      <td>4fe4fb50c2eee335e4fea69d</td>\n",
       "      <td>Moti Mahal Delux</td>\n",
       "      <td>185</td>\n",
       "      <td>8.4</td>\n",
       "      <td>82</td>\n",
       "    </tr>\n",
       "    <tr>\n",
       "      <td>37</td>\n",
       "      <td>Manhattan</td>\n",
       "      <td>Sutton Place</td>\n",
       "      <td>3fd66200f964a52099e91ee3</td>\n",
       "      <td>Dawat</td>\n",
       "      <td>35</td>\n",
       "      <td>7.7</td>\n",
       "      <td>33</td>\n",
       "    </tr>\n",
       "    <tr>\n",
       "      <td>38</td>\n",
       "      <td>Queens</td>\n",
       "      <td>Sunnyside Gardens</td>\n",
       "      <td>4c48da9f3013a59356c5f0e1</td>\n",
       "      <td>Saffron Garden</td>\n",
       "      <td>17</td>\n",
       "      <td>7.6</td>\n",
       "      <td>16</td>\n",
       "    </tr>\n",
       "  </tbody>\n",
       "</table>\n",
       "</div>"
      ],
      "text/plain": [
       "      Borough       Neighborhood                        ID  \\\n",
       "34     Queens      Jamaica Hills                         0   \n",
       "35  Manhattan       Sutton Place  4a63bfb4f964a520b3c51fe3   \n",
       "36  Manhattan       Sutton Place  4fe4fb50c2eee335e4fea69d   \n",
       "37  Manhattan       Sutton Place  3fd66200f964a52099e91ee3   \n",
       "38     Queens  Sunnyside Gardens  4c48da9f3013a59356c5f0e1   \n",
       "\n",
       "                             Name Likes  Rating Tips  \n",
       "34                              0     0     0.0    0  \n",
       "35  Chola Eclectic Indian Cuisine   154     8.3   56  \n",
       "36               Moti Mahal Delux   185     8.4   82  \n",
       "37                          Dawat    35     7.7   33  \n",
       "38                 Saffron Garden    17     7.6   16  "
      ]
     },
     "execution_count": 26,
     "metadata": {},
     "output_type": "execute_result"
    }
   ],
   "source": [
    "column_names=['Borough', 'Neighborhood', 'ID','Name','Likes','Rating','Tips']\n",
    "indian_rest_stats_ny=pd.DataFrame(columns=column_names)\n",
    "count=1\n",
    "for row in indian_rest_ny.values.tolist():\n",
    "    Borough,Neighborhood,ID,Name=row\n",
    "    try:\n",
    "        venue_details=get_venue_details(ID)\n",
    "        print(venue_details)\n",
    "        id,name,likes,rating,tips=venue_details.values.tolist()[0]\n",
    "    except IndexError:\n",
    "        print('No data available for id=',ID)\n",
    "        # we will assign 0 value for these resturants as they may have been \n",
    "        # recently opened or details does not exist in FourSquare Database\n",
    "        id,name,likes,rating,tips=[0]*5\n",
    "    print('(',count,'/',len(indian_rest_ny),')','processed')\n",
    "    indian_rest_stats_ny = indian_rest_stats_ny.append({'Borough': Borough,\n",
    "                                                'Neighborhood': Neighborhood, \n",
    "                                                'ID': id,\n",
    "                                                'Name' : name,\n",
    "                                                'Likes' : likes,\n",
    "                                                'Rating' : rating,\n",
    "                                                'Tips' : tips\n",
    "                                               }, ignore_index=True)\n",
    "    count+=1\n",
    "indian_rest_stats_ny.tail()"
   ]
  },
  {
   "cell_type": "code",
   "execution_count": 27,
   "metadata": {
    "ExecuteTime": {
     "end_time": "2020-01-13T17:02:19.671746Z",
     "start_time": "2020-01-13T17:02:19.665759Z"
    }
   },
   "outputs": [],
   "source": [
    "indian_rest_stats_ny.to_csv('indian_rest_stats_ny_csv.csv') # save data to a .csv file "
   ]
  },
  {
   "cell_type": "code",
   "execution_count": 28,
   "metadata": {
    "ExecuteTime": {
     "end_time": "2020-01-13T17:02:23.278900Z",
     "start_time": "2020-01-13T17:02:23.273913Z"
    }
   },
   "outputs": [
    {
     "data": {
      "text/plain": [
       "(39, 7)"
      ]
     },
     "execution_count": 28,
     "metadata": {},
     "output_type": "execute_result"
    }
   ],
   "source": [
    "indian_rest_stats_ny.shape"
   ]
  },
  {
   "cell_type": "markdown",
   "metadata": {},
   "source": [
    "We got statistics for all 39 Indian Restaurants in New York city. "
   ]
  },
  {
   "cell_type": "markdown",
   "metadata": {},
   "source": [
    "Check values in DataFrame"
   ]
  },
  {
   "cell_type": "code",
   "execution_count": 29,
   "metadata": {
    "ExecuteTime": {
     "end_time": "2020-01-13T17:03:06.957660Z",
     "start_time": "2020-01-13T17:03:06.949665Z"
    }
   },
   "outputs": [
    {
     "name": "stdout",
     "output_type": "stream",
     "text": [
      "<class 'pandas.core.frame.DataFrame'>\n",
      "RangeIndex: 39 entries, 0 to 38\n",
      "Data columns (total 7 columns):\n",
      "Borough         39 non-null object\n",
      "Neighborhood    39 non-null object\n",
      "ID              39 non-null object\n",
      "Name            39 non-null object\n",
      "Likes           39 non-null object\n",
      "Rating          39 non-null float64\n",
      "Tips            39 non-null object\n",
      "dtypes: float64(1), object(6)\n",
      "memory usage: 2.3+ KB\n"
     ]
    }
   ],
   "source": [
    "indian_rest_stats_ny.info()"
   ]
  },
  {
   "cell_type": "markdown",
   "metadata": {},
   "source": [
    "Values like Likes, Tips are string values. Convert them into float for further analysis."
   ]
  },
  {
   "cell_type": "code",
   "execution_count": 30,
   "metadata": {
    "ExecuteTime": {
     "end_time": "2020-01-13T17:04:19.812702Z",
     "start_time": "2020-01-13T17:04:19.773725Z"
    }
   },
   "outputs": [
    {
     "name": "stdout",
     "output_type": "stream",
     "text": [
      "<class 'pandas.core.frame.DataFrame'>\n",
      "RangeIndex: 39 entries, 0 to 38\n",
      "Data columns (total 7 columns):\n",
      "Borough         39 non-null object\n",
      "Neighborhood    39 non-null object\n",
      "ID              39 non-null object\n",
      "Name            39 non-null object\n",
      "Likes           39 non-null float64\n",
      "Rating          39 non-null float64\n",
      "Tips            39 non-null float64\n",
      "dtypes: float64(3), object(4)\n",
      "memory usage: 2.3+ KB\n"
     ]
    }
   ],
   "source": [
    "indian_rest_stats_ny['Likes'] = indian_rest_stats_ny['Likes'].astype('float64')\n",
    "indian_rest_stats_ny['Tips'] = indian_rest_stats_ny['Tips'].astype('float64')\n",
    "indian_rest_stats_ny.info()"
   ]
  },
  {
   "cell_type": "code",
   "execution_count": 31,
   "metadata": {
    "ExecuteTime": {
     "end_time": "2020-01-13T17:04:36.207004Z",
     "start_time": "2020-01-13T17:04:36.143986Z"
    }
   },
   "outputs": [
    {
     "data": {
      "text/html": [
       "<div>\n",
       "<style scoped>\n",
       "    .dataframe tbody tr th:only-of-type {\n",
       "        vertical-align: middle;\n",
       "    }\n",
       "\n",
       "    .dataframe tbody tr th {\n",
       "        vertical-align: top;\n",
       "    }\n",
       "\n",
       "    .dataframe thead th {\n",
       "        text-align: right;\n",
       "    }\n",
       "</style>\n",
       "<table border=\"1\" class=\"dataframe\">\n",
       "  <thead>\n",
       "    <tr style=\"text-align: right;\">\n",
       "      <th></th>\n",
       "      <th>Likes</th>\n",
       "      <th>Rating</th>\n",
       "      <th>Tips</th>\n",
       "    </tr>\n",
       "  </thead>\n",
       "  <tbody>\n",
       "    <tr>\n",
       "      <td>count</td>\n",
       "      <td>39.000000</td>\n",
       "      <td>39.000000</td>\n",
       "      <td>39.000000</td>\n",
       "    </tr>\n",
       "    <tr>\n",
       "      <td>mean</td>\n",
       "      <td>56.282051</td>\n",
       "      <td>7.282051</td>\n",
       "      <td>20.820513</td>\n",
       "    </tr>\n",
       "    <tr>\n",
       "      <td>std</td>\n",
       "      <td>98.093926</td>\n",
       "      <td>1.903303</td>\n",
       "      <td>26.544770</td>\n",
       "    </tr>\n",
       "    <tr>\n",
       "      <td>min</td>\n",
       "      <td>0.000000</td>\n",
       "      <td>0.000000</td>\n",
       "      <td>0.000000</td>\n",
       "    </tr>\n",
       "    <tr>\n",
       "      <td>25%</td>\n",
       "      <td>13.000000</td>\n",
       "      <td>7.350000</td>\n",
       "      <td>6.000000</td>\n",
       "    </tr>\n",
       "    <tr>\n",
       "      <td>50%</td>\n",
       "      <td>29.000000</td>\n",
       "      <td>7.700000</td>\n",
       "      <td>14.000000</td>\n",
       "    </tr>\n",
       "    <tr>\n",
       "      <td>75%</td>\n",
       "      <td>63.000000</td>\n",
       "      <td>8.250000</td>\n",
       "      <td>21.000000</td>\n",
       "    </tr>\n",
       "    <tr>\n",
       "      <td>max</td>\n",
       "      <td>590.000000</td>\n",
       "      <td>9.100000</td>\n",
       "      <td>146.000000</td>\n",
       "    </tr>\n",
       "  </tbody>\n",
       "</table>\n",
       "</div>"
      ],
      "text/plain": [
       "            Likes     Rating        Tips\n",
       "count   39.000000  39.000000   39.000000\n",
       "mean    56.282051   7.282051   20.820513\n",
       "std     98.093926   1.903303   26.544770\n",
       "min      0.000000   0.000000    0.000000\n",
       "25%     13.000000   7.350000    6.000000\n",
       "50%     29.000000   7.700000   14.000000\n",
       "75%     63.000000   8.250000   21.000000\n",
       "max    590.000000   9.100000  146.000000"
      ]
     },
     "execution_count": 31,
     "metadata": {},
     "output_type": "execute_result"
    }
   ],
   "source": [
    "indian_rest_stats_ny.describe()"
   ]
  },
  {
   "cell_type": "code",
   "execution_count": 32,
   "metadata": {
    "ExecuteTime": {
     "end_time": "2020-01-13T17:05:11.391576Z",
     "start_time": "2020-01-13T17:05:11.384571Z"
    }
   },
   "outputs": [
    {
     "data": {
      "text/plain": [
       "Borough                        Manhattan\n",
       "Neighborhood                     Tribeca\n",
       "ID              4bbb9dbded7776b0e1ad3e51\n",
       "Name                    Tamarind TriBeCa\n",
       "Likes                                590\n",
       "Rating                               9.1\n",
       "Tips                                 146\n",
       "Name: 21, dtype: object"
      ]
     },
     "execution_count": 32,
     "metadata": {},
     "output_type": "execute_result"
    }
   ],
   "source": [
    "# Resturant with maximum Likes\n",
    "indian_rest_stats_ny.iloc[indian_rest_stats_ny['Likes'].idxmax()]"
   ]
  },
  {
   "cell_type": "code",
   "execution_count": 33,
   "metadata": {
    "ExecuteTime": {
     "end_time": "2020-01-13T17:05:26.080667Z",
     "start_time": "2020-01-13T17:05:26.074670Z"
    }
   },
   "outputs": [
    {
     "data": {
      "text/plain": [
       "Borough                        Manhattan\n",
       "Neighborhood                     Tribeca\n",
       "ID              4bbb9dbded7776b0e1ad3e51\n",
       "Name                    Tamarind TriBeCa\n",
       "Likes                                590\n",
       "Rating                               9.1\n",
       "Tips                                 146\n",
       "Name: 21, dtype: object"
      ]
     },
     "execution_count": 33,
     "metadata": {},
     "output_type": "execute_result"
    }
   ],
   "source": [
    "# Resturant with maximum Ratings\n",
    "indian_rest_stats_ny.iloc[indian_rest_stats_ny['Rating'].idxmax()]"
   ]
  },
  {
   "cell_type": "code",
   "execution_count": 34,
   "metadata": {
    "ExecuteTime": {
     "end_time": "2020-01-13T17:05:41.732419Z",
     "start_time": "2020-01-13T17:05:41.727426Z"
    }
   },
   "outputs": [
    {
     "data": {
      "text/plain": [
       "Borough                        Manhattan\n",
       "Neighborhood                     Tribeca\n",
       "ID              4bbb9dbded7776b0e1ad3e51\n",
       "Name                    Tamarind TriBeCa\n",
       "Likes                                590\n",
       "Rating                               9.1\n",
       "Tips                                 146\n",
       "Name: 21, dtype: object"
      ]
     },
     "execution_count": 34,
     "metadata": {},
     "output_type": "execute_result"
    }
   ],
   "source": [
    "# Resturant with maximum Tips\n",
    "indian_rest_stats_ny.iloc[indian_rest_stats_ny['Tips'].idxmax()]"
   ]
  },
  {
   "cell_type": "markdown",
   "metadata": {},
   "source": [
    "## Identify and visualize neighborhood and borough with the maximum average rating of restaurants"
   ]
  },
  {
   "cell_type": "code",
   "execution_count": 35,
   "metadata": {
    "ExecuteTime": {
     "end_time": "2020-01-13T17:06:23.962498Z",
     "start_time": "2020-01-13T17:06:23.905508Z"
    }
   },
   "outputs": [
    {
     "data": {
      "text/html": [
       "<div>\n",
       "<style scoped>\n",
       "    .dataframe tbody tr th:only-of-type {\n",
       "        vertical-align: middle;\n",
       "    }\n",
       "\n",
       "    .dataframe tbody tr th {\n",
       "        vertical-align: top;\n",
       "    }\n",
       "\n",
       "    .dataframe thead th {\n",
       "        text-align: right;\n",
       "    }\n",
       "</style>\n",
       "<table border=\"1\" class=\"dataframe\">\n",
       "  <thead>\n",
       "    <tr style=\"text-align: right;\">\n",
       "      <th></th>\n",
       "      <th>Neighborhood</th>\n",
       "      <th>Average Rating</th>\n",
       "    </tr>\n",
       "  </thead>\n",
       "  <tbody>\n",
       "    <tr>\n",
       "      <td>30</td>\n",
       "      <td>Tribeca</td>\n",
       "      <td>9.100000</td>\n",
       "    </tr>\n",
       "    <tr>\n",
       "      <td>23</td>\n",
       "      <td>Noho</td>\n",
       "      <td>8.800000</td>\n",
       "    </tr>\n",
       "    <tr>\n",
       "      <td>7</td>\n",
       "      <td>Chelsea</td>\n",
       "      <td>8.700000</td>\n",
       "    </tr>\n",
       "    <tr>\n",
       "      <td>11</td>\n",
       "      <td>Fort Greene</td>\n",
       "      <td>8.600000</td>\n",
       "    </tr>\n",
       "    <tr>\n",
       "      <td>25</td>\n",
       "      <td>Prospect Lefferts Gardens</td>\n",
       "      <td>8.500000</td>\n",
       "    </tr>\n",
       "    <tr>\n",
       "      <td>24</td>\n",
       "      <td>North Side</td>\n",
       "      <td>8.400000</td>\n",
       "    </tr>\n",
       "    <tr>\n",
       "      <td>8</td>\n",
       "      <td>Civic Center</td>\n",
       "      <td>8.300000</td>\n",
       "    </tr>\n",
       "    <tr>\n",
       "      <td>14</td>\n",
       "      <td>Greenwich Village</td>\n",
       "      <td>8.300000</td>\n",
       "    </tr>\n",
       "    <tr>\n",
       "      <td>1</td>\n",
       "      <td>Bayside</td>\n",
       "      <td>8.200000</td>\n",
       "    </tr>\n",
       "    <tr>\n",
       "      <td>29</td>\n",
       "      <td>Sutton Place</td>\n",
       "      <td>8.133333</td>\n",
       "    </tr>\n",
       "  </tbody>\n",
       "</table>\n",
       "</div>"
      ],
      "text/plain": [
       "                 Neighborhood  Average Rating\n",
       "30                    Tribeca        9.100000\n",
       "23                       Noho        8.800000\n",
       "7                     Chelsea        8.700000\n",
       "11                Fort Greene        8.600000\n",
       "25  Prospect Lefferts Gardens        8.500000\n",
       "24                 North Side        8.400000\n",
       "8                Civic Center        8.300000\n",
       "14          Greenwich Village        8.300000\n",
       "1                     Bayside        8.200000\n",
       "29               Sutton Place        8.133333"
      ]
     },
     "execution_count": 35,
     "metadata": {},
     "output_type": "execute_result"
    }
   ],
   "source": [
    "ny_neighborhood_stats=indian_rest_stats_ny.groupby('Neighborhood',as_index=False).mean()[['Neighborhood','Rating']]\n",
    "ny_neighborhood_stats.columns=['Neighborhood','Average Rating']\n",
    "ny_neighborhood_stats.sort_values(['Average Rating'],ascending=False).head(10)"
   ]
  },
  {
   "cell_type": "code",
   "execution_count": 36,
   "metadata": {
    "ExecuteTime": {
     "end_time": "2020-01-13T17:07:05.371997Z",
     "start_time": "2020-01-13T17:07:05.359004Z"
    }
   },
   "outputs": [
    {
     "data": {
      "text/html": [
       "<div>\n",
       "<style scoped>\n",
       "    .dataframe tbody tr th:only-of-type {\n",
       "        vertical-align: middle;\n",
       "    }\n",
       "\n",
       "    .dataframe tbody tr th {\n",
       "        vertical-align: top;\n",
       "    }\n",
       "\n",
       "    .dataframe thead th {\n",
       "        text-align: right;\n",
       "    }\n",
       "</style>\n",
       "<table border=\"1\" class=\"dataframe\">\n",
       "  <thead>\n",
       "    <tr style=\"text-align: right;\">\n",
       "      <th></th>\n",
       "      <th>Borough</th>\n",
       "      <th>Average Rating</th>\n",
       "    </tr>\n",
       "  </thead>\n",
       "  <tbody>\n",
       "    <tr>\n",
       "      <td>2</td>\n",
       "      <td>Manhattan</td>\n",
       "      <td>8.100000</td>\n",
       "    </tr>\n",
       "    <tr>\n",
       "      <td>1</td>\n",
       "      <td>Brooklyn</td>\n",
       "      <td>7.391667</td>\n",
       "    </tr>\n",
       "    <tr>\n",
       "      <td>0</td>\n",
       "      <td>Bronx</td>\n",
       "      <td>6.700000</td>\n",
       "    </tr>\n",
       "    <tr>\n",
       "      <td>3</td>\n",
       "      <td>Queens</td>\n",
       "      <td>6.314286</td>\n",
       "    </tr>\n",
       "    <tr>\n",
       "      <td>4</td>\n",
       "      <td>Staten Island</td>\n",
       "      <td>4.050000</td>\n",
       "    </tr>\n",
       "  </tbody>\n",
       "</table>\n",
       "</div>"
      ],
      "text/plain": [
       "         Borough  Average Rating\n",
       "2      Manhattan        8.100000\n",
       "1       Brooklyn        7.391667\n",
       "0          Bronx        6.700000\n",
       "3         Queens        6.314286\n",
       "4  Staten Island        4.050000"
      ]
     },
     "execution_count": 36,
     "metadata": {},
     "output_type": "execute_result"
    }
   ],
   "source": [
    "ny_borough_stats=indian_rest_stats_ny.groupby('Borough',as_index=False).mean()[['Borough','Rating']]\n",
    "ny_borough_stats.columns=['Borough','Average Rating']\n",
    "ny_borough_stats.sort_values(['Average Rating'],ascending=False).head()"
   ]
  },
  {
   "cell_type": "code",
   "execution_count": 37,
   "metadata": {
    "ExecuteTime": {
     "end_time": "2020-01-13T17:08:28.186470Z",
     "start_time": "2020-01-13T17:08:28.006573Z"
    }
   },
   "outputs": [
    {
     "data": {
      "image/png": "[encoded data removed]",
      "text/plain": [
       "<Figure size 1400x400 with 1 Axes>"
      ]
     },
     "metadata": {
      "needs_background": "light"
     },
     "output_type": "display_data"
    }
   ],
   "source": [
    "clr = \"green\"\n",
    "plt.figure(figsize=(14,4), dpi = 100)\n",
    "plt.title('Average rating of Indian Restaurants for each Borough')\n",
    "plt.xlabel('Borough', fontsize = 12)\n",
    "plt.ylabel('Average Rating', fontsize=12)\n",
    "indian_rest_stats_ny.groupby('Borough').mean()['Rating'].plot(kind='bar', color=clr)\n",
    "plt.legend()\n",
    "plt.show()"
   ]
  },
  {
   "cell_type": "markdown",
   "metadata": {},
   "source": [
    "Consider all the neighborhoods with average rating greater or equal 8.0 to visualize on a map"
   ]
  },
  {
   "cell_type": "code",
   "execution_count": 40,
   "metadata": {
    "ExecuteTime": {
     "end_time": "2020-01-13T17:09:54.460969Z",
     "start_time": "2020-01-13T17:09:54.451964Z"
    }
   },
   "outputs": [
    {
     "data": {
      "text/html": [
       "<div>\n",
       "<style scoped>\n",
       "    .dataframe tbody tr th:only-of-type {\n",
       "        vertical-align: middle;\n",
       "    }\n",
       "\n",
       "    .dataframe tbody tr th {\n",
       "        vertical-align: top;\n",
       "    }\n",
       "\n",
       "    .dataframe thead th {\n",
       "        text-align: right;\n",
       "    }\n",
       "</style>\n",
       "<table border=\"1\" class=\"dataframe\">\n",
       "  <thead>\n",
       "    <tr style=\"text-align: right;\">\n",
       "      <th></th>\n",
       "      <th>Neighborhood</th>\n",
       "      <th>Average Rating</th>\n",
       "    </tr>\n",
       "  </thead>\n",
       "  <tbody>\n",
       "    <tr>\n",
       "      <td>1</td>\n",
       "      <td>Bayside</td>\n",
       "      <td>8.200000</td>\n",
       "    </tr>\n",
       "    <tr>\n",
       "      <td>2</td>\n",
       "      <td>Boerum Hill</td>\n",
       "      <td>8.100000</td>\n",
       "    </tr>\n",
       "    <tr>\n",
       "      <td>7</td>\n",
       "      <td>Chelsea</td>\n",
       "      <td>8.700000</td>\n",
       "    </tr>\n",
       "    <tr>\n",
       "      <td>8</td>\n",
       "      <td>Civic Center</td>\n",
       "      <td>8.300000</td>\n",
       "    </tr>\n",
       "    <tr>\n",
       "      <td>11</td>\n",
       "      <td>Fort Greene</td>\n",
       "      <td>8.600000</td>\n",
       "    </tr>\n",
       "    <tr>\n",
       "      <td>14</td>\n",
       "      <td>Greenwich Village</td>\n",
       "      <td>8.300000</td>\n",
       "    </tr>\n",
       "    <tr>\n",
       "      <td>21</td>\n",
       "      <td>Murray Hill</td>\n",
       "      <td>8.100000</td>\n",
       "    </tr>\n",
       "    <tr>\n",
       "      <td>22</td>\n",
       "      <td>New Dorp</td>\n",
       "      <td>8.100000</td>\n",
       "    </tr>\n",
       "    <tr>\n",
       "      <td>23</td>\n",
       "      <td>Noho</td>\n",
       "      <td>8.800000</td>\n",
       "    </tr>\n",
       "    <tr>\n",
       "      <td>24</td>\n",
       "      <td>North Side</td>\n",
       "      <td>8.400000</td>\n",
       "    </tr>\n",
       "    <tr>\n",
       "      <td>25</td>\n",
       "      <td>Prospect Lefferts Gardens</td>\n",
       "      <td>8.500000</td>\n",
       "    </tr>\n",
       "    <tr>\n",
       "      <td>29</td>\n",
       "      <td>Sutton Place</td>\n",
       "      <td>8.133333</td>\n",
       "    </tr>\n",
       "    <tr>\n",
       "      <td>30</td>\n",
       "      <td>Tribeca</td>\n",
       "      <td>9.100000</td>\n",
       "    </tr>\n",
       "  </tbody>\n",
       "</table>\n",
       "</div>"
      ],
      "text/plain": [
       "                 Neighborhood  Average Rating\n",
       "1                     Bayside        8.200000\n",
       "2                 Boerum Hill        8.100000\n",
       "7                     Chelsea        8.700000\n",
       "8                Civic Center        8.300000\n",
       "11                Fort Greene        8.600000\n",
       "14          Greenwich Village        8.300000\n",
       "21                Murray Hill        8.100000\n",
       "22                   New Dorp        8.100000\n",
       "23                       Noho        8.800000\n",
       "24                 North Side        8.400000\n",
       "25  Prospect Lefferts Gardens        8.500000\n",
       "29               Sutton Place        8.133333\n",
       "30                    Tribeca        9.100000"
      ]
     },
     "execution_count": 40,
     "metadata": {},
     "output_type": "execute_result"
    }
   ],
   "source": [
    "ny_neighborhood_stats=ny_neighborhood_stats[ny_neighborhood_stats['Average Rating']>=8.0]\n",
    "ny_neighborhood_stats"
   ]
  },
  {
   "cell_type": "markdown",
   "metadata": {},
   "source": [
    "Join this Dataset to original New York data to get longitude and latitude"
   ]
  },
  {
   "cell_type": "code",
   "execution_count": 41,
   "metadata": {
    "ExecuteTime": {
     "end_time": "2020-01-13T17:10:23.981608Z",
     "start_time": "2020-01-13T17:10:23.893465Z"
    }
   },
   "outputs": [
    {
     "data": {
      "text/html": [
       "<div>\n",
       "<style scoped>\n",
       "    .dataframe tbody tr th:only-of-type {\n",
       "        vertical-align: middle;\n",
       "    }\n",
       "\n",
       "    .dataframe tbody tr th {\n",
       "        vertical-align: top;\n",
       "    }\n",
       "\n",
       "    .dataframe thead th {\n",
       "        text-align: right;\n",
       "    }\n",
       "</style>\n",
       "<table border=\"1\" class=\"dataframe\">\n",
       "  <thead>\n",
       "    <tr style=\"text-align: right;\">\n",
       "      <th></th>\n",
       "      <th>Borough</th>\n",
       "      <th>Neighborhood</th>\n",
       "      <th>Latitude</th>\n",
       "      <th>Longitude</th>\n",
       "      <th>Average Rating</th>\n",
       "    </tr>\n",
       "  </thead>\n",
       "  <tbody>\n",
       "    <tr>\n",
       "      <td>0</td>\n",
       "      <td>Queens</td>\n",
       "      <td>Bayside</td>\n",
       "      <td>40.766041</td>\n",
       "      <td>-73.774274</td>\n",
       "      <td>8.200000</td>\n",
       "    </tr>\n",
       "    <tr>\n",
       "      <td>1</td>\n",
       "      <td>Brooklyn</td>\n",
       "      <td>Boerum Hill</td>\n",
       "      <td>40.685683</td>\n",
       "      <td>-73.983748</td>\n",
       "      <td>8.100000</td>\n",
       "    </tr>\n",
       "    <tr>\n",
       "      <td>2</td>\n",
       "      <td>Manhattan</td>\n",
       "      <td>Chelsea</td>\n",
       "      <td>40.744035</td>\n",
       "      <td>-74.003116</td>\n",
       "      <td>8.700000</td>\n",
       "    </tr>\n",
       "    <tr>\n",
       "      <td>3</td>\n",
       "      <td>Staten Island</td>\n",
       "      <td>Chelsea</td>\n",
       "      <td>40.594726</td>\n",
       "      <td>-74.189560</td>\n",
       "      <td>8.700000</td>\n",
       "    </tr>\n",
       "    <tr>\n",
       "      <td>4</td>\n",
       "      <td>Manhattan</td>\n",
       "      <td>Civic Center</td>\n",
       "      <td>40.715229</td>\n",
       "      <td>-74.005415</td>\n",
       "      <td>8.300000</td>\n",
       "    </tr>\n",
       "    <tr>\n",
       "      <td>5</td>\n",
       "      <td>Brooklyn</td>\n",
       "      <td>Fort Greene</td>\n",
       "      <td>40.688527</td>\n",
       "      <td>-73.972906</td>\n",
       "      <td>8.600000</td>\n",
       "    </tr>\n",
       "    <tr>\n",
       "      <td>6</td>\n",
       "      <td>Manhattan</td>\n",
       "      <td>Greenwich Village</td>\n",
       "      <td>40.726933</td>\n",
       "      <td>-73.999914</td>\n",
       "      <td>8.300000</td>\n",
       "    </tr>\n",
       "    <tr>\n",
       "      <td>7</td>\n",
       "      <td>Manhattan</td>\n",
       "      <td>Murray Hill</td>\n",
       "      <td>40.748303</td>\n",
       "      <td>-73.978332</td>\n",
       "      <td>8.100000</td>\n",
       "    </tr>\n",
       "    <tr>\n",
       "      <td>8</td>\n",
       "      <td>Queens</td>\n",
       "      <td>Murray Hill</td>\n",
       "      <td>40.764126</td>\n",
       "      <td>-73.812763</td>\n",
       "      <td>8.100000</td>\n",
       "    </tr>\n",
       "    <tr>\n",
       "      <td>9</td>\n",
       "      <td>Staten Island</td>\n",
       "      <td>New Dorp</td>\n",
       "      <td>40.572572</td>\n",
       "      <td>-74.116479</td>\n",
       "      <td>8.100000</td>\n",
       "    </tr>\n",
       "    <tr>\n",
       "      <td>10</td>\n",
       "      <td>Manhattan</td>\n",
       "      <td>Noho</td>\n",
       "      <td>40.723259</td>\n",
       "      <td>-73.988434</td>\n",
       "      <td>8.800000</td>\n",
       "    </tr>\n",
       "    <tr>\n",
       "      <td>11</td>\n",
       "      <td>Brooklyn</td>\n",
       "      <td>North Side</td>\n",
       "      <td>40.714823</td>\n",
       "      <td>-73.958809</td>\n",
       "      <td>8.400000</td>\n",
       "    </tr>\n",
       "    <tr>\n",
       "      <td>12</td>\n",
       "      <td>Brooklyn</td>\n",
       "      <td>Prospect Lefferts Gardens</td>\n",
       "      <td>40.658420</td>\n",
       "      <td>-73.954899</td>\n",
       "      <td>8.500000</td>\n",
       "    </tr>\n",
       "    <tr>\n",
       "      <td>13</td>\n",
       "      <td>Manhattan</td>\n",
       "      <td>Sutton Place</td>\n",
       "      <td>40.760280</td>\n",
       "      <td>-73.963556</td>\n",
       "      <td>8.133333</td>\n",
       "    </tr>\n",
       "    <tr>\n",
       "      <td>14</td>\n",
       "      <td>Manhattan</td>\n",
       "      <td>Tribeca</td>\n",
       "      <td>40.721522</td>\n",
       "      <td>-74.010683</td>\n",
       "      <td>9.100000</td>\n",
       "    </tr>\n",
       "  </tbody>\n",
       "</table>\n",
       "</div>"
      ],
      "text/plain": [
       "          Borough               Neighborhood   Latitude  Longitude  \\\n",
       "0          Queens                    Bayside  40.766041 -73.774274   \n",
       "1        Brooklyn                Boerum Hill  40.685683 -73.983748   \n",
       "2       Manhattan                    Chelsea  40.744035 -74.003116   \n",
       "3   Staten Island                    Chelsea  40.594726 -74.189560   \n",
       "4       Manhattan               Civic Center  40.715229 -74.005415   \n",
       "5        Brooklyn                Fort Greene  40.688527 -73.972906   \n",
       "6       Manhattan          Greenwich Village  40.726933 -73.999914   \n",
       "7       Manhattan                Murray Hill  40.748303 -73.978332   \n",
       "8          Queens                Murray Hill  40.764126 -73.812763   \n",
       "9   Staten Island                   New Dorp  40.572572 -74.116479   \n",
       "10      Manhattan                       Noho  40.723259 -73.988434   \n",
       "11       Brooklyn                 North Side  40.714823 -73.958809   \n",
       "12       Brooklyn  Prospect Lefferts Gardens  40.658420 -73.954899   \n",
       "13      Manhattan               Sutton Place  40.760280 -73.963556   \n",
       "14      Manhattan                    Tribeca  40.721522 -74.010683   \n",
       "\n",
       "    Average Rating  \n",
       "0         8.200000  \n",
       "1         8.100000  \n",
       "2         8.700000  \n",
       "3         8.700000  \n",
       "4         8.300000  \n",
       "5         8.600000  \n",
       "6         8.300000  \n",
       "7         8.100000  \n",
       "8         8.100000  \n",
       "9         8.100000  \n",
       "10        8.800000  \n",
       "11        8.400000  \n",
       "12        8.500000  \n",
       "13        8.133333  \n",
       "14        9.100000  "
      ]
     },
     "execution_count": 41,
     "metadata": {},
     "output_type": "execute_result"
    }
   ],
   "source": [
    "ny_neighborhood_stats=pd.merge(ny_neighborhood_stats,ny_data, on='Neighborhood')\n",
    "ny_neighborhood_stats=ny_neighborhood_stats[['Borough','Neighborhood','Latitude','Longitude','Average Rating']]\n",
    "ny_neighborhood_stats"
   ]
  },
  {
   "cell_type": "markdown",
   "metadata": {},
   "source": [
    "Show this data on a map"
   ]
  },
  {
   "cell_type": "code",
   "execution_count": 42,
   "metadata": {
    "ExecuteTime": {
     "end_time": "2020-01-13T17:11:05.292260Z",
     "start_time": "2020-01-13T17:11:03.080811Z"
    }
   },
   "outputs": [],
   "source": [
    "# create map and display it\n",
    "ny_map = folium.Map(location=geo_location('New York'), zoom_start=12)\n",
    "# instantiate a feature group for the ratings in the dataframe\n",
    "rating = folium.map.FeatureGroup()\n",
    "\n",
    "# loop through the ratings and add each to the neighborhood feature group\n",
    "for lat, lng, in ny_neighborhood_stats[['Latitude','Longitude']].values:\n",
    "    rating.add_child(\n",
    "        folium.CircleMarker(\n",
    "            [lat, lng],\n",
    "            radius=10, # define how big you want the circle markers to be\n",
    "            color='yellow',\n",
    "            fill=True,\n",
    "            fill_color='blue',\n",
    "            fill_opacity=0.6\n",
    "        )\n",
    "    )"
   ]
  },
  {
   "cell_type": "markdown",
   "metadata": {},
   "source": [
    "Add a new field to dataframe for labeling purpose"
   ]
  },
  {
   "cell_type": "code",
   "execution_count": 43,
   "metadata": {
    "ExecuteTime": {
     "end_time": "2020-01-13T17:11:11.857202Z",
     "start_time": "2020-01-13T17:11:11.474502Z"
    }
   },
   "outputs": [
    {
     "data": {
      "text/html": [
       "<div style=\"width:100%;\"><div style=\"position:relative;width:100%;height:0;padding-bottom:60%;\"><iframe src=\"data:text/html;charset=utf-8;base64,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\" style=\"position:absolute;width:100%;height:100%;left:0;top:0;border:none !important;\" allowfullscreen webkitallowfullscreen mozallowfullscreen></iframe></div></div>"
      ],
      "text/plain": [
       "<folium.folium.Map at 0x2296472cbe0>"
      ]
     },
     "execution_count": 43,
     "metadata": {},
     "output_type": "execute_result"
    }
   ],
   "source": [
    "ny_neighborhood_stats['Label']=ny_neighborhood_stats['Neighborhood']+', '+ny_neighborhood_stats['Borough']+'('+ny_neighborhood_stats['Average Rating'].map(str)+')'\n",
    "# add pop-up text to each marker on the map\n",
    "for lat, lng, label in ny_neighborhood_stats[['Latitude','Longitude','Label']].values:\n",
    "    folium.Marker([lat, lng], popup=label).add_to(ny_map)        \n",
    "# add ratings to map\n",
    "ny_map.add_child(rating)"
   ]
  },
  {
   "cell_type": "markdown",
   "metadata": {},
   "source": [
    "## Results and Conclusion \n",
    "\n",
    "- Manhattan and Brooklyn have the best rated Indian restaurants on average. \n",
    "- Staten Island and The Bronx have the least amount of Indian restaurants per borough. \n",
    "- Sutton Place Hill in Manhattan has the highest number of Indian Restaurants in all of NY. \n",
    "- Despite Manhattan having the least number of neighborhoods in all five boroughs, it has the most number of Indian restaurants. \n",
    "\n",
    "Based on the above information, we can state that Manhattan and Brooklyn are comparatively better locations for Bangladeshi cuisine in NYC. We can open a Bangladeshi restaurant in Brooklyn which has multiple neighborhoods with average ratings exceeding 8.0 on a scale of 1.0 to 10.0 and has less amount of Indian restaurants than Manhattan, making competition easier. Brooklyn is also close to Jackson Heights, Queens which the main hub for Bangladeshi population. Moreover, the real estate prices in Brooklyn are much cheaper than in Manhattan. \n",
    "\n",
    "All of the above analysis is depended on the accuracy of Foursquare data. A more comprehensive analysis would need to incorporate data from other external databases like area-specific population demographics, real estate prices etc."
   ]
  },
  {
   "cell_type": "code",
   "execution_count": null,
   "metadata": {},
   "outputs": [],
   "source": []
  }
 ],
 "metadata": {
  "kernelspec": {
   "display_name": "Python 3",
   "language": "python",
   "name": "python3"
  },
  "language_info": {
   "codemirror_mode": {
    "name": "ipython",
    "version": 3
   },
   "file_extension": ".py",
   "mimetype": "text/x-python",
   "name": "python",
   "nbconvert_exporter": "python",
   "pygments_lexer": "ipython3",
   "version": "3.6.9"
  }
 },
 "nbformat": 4,
 "nbformat_minor": 1
}
